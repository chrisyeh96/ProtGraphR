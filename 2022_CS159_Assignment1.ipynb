{
  "cells": [
    {
      "cell_type": "markdown",
      "metadata": {
        "id": "D7b6bgv-cwk6"
      },
      "source": [
        "# Caltech CS159 Spring 2022, Assignment 1\n",
        "Written by Christopher Yeh\n",
        "\n",
        "## Logistics\n",
        "- Released: April 7, 2022\n",
        "- Due: April 13, 2022, 11:59pm PDT on Gradescope\n",
        "- Please submit a PDF of with answers to the 5 questions listed in this Colab notebook. Do NOT submit a printout of this Colab Notebook.\n",
        "- This assignment is worth 2% of your grade in the course.\n",
        "\n",
        "## Overview\n",
        "\n",
        "In this assignment, you will train a Graph Attention Network to predict whether certain molecules inhibits HIV virus replication. This is an example of a graph-level prediction task, where an input is a graph representing a molecule, and the classification label is binary (0 = does not inhibit HIV, 1 = inhibits HIV).\n",
        "\n",
        "We will use the `ogb-molhiv` dataset from the Stanford Open Graph Benchmark. This dataset contains 41,127 graphs.\n",
        "\n",
        "From https://ogb.stanford.edu/docs/graphprop/:\n",
        "\n",
        "> Each graph represents a molecule, where nodes are atoms, and edges are chemical bonds. Input node features are 9-dimensional, containing atomic number and chirality, as well as other additional atom features such as formal charge and whether the atom is in the ring or not.\n",
        ">\n",
        "> [...]\n",
        ">\n",
        "> The task is to predict the target molecular properties as accurately as possible, where the molecular properties are cast as binary labels, e.g, whether a molecule inhibits HIV virus replication or not.\n",
        "\n",
        "We will use ROC-AUC as the evaluation metric.\n",
        "\n",
        "This assignment assumes that you are familiar with PyTorch. If you are not familiar with PyTorch, please check out the [Introduction to PyTorch](https://pytorch.org/tutorials/beginner/basics/intro.html) tutorial."
      ]
    },
    {
      "cell_type": "markdown",
      "metadata": {
        "id": "WCM7gKVlccoZ"
      },
      "source": [
        "## Install Packages\n",
        "\n",
        "As of April 5, 2022, Google Colab comes with CUDA Version 11.2 and PyTorch version `1.10.0+cu111`. This notebook assumes those version numbers. We can check the version numbers using the following commands:"
      ]
    },
    {
      "cell_type": "code",
      "execution_count": 1,
      "metadata": {
        "id": "bh_wP7zrchpc"
      },
      "outputs": [
        {
          "name": "stdout",
          "output_type": "stream",
          "text": [
            "Mon Jun 13 16:19:46 2022       \n",
            "+-----------------------------------------------------------------------------+\n",
            "| NVIDIA-SMI 515.48.07    Driver Version: 515.48.07    CUDA Version: 11.7     |\n",
            "|-------------------------------+----------------------+----------------------+\n",
            "| GPU  Name        Persistence-M| Bus-Id        Disp.A | Volatile Uncorr. ECC |\n",
            "| Fan  Temp  Perf  Pwr:Usage/Cap|         Memory-Usage | GPU-Util  Compute M. |\n",
            "|                               |                      |               MIG M. |\n",
            "|===============================+======================+======================|\n",
            "|   0  NVIDIA GeForce ...  On   | 00000000:3B:00.0 Off |                  N/A |\n",
            "|  0%   44C    P8    28W / 420W |      1MiB / 24576MiB |      0%      Default |\n",
            "|                               |                      |                  N/A |\n",
            "+-------------------------------+----------------------+----------------------+\n",
            "|   1  NVIDIA GeForce ...  On   | 00000000:AF:00.0 Off |                  N/A |\n",
            "|  0%   43C    P8    28W / 420W |      1MiB / 24576MiB |      0%      Default |\n",
            "|                               |                      |                  N/A |\n",
            "+-------------------------------+----------------------+----------------------+\n",
            "                                                                               \n",
            "+-----------------------------------------------------------------------------+\n",
            "| Processes:                                                                  |\n",
            "|  GPU   GI   CI        PID   Type   Process name                  GPU Memory |\n",
            "|        ID   ID                                                   Usage      |\n",
            "|=============================================================================|\n",
            "|  No running processes found                                                 |\n",
            "+-----------------------------------------------------------------------------+\n"
          ]
        }
      ],
      "source": [
        "# Check CUDA version: should be 11.2\n",
        "!nvidia-smi"
      ]
    },
    {
      "cell_type": "code",
      "execution_count": 2,
      "metadata": {
        "id": "lxKQIlL6co8R"
      },
      "outputs": [
        {
          "data": {
            "text/plain": [
              "'1.11.0'"
            ]
          },
          "execution_count": 2,
          "metadata": {},
          "output_type": "execute_result"
        }
      ],
      "source": [
        "# Check PyTorch version: should be 1.10.0+cu111\n",
        "import torch\n",
        "torch.__version__"
      ]
    },
    {
      "cell_type": "markdown",
      "metadata": {
        "id": "JUVQ5R74dshA"
      },
      "source": [
        "Next, we install the corresponding packages for PyTorch Geometric (PyG). The following commands should install:\n",
        "- torch-scatter-2.0.9\n",
        "- torch-sparse-0.6.13\n",
        "- torch-geometric-2.0.4\n",
        "- ogb-1.3.3"
      ]
    },
    {
      "cell_type": "code",
      "execution_count": 3,
      "metadata": {
        "id": "iJlw0V7LcRpq"
      },
      "outputs": [
        {
          "name": "stdout",
          "output_type": "stream",
          "text": [
            "Looking in links: https://data.pyg.org/whl/torch-1.11.0+cu113.html\n",
            "Collecting torch-scatter\n",
            "  Downloading https://data.pyg.org/whl/torch-1.11.0%2Bcu113/torch_scatter-2.0.9-cp39-cp39-linux_x86_64.whl (7.9 MB)\n",
            "\u001b[2K     \u001b[90m━━━━━━━━━━━━━━━━━━━━━━━━━━━━━━━━━━━━━━━━\u001b[0m \u001b[32m7.9/7.9 MB\u001b[0m \u001b[31m38.1 MB/s\u001b[0m eta \u001b[36m0:00:00\u001b[0m00:01\u001b[0m00:01\u001b[0m\n",
            "\u001b[?25hInstalling collected packages: torch-scatter\n",
            "Successfully installed torch-scatter-2.0.9\n",
            "Looking in links: https://data.pyg.org/whl/torch-1.11.0+cu113.html\n",
            "Collecting torch-sparse\n",
            "  Downloading https://data.pyg.org/whl/torch-1.11.0%2Bcu113/torch_sparse-0.6.13-cp39-cp39-linux_x86_64.whl (3.5 MB)\n",
            "\u001b[2K     \u001b[90m━━━━━━━━━━━━━━━━━━━━━━━━━━━━━━━━━━━━━━━━\u001b[0m \u001b[32m3.5/3.5 MB\u001b[0m \u001b[31m36.8 MB/s\u001b[0m eta \u001b[36m0:00:00\u001b[0ma \u001b[36m0:00:01\u001b[0m\n",
            "\u001b[?25hRequirement already satisfied: scipy in /home/jyang4/miniconda3/envs/ProtGraphR/lib/python3.9/site-packages (from torch-sparse) (1.7.3)\n",
            "Requirement already satisfied: numpy<1.23.0,>=1.16.5 in /home/jyang4/miniconda3/envs/ProtGraphR/lib/python3.9/site-packages (from scipy->torch-sparse) (1.22.3)\n",
            "Installing collected packages: torch-sparse\n",
            "Successfully installed torch-sparse-0.6.13\n",
            "Collecting torch-geometric\n",
            "  Downloading torch_geometric-2.0.4.tar.gz (407 kB)\n",
            "\u001b[2K     \u001b[90m━━━━━━━━━━━━━━━━━━━━━━━━━━━━━━━━━━━━━━\u001b[0m \u001b[32m407.5/407.5 kB\u001b[0m \u001b[31m25.8 MB/s\u001b[0m eta \u001b[36m0:00:00\u001b[0m\n",
            "\u001b[?25h  Preparing metadata (setup.py) ... \u001b[?25ldone\n",
            "\u001b[?25hRequirement already satisfied: tqdm in /home/jyang4/miniconda3/envs/ProtGraphR/lib/python3.9/site-packages (from torch-geometric) (4.64.0)\n",
            "Requirement already satisfied: numpy in /home/jyang4/miniconda3/envs/ProtGraphR/lib/python3.9/site-packages (from torch-geometric) (1.22.3)\n",
            "Requirement already satisfied: scipy in /home/jyang4/miniconda3/envs/ProtGraphR/lib/python3.9/site-packages (from torch-geometric) (1.7.3)\n",
            "Requirement already satisfied: pandas in /home/jyang4/miniconda3/envs/ProtGraphR/lib/python3.9/site-packages (from torch-geometric) (1.4.2)\n",
            "Requirement already satisfied: jinja2 in /home/jyang4/miniconda3/envs/ProtGraphR/lib/python3.9/site-packages (from torch-geometric) (3.0.3)\n",
            "Requirement already satisfied: requests in /home/jyang4/miniconda3/envs/ProtGraphR/lib/python3.9/site-packages (from torch-geometric) (2.27.1)\n",
            "Requirement already satisfied: pyparsing in /home/jyang4/miniconda3/envs/ProtGraphR/lib/python3.9/site-packages (from torch-geometric) (3.0.4)\n",
            "Requirement already satisfied: scikit-learn in /home/jyang4/miniconda3/envs/ProtGraphR/lib/python3.9/site-packages (from torch-geometric) (1.0.2)\n",
            "Requirement already satisfied: MarkupSafe>=2.0 in /home/jyang4/miniconda3/envs/ProtGraphR/lib/python3.9/site-packages (from jinja2->torch-geometric) (2.1.1)\n",
            "Requirement already satisfied: python-dateutil>=2.8.1 in /home/jyang4/miniconda3/envs/ProtGraphR/lib/python3.9/site-packages (from pandas->torch-geometric) (2.8.2)\n",
            "Requirement already satisfied: pytz>=2020.1 in /home/jyang4/miniconda3/envs/ProtGraphR/lib/python3.9/site-packages (from pandas->torch-geometric) (2022.1)\n",
            "Requirement already satisfied: urllib3<1.27,>=1.21.1 in /home/jyang4/miniconda3/envs/ProtGraphR/lib/python3.9/site-packages (from requests->torch-geometric) (1.26.9)\n",
            "Requirement already satisfied: idna<4,>=2.5 in /home/jyang4/miniconda3/envs/ProtGraphR/lib/python3.9/site-packages (from requests->torch-geometric) (3.3)\n",
            "Requirement already satisfied: charset-normalizer~=2.0.0 in /home/jyang4/miniconda3/envs/ProtGraphR/lib/python3.9/site-packages (from requests->torch-geometric) (2.0.4)\n",
            "Requirement already satisfied: certifi>=2017.4.17 in /home/jyang4/miniconda3/envs/ProtGraphR/lib/python3.9/site-packages (from requests->torch-geometric) (2022.5.18.1)\n",
            "Requirement already satisfied: joblib>=0.11 in /home/jyang4/miniconda3/envs/ProtGraphR/lib/python3.9/site-packages (from scikit-learn->torch-geometric) (1.1.0)\n",
            "Requirement already satisfied: threadpoolctl>=2.0.0 in /home/jyang4/miniconda3/envs/ProtGraphR/lib/python3.9/site-packages (from scikit-learn->torch-geometric) (2.2.0)\n",
            "Requirement already satisfied: six>=1.5 in /home/jyang4/miniconda3/envs/ProtGraphR/lib/python3.9/site-packages (from python-dateutil>=2.8.1->pandas->torch-geometric) (1.16.0)\n",
            "Building wheels for collected packages: torch-geometric\n",
            "  Building wheel for torch-geometric (setup.py) ... \u001b[?25ldone\n",
            "\u001b[?25h  Created wheel for torch-geometric: filename=torch_geometric-2.0.4-py3-none-any.whl size=616602 sha256=6ee7b049bfabac8b0401223170f27b31d44993a129823a42a926e6346564ad29\n",
            "  Stored in directory: /home/jyang4/.cache/pip/wheels/ba/44/59/28a61b516dbc37ed93285752c61c2cf1724ba0a0dada6c1150\n",
            "Successfully built torch-geometric\n",
            "Installing collected packages: torch-geometric\n",
            "Successfully installed torch-geometric-2.0.4\n",
            "Requirement already satisfied: ogb in /home/jyang4/miniconda3/envs/ProtGraphR/lib/python3.9/site-packages (1.3.3)\n",
            "Requirement already satisfied: six>=1.12.0 in /home/jyang4/miniconda3/envs/ProtGraphR/lib/python3.9/site-packages (from ogb) (1.16.0)\n",
            "Requirement already satisfied: outdated>=0.2.0 in /home/jyang4/miniconda3/envs/ProtGraphR/lib/python3.9/site-packages (from ogb) (0.2.1)\n",
            "Requirement already satisfied: urllib3>=1.24.0 in /home/jyang4/miniconda3/envs/ProtGraphR/lib/python3.9/site-packages (from ogb) (1.26.9)\n",
            "Requirement already satisfied: torch>=1.6.0 in /home/jyang4/miniconda3/envs/ProtGraphR/lib/python3.9/site-packages (from ogb) (1.11.0)\n",
            "Requirement already satisfied: tqdm>=4.29.0 in /home/jyang4/miniconda3/envs/ProtGraphR/lib/python3.9/site-packages (from ogb) (4.64.0)\n",
            "Requirement already satisfied: pandas>=0.24.0 in /home/jyang4/miniconda3/envs/ProtGraphR/lib/python3.9/site-packages (from ogb) (1.4.2)\n",
            "Requirement already satisfied: scikit-learn>=0.20.0 in /home/jyang4/miniconda3/envs/ProtGraphR/lib/python3.9/site-packages (from ogb) (1.0.2)\n",
            "Requirement already satisfied: numpy>=1.16.0 in /home/jyang4/miniconda3/envs/ProtGraphR/lib/python3.9/site-packages (from ogb) (1.22.3)\n",
            "Requirement already satisfied: littleutils in /home/jyang4/miniconda3/envs/ProtGraphR/lib/python3.9/site-packages (from outdated>=0.2.0->ogb) (0.2.2)\n",
            "Requirement already satisfied: requests in /home/jyang4/miniconda3/envs/ProtGraphR/lib/python3.9/site-packages (from outdated>=0.2.0->ogb) (2.27.1)\n",
            "Requirement already satisfied: python-dateutil>=2.8.1 in /home/jyang4/miniconda3/envs/ProtGraphR/lib/python3.9/site-packages (from pandas>=0.24.0->ogb) (2.8.2)\n",
            "Requirement already satisfied: pytz>=2020.1 in /home/jyang4/miniconda3/envs/ProtGraphR/lib/python3.9/site-packages (from pandas>=0.24.0->ogb) (2022.1)\n",
            "Requirement already satisfied: scipy>=1.1.0 in /home/jyang4/miniconda3/envs/ProtGraphR/lib/python3.9/site-packages (from scikit-learn>=0.20.0->ogb) (1.7.3)\n",
            "Requirement already satisfied: threadpoolctl>=2.0.0 in /home/jyang4/miniconda3/envs/ProtGraphR/lib/python3.9/site-packages (from scikit-learn>=0.20.0->ogb) (2.2.0)\n",
            "Requirement already satisfied: joblib>=0.11 in /home/jyang4/miniconda3/envs/ProtGraphR/lib/python3.9/site-packages (from scikit-learn>=0.20.0->ogb) (1.1.0)\n",
            "Requirement already satisfied: typing_extensions in /home/jyang4/miniconda3/envs/ProtGraphR/lib/python3.9/site-packages (from torch>=1.6.0->ogb) (4.1.1)\n",
            "Requirement already satisfied: idna<4,>=2.5 in /home/jyang4/miniconda3/envs/ProtGraphR/lib/python3.9/site-packages (from requests->outdated>=0.2.0->ogb) (3.3)\n",
            "Requirement already satisfied: charset-normalizer~=2.0.0 in /home/jyang4/miniconda3/envs/ProtGraphR/lib/python3.9/site-packages (from requests->outdated>=0.2.0->ogb) (2.0.4)\n",
            "Requirement already satisfied: certifi>=2017.4.17 in /home/jyang4/miniconda3/envs/ProtGraphR/lib/python3.9/site-packages (from requests->outdated>=0.2.0->ogb) (2022.5.18.1)\n"
          ]
        }
      ],
      "source": [
        "!pip install torch-scatter -f https://data.pyg.org/whl/torch-1.11.0+cu113.html\n",
        "!pip install torch-sparse -f https://data.pyg.org/whl/torch-1.11.0+cu113.html\n",
        "!pip install torch-geometric\n",
        "!pip install ogb"
      ]
    },
    {
      "cell_type": "markdown",
      "metadata": {
        "id": "u6EQ7MJVMgF6"
      },
      "source": [
        "## Global Imports and Constants"
      ]
    },
    {
      "cell_type": "code",
      "execution_count": 3,
      "metadata": {
        "id": "FJtEAdNKh4R6"
      },
      "outputs": [
        {
          "name": "stdout",
          "output_type": "stream",
          "text": [
            "Device: cuda:1\n"
          ]
        }
      ],
      "source": [
        "from __future__ import annotations\n",
        "\n",
        "# from Python standard library\n",
        "import copy\n",
        "from pprint import pprint\n",
        "\n",
        "# third-party libraries\n",
        "import matplotlib.pyplot as plt\n",
        "import networkx as nx\n",
        "from ogb.graphproppred import PygGraphPropPredDataset, Evaluator\n",
        "import torch\n",
        "from torch import nn\n",
        "import torch.nn.functional as F\n",
        "import torch_geometric as pyg\n",
        "import torch_geometric.nn as pyg_nn\n",
        "from torch_geometric.loader import DataLoader\n",
        "from tqdm.auto import tqdm\n",
        "\n",
        "device = 'cuda:1' if torch.cuda.is_available() else 'cpu'\n",
        "print(f'Device: {device}')"
      ]
    },
    {
      "cell_type": "markdown",
      "metadata": {
        "id": "YBaHFyuTfgvA"
      },
      "source": [
        "## Getting familiar with PyTorch Geometric Datasets\n",
        "\n",
        "In PyTorch and PyG, a dataset is an indexable list of data examples. The class hierarchy for datasets is\n",
        "\n",
        "- [`torch.utils.data.Dataset`](https://pytorch.org/docs/stable/data.html#torch.utils.data.Dataset)\n",
        "    - [`pyg.data.Dataset`](https://pytorch-geometric.readthedocs.io/en/latest/modules/data.html#torch_geometric.data.Dataset)\n",
        "        - [`ogb.graphproppred.PygGraphPropPredDataset`](https://ogb.stanford.edu/docs/home/)"
      ]
    },
    {
      "cell_type": "code",
      "execution_count": 4,
      "metadata": {
        "id": "4kuOmVi_XI9a"
      },
      "outputs": [],
      "source": [
        "# Load the dataset\n",
        "dataset = PygGraphPropPredDataset(name='ogbg-molhiv')"
      ]
    },
    {
      "cell_type": "code",
      "execution_count": 5,
      "metadata": {
        "id": "S5GGjMuIffqn"
      },
      "outputs": [
        {
          "name": "stdout",
          "output_type": "stream",
          "text": [
            "Dataset: PygGraphPropPredDataset(41127):\n",
            "======================\n",
            "Number of graphs: 41127\n",
            "Number of node features: 9\n",
            "Number of edge features: 3\n",
            "Number of classes: 2\n",
            "Task type: binary classification\n"
          ]
        }
      ],
      "source": [
        "# Let's examine some dataset properties\n",
        "# - length: this attribute comes from torch.utils.data.Dataset\n",
        "# - num_features/num_classes: these attributes come from pyg.data.Dataset\n",
        "# - task_type: this attribute is unique to datasets from OGB\n",
        "print(f'Dataset: {dataset}:')\n",
        "print('======================')\n",
        "print(f'Number of graphs: {len(dataset)}')\n",
        "print(f'Number of node features: {dataset.num_node_features}')\n",
        "print(f'Number of edge features: {dataset.num_edge_features}')\n",
        "print(f'Number of classes: {dataset.num_classes}')\n",
        "print(f'Task type: {dataset.task_type}')"
      ]
    },
    {
      "cell_type": "markdown",
      "metadata": {
        "id": "24P8Lx0sPoOw"
      },
      "source": [
        "Let's examine a single graph from the dataset. PyTorch Geometric represents a graph as a [`pyg.data.Data`](https://pytorch-geometric.readthedocs.io/en/latest/modules/data.html#torch_geometric.data.Data) object.\n",
        "\n",
        "We can print the `data` object with `print(data)`, which gives a short summary about its attributes and their shapes:\n",
        "```python\n",
        "Data(edge_index=[2, 40], edge_attr=[40, 3], x=[19, 9], y=[1, 1], num_nodes=19)\n",
        "```\n",
        "We see that this `data` object has the following 5 attributes:\n",
        "- `edge_index`: the list of edges for the graph. Specifically, `edge_index` is a Tensor of shape `[2, num_edges]`, where each column is a list containing the source and destination nodes of an edge.\n",
        "- `edge_attr`: a Tensor of shape `[num_edges, edge_features]`, which holds the edge features for each edge\n",
        "- `x`: a Tensor of shape `[num_nodes, node_features]`, which holds the node features for each node\n",
        "- `y`: a scalar graph label\n",
        "- `num_nodes`: # of nodes in the graph\n",
        "\n",
        "The `data` object also provides some **utility functions** to infer some basic properties of the underlying graph. For example, there are functions to check for isolated nodes in the graph (*i.e.*, nodes with no edges), self-loops (*i.e.*, $(v, v) \\in \\mathcal{E}$), and whether the graph is directed."
      ]
    },
    {
      "cell_type": "code",
      "execution_count": 6,
      "metadata": {
        "id": "hyikb1M2Pk5M"
      },
      "outputs": [
        {
          "name": "stdout",
          "output_type": "stream",
          "text": [
            "Data(edge_index=[2, 40], edge_attr=[40, 3], x=[19, 9], y=[1, 1], num_nodes=19)\n",
            "==============================================================\n",
            "Number of nodes: 19\n",
            "Number of edges: 40\n",
            "Average node degree: 4.21\n",
            "Contains isolated nodes: False\n",
            "Contains self-loops: False\n",
            "Is undirected: True\n",
            "==============================================================\n",
            "some node features:\n",
            "tensor([[ 5,  0,  4,  5,  3,  0,  2,  0,  0],\n",
            "        [ 5,  0,  4,  5,  2,  0,  2,  0,  0],\n",
            "        [ 5,  0,  3,  5,  0,  0,  1,  0,  1],\n",
            "        [ 7,  0,  2,  6,  0,  0,  1,  0,  1],\n",
            "        [28,  0,  4,  2,  0,  0,  5,  0,  1]])\n",
            "some edge features:\n",
            "tensor([[0, 0, 0],\n",
            "        [0, 0, 0],\n",
            "        [0, 0, 0],\n",
            "        [0, 0, 0],\n",
            "        [1, 0, 0]])\n",
            "some edges:\n",
            "tensor([[0, 1],\n",
            "        [1, 0],\n",
            "        [1, 2],\n",
            "        [2, 1],\n",
            "        [2, 3]])\n",
            "==============================================================\n",
            "label: tensor([[0]])\n"
          ]
        }
      ],
      "source": [
        "# get the first graph in the dataset\n",
        "data = dataset[0]\n",
        "print(data)\n",
        "\n",
        "# print some statistics about the graph\n",
        "print('==============================================================')\n",
        "print(f'Number of nodes: {data.num_nodes}')\n",
        "print(f'Number of edges: {data.num_edges}')\n",
        "print(f'Average node degree: {(2*data.num_edges) / data.num_nodes:.2f}')\n",
        "print(f'Contains isolated nodes: {data.has_isolated_nodes()}')\n",
        "print(f'Contains self-loops: {data.has_self_loops()}')\n",
        "print(f'Is undirected: {data.is_undirected()}')\n",
        "\n",
        "# print node features from the first 5 nodes\n",
        "print('==============================================================')\n",
        "print('some node features:')\n",
        "print(data.x[:5])\n",
        "\n",
        "# print the first 5 edge features\n",
        "print('some edge features:')\n",
        "print(data.edge_attr[:5])\n",
        "\n",
        "# print the first 5 edges\n",
        "print('some edges:')\n",
        "print(data.edge_index.T[:5])\n",
        "\n",
        "# print the graph label\n",
        "print('==============================================================')\n",
        "print('label:', data.y)"
      ]
    },
    {
      "cell_type": "markdown",
      "metadata": {
        "id": "awD75lBiTWPg"
      },
      "source": [
        "You can convert a PyG graph into a [networkX](https://networkx.org/) graph to visualize the graph structure:"
      ]
    },
    {
      "cell_type": "code",
      "execution_count": 7,
      "metadata": {
        "id": "q0J5e3_mTUwO"
      },
      "outputs": [
        {
          "data": {
            "image/png": "[encoded data removed]",
            "text/plain": [
              "<Figure size 432x288 with 1 Axes>"
            ]
          },
          "metadata": {},
          "output_type": "display_data"
        }
      ],
      "source": [
        "# Visualize the graph\n",
        "G = pyg.utils.to_networkx(data, to_undirected=True)\n",
        "nx.draw(G, with_labels=True)"
      ]
    },
    {
      "cell_type": "markdown",
      "metadata": {
        "id": "BuOM9l2QT_Hf"
      },
      "source": [
        "**Dataloaders and Batching**\n",
        "\n",
        "This dataset comes with pre-defined train, validation, and test splits. We will wrap each dataset split with a [`pyg.loader.DataLoader`](https://pytorch-geometric.readthedocs.io/en/latest/modules/loader.html#torch_geometric.loader.DataLoader) (a subclass of `torch.utils.data.DataLoader`) which handles batching and data shuffling for us.\n",
        "\n",
        "Iterating through a `DataLoader` yields `pyg.data.Batch` objects, which is how PyG handles mini-batching with graphs. To process a mini-batch of graphs in parallel, PyG combines a batch of graphs into a single disconnected graph data object [`pyg.data.Batch`](https://pytorch-geometric.readthedocs.io/en/latest/modules/data.html#torch_geometric.data.Batch). `pyg.data.Batch` is a subclass of `pyg.data.Data` and contains an additional attribute called `batch`.\n",
        "\n",
        "The `batch` attribute is a vector mapping each node in the combined disconnected graph to the index of its corresponding graph within the mini-batch:\n",
        "\n",
        "```python\n",
        "batch = [0, ..., 0, 1, ..., n - 2, n - 1, ..., n - 1]\n",
        "```\n",
        "\n",
        "This attribute is crucial for computing graph-level embeddings for each individual graph in a mini-batch."
      ]
    },
    {
      "cell_type": "code",
      "execution_count": 8,
      "metadata": {
        "id": "qeUvDZ86hMya"
      },
      "outputs": [
        {
          "name": "stdout",
          "output_type": "stream",
          "text": [
            "split indices:\n",
            "{'test': tensor([    0,     1,     2,  ..., 10122, 10124, 10125]),\n",
            " 'train': tensor([    3,     4,     5,  ..., 41124, 41125, 41126]),\n",
            " 'valid': tensor([10127, 10129, 10132,  ..., 22785, 22786, 22788])}\n",
            "train: 32901 examples\n",
            "valid: 4113 examples\n",
            "test: 4113 examples\n"
          ]
        }
      ],
      "source": [
        "# get the dataset splits, print out sizes\n",
        "split_idx = dataset.get_idx_split()\n",
        "\n",
        "print('split indices:')\n",
        "pprint(split_idx)\n",
        "\n",
        "for split in ('train', 'valid', 'test'):\n",
        "    size = len(split_idx[split])\n",
        "    print(f'{split}: {size} examples')"
      ]
    },
    {
      "cell_type": "code",
      "execution_count": 9,
      "metadata": {
        "id": "cftjjSLnVp3K"
      },
      "outputs": [],
      "source": [
        "train_loader = DataLoader(dataset[split_idx['train']], batch_size=32, shuffle=True, num_workers=0)\n",
        "valid_loader = DataLoader(dataset[split_idx['valid']], batch_size=32, shuffle=False, num_workers=0)\n",
        "test_loader = DataLoader(dataset[split_idx['test']], batch_size=32, shuffle=False, num_workers=0)"
      ]
    },
    {
      "cell_type": "markdown",
      "metadata": {
        "id": "iTVWZ0Py7Cq6"
      },
      "source": [
        "## **Question 1: Warmup**\n",
        "\n",
        "What is the distribution of labels in each of the train, valid, and test splits? That is, fill in the following table:\n",
        "\n",
        "split | # and % of graphs with label 0 | # and % of graphs with label 1\n",
        "------|---|---\n",
        "train | ? | ?\n",
        "valid | ? | ?\n",
        "test  | ? | ?\n",
        "\n",
        "The aim of this question is to help you get familiar with manipulating PyTorch Geometric datasets and DataLoaders."
      ]
    },
    {
      "cell_type": "code",
      "execution_count": null,
      "metadata": {
        "id": "XFsc8lfk7B23"
      },
      "outputs": [],
      "source": [
        "### TYPE YOUR CODE HERE (~10 lines)\n",
        "\n",
        "\n",
        "### END CODE"
      ]
    },
    {
      "cell_type": "markdown",
      "metadata": {
        "id": "4nE6BCC2_0Cw"
      },
      "source": [
        "## **Question 2: AUROC vs. Accuracy**\n",
        "\n",
        "For this particular prediction task, we use AUROC as the performance metric. Based on what you observed from answering Question 1, why is AUROC a better metric than raw classification accuracy? If a model achieves 70% classification accuracy on the test set, is that a good model?"
      ]
    },
    {
      "cell_type": "markdown",
      "metadata": {
        "id": "DD_oMNykJF0w"
      },
      "source": [
        "## Setting up the Graph Attention Network model\n",
        "\n",
        "We use PyG's implementation of a [`GATv2Conv`](https://pytorch-geometric.readthedocs.io/en/latest/modules/nn.html#torch_geometric.nn.conv.GATv2Conv) layer (from [Brody et al., 2022](http://arxiv.org/abs/2105.14491)) to construct a complete Graph Attention Network."
      ]
    },
    {
      "cell_type": "code",
      "execution_count": 10,
      "metadata": {
        "id": "vN0RFh1mpLOE"
      },
      "outputs": [],
      "source": [
        "from ogb.graphproppred.mol_encoder import AtomEncoder\n",
        "\n",
        "class GAT(torch.nn.Module):\n",
        "    def __init__(self,\n",
        "                 node_dim: int,\n",
        "                 hidden_dim: int,\n",
        "                 num_layers: int,\n",
        "                 dropout: float):\n",
        "        \"\"\"\n",
        "        Args\n",
        "        - node_dim: int, dimension of input node features\n",
        "        - hidden_dim: int, dimensions of hidden layers\n",
        "        - num_layers: int, # of hidden layers\n",
        "        - dropout: float, probability of dropout\n",
        "        \"\"\"\n",
        "        super(GAT, self).__init__()\n",
        "\n",
        "        # save all of the info\n",
        "        self.node_dim = node_dim\n",
        "        self.hidden_dim = hidden_dim\n",
        "        self.num_layers = num_layers\n",
        "        self.dropout = dropout\n",
        "\n",
        "        # since there are a limited # of atoms, we first embed them into a\n",
        "        # higher dimension using a lookup table\n",
        "        self.atom_encoder = AtomEncoder(emb_dim=hidden_dim)\n",
        "\n",
        "        # a list of GATv2 layers, with dropout\n",
        "        self.convs = nn.ModuleList()\n",
        "        self.bns = nn.ModuleList()\n",
        "        for l in range(num_layers):\n",
        "            layer = pyg_nn.GATv2Conv(in_channels=hidden_dim,\n",
        "                                     out_channels=hidden_dim,\n",
        "                                     dropout=dropout)\n",
        "            self.convs.append(layer)\n",
        "            self.bns.append(nn.BatchNorm1d(hidden_dim))\n",
        "\n",
        "        # fully-connected final layer\n",
        "        self.fc = nn.Linear(hidden_dim, 1)\n",
        "\n",
        "    def forward(self, data: pyg.data.Data) -> torch.Tensor:\n",
        "        \"\"\"\n",
        "        Args\n",
        "        - data: pyg.data.Batch, a batch of graphs\n",
        "\n",
        "        Returns: torch.Tensor, shape [batch_size], unnormalized classification\n",
        "            probability for each graph\n",
        "        \"\"\"\n",
        "        x, edge_index, edge_attr, batch = (\n",
        "            data.x, data.edge_index, data.edge_attr, data.batch)\n",
        "\n",
        "        x = self.atom_encoder(x)\n",
        "\n",
        "        for l, conv in enumerate(self.convs):\n",
        "            x = conv(x, edge_index)\n",
        "            if l != self.num_layers - 1:\n",
        "                x = self.bns[l](x)\n",
        "                x = F.relu(x)\n",
        "\n",
        "        x = pyg_nn.global_mean_pool(x, batch=batch)\n",
        "        x = self.fc(x)\n",
        "        return x"
      ]
    },
    {
      "cell_type": "markdown",
      "metadata": {
        "id": "44z6Q0eFgaYd"
      },
      "source": [
        "## Define training and evaluation functions"
      ]
    },
    {
      "cell_type": "code",
      "execution_count": 11,
      "metadata": {
        "id": "iQfgZK3ggXrd"
      },
      "outputs": [],
      "source": [
        "def train(model: nn.Module, device: torch.device | str,\n",
        "          data_loader: DataLoader, optimizer: torch.optim.Optimizer,\n",
        "          loss_fn: nn.Module, pbar: tqdm) -> float:\n",
        "    \"\"\"Trains a GNN model.\n",
        "\n",
        "    Args\n",
        "    - model: nn.Module, GNN model, already placed on device\n",
        "    - device: torch.device\n",
        "    - data_loader: pyg.loader.DataLoader\n",
        "    - optimizer: torch.optim.Optimizer\n",
        "    - loss_fn: nn.Module\n",
        "\n",
        "    Returns: (loss, acc)\n",
        "    - loss: float, average per-graph loss across epoch\n",
        "    - acc: float, accuracy\n",
        "    \"\"\"\n",
        "    model.train()\n",
        "    total_loss = 0\n",
        "    all_preds = []\n",
        "    all_labels = []\n",
        "\n",
        "    pbar.reset(len(data_loader))\n",
        "    pbar.set_description('Training')\n",
        "\n",
        "    for step, batch in enumerate(data_loader):\n",
        "        all_labels.append(batch.y.detach())\n",
        "\n",
        "        batch = batch.to(device)\n",
        "        batch_size = batch.batch.max().item()\n",
        "\n",
        "        preds = model(batch)\n",
        "        all_preds.append(preds.detach().cpu())\n",
        "        loss = loss_fn(preds, batch.y.to(torch.float32))\n",
        "        total_loss += loss.item() * batch_size\n",
        "\n",
        "        optimizer.zero_grad()\n",
        "        loss.backward()\n",
        "        optimizer.step()\n",
        "        pbar.update()\n",
        "\n",
        "    all_preds = (torch.cat(all_preds).view(-1) > 0).to(torch.int32)\n",
        "    all_labels = torch.cat(all_labels).view(-1)\n",
        "    acc = (all_preds == all_labels).sum() / len(all_labels)\n",
        "    avg_loss = total_loss / len(all_labels)\n",
        "    return avg_loss, acc"
      ]
    },
    {
      "cell_type": "code",
      "execution_count": 12,
      "metadata": {
        "id": "4e1LvpVmwIzu"
      },
      "outputs": [],
      "source": [
        "def eval(model: nn.Module, device: torch.device, loader: DataLoader,\n",
        "         evaluator: Evaluator, pbar: tqdm) -> dict[str, float]:\n",
        "    \"\"\"Evaluates the AUROC of a model on a dataset split.\n",
        "\n",
        "    Args\n",
        "    - model: nn.Module, GNN model, already moved to device\n",
        "    - device: torch.device\n",
        "    - loader: DataLoader\n",
        "    - evaluator: Evaluator from OGB\n",
        "    - pbar: tqdm, progress bar\n",
        "\n",
        "    Returns: dict, with one (key, value)\n",
        "    - key is dataset.eval_metric (which in this case is 'rocauc')\n",
        "    - value is the AUROC\n",
        "    \"\"\"\n",
        "    model.eval()\n",
        "    y_true = []\n",
        "    y_pred = []\n",
        "\n",
        "    pbar.reset(total=len(loader))\n",
        "    pbar.set_description('Evaluating')\n",
        "\n",
        "    for step, batch in enumerate(loader):\n",
        "        y_true.append(batch.y.detach())\n",
        "\n",
        "        batch = batch.to(device)\n",
        "        with torch.no_grad():\n",
        "            pred = model(batch)\n",
        "        y_pred.append(pred.detach().cpu())\n",
        "        pbar.update()\n",
        "\n",
        "    y_true = torch.cat(y_true, dim=0).numpy()\n",
        "    y_pred = torch.cat(y_pred, dim=0).numpy()\n",
        "\n",
        "    input_dict = {'y_true': y_true, 'y_pred': y_pred}\n",
        "    return evaluator.eval(input_dict)"
      ]
    },
    {
      "cell_type": "markdown",
      "metadata": {
        "id": "0BRPyMVEjduC"
      },
      "source": [
        "## Train GAT model\n",
        "\n",
        "Using a model with 3 hidden layers, each with dimension 256, the time per epoch should be approximately as follows:\n",
        "\n",
        "split | CPU | GPU\n",
        "------|-----|----\n",
        "train | 4m to train, 1m to evaluate | 1m to train, 15s to evaluate\n",
        "valid | 30s | 2s\n",
        "test  | 30s | 2s"
      ]
    },
    {
      "cell_type": "markdown",
      "metadata": {
        "id": "-BOhOh4F-sNl"
      },
      "source": [
        "## **Questions 3-4: Improving this GAT implementation**\n",
        "\n",
        "This notebook has already implemented a simple 3-layer Graph Attention Network, and the default hyperparameters have been chosen such that the model should achieve >= 0.73 AUROC on the test set when trained for 30 epochs. (See the training output and plot at the end of this notebook.)\n",
        "\n",
        "Familiarize yourself with the implementation of the GAT above.\n",
        "\n",
        "**Question 3**\n",
        "\n",
        "List 3 possible modifications to the network architecture or training procedure that could improve the existing implementation, and give intuitive justification for why each modifications might be helpful.\n",
        "\n",
        "(There are more than 3 valid answers, but we are asking you to list only 3. The hint below already suggests 3 such possibilities, which you may use.)\n",
        "\n",
        "Hints:\n",
        "- Does the current implementation use edge features?\n",
        "- What does Question 2 suggest about class balance during training? Note the different class balance between the train/val/test splits.\n",
        "- What does Question 5 suggest about the use of the global mean-pooling layer?\n",
        "- If you want to explore the possibilities more in depth, you are welcome to explore the official [OGB leaderboard](https://ogb.stanford.edu/docs/leader_graphprop/#ogbg-molhiv) for this task and explore what the best-performing networks do.\n",
        "\n",
        "**Question 4**\n",
        "\n",
        "Choose at least one possible modification that you described in your answer to Question 3, and implement that modification. Describe your modification in words and/or code. Include a plot of the train/val/test AUROC and training loss curves after you implement your modification(s). Did the modification(s) improve the test AUROC? Why or why not?\n",
        "\n",
        "Hints:\n",
        "- If you decide to use edge features, note that the raw edge features are integer-valued, whereas the `GATv2Conv` layer expects float32 values. You can use `edge_attr.to(torch.float32)` to convert the edge features to the right type. Alternatively, consider first embedding the raw edge features with the OGB `BondEncoder`. Look into `ogb.graphproppred.mol_encoder.BondEncoder`."
      ]
    },
    {
      "cell_type": "code",
      "execution_count": 13,
      "metadata": {
        "id": "oI4LyFsHk_Wr"
      },
      "outputs": [],
      "source": [
        "# instantiate the model\n",
        "model = GAT(node_dim=dataset.num_node_features,\n",
        "            hidden_dim=256,\n",
        "            num_layers=3,\n",
        "            dropout=0.3)\n",
        "model = model.to(device)\n",
        "\n",
        "# use the official OGB evaluator, which will compute AUROC for us\n",
        "evaluator = Evaluator(name='ogbg-molhiv')\n",
        "\n",
        "optimizer = torch.optim.Adam(model.parameters(), lr=0.0005)\n",
        "loss_fn = nn.BCEWithLogitsLoss()\n",
        "num_epochs = 30"
      ]
    },
    {
      "cell_type": "code",
      "execution_count": 14,
      "metadata": {
        "colab": {
          "base_uri": "https://localhost:8080/",
          "height": 570,
          "referenced_widgets": [
            "1c82375453124913bd8367213583a837",
            "1df460e445444003b217fff9116ed16b",
            "c19dd997738f4742a7b2433ecd5e0c90",
            "4158afe9ff7f42f586159d983ba18fcf",
            "e5f1898e992f4489b87d4592537156a8",
            "e843e677363a4d389d02e8a398a73c59",
            "32b218f3b7d744f295ab4fbc20c43dbf",
            "914a5fc980e7403c9c073df06274f312",
            "d28c16fc62884691ad1ffc94381e2157",
            "964e8c0c867740b9a345674ae513957b",
            "477ff7df9a5d4302824ffb1d4cecfb1c"
          ]
        },
        "id": "pTqljCPxjgr-",
        "outputId": "1e743c6a-6068-494c-8270-23d41f90a477"
      },
      "outputs": [
        {
          "data": {
            "application/vnd.jupyter.widget-view+json": {
              "model_id": "fec9add6f7654282ab642717542ceabb",
              "version_major": 2,
              "version_minor": 0
            },
            "text/plain": [
              "0it [00:00, ?it/s]"
            ]
          },
          "metadata": {},
          "output_type": "display_data"
        },
        {
          "name": "stdout",
          "output_type": "stream",
          "text": [
            "Epoch 01, loss: 0.1555, train acc: 96.22%, train auroc: 0.7080, valid auroc: 0.6689\n",
            "Epoch 02, loss: 0.1483, train acc: 96.24%, train auroc: 0.7350, valid auroc: 0.6672\n",
            "Epoch 03, loss: 0.1459, train acc: 96.26%, train auroc: 0.7294, valid auroc: 0.6627\n",
            "Epoch 04, loss: 0.1444, train acc: 96.23%, train auroc: 0.7509, valid auroc: 0.6693\n",
            "Epoch 05, loss: 0.1443, train acc: 96.24%, train auroc: 0.7547, valid auroc: 0.7027\n",
            "Epoch 06, loss: 0.1418, train acc: 96.20%, train auroc: 0.7486, valid auroc: 0.7244\n",
            "Epoch 07, loss: 0.1423, train acc: 96.20%, train auroc: 0.7690, valid auroc: 0.7566\n",
            "Epoch 08, loss: 0.1408, train acc: 96.22%, train auroc: 0.7726, valid auroc: 0.7159\n",
            "Epoch 09, loss: 0.1405, train acc: 96.21%, train auroc: 0.7592, valid auroc: 0.7554\n",
            "Epoch 10, loss: 0.1396, train acc: 96.20%, train auroc: 0.7686, valid auroc: 0.7055\n",
            "Epoch 11, loss: 0.1394, train acc: 96.18%, train auroc: 0.7615, valid auroc: 0.6919\n",
            "Epoch 12, loss: 0.1395, train acc: 96.21%, train auroc: 0.7685, valid auroc: 0.7676\n",
            "Epoch 13, loss: 0.1379, train acc: 96.18%, train auroc: 0.7678, valid auroc: 0.7502\n",
            "Epoch 14, loss: 0.1363, train acc: 96.23%, train auroc: 0.7800, valid auroc: 0.7461\n",
            "Epoch 15, loss: 0.1361, train acc: 96.18%, train auroc: 0.7719, valid auroc: 0.7361\n",
            "Epoch 16, loss: 0.1375, train acc: 96.19%, train auroc: 0.7717, valid auroc: 0.7474\n",
            "Epoch 17, loss: 0.1369, train acc: 96.19%, train auroc: 0.7816, valid auroc: 0.7678\n",
            "Epoch 18, loss: 0.1362, train acc: 96.22%, train auroc: 0.7790, valid auroc: 0.7251\n",
            "Epoch 19, loss: 0.1372, train acc: 96.20%, train auroc: 0.7828, valid auroc: 0.7843\n",
            "Epoch 20, loss: 0.1352, train acc: 96.18%, train auroc: 0.7758, valid auroc: 0.7929\n",
            "Epoch 21, loss: 0.1360, train acc: 96.18%, train auroc: 0.7883, valid auroc: 0.7572\n",
            "Epoch 22, loss: 0.1362, train acc: 96.17%, train auroc: 0.7922, valid auroc: 0.7418\n",
            "Epoch 23, loss: 0.1349, train acc: 96.21%, train auroc: 0.7857, valid auroc: 0.7077\n",
            "Epoch 24, loss: 0.1354, train acc: 96.22%, train auroc: 0.7896, valid auroc: 0.7201\n",
            "Epoch 25, loss: 0.1347, train acc: 96.20%, train auroc: 0.7902, valid auroc: 0.7369\n",
            "Epoch 26, loss: 0.1360, train acc: 96.15%, train auroc: 0.7882, valid auroc: 0.7774\n",
            "Epoch 27, loss: 0.1343, train acc: 96.19%, train auroc: 0.7927, valid auroc: 0.7765\n",
            "Epoch 28, loss: 0.1346, train acc: 96.17%, train auroc: 0.7924, valid auroc: 0.7635\n",
            "Epoch 29, loss: 0.1340, train acc: 96.22%, train auroc: 0.7899, valid auroc: 0.7916\n",
            "Epoch 30, loss: 0.1334, train acc: 96.24%, train auroc: 0.7881, valid auroc: 0.7306\n"
          ]
        }
      ],
      "source": [
        "best_model = None\n",
        "best_valid_auroc = 0\n",
        "\n",
        "# track the train/valid AUROC and train loss across epochs of training\n",
        "train_losses = []\n",
        "train_aurocs = []\n",
        "valid_aurocs = []\n",
        "\n",
        "pbar = tqdm()\n",
        "\n",
        "for epoch in range(1, 1 + num_epochs):\n",
        "    loss, acc = train(model, device, train_loader, optimizer, loss_fn, pbar)\n",
        "\n",
        "    train_result = eval(model, device, train_loader, evaluator, pbar)\n",
        "    val_result = eval(model, device, valid_loader, evaluator, pbar)\n",
        "\n",
        "    train_auroc, valid_auroc = train_result[dataset.eval_metric], val_result[dataset.eval_metric]\n",
        "    if valid_auroc > best_valid_auroc:\n",
        "        best_valid_auroc = valid_auroc\n",
        "        best_model = copy.deepcopy(model)\n",
        "    tqdm.write(f'Epoch {epoch:02d}, loss: {loss:.4f}, '\n",
        "               f'train acc: {100 * acc:.2f}%, '\n",
        "               f'train auroc: {train_auroc:.4f}, '\n",
        "               f'valid auroc: {valid_auroc:.4f}')\n",
        "\n",
        "    train_losses.append(loss)\n",
        "    train_aurocs.append(train_auroc)\n",
        "    valid_aurocs.append(valid_auroc)"
      ]
    },
    {
      "cell_type": "code",
      "execution_count": 15,
      "metadata": {
        "id": "df890vJZ-V3_"
      },
      "outputs": [
        {
          "name": "stdout",
          "output_type": "stream",
          "text": [
            "Final test AUROC: 0.7379\n"
          ]
        }
      ],
      "source": [
        "test_result = eval(best_model, device, test_loader, evaluator, pbar)\n",
        "test_auroc = test_result[dataset.eval_metric]\n",
        "print(f'Final test AUROC: {test_auroc:.4f}')"
      ]
    },
    {
      "cell_type": "code",
      "execution_count": null,
      "metadata": {
        "id": "txipkkFO-1eO"
      },
      "outputs": [],
      "source": [
        "def plot_epochs(train_aurocs: list[float], valid_aurocs: list[float],\n",
        "                test_auroc: float, train_losses: list[float]) -> plt.Figure:\n",
        "    \"\"\"Plots train/valid/test AUROC on y-axis, training loss on right y-axis,\n",
        "    against epoch on the x-axis.\n",
        "\n",
        "    Args\n",
        "    - train_aurocs/valid_aurocs: list of float, AUROC on train/val per epoch\n",
        "    - test_auroc: float, final AUROC on test split\n",
        "    - train_losses: list of float, training loss per epoch\n",
        "\n",
        "    Returns: plt.Figure\n",
        "    \"\"\"\n",
        "    num_epochs = len(train_losses)\n",
        "    assert len(train_aurocs) == num_epochs\n",
        "    assert len(valid_aurocs) == num_epochs\n",
        "    epochs = list(range(1, 1 + num_epochs))\n",
        "\n",
        "    fig, ax = plt.subplots(1, 1, figsize=(8, 4), tight_layout=True)\n",
        "    ax.plot(epochs, train_aurocs, c='tab:blue', label='train AUROC')\n",
        "    ax.plot(epochs, valid_aurocs, c='tab:orange', label='val AUROC')\n",
        "    ax.axhline(test_auroc, c='tab:gray', label='test AUROC')\n",
        "    ax.set(xlabel='epoch', ylabel='AUROC')\n",
        "    ax.legend(loc='upper left', bbox_to_anchor=(1.15, 1))\n",
        "\n",
        "    ax2 = ax.twinx()\n",
        "    ax2.plot(epochs, train_losses, c='tab:green', label='train loss')\n",
        "    ax2.set_ylabel('loss')\n",
        "    ax2.legend(loc='lower left', bbox_to_anchor=(1.15, 0.1))\n",
        "    return fig"
      ]
    },
    {
      "cell_type": "code",
      "execution_count": null,
      "metadata": {
        "colab": {
          "base_uri": "https://localhost:8080/",
          "height": 297
        },
        "id": "ophtz-WeYSXl",
        "outputId": "cd01129d-63a9-4c33-8599-71ffdc3de1c4"
      },
      "outputs": [
        {
          "data": {
            "image/png": "[encoded data removed]",
            "text/plain": [
              "<Figure size 576x288 with 2 Axes>"
            ]
          },
          "metadata": {
            "needs_background": "light"
          },
          "output_type": "display_data"
        }
      ],
      "source": [
        "fig = plot_epochs(train_aurocs, valid_aurocs, test_auroc, train_losses)\n",
        "fig.savefig('auroc_loss_curves.pdf', pad_inches=0, bbox_inches='tight')"
      ]
    },
    {
      "cell_type": "markdown",
      "metadata": {
        "id": "Bwtf4Ik6CJid"
      },
      "source": [
        "## Question 5: GNN Expressiveness\n",
        "\n",
        "_This question is not directly related to the rest of this notebook and does not involve any coding._\n",
        "\n",
        "In this question, we will compare different aggregation functions that are commonly used in designing GNN layers.\n",
        "\n",
        "Let $x_u \\in \\mathbb{R}^d$ denote the feature vector for node $u$, and let $N_v$ denote the neighborhood of node $v$. We would like to compare:\n",
        "- sum: $h = \\sum_{u \\in N_v} x_u$\n",
        "- mean: $h = \\frac{1}{|N_v|} \\sum_{u \\in N_v} x_u$\n",
        "- max: $h_i = \\max_{u \\in N_v} (x_u)_i$, for all $i = 1, \\dotsc, d$\n",
        "\n",
        "It turns out that using _sum_ for aggregation is more \"expressive\" than either _mean_ or _max_.\n",
        "\n",
        "![Presentation1.png](data:image/png;base64,iVBORw0KGgoAAAANSUhEUgAAA/EAAAEYCAMAAAAjy4bEAAAAAXNSR0IArs4c6QAAAARnQU1BAACxjwv8YQUAAAMAUExURQAAAAMFAgIDBQQEBAYGBggICAsLCw4ODhERERoaGhgYGB4eHiQyGhokOBwoPSAgICUlJSgoKC0tLTAwMDIyMjo6Ojg4OD8/PzZUIj9hKFB+MiAsQiE3XyZAbkBAQEdHR0hISE1NTVBQUFhYWF1dXWJiYmBgYGZmZmhoaG1tbXBwcHJycnh4eH9/f1SBNVaDOVeEOlmFO1uGPVyHPluIPl2JP16SO2KXPmCVPGKYPmSbP2WcP1+KQmCLQ2GNQmGMRGOOSGSNSGKRQ2OVQWSXQmSTRWaWRmWZQWedQ2aeQWebRWmeQ2mcRWaSSWmRTWuAXWyUUW6VVHGYV3OaWnidX2iiQmqkQ2qgRWumRGynRG6qRm2pRW+sR3CtR3eYYXmeYX2hZX+iZ4SmbourdY+uepGvfZOwfy9SjzNVkjVYlDdZlDpblztclzpdmDxemj9gmj5hnDlgpT9lpzpiqj5lqTtkrT5mrjxmsD5otD9qtz9ruEJagl1qgEBhmkFinkRmnkZlnlNqk0BkoEBko0Rmo0FmpkBlpUZookRop0ppoktroE9to0JnqEBmrEJoqkRoqUJpr1FvpFRzpld1p156q0BpskJrtUJstkBsukFuvUJvv2N+rkNwwUNxwkRyxGWAr2uFsm2Gs3KLtnSMtnqRun2Uu4eHh4iIiI+Pj5eXl52dnZ+fn5WzgpezhZm1h5+5jaG6kKO8kqW9lae+mICWvYKYvYWavqKioqenp6+vr66vsrKysre3t7i4uL29vb+/v6vAm63DnrLGpbbIp7fLq7jKq7vMrr3OssDQtMPSuMjWv4ugwo6iw46ixJGkxZSmxpeox5qryZ2uzKOzz6Szzqa20Kq40q281LG+1bPA17fD2L7J3MHBwcPDw8fHx8nJyczMzM/Pz9PfzNDQ0NTU1NfX19nc1tXZ3d/f39nj0t7n2OTr38vU49HZ5tje6t7k7eHi4ufn5+nv5erq6u/v7+/z7OXp8evv9PT38vX19ff39/L0+Pr7+fj6+/v7+/////m2u8gAAAAJcEhZcwAADsIAAA7CARUoSoAAACfZSURBVHhe7Z0PnBXFle87OIRR3i5BjLzn7o4CCgQc//MRFU0YGNzBLM84GQjMZROczfoX4YnAzOyKPBASQSNhhAByhwQSF0Q3fyAGdo2zms1mMRvD06xrQHAl8e1kxdUh/B0G7lZVn/u//1T13NNV3fd8Px+G7nurT53zqzp9u6u7q61UEWf27937VBtj7959p+GzUhJ1+9j0vLpjxxfrGTt27DkJn5USbPukvzea9S/M+BNvbbp3+bx5zS2MefOW39P2q+PwTWmIun1sjv1s1pW1Y8fWNTDGjq29sv6VI/BNacC2T/p7o1///Iw/8e37ljcn2ze2Z2h9aPamD+Hb3hN1+9gc+/LVE+oSMxOJmWkaJlw36334tvdg2yf9vTFB/9yMP/3anIVQMA3ftvmBH56AEr0j6vaxOfn9MZOhI2RgfaNuzPPHoETvwLZP+ntjhv45GX947hPtSbtgLuyjNYt+DWV6Q9TtY3Po0xPZ7p/3gUJuvfmfoUxvwLZP+ntjiP7ZjH/z0Q1QJoPYnv1Jblz2CygVnKjbx+Yfa2c4dAabGbXfg1LBwbZP+ntjiv6ZjN/5Vf6VKOjEqk1noGBAom4fm+cmufYHzuRZPVAwINj2SX9vjNE/nfGbVsFXTjBDG9eu7NWVlqjbx2ZW0RlePolpt/fqSg62fdLfG3P0h4zfuYp96s03nrKLBiLq9rF57lZoeXemfRHKBgHbPunvjUH62xn/xpPwsQfJVd8WZYMQdfvY/GQSNLsHMz77F1BaHWz7pL83JukvMv7wo757CM7XXhebqBN1+9gcqp0hrtMInE737M8mvwzlVcG2T/p7Y5T+PONPLyoa5SsADM75L76JMlG3j83J8axDSJAY95+whRrY9kl/b8zSn2f8zgX2B740bxI1qBJ1+9iwkzynHX8xdbNgCzWw7ZP+3pilP8v4E3NgF+BLMtBOOur2sTl2LTS4P4F+BLDtk/7eGKY/y/jNa2S3aF/3dahFhajbx6bJfxw3TcPnYBsVsO2T/t4Ypr+VOj4bViVILjoM1cgTdfvYHLkOmluGWw7BVvJg2yf9vTFNfyv15nK+aH/iy4KfQz3yRN0+Nj+dAK0tww3fha3kwbZP+ntjmv5Wqq0V1mRYPwfqkSfq9rGpnwqt7UDRgE/jGNhKHmz7pL83pulvnb6PP1EnzQOqDztH3T42J6+eKXftxmac6sPU2PZJf2+M09/a9yAsy/H4XqhJlqjbx2ZPLbS1F/BbkEjMnPgPsJ0s2PZJf2+M09/65TxYlmPhZqhJlqjbx2bHWLu1JbmpCbaTBds+6e+NcfpbW2Qv39u0tEFNskTdPjZNN0FbS5FoqIftZMG2T/p7Y5z+1lPNsCzH+sVQkyxRt4/N5+vsphZ//Zk+HraTBds+6e+NcfpbK1SG+trbN9wDNckSdfvYTPkCtLUUiRlXwnayYNsn/b0xTn/rfr+78PNJ3gU1yRJ1+9hc05gzs6kEF8F2smDbJ/29MU5/65F1sCxH8m6oSZao28dm/HRoaikSM66A7WTBtk/6e2Oc/tbqFliWY4PqLRRRt49NfQM0thyN42A7WbDtk/7eGKe/taVwimtPki2roSZZom4fm6Yboa2lCDBWjGyf9PfGOP2tn6tdz2v+FtQkS9TtY/O965VO8+ruhO1kwbZP+ntjnP7WGw/BshTJ+S9ATbJE3T42r1wPbS3HDc/DdrJg2yf9vTFOf+v4bNnnbgRLVR93jLp9bI5cp/QbUKP6OCW2fdLfG+P0t1JfWQ8rMmy4X/lFA1G3j814iQu2mU4z4xrlFxlg2yf9vTFNfyv1msphwcItUI88UbePzfdVnp++UfW2a3z7pL83pulvpT5YBGsSJJfvg3rkibp9bH73aWhtCRK1e2ArebDtk/7emKa/pXSf3oaHAxyURd0+NlM8pkwoYMa4AG8nw7ZP+ntjmP4s4z9YAuv+LPs3qEWFqNvH5nc10N7+1P4TbKMCtn3S3xvD9Ofz1W+Sffxm/Qq7DkWibh+bWfbjVf58YQpsoQa2fdLfG7P05xn/oeyZwJL9ogZVom4fm/dvhhb3o+ZV2EINbPukvzdm6c8zPvX6k1LX9NZ+kxcOQNTtY/PyRGhyb25TvR8rDbZ90t8bo/QXGZ/avAY+9KJ1deBhl6jbx6bpT6HRvZh6R4BhHRts+6S/Nybpb2d892r/8b4Nj50QZYMgY////MF/QGl1Lv0rXP+x6bnD/wmrxinHoLQ6MvbH/o//D6XVIf29MUl/O+NTJx7zu3Nn/Vd6884wX/sb/riPNQwKK7PNsv7Qb7qv3vmPzTHfSziNtcFePGrja7/xf36M9PciNvpDxqeOr1wLXzmz/pHeNZif/T/pY1nWS1BYka7z2LZ/hOs/Nkduvw3a3pmp43vT4fzt/y8mIenvTnz0T2d86uzTq+BLJ5pX9vaQzNv+mpXnM68HdUNhNYazTSs/2oTrPzY9X5oMje/EbbcHP6S08bNP+peJ/pmMT6V2LnGbQGfD0m+VYNDF2/5B5ra1FYoqIbbchu8/Ns/VuB35NdbcGXhQJ4u3fdK/TPTPyfjU4RVLnc62Nzw+pzTXUb3t8z1VRZddUoXuQWzDQXwJ239sDt1e4zQpWuOkm4Ndpy3EzX7tLdw+178v6V9MzPTPzfhUav/i5QsLLu01PzjnX+Hb3uNlv6uSeR5g8GIr28x6117ev3jpwoLXcJXUf2xeHV97Y8Fbyuom3PwT+Lb3ONofZ9sn/ctD//yMT6X2bblv6fwWe6y/tXX+0ns2vVXSAzIP+9u46y/CijRdfdlWI2FF2F+C6T82e5quqrl1qn0tp6HhxporZ/2sBAeUWQrtX5W1T/oz4q9/YcYzDr/Q1sYrv6ut7Tv7EZqL27/7LkahfX54MlB18GIY2+i8o7AicLUfEQ49X1/PgvrYRfX1f/lqSbubDbd/xUUXXVFkn/QXxFx/h4znMDMu3yDyLr9C9wysSPIi93Q7rMQHPfrzWkl/Do8KFsMjHP1NyvjUCFar2uBF90C2ySdhJUZYVh8N+o8k/YEY629Uxnedy6odCitSVLOW6fvvsBIjNOnPb+Ug/Rkx1t+ojE9t5/X+GFYk6OTDFqNgJU7o1F9h8Ij0Ly1h6G9Wxqc+yeodID94MZQVP/cUrMQJXfpfSPoLYqy/YRkvBi+qYcWX3bz0LliJFTwwWAwV0t+GBwaLoRKC/oZlfGoUq7hvJ6z40M1Pey6BlXhB+uslxvqblvFHFQYvLufqvAcr8YL010uM9Tct41O7eNW7YcWTd/mwxeWwEjNIf73EWH/jMj5VxaqWGryQLhhBSH+9xFh/8zJedtclrmRI7QwjCOmvlxjrb17GS56eqJzwRA/SXy8x1t/AjJcbglQZ1IwepL9eYqy/gRlvX2b0OV4J8tRBhODRwWL4kP5x1t/EjE9dwmo/z3tMItCThdGB9NdLjPU3MuPf8x28CDZ7QHQg/fUSY/2NzPhUNau+L8zk40TQGYIiA+mvlxjrb2bGdw9g9VfBigNBZwGMDKS/XmKsv5kZ7/OMQPCZfqMCDxAWtUD6x1Z/QzNePAfoNnhhz9cb32EjBumvlxjrb2rGez3rL+brPQgr8YT010uM9Tc141PPMA+cBy/EfL3DYSWmkP56ibH+xma8mLPvQljJgx/wVMZ52IhB+uslxvobm/Gu8/KKz7fBSlzhMcKiLkh/vWDpb27G24MXeXPvc8SFC/GarThD+uslxvobnPHifKVo8ILfnJB+zVZ8If31EmP9Dc74vHfopRFjmNnXbMUV0l8vMdbf5IwX1x0LBi/EQwZFhzqxg/TXS4z1NznjUx3cjbxBCnEvUvxec1YEDxMWNUL66wVFf6Mz3n5xZs6FCDFZgOMli5hB+uslxvqbnfHiGaGcsxYx8Ufsh40YpL9eYqy/2RlfMHghJv1zufUwXpD+eomx/oZnvJjrI3P1kc/X6zM3SEwg/fUSY/1Nz3jxYCAMXoj5emP5mrMieKSwqBfSXy+l19/0jBcP/9t3ER+VmuMzHpilfz/SXxsl19/4jBdv0RdPCo1kCzF9zVkRhul/GV8i/XVQcv2Nz3h7Er+DMF+vxLs6YgGPFRZ1Q/rrpdT6m5/x6cEL/l9cX3NWhFn69yH9NVJi/SOQ8WLntlVcp4jra86K4MHConZIf72UWP8IZLw4genXj/2J7WvOiiD99RJj/aOQ8WKQkhHf15wVwcOFRf0cPVfIT/prorT6RyHj7QuRcX7NWRE8XFg0gGeF/KS/LkqqfyQyPnUh9yfGrzkrgvTXS4z1d4ire3d19ScGDBhQVV29y4QnoZk/I6yPn3vO+Yb4gw3pr5eY61+Y8V3bh1YOra5+sYNRXT2s3+Ctek/ewJ+/6eh4UfhTpdkfbDL6vy30r9Su/7O2/m+T/loovf75Gd818rzhu0/BiqBj9ICh+u6z6hpx7vDdeQczHaN0+oONg/5a4xX+kP6wHD4Y+udm/NHqAXkTbgC7B47KeSg/REzzBxvSXy/loX9OxncMrHYZG9g6UMcTUx2fMMsfbIzT3zB/sCkT/bMZv/0S9z3H0WHVsBQePzLMH2xM0980f7ApF/0zGT9quMsOxaZ6qOfXpWfU8LzzqUJC9wcbX/095Sg9pvUHbMpG/3TGD/V7HfXuC0O9UmGaP9iQ/nopH/0h40f5VZBKvRjmZAim+YMN6a+XMtLfzvhtMm+5kCpUGkzzBxvSXy/lpL/I+I6LpU4KJHY8paHjErP8wYb010tZ6c8z/uhA91HBPAaFM1W5af5gIx3v+aQ/BuWlP8946X3F7nAekDbNH2xIf72Ul/4s47sGSF94CGWn3iU/t08sfmRMi5f0dyUO+rOMHy7/5rqDYbxzzDR/sCH99VJm+lupzgGwKENVByzgYZo/2HT2hwUZSP+SU276W2qD/M/gT19smj/YbBsBCzKQ/iWn3PS3UoNVdhNKO6BgKO22QvAHG9PiJf09iIH+1lG1V9cNxH5Y2DR/sCH99VJ2+lu7hsGSHJdjT29omj/YkP56KTv9rWq15+62i1fAIWKaP9iQ/nopO/0th2sBz1p2ren/c+moggUsTPMHG9V4B8MCFqR/zPW3Ln4RlrJ0Vl7A78np7l/xjv1BDu8NhAUsLjHMH2zc4z3Vv+Kg/UEOpH+JKTv9LYfbdnqGCNMHnN56c7QSFrAwzR9sHOI94xVvP1jAgvSPuf7WeQ537duHD6Mtp9m0xMN2iJjmDzbu8Y4i/UOg7PS3nIb3Oys//nt2EMH+FNHdFxawcPGnS5c/2Ljq39OfBV3EKU36/54d5JL+cdDfcroBp2cI2504HkTg34LgdAPCWY3+YOMU7xke79vm6K/TH2zKTn+nsXr7lMH5IELHWH1KRKvJH2xU9dcwVqy1P2BTdvpbjpfw2RH0R/3FAGEhijcIqOPoDzui+WiAHn+wcdd/kDn6a+wP2JSd/tbWUbCUx2hrhBgtKMK5eAkxzR9soqL/SNKfE339LecTgQOWJa4IFOF0mlFSnP1527L66vEHG9d4nfVXeu4pCK794RzSnxF9/S3HwcFU9xDL8SBC8T7/IJjmDzakv17KTX9L7UbeEG6jNs0fbEh/vZSb/pbazDnDnMYLS4tp/mBD+uul3PS3HO/rc0Nh0r3gmOYPNkrxOh3alRjS35U46M8yXmGn4nixsNSY5g82pL9eykx/flvu0N32si/vDoIFXEzzBxvSXy/lpT/P+PfOlzw2kHald7w3yCx/sDEtXtLfhVjoLx692TpaLPsR2v1VkrcVRP5+rzSmxUv6OxIP/UXGy50PHKwKYdjCRtIfyV2h+ZgWL+nvQEz0tzO+u6p4to9COi90eHgQie6qA7DkTpj+YGOe/mb5g0056W9nfKrrQr9LAl1V8hcNeo9p/mBD+uuljPSHjGd7DO9RgHcVrhKWgs5PmuUPNsbpb5g/2JSP/umMT50a6vUO212hH8KZ5g82psXbTfrnECP9MxmfSo1yPU7oHDostEG7LJ7+xGbQKItp8ZL+aWKlf07GpzoGDXV6bqdr5ADvIwwsOgYNMcofbNz0H6FNf7P6AzbloX9uxqdSuwcO234Ulm1O7R4+YBssh0+xP91a/cHGMd7+pH9YlIP++RnPThCGVw7e2tEhDho6OrYNrRy6XesB3K7h/arS/rxkgD/YgP7iJMoM/c3qD9gYqv+lBzuHdZXGn8KMZ7w0qqrK4lRVjdxtQPN2ZP0ZYYI/2OTpr2H8pJCM/oPN8AcbA/X/BPhTiv7vkPEcXgEsGoFp/mBD+uvFrHh/fx73xyrNhFsucZkVMfU43ZD+OhnB3bGsgSU5wHWJi1cAi0Zgmj/YkP56MSred7g3HKeJrZVxiYvbh0UjMM0fbEh/vRgV7yDmzKCR7E9FKW4DconLqIgZpvmDDemvF5Pi3cqd+U3Xueyv03uoVHGJy6SIOab5gw3prxeD4u3qx3wZmUpt4z6V4FYgl7gMilhgmj/YkP56MSjey5gr4hXTF7KFEswk6hKXQRELTPMHG9JfL+bE28FdEXfZvcuXVCazd8YlLm4cFo3ANH+wIf31Yky83YOsPhZMYDmKOdXX6U57JVziMq2FTfMHG9JfL8bEK4bt4Bm6o/xGnEvs5eC4xGVMxIBp/mBD+uvFlHi7+jJHMvNc7uJu9XbwziUuUyJOY5o/2JD+ejEl3mHMj3OzT8/x+/17+65Ll7hMiTiNaf5gQ/rrxZB4X+R+PAsrjPfyfvKD4RKXIRFnMM0fbEh/vZgRb/dA5kbeO6kuZx/0dZsaRw6XuMyIOItp/mBD+uvFjHif4W7k5Xc3H7yTfy+dEy5xmRFxFtP8wYb014sR8eYP29ns5p7JvL/CFZe4jIg4B9P8wYb014sR8Q5lThSN04kP82fCUsMlLiMizsE0f7Ah/fViQrzi53wXrGTo5D/8I2ElCC5xmRBxLqb5gw3prxcD4u0ewHyogpUcik/u1XCJy4CI8zDNH2xIf70YEG81c6Hvb2AlBzGA34sX2bvEZUDEeZjmDzakv170xyuO3h0vvYuL9MFnsHaJS3/E+ZjmDzakv170x3sx8+Bc59vr+I14laV4C1Uu+iPOxzR/sCH99aI93r/nHrjcQi+u2g2HFWVc4tIecQGm+YMN6a8X3fGKO21cH5MTD9T5v2HeGZe4dEdciGn+YEP660V3vOJuWtdH4bvFXJcBn6hxiUt3xIWY5g82pL9eNMcrnpi5HFYcOMj983rbtAcucWmOuAjT/MGG9NeL5nh9n4odzgr0DTZ45xKX5oiLMM0fbEh/veiN13/miy5+nh9sLmuXuPRGXIxp/mBD+utFa7xi2M4nncVc1i/CihIucWmN2AHT/MGG9NeL1njFDJadsOIGH7wL9CI6l7i0RuyAaf5gQ/rrRWe87/JhO99ZqgPPZe0Sl86InTDNH2xIf73ojFfyTRRSRwIOuMSlM2InTPMHG9JfLxrj3c7rlpiwVsxlHWDwziUujRE7Ypo/2JD+etEXr3wiB5zL2iUufRE7Y5o/2JD+etEXrzhYl7vSHmwua5e49EXsjGn+YEP660VbvGJA7hlY8UEM8XncmeeMS1zaInbBNH+wIf31oi1epYtu3nffu+ASl7aIXTDNH2xIf73oilftxhpxq85gWJHFJS5dEbthmj/YkP560RSv6s2zzpNfeuMSl6aIXTHNH2xIf71oinckq1bpAZlL2AaKc1m7xKUpYldM8wcb0l8veuJVfwjWfTY8V1zi0hOxO6b5gw3prxc98QaY6ILPeKs2l7VLXHoidsc0f7Ah/fWiJV4xmVUHrEhS/DJKP1ziqmbAohGY5g82pL9edMTb1Y8l7zBYkaZ4LuueV3f84Iv1jB079pyEz3JwyPgz+/fufaqNsXfvvtPwmU5M8wcb0+JlPWiHRw+KHdj6g/3VhfYvs6yPVajPayNeRJfZ7NjPZl1Ze/3YmxoYY8fWXHnHK0fgmzSFGX/irU33LJ03r7m1paVl3rzl96z+1XH4Rg/Mn3uz/iy9u+0Nvf5gw+NdwuJtaWlt5fq3adaf96CasWPr7B5U69CD4gW2/un+zLrzWtafc+x38B/rAHPXibms4UV0x7581YS6RGJmloaJ18563/4SyM/4E9++b9maZHt7O/8naJk3e9OH8G34nPjOvQ825/mzdt59Gv3Bhulvx5uJuOUhnfof+/LVE+qg7zBYV2qYcE1BD4oT2Prb9pnpJNjfmLFvz08rSimSmcv65PevnZyb7myRr9aNef6YXVKQm/GnX5u9ICe50jTP+eEJKBEup197YEGRN+3Jlrma/MHm9Gv3Z/XP/tf8gKZ4WQ/607wfDJuCHhQfsPXPs5/Fts/ztk+gOejT+4pDN08sbixB3bh/hrKMnIw/vGjVRnAij2T7gjm/hjJhcvjhJ4rU4Xoxfxa9BWXixOFFzvG2ty+Yq0P/Q5+e6JDvnFtze1BswNa/wD4s8/+YfXFsfimUVMS+jP/TSY1262TaTCwkeBvOqP0elM3N+Dcf3ZD2oojko7+AUuHB/XFj49LXoFR88NJ/owb9/7EGepADMyZle1BcwNb/zaW8PzvXsPHRv67oxbvkhlvWef97Unb3XLSfTsycPKsHCmcyfudX3cIVfO3pM1AwJL7j6U9yVdj+YOOtf/jxPj+pqN9kScy89UvpHhQTsPX3tJ9sX/V/Lw76yolUqqty1J9PhqZxJpGYdjtcZ0ln/NOr0nW78I2VoV4p2gT+uBKyP9hsWuXV4RghxztrskfCc6Z9LlZX6rD197W/duXfQdEAHH2ONRdrMK82m/Z5uyxk/E6RYJ5OrX3KLhoKO70F4l9+I0x/sLH19yTUeJ/7rGfvYSTSPSgWYOuPbP+VSdAqXkz+C1HWzvg3HodqvVjzbVE2DN543HEMMZ8Q/cHmjWUQkxerwov3Fa9Deg7/eprdg+IAtv5veJ8y2wS3f6jGp7ns3ffkl3lhkfGHv+LvECvx0Ou8cAgcflRCoGT742H5g42M/izgJ8KK91Ct6CbeJBKTRA+KAdj6H34UTHiRbA9q/+T4GdAmHPfkT4z5T1aaZ/zpRRtERvuy6L9EDdicfth9lD6PueH4g83pufnxujZFSPGeHOc+Sp/HLbwHRR9s/bH783O3ulxFLaRuFivNM/6HC6BGn7RPNj8tasAm6487wtOQ/MHmhQVewud8FVK8z98KPSSDc4dKiB4UfbD1l+nPjGR78ybYQoljY6A9fEmMY7tolvEnZvOTZo+Ys4TyI3NiNtTmT0gHHbiceMBj0CK/WULR/9g1cr8YbD/Ae1Dkwdb/xGyp3OIEst9U53Ekn8/Uz4mM3+wwjujiY+tKqAWTLWugNl+SofiDzWbZeJPtrV+HbTBpmgb9A/DoTg2sB0UebP3l+3Mg+0euhcbwJTEzUXOIZfzx+6E6GZYchnrwOM53iRJD9YIQ/MHm+H0Qizf2PjiEeI9cJ27MzMct61kPijrY+h+/L/3z6fIzmksA+z+dIHkWz5n4XZbxbz4Itckw/+dQDx5vPgR1yfAEvj/YvLkcYpEgGYL+P50AvUOCxPXfha2iC7b+Sv35IXX79Q3QGC7k7g4S08exjG9rgdqcyd8xrX8Y6sGD+SOxMwTWz4GtosvqVqm9v80GfP3rGzJ9xP+3Y/rNsFV0wdZ/daucdVFq/VzYSpqTV8v/wjPGvG+dzhx0SPEA9sPap+UOsoAkuj/YKOmfxNf/5DXQN6RIjIn6w/LY+qv1Z3X7e2TuncgycYe1T+GghoWMftcL80dlF/TE/4PtosqvZW73yvI4drx7aqBvyDHxH2C7qIKtP7Ov0p8fUrW/Y6zSb3xdk7V3HtQlx/zNUBMWe+dDTVIkF26B7aKKov7o8e4YC31DjhubYLuogq2/qn3V/Gq6CVrCE9grJBIN9daWhVCXHC1tUBMWWxYqnWWsw/YHm81q8bZix9t0o905fEj/sDTUw3ZRBVv/zQtlrzsJlPPr89lhFxmmf8Z6ynvgLgehzPpHoCYs5P0RrFsM20WVp1ohEjlasfX/vM/QbwFTx8N2UQVbf9X+rGp/ylRoCQ9y9gmNV1orWlXOM5Ib74WasFixTmmfi+4PNivWQSRyJLHjnaKW8YmrYLuogq3/CsmhekC5P1/TqPQbP/Mi636lg4729rugJiwU/Uli+4PN/ZJPWaTBjvdayadobBKJi2C7qIKtv9ctvA5sVLU/fjo0RRrvHcCMK6zFar+p7XdDTVgsVtznYvuDjWK8G7Hj/cwXRM+Q/eFIXAHbRRVs/R9Ryy/l/lwvf1c9p/Fmq00p4o3ot7z43BBUQDKEW4JwaVM7j0TX3+8WrjwSM6ePg+2iCrb+2Pabih509ADG6pX2QehjxVuUrs7h+4MN01+lAdaij9XfqvSbMTXqY/XY+m9RG6tX7s/fU7uaetOd1i8Urxd+E2rC4l8U/fkWbBdV/kVtD4euv1oPStx0J2wXVbD1/wWy/VdUfuNnzrz+eeuNB5V+4+e/ADVh8auHlPxZgO0PNr9SeZApBP1fyXmQRuLH/oa/he2iCrb+ivaV+/MRpbuiZ9Ycso4/AHXJgf645nH5+TA4kX9c1rR4j1wHfUPu4P6WqD8ui62/ov1Fyu0LQ61yNF7TY6UWqwwtbLwf/UUJSoOnG2dH/kUVj6yHWGRI4uv/GX65R/ZUfsY1kX9RBbb+Sv05qd6ff6ByGnZTU8pK/fIJqE2GEG5j/6XCiU/0b6tn8crNgiYII94f3AC9Q4bI31aPr79afqk/tvK7W6AtZKjdwzL+gyUKJ87L9kE9eHwwF+qSIQR/sPlgkcJgcQjx/u4WhbH6CXtgq+iCrf8Hi2BbGR4M0L5Tpko32IxxPSzjU49JH3Yk188J4SB6pfxh1oYw/MHmMcPinSJxYgh9bMaYGLx9Dlt/hft4A9mX/pFPJGr/ScxsqbATevLfoBZMPpgrvc9dFoY/2LAfGQjHl6+GEa/CYeIk1oMiD7b+CvaD9edZddAcfkyfwkrz+eo3NUOFPiTXrRA1YCPrT3tI/mAjrX9rOPFK96CpvAdFH2z9sfvz+3m7aPdD/ETNq6w0z/gPZX9Ul+0XNWDz4RxJf5aH4w82H86VvC0rpHjfHwddxA/Rg6IPtv7S+RW0fV+WedHkzJm3ibuleManXv8aVOnNGuz7vdK8/iTU6E1o/mBjWrwve7+MPE1d1O+3S4Ot/+v+b5blBG/fptugSTxINNwhBl1ExstN0r9udWjDZKb5g41p8TbJpPxUuwfFAWz9Je0H1rPnDv/nnxqnHBNl7Yw/w6fw9WH9YydE2TA4s9p/fDNMf7A5a1i8Z+r9Z1aZDj0oDmDrj96fj/2ZX4M1/hm8MczO+NQJ30t0G78S5jveTPMHGxavz7leuPEe850KJ9ODYgG2/ice8/tJ3dC79j1y+zTPq/JTM80FGZ86vvIbULUz6x4JN8GOf90sf7Dx07815HhZD4K+4szUz8Qp4fH1R+/PPV/6LDSNE3W3Zw7I0hmfOvO01/BCy8qwD6G9/VkTuj/YeMe7NvR4e77kdS4/LduDYgK2/vj59VyN25F9Y+2d2SGCTManUjuXuh1Jr1/6TQ2DZKb5g83OJW43f+mJ93nXHjS9JqcHxQZs/dHb99CUmsJJ7ziNk8blXkXNyfjU4RVLnXza+PjDeq57u/nzhCZ/sDm8YonTPk6b/qwHOd1w2zjplnhchy8EW39m36k/b3hybqna99XxtTcVnM7XTRz3E/jWJjfjU6n9i5c159+NkGxe9vC/wrfhw/wpmDQo2bxcoz/Y8HjzR5D0xlvcgxJ1E8a9At/GD2z99y9+sMj+g3NK2b57mq6+5cYG++CsoeGGmqtm/azgcCw/41OpfZvvXTS/1R5YXNcyf+k9m97SegC9b8u9S+a3tgiZWlsXLL1Xsz/Y5MXboj/ePU1X1VzfYA/cN0y9oba4B8ULbP1t+/Yc9q0tCzHa99Df1tdfcRGjvv4vXz0LH2YpzHjG4Rfa2u65i9HW9p39BqQX9+du25+dJviDTU68Ruif14Nine422Pprbl+HjCcIIrZQxhNEOUEZTxDlBGU8QZQTlPEEUU5QxhNEOUEZTxDlBGU8QZQTlPEEUU5QxhNEOUEZTxDlBGU8QZQTlPEEUU5QxhNEOUEZTxDlBGU8QZQTlPEEUU5QxhNEOUEZTxDlBGU8QZQTlPEEUU5QxhNEOUEZTxDlBGU8QZQTlPEEUU6YkfHd/S84BYs2z1q7YIkIgSL9qQFCpUB/VPHNyPiiELv7D4UlIgSE/p2VOZpTA4RJQf9HFd+IjD875OO/h8U0o895B5YIdGz98zI+NbqCGiAsivo/pvhGZHx+XxO8bVXDEoGOrX9+KxygBgiNov6PKb4RGe9w3nKm/6CCM0sCDVv//H5XfGpPYOFwUosnvgkZf3ZI8UFMj8NnBA6gf2e/3Ix3ahQChWKpMcXHyfgfX2BZA/+G7aa6Lq+0rMG29y9VWVbFcL7vEkv8a5vu/vZpTG7h1Oji331CFmf9BzPVL0vrf84zhfqz3/izn2Lb/cj+lBogOAX6HxQf5utfUaR/zmaY4qNk/GjrnEtHVDKn36m0qkZcYokd1gGrYtiIi/nRyrN8qdLKHLh0VorFg5XW4HRhXojOI4Piqv9IL/07+w2srBh2mQXCUwMExlf/c5z0Z5uxEnwzVPExMv5An/P5Puul36QOXPpbtvCsxQ4Xzw7pa6cyD7CbrWd3Y2/z79lm2cJ8Df4nlHHUvydXf9bBivXvrLSGsi8OWB/v4qvUAEEJqP8Ba5DYjG+CKD5GxhcekoghoeypCXydHSiCiG3SH1OHC4yj/j1DKuyDy9QoF/07+4mfmjND7O+pAYISUP/czaKV8Sy3ITZG19+PGDFcuH/AOueyTvb/2SHWsBGM4ZnDmu3p8LKFqcMFx1X/Cm/9011wtH1ESQ0QEAf9h7AlP/3zxqqjlfGZgQgW3acsgXCfj1ec/1seMZCOGMLryS1MHS4wrvoPFvqz33CgQP/0WD2cQ1IDBMRH/x4X/XM2QxUf5zc+vbMabV3Azkoyxy9dl1sVB3O+BiC8UXmFqcMFxVv/d1z1p9/40uCrf/qEPo2tdF67IIqPeh4PQWQi5r8fu7Jfp+ms5HfbFBSmoeLABNM//RufPo+nBghKQP1zP4/YWP2z9vHK27+1Iz47iu+wTg3hY5A8qgNwOCMGJTndA/jocG5hRpEuhCy++tu3M+bqz48nO/uJsfofWxec5J9SAwTFUf9uz/7P9c9sxv4gio+R8exMXVzw3cWCqBh2WaU4jznV3xo8okoENdpii8OtTFBMGD7UkVOY/9KI3SMRAAn9q0ZcltUfhpE7+32ysmLExfC53VuJADjq3+3b/9lm4jo9+xhTfIyMT53dxqIcyG8q+hFbGPzv4uG/jz6VvuWI31vUp2Lwu3xRAPcV5xRmRzr2jpAIgIT+VsXg3/BFga1/Z2X1R3xw1e5r1ADB8de/D9O/qP/bm/F77jDFR8l4VRzGKejZuRBxGieiBgiPIv0xxTci452ej8+5pkkgc6ZY/9Toc6gBwqL4+XhE8Y3I+PRhTZac4U0CnyL9MxfniTAo0B9VfDMynua50wvNc6eX8Oa5S6X+G/0JVnzfARy4AAAAAElFTkSuQmCC)\n",
        "\n",
        "Look at the figure above. Nodes with the same color have the same feature vector. Each case (a,b,c) contains a pair of distinct graphs. Ideally, we would like `h` to be different when the neighborhood of `v` is different.\n",
        "\n",
        "For each pair of graphs, decide whether `h` as computed by `sum`, `mean`, or `max` would be different between the two graphs. Explain."
      ]
    },
    {
      "cell_type": "markdown",
      "metadata": {
        "id": "9qW_KJf0SKsa"
      },
      "source": [
        "## Bonus Question 6: Feedback Survey\n",
        "\n",
        "If you filled out this survey, please say so on your HW submission. You will receive 2pts extra credit for this assignment.\n",
        "\n",
        "https://forms.gle/kWKg6GosppNMQM9bA"
      ]
    }
  ],
  "metadata": {
    "accelerator": "GPU",
    "colab": {
      "collapsed_sections": [],
      "name": "Copy of 2022_CS159_Assignment1.ipynb",
      "provenance": [],
      "toc_visible": true
    },
    "kernelspec": {
      "display_name": "Python 3.9.12 ('ProtGraphR')",
      "language": "python",
      "name": "python3"
    },
    "language_info": {
      "codemirror_mode": {
        "name": "ipython",
        "version": 3
      },
      "file_extension": ".py",
      "mimetype": "text/x-python",
      "name": "python",
      "nbconvert_exporter": "python",
      "pygments_lexer": "ipython3",
      "version": "3.9.13"
    },
    "vscode": {
      "interpreter": {
        "hash": "139d1aaa1d1fb05ac2b871ea076ee69809b0d9a8dfdac7dc2e2d4e05ffa29f01"
      }
    },
    "widgets": {
      "application/vnd.jupyter.widget-state+json": {
        "1c82375453124913bd8367213583a837": {
          "model_module": "@jupyter-widgets/controls",
          "model_module_version": "1.5.0",
          "model_name": "HBoxModel",
          "state": {
            "_dom_classes": [],
            "_model_module": "@jupyter-widgets/controls",
            "_model_module_version": "1.5.0",
            "_model_name": "HBoxModel",
            "_view_count": null,
            "_view_module": "@jupyter-widgets/controls",
            "_view_module_version": "1.5.0",
            "_view_name": "HBoxView",
            "box_style": "",
            "children": [
              "IPY_MODEL_1df460e445444003b217fff9116ed16b",
              "IPY_MODEL_c19dd997738f4742a7b2433ecd5e0c90",
              "IPY_MODEL_4158afe9ff7f42f586159d983ba18fcf"
            ],
            "layout": "IPY_MODEL_e5f1898e992f4489b87d4592537156a8"
          }
        },
        "1df460e445444003b217fff9116ed16b": {
          "model_module": "@jupyter-widgets/controls",
          "model_module_version": "1.5.0",
          "model_name": "HTMLModel",
          "state": {
            "_dom_classes": [],
            "_model_module": "@jupyter-widgets/controls",
            "_model_module_version": "1.5.0",
            "_model_name": "HTMLModel",
            "_view_count": null,
            "_view_module": "@jupyter-widgets/controls",
            "_view_module_version": "1.5.0",
            "_view_name": "HTMLView",
            "description": "",
            "description_tooltip": null,
            "layout": "IPY_MODEL_e843e677363a4d389d02e8a398a73c59",
            "placeholder": "​",
            "style": "IPY_MODEL_32b218f3b7d744f295ab4fbc20c43dbf",
            "value": "Evaluating: 100%"
          }
        },
        "32b218f3b7d744f295ab4fbc20c43dbf": {
          "model_module": "@jupyter-widgets/controls",
          "model_module_version": "1.5.0",
          "model_name": "DescriptionStyleModel",
          "state": {
            "_model_module": "@jupyter-widgets/controls",
            "_model_module_version": "1.5.0",
            "_model_name": "DescriptionStyleModel",
            "_view_count": null,
            "_view_module": "@jupyter-widgets/base",
            "_view_module_version": "1.2.0",
            "_view_name": "StyleView",
            "description_width": ""
          }
        },
        "4158afe9ff7f42f586159d983ba18fcf": {
          "model_module": "@jupyter-widgets/controls",
          "model_module_version": "1.5.0",
          "model_name": "HTMLModel",
          "state": {
            "_dom_classes": [],
            "_model_module": "@jupyter-widgets/controls",
            "_model_module_version": "1.5.0",
            "_model_name": "HTMLModel",
            "_view_count": null,
            "_view_module": "@jupyter-widgets/controls",
            "_view_module_version": "1.5.0",
            "_view_name": "HTMLView",
            "description": "",
            "description_tooltip": null,
            "layout": "IPY_MODEL_964e8c0c867740b9a345674ae513957b",
            "placeholder": "​",
            "style": "IPY_MODEL_477ff7df9a5d4302824ffb1d4cecfb1c",
            "value": " 129/129 [00:18&lt;00:00, 70.15it/s]"
          }
        },
        "477ff7df9a5d4302824ffb1d4cecfb1c": {
          "model_module": "@jupyter-widgets/controls",
          "model_module_version": "1.5.0",
          "model_name": "DescriptionStyleModel",
          "state": {
            "_model_module": "@jupyter-widgets/controls",
            "_model_module_version": "1.5.0",
            "_model_name": "DescriptionStyleModel",
            "_view_count": null,
            "_view_module": "@jupyter-widgets/base",
            "_view_module_version": "1.2.0",
            "_view_name": "StyleView",
            "description_width": ""
          }
        },
        "914a5fc980e7403c9c073df06274f312": {
          "model_module": "@jupyter-widgets/base",
          "model_module_version": "1.2.0",
          "model_name": "LayoutModel",
          "state": {
            "_model_module": "@jupyter-widgets/base",
            "_model_module_version": "1.2.0",
            "_model_name": "LayoutModel",
            "_view_count": null,
            "_view_module": "@jupyter-widgets/base",
            "_view_module_version": "1.2.0",
            "_view_name": "LayoutView",
            "align_content": null,
            "align_items": null,
            "align_self": null,
            "border": null,
            "bottom": null,
            "display": null,
            "flex": null,
            "flex_flow": null,
            "grid_area": null,
            "grid_auto_columns": null,
            "grid_auto_flow": null,
            "grid_auto_rows": null,
            "grid_column": null,
            "grid_gap": null,
            "grid_row": null,
            "grid_template_areas": null,
            "grid_template_columns": null,
            "grid_template_rows": null,
            "height": null,
            "justify_content": null,
            "justify_items": null,
            "left": null,
            "margin": null,
            "max_height": null,
            "max_width": null,
            "min_height": null,
            "min_width": null,
            "object_fit": null,
            "object_position": null,
            "order": null,
            "overflow": null,
            "overflow_x": null,
            "overflow_y": null,
            "padding": null,
            "right": null,
            "top": null,
            "visibility": null,
            "width": null
          }
        },
        "964e8c0c867740b9a345674ae513957b": {
          "model_module": "@jupyter-widgets/base",
          "model_module_version": "1.2.0",
          "model_name": "LayoutModel",
          "state": {
            "_model_module": "@jupyter-widgets/base",
            "_model_module_version": "1.2.0",
            "_model_name": "LayoutModel",
            "_view_count": null,
            "_view_module": "@jupyter-widgets/base",
            "_view_module_version": "1.2.0",
            "_view_name": "LayoutView",
            "align_content": null,
            "align_items": null,
            "align_self": null,
            "border": null,
            "bottom": null,
            "display": null,
            "flex": null,
            "flex_flow": null,
            "grid_area": null,
            "grid_auto_columns": null,
            "grid_auto_flow": null,
            "grid_auto_rows": null,
            "grid_column": null,
            "grid_gap": null,
            "grid_row": null,
            "grid_template_areas": null,
            "grid_template_columns": null,
            "grid_template_rows": null,
            "height": null,
            "justify_content": null,
            "justify_items": null,
            "left": null,
            "margin": null,
            "max_height": null,
            "max_width": null,
            "min_height": null,
            "min_width": null,
            "object_fit": null,
            "object_position": null,
            "order": null,
            "overflow": null,
            "overflow_x": null,
            "overflow_y": null,
            "padding": null,
            "right": null,
            "top": null,
            "visibility": null,
            "width": null
          }
        },
        "c19dd997738f4742a7b2433ecd5e0c90": {
          "model_module": "@jupyter-widgets/controls",
          "model_module_version": "1.5.0",
          "model_name": "FloatProgressModel",
          "state": {
            "_dom_classes": [],
            "_model_module": "@jupyter-widgets/controls",
            "_model_module_version": "1.5.0",
            "_model_name": "FloatProgressModel",
            "_view_count": null,
            "_view_module": "@jupyter-widgets/controls",
            "_view_module_version": "1.5.0",
            "_view_name": "ProgressView",
            "bar_style": "",
            "description": "",
            "description_tooltip": null,
            "layout": "IPY_MODEL_914a5fc980e7403c9c073df06274f312",
            "max": 129,
            "min": 0,
            "orientation": "horizontal",
            "style": "IPY_MODEL_d28c16fc62884691ad1ffc94381e2157",
            "value": 129
          }
        },
        "d28c16fc62884691ad1ffc94381e2157": {
          "model_module": "@jupyter-widgets/controls",
          "model_module_version": "1.5.0",
          "model_name": "ProgressStyleModel",
          "state": {
            "_model_module": "@jupyter-widgets/controls",
            "_model_module_version": "1.5.0",
            "_model_name": "ProgressStyleModel",
            "_view_count": null,
            "_view_module": "@jupyter-widgets/base",
            "_view_module_version": "1.2.0",
            "_view_name": "StyleView",
            "bar_color": null,
            "description_width": ""
          }
        },
        "e5f1898e992f4489b87d4592537156a8": {
          "model_module": "@jupyter-widgets/base",
          "model_module_version": "1.2.0",
          "model_name": "LayoutModel",
          "state": {
            "_model_module": "@jupyter-widgets/base",
            "_model_module_version": "1.2.0",
            "_model_name": "LayoutModel",
            "_view_count": null,
            "_view_module": "@jupyter-widgets/base",
            "_view_module_version": "1.2.0",
            "_view_name": "LayoutView",
            "align_content": null,
            "align_items": null,
            "align_self": null,
            "border": null,
            "bottom": null,
            "display": null,
            "flex": null,
            "flex_flow": null,
            "grid_area": null,
            "grid_auto_columns": null,
            "grid_auto_flow": null,
            "grid_auto_rows": null,
            "grid_column": null,
            "grid_gap": null,
            "grid_row": null,
            "grid_template_areas": null,
            "grid_template_columns": null,
            "grid_template_rows": null,
            "height": null,
            "justify_content": null,
            "justify_items": null,
            "left": null,
            "margin": null,
            "max_height": null,
            "max_width": null,
            "min_height": null,
            "min_width": null,
            "object_fit": null,
            "object_position": null,
            "order": null,
            "overflow": null,
            "overflow_x": null,
            "overflow_y": null,
            "padding": null,
            "right": null,
            "top": null,
            "visibility": null,
            "width": null
          }
        },
        "e843e677363a4d389d02e8a398a73c59": {
          "model_module": "@jupyter-widgets/base",
          "model_module_version": "1.2.0",
          "model_name": "LayoutModel",
          "state": {
            "_model_module": "@jupyter-widgets/base",
            "_model_module_version": "1.2.0",
            "_model_name": "LayoutModel",
            "_view_count": null,
            "_view_module": "@jupyter-widgets/base",
            "_view_module_version": "1.2.0",
            "_view_name": "LayoutView",
            "align_content": null,
            "align_items": null,
            "align_self": null,
            "border": null,
            "bottom": null,
            "display": null,
            "flex": null,
            "flex_flow": null,
            "grid_area": null,
            "grid_auto_columns": null,
            "grid_auto_flow": null,
            "grid_auto_rows": null,
            "grid_column": null,
            "grid_gap": null,
            "grid_row": null,
            "grid_template_areas": null,
            "grid_template_columns": null,
            "grid_template_rows": null,
            "height": null,
            "justify_content": null,
            "justify_items": null,
            "left": null,
            "margin": null,
            "max_height": null,
            "max_width": null,
            "min_height": null,
            "min_width": null,
            "object_fit": null,
            "object_position": null,
            "order": null,
            "overflow": null,
            "overflow_x": null,
            "overflow_y": null,
            "padding": null,
            "right": null,
            "top": null,
            "visibility": null,
            "width": null
          }
        }
      }
    }
  },
  "nbformat": 4,
  "nbformat_minor": 0
}
