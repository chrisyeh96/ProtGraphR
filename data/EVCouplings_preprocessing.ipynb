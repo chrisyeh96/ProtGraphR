{
 "cells": [
  {
   "cell_type": "code",
   "execution_count": 1,
   "metadata": {},
   "outputs": [
    {
     "name": "stderr",
     "output_type": "stream",
     "text": [
      "/home/jyang4/miniconda3/envs/mlde2/lib/python3.7/site-packages/sklearn/linear_model/least_angle.py:30: DeprecationWarning: `np.float` is a deprecated alias for the builtin `float`. To silence this warning, use `float` by itself. Doing this will not modify any behavior and is safe. If you specifically wanted the numpy scalar type, use `np.float64` here.\n",
      "Deprecated in NumPy 1.20; for more details and guidance: https://numpy.org/devdocs/release/1.20.0-notes.html#deprecations\n",
      "  method='lar', copy_X=True, eps=np.finfo(np.float).eps,\n",
      "/home/jyang4/miniconda3/envs/mlde2/lib/python3.7/site-packages/sklearn/linear_model/least_angle.py:167: DeprecationWarning: `np.float` is a deprecated alias for the builtin `float`. To silence this warning, use `float` by itself. Doing this will not modify any behavior and is safe. If you specifically wanted the numpy scalar type, use `np.float64` here.\n",
      "Deprecated in NumPy 1.20; for more details and guidance: https://numpy.org/devdocs/release/1.20.0-notes.html#deprecations\n",
      "  method='lar', copy_X=True, eps=np.finfo(np.float).eps,\n",
      "/home/jyang4/miniconda3/envs/mlde2/lib/python3.7/site-packages/sklearn/linear_model/least_angle.py:284: DeprecationWarning: `np.float` is a deprecated alias for the builtin `float`. To silence this warning, use `float` by itself. Doing this will not modify any behavior and is safe. If you specifically wanted the numpy scalar type, use `np.float64` here.\n",
      "Deprecated in NumPy 1.20; for more details and guidance: https://numpy.org/devdocs/release/1.20.0-notes.html#deprecations\n",
      "  eps=np.finfo(np.float).eps, copy_Gram=True, verbose=0,\n",
      "/home/jyang4/miniconda3/envs/mlde2/lib/python3.7/site-packages/sklearn/linear_model/least_angle.py:862: DeprecationWarning: `np.float` is a deprecated alias for the builtin `float`. To silence this warning, use `float` by itself. Doing this will not modify any behavior and is safe. If you specifically wanted the numpy scalar type, use `np.float64` here.\n",
      "Deprecated in NumPy 1.20; for more details and guidance: https://numpy.org/devdocs/release/1.20.0-notes.html#deprecations\n",
      "  eps=np.finfo(np.float).eps, copy_X=True, fit_path=True,\n",
      "/home/jyang4/miniconda3/envs/mlde2/lib/python3.7/site-packages/sklearn/linear_model/least_angle.py:1101: DeprecationWarning: `np.float` is a deprecated alias for the builtin `float`. To silence this warning, use `float` by itself. Doing this will not modify any behavior and is safe. If you specifically wanted the numpy scalar type, use `np.float64` here.\n",
      "Deprecated in NumPy 1.20; for more details and guidance: https://numpy.org/devdocs/release/1.20.0-notes.html#deprecations\n",
      "  eps=np.finfo(np.float).eps, copy_X=True, fit_path=True,\n",
      "/home/jyang4/miniconda3/envs/mlde2/lib/python3.7/site-packages/sklearn/linear_model/least_angle.py:1127: DeprecationWarning: `np.float` is a deprecated alias for the builtin `float`. To silence this warning, use `float` by itself. Doing this will not modify any behavior and is safe. If you specifically wanted the numpy scalar type, use `np.float64` here.\n",
      "Deprecated in NumPy 1.20; for more details and guidance: https://numpy.org/devdocs/release/1.20.0-notes.html#deprecations\n",
      "  eps=np.finfo(np.float).eps, positive=False):\n",
      "/home/jyang4/miniconda3/envs/mlde2/lib/python3.7/site-packages/sklearn/linear_model/least_angle.py:1362: DeprecationWarning: `np.float` is a deprecated alias for the builtin `float`. To silence this warning, use `float` by itself. Doing this will not modify any behavior and is safe. If you specifically wanted the numpy scalar type, use `np.float64` here.\n",
      "Deprecated in NumPy 1.20; for more details and guidance: https://numpy.org/devdocs/release/1.20.0-notes.html#deprecations\n",
      "  max_n_alphas=1000, n_jobs=None, eps=np.finfo(np.float).eps,\n",
      "/home/jyang4/miniconda3/envs/mlde2/lib/python3.7/site-packages/sklearn/linear_model/least_angle.py:1602: DeprecationWarning: `np.float` is a deprecated alias for the builtin `float`. To silence this warning, use `float` by itself. Doing this will not modify any behavior and is safe. If you specifically wanted the numpy scalar type, use `np.float64` here.\n",
      "Deprecated in NumPy 1.20; for more details and guidance: https://numpy.org/devdocs/release/1.20.0-notes.html#deprecations\n",
      "  max_n_alphas=1000, n_jobs=None, eps=np.finfo(np.float).eps,\n",
      "/home/jyang4/miniconda3/envs/mlde2/lib/python3.7/site-packages/sklearn/linear_model/least_angle.py:1738: DeprecationWarning: `np.float` is a deprecated alias for the builtin `float`. To silence this warning, use `float` by itself. Doing this will not modify any behavior and is safe. If you specifically wanted the numpy scalar type, use `np.float64` here.\n",
      "Deprecated in NumPy 1.20; for more details and guidance: https://numpy.org/devdocs/release/1.20.0-notes.html#deprecations\n",
      "  eps=np.finfo(np.float).eps, copy_X=True, positive=False):\n"
     ]
    }
   ],
   "source": [
    "#run this notebook in mlde2\n",
    "from evcouplings.couplings import CouplingsModel\n",
    "import pandas as pd\n",
    "from evcouplings.mutate import predict_mutation_table, single_mutant_matrix\n",
    "import numpy as np\n",
    "import itertools"
   ]
  },
  {
   "cell_type": "code",
   "execution_count": 2,
   "metadata": {},
   "outputs": [
    {
     "data": {
      "text/plain": [
       "581"
      ]
     },
     "execution_count": 2,
     "metadata": {},
     "output_type": "execute_result"
    }
   ],
   "source": [
    "len('GPDSMADITDKTAEQLENLNIQDDQKQAATGSESQSVENSSASLYVGDLEPSVSEAHLYDIFSPIGSVSSIRVCRDAITKTSLGYAYVNFNDHEAGRKAIEQLNYTPIKGRLCRIMWSQRDPSLRKKGSGNIFIKNLHPDIDNKALYDTFSVFGDILSSKIATDENGKSKGFGFVHFEEEGAAKEAIDALNGMLLNGQEIYVAPHLSRKERDSQLEETKAHYTNLYVKNINSETTDEQFQELFAKFGPIVSASLEKDADGKLKGFGFVNYEKHEDAVKAVEALNDSELNGEKLYVGRAQKKNERMHVLKKQYEAYRLEKMAKYQGVNLFVKNLDDSVDDEKLEEEFAPYGTITSAKVMRTENGKSKGFGFVCFSTPEEATKAITEKNQQIVAGKPLYVAIAQRKDVRRSQLAQQIQARNQMRYQQATAAAAAAAAGMPGQFMPPMFYGVMPPRGVPFNGPNPQQMNPMGGMPKNGMPPQFRNGPVYGVPPQGGFPRNANDNNQFYQQKQRQALGEQLYKKVSAKTSNEEAAGKITGMILDLPPQEVFPLLESDELFEQHYKEASAAYESFKKEQEQQTEQA')"
   ]
  },
  {
   "cell_type": "code",
   "execution_count": 71,
   "metadata": {},
   "outputs": [],
   "source": [
    "#full PABP Sequence\n",
    "str = 'MADITDKTAEQLENLNIQDDQKQAATGSESQSVENSSASLYVGDLEPSVSEAHLYDIFSPIGSVSSIRVCRDAITKTSLGYAYVNFNDHEAGRKAIEQLNYTPIKGRLCRIMWSQRDPSLRKKGSGNIFIKNLHPDIDNKALYDTFSVFGDILSSKIATDENGKSKGFGFVHFEEEGAAKEAIDALNGMLLNGKEIYVAPHLSRKERDSQLEETKAHYTNLYVKNINSETTDEQFQELFAKFGPIVSASLEKDADGKLKGFGFVNYEKHEDAVKAVEALNDSELNGEKLYVGRAQKKNERMHVLKKQYEAYRLEKMAKYQGVNLFVKNLDDSVDDEKLEEEFA'\n",
    "#the indices listed by the CouplingsModel 122:204"
   ]
  },
  {
   "cell_type": "code",
   "execution_count": 2,
   "metadata": {},
   "outputs": [],
   "source": [
    "#these should be the same model\n",
    "#c1 is generated by the listgarten code\n",
    "#c2 is provided in their data file\n",
    "#c1 = CouplingsModel(\"uniref100.model_params\")\n",
    "#c2 = CouplingsModel(\"PABP_YEAST.model_params\")\n",
    "\n",
    "#model = CouplingsModel('/home/jyang4/combining-evolutionary-and-assay-labelled-data/inference/tm9D8/plmc/uniref100.model_params')\n",
    "\n",
    "model = CouplingsModel('/home/jyang4/MLDE/code/PABP_data/PABP_YEAST.model_params')"
   ]
  },
  {
   "cell_type": "code",
   "execution_count": 4,
   "metadata": {},
   "outputs": [],
   "source": [
    "#this files lists indices 114:204\n",
    "data = pd.read_csv('/home/jyang4/ProtTP/data/PABP_AllPreds.csv', index_col=0)"
   ]
  },
  {
   "cell_type": "code",
   "execution_count": 63,
   "metadata": {},
   "outputs": [
    {
     "name": "stderr",
     "output_type": "stream",
     "text": [
      "/home/jyang4/miniconda3/envs/mlde2/lib/python3.7/site-packages/numpy/lib/arraysetops.py:583: FutureWarning: elementwise comparison failed; returning scalar instead, but in the future will perform elementwise comparison\n",
      "  mask |= (ar1 == a)\n"
     ]
    }
   ],
   "source": [
    "data = pd.read_csv('/home/jyang4/ProtTP/data/All_DSM_PABP.csv', index_col=0)"
   ]
  },
  {
   "cell_type": "code",
   "execution_count": 14,
   "metadata": {},
   "outputs": [
    {
     "name": "stdout",
     "output_type": "stream",
     "text": [
      "['K' 'G' 'S' 'G' 'N' 'I' 'F' 'I' 'K' 'N' 'L' 'H' 'P' 'D' 'I' 'D' 'N' 'K'\n",
      " 'A' 'L' 'Y' 'D' 'T' 'F' 'S' 'V' 'F' 'G' 'D' 'I' 'L' 'S' 'S' 'K' 'I' 'A'\n",
      " 'T' 'D' 'E' 'N' 'G' 'K' 'S' 'K' 'G' 'F' 'G' 'F' 'V' 'H' 'F' 'E' 'E' 'E'\n",
      " 'G' 'A' 'A' 'K' 'E' 'A' 'I' 'D' 'A' 'L' 'N' 'G' 'M' 'L' 'L' 'N' 'G' 'Q'\n",
      " 'E' 'I' 'Y' 'V' 'A' 'P' 'H' 'L' 'S' 'R']\n"
     ]
    }
   ],
   "source": [
    "#model.index_map.items()\n",
    "#model.index_list\n",
    "print(model.seq())"
   ]
  },
  {
   "cell_type": "code",
   "execution_count": 65,
   "metadata": {},
   "outputs": [],
   "source": [
    "def mutation_processing(model, file = '/home/jyang4/MLDE/code/trpB_data/tm9D8_SSM_muts.csv'):\n",
    "    '''\n",
    "    Adapted from Bruce.\n",
    "    Inputs are the instance of the couplings model object and a list of mutations in the format [WTAA]_[position][newAA]+[WTAA]_[position][newAA].\n",
    "    Output is all the EVMutation Scores\n",
    "    '''\n",
    "    #this file seems to have all the data but not sure what it is\n",
    "    data = pd.read_csv(file, header = None)\n",
    "    all_muts = data[0]\n",
    "    # Define an array for storing outputs\n",
    "    preds = np.empty(len(all_muts))\n",
    "\n",
    "    # Loop over all combos\n",
    "    for i, combo in enumerate(all_muts):\n",
    "\n",
    "        # If the combo is wt, result is 0 and we can continue on\n",
    "        # to the next\n",
    "        if combo == None:\n",
    "            preds[i] = 0\n",
    "            continue\n",
    "\n",
    "        # Build the mutation list. Don't include mutations that go back to wt\n",
    "        muts = combo.split('+')\n",
    "        mutation_list = [(int(mut[2:5]), mut[0], mut[5])\n",
    "                        for mut in muts]\n",
    "        mutation_list\n",
    "        # Make the prediction\n",
    "        preds[i], _, _ = model.delta_hamiltonian(mutation_list)\n",
    "    return preds\n",
    "\n",
    "#the functions below are adapted from the listgarten paper\n",
    "def seq2mutation(seq, model, return_str=False, ignore_gaps=False,\n",
    "        sep=\":\", offset=1):\n",
    "    mutations = []\n",
    "    for pf, pm in model.index_map.items():\n",
    "        if seq[pm] != model.target_seq[pm]:\n",
    "            if ignore_gaps and (\n",
    "                    seq[pm] == '-' or seq[pm] not in model.alphabet):\n",
    "                continue\n",
    "            mutations.append((pf, model.target_seq[pm], seq[pm]))\n",
    "    if return_str:\n",
    "        return sep.join([m[1] + str(m[0]) + m[2] for m in mutations])\n",
    "    return mutations\n",
    "\n",
    "# def seq2mutation(seq, model, return_str=False, ignore_gaps=False,\n",
    "#         sep=\":\", offset=1):\n",
    "#     mutations = []\n",
    "#     for pf, pm in model.index_map.items():\n",
    "#         if seq[pf-offset] != model.target_seq[pm]:\n",
    "#             if ignore_gaps and (\n",
    "#                     seq[pf-offset] == '-' or seq[pf-offset] not in model.alphabet):\n",
    "#                 continue\n",
    "#             mutations.append((pf, model.target_seq[pm], seq[pf-offset]))\n",
    "#     if return_str:\n",
    "#         return sep.join([m[1] + str(m[0]) + m[2] for m in mutations])\n",
    "#     return mutations\n",
    "\n",
    "def seq2effect(seqs, model, offset=1, ignore_gaps=False):\n",
    "    effects = np.zeros(len(seqs))\n",
    "    for i in range(len(seqs)):\n",
    "        #note the 8 here is specifcally for pabP\n",
    "        mutations = seq2mutation(seqs[i][8:], model,\n",
    "                ignore_gaps=ignore_gaps, offset=offset)\n",
    "        dE, _, _ = model.delta_hamiltonian(mutations)\n",
    "        effects[i] = dE\n",
    "    return effects"
   ]
  },
  {
   "cell_type": "code",
   "execution_count": 17,
   "metadata": {},
   "outputs": [],
   "source": [
    "preds = mutation_processing(model)"
   ]
  },
  {
   "cell_type": "code",
   "execution_count": 61,
   "metadata": {},
   "outputs": [],
   "source": [
    "data['EVMutation'] = seq2effect(data['seq'].values,model)\n",
    "data['EV_rank'] = data['EVMutation'].rank()\n",
    "data.to_csv('PABP_AllPreds.csv')"
   ]
  },
  {
   "cell_type": "code",
   "execution_count": 66,
   "metadata": {},
   "outputs": [],
   "source": [
    "data['EVMutation'] = seq2effect(data.iloc[:,0].values,model)"
   ]
  },
  {
   "cell_type": "code",
   "execution_count": 74,
   "metadata": {},
   "outputs": [
    {
     "data": {
      "text/html": [
       "<div>\n",
       "<style scoped>\n",
       "    .dataframe tbody tr th:only-of-type {\n",
       "        vertical-align: middle;\n",
       "    }\n",
       "\n",
       "    .dataframe tbody tr th {\n",
       "        vertical-align: top;\n",
       "    }\n",
       "\n",
       "    .dataframe thead th {\n",
       "        text-align: right;\n",
       "    }\n",
       "</style>\n",
       "<table border=\"1\" class=\"dataframe\">\n",
       "  <thead>\n",
       "    <tr style=\"text-align: right;\">\n",
       "      <th></th>\n",
       "      <th>seq</th>\n",
       "      <th>EVMutation</th>\n",
       "    </tr>\n",
       "  </thead>\n",
       "  <tbody>\n",
       "    <tr>\n",
       "      <th>0</th>\n",
       "      <td>QRDPSLRKAASGNIFIKNLHPDIDNKALYDTFSVFGDILSSKIATD...</td>\n",
       "      <td>-5.686316</td>\n",
       "    </tr>\n",
       "    <tr>\n",
       "      <th>1</th>\n",
       "      <td>QRDPSLRKACSGNIFIKNLHPDIDNKALYDTFSVFGDILSSKIATD...</td>\n",
       "      <td>-8.104537</td>\n",
       "    </tr>\n",
       "    <tr>\n",
       "      <th>2</th>\n",
       "      <td>QRDPSLRKADSGNIFIKNLHPDIDNKALYDTFSVFGDILSSKIATD...</td>\n",
       "      <td>-5.271788</td>\n",
       "    </tr>\n",
       "    <tr>\n",
       "      <th>3</th>\n",
       "      <td>QRDPSLRKAESGNIFIKNLHPDIDNKALYDTFSVFGDILSSKIATD...</td>\n",
       "      <td>-4.636597</td>\n",
       "    </tr>\n",
       "    <tr>\n",
       "      <th>4</th>\n",
       "      <td>QRDPSLRKAFSGNIFIKNLHPDIDNKALYDTFSVFGDILSSKIATD...</td>\n",
       "      <td>-7.996856</td>\n",
       "    </tr>\n",
       "    <tr>\n",
       "      <th>...</th>\n",
       "      <td>...</td>\n",
       "      <td>...</td>\n",
       "    </tr>\n",
       "    <tr>\n",
       "      <th>1198876</th>\n",
       "      <td>QRDPSLRKKGSGNIFIKNLHPDIDNKALYDTFSVFGDILSSKIATD...</td>\n",
       "      <td>-8.542828</td>\n",
       "    </tr>\n",
       "    <tr>\n",
       "      <th>1198877</th>\n",
       "      <td>QRDPSLRKKGSGNIFIKNLHPDIDNKALYDTFSVFGDILSSKIATD...</td>\n",
       "      <td>-10.226447</td>\n",
       "    </tr>\n",
       "    <tr>\n",
       "      <th>1198878</th>\n",
       "      <td>QRDPSLRKKGSGNIFIKNLHPDIDNKALYDTFSVFGDILSSKIATD...</td>\n",
       "      <td>-11.471829</td>\n",
       "    </tr>\n",
       "    <tr>\n",
       "      <th>1198879</th>\n",
       "      <td>QRDPSLRKKGSGNIFIKNLHPDIDNKALYDTFSVFGDILSSKIATD...</td>\n",
       "      <td>-13.240669</td>\n",
       "    </tr>\n",
       "    <tr>\n",
       "      <th>1198880</th>\n",
       "      <td>QRDPSLRKKGSGNIFIKNLHPDIDNKALYDTFSVFGDILSSKIATD...</td>\n",
       "      <td>-12.213871</td>\n",
       "    </tr>\n",
       "  </tbody>\n",
       "</table>\n",
       "<p>1198881 rows × 2 columns</p>\n",
       "</div>"
      ],
      "text/plain": [
       "                                                       seq  EVMutation\n",
       "0        QRDPSLRKAASGNIFIKNLHPDIDNKALYDTFSVFGDILSSKIATD...   -5.686316\n",
       "1        QRDPSLRKACSGNIFIKNLHPDIDNKALYDTFSVFGDILSSKIATD...   -8.104537\n",
       "2        QRDPSLRKADSGNIFIKNLHPDIDNKALYDTFSVFGDILSSKIATD...   -5.271788\n",
       "3        QRDPSLRKAESGNIFIKNLHPDIDNKALYDTFSVFGDILSSKIATD...   -4.636597\n",
       "4        QRDPSLRKAFSGNIFIKNLHPDIDNKALYDTFSVFGDILSSKIATD...   -7.996856\n",
       "...                                                    ...         ...\n",
       "1198876  QRDPSLRKKGSGNIFIKNLHPDIDNKALYDTFSVFGDILSSKIATD...   -8.542828\n",
       "1198877  QRDPSLRKKGSGNIFIKNLHPDIDNKALYDTFSVFGDILSSKIATD...  -10.226447\n",
       "1198878  QRDPSLRKKGSGNIFIKNLHPDIDNKALYDTFSVFGDILSSKIATD...  -11.471829\n",
       "1198879  QRDPSLRKKGSGNIFIKNLHPDIDNKALYDTFSVFGDILSSKIATD...  -13.240669\n",
       "1198880  QRDPSLRKKGSGNIFIKNLHPDIDNKALYDTFSVFGDILSSKIATD...  -12.213871\n",
       "\n",
       "[1198881 rows x 2 columns]"
      ]
     },
     "execution_count": 74,
     "metadata": {},
     "output_type": "execute_result"
    }
   ],
   "source": [
    "data = data.rename(columns = {'0': 'seq','EVMutations': 'EVMutation'})\n",
    "data"
   ]
  },
  {
   "cell_type": "code",
   "execution_count": 75,
   "metadata": {},
   "outputs": [],
   "source": [
    "data.to_csv('All_DSM_PABP.csv')"
   ]
  },
  {
   "cell_type": "markdown",
   "metadata": {},
   "source": [
    "### The part after this is to get the mutations of the PABP Dataset in the format for triad"
   ]
  },
  {
   "cell_type": "code",
   "execution_count": 27,
   "metadata": {},
   "outputs": [],
   "source": [
    "#rewrote this function so that it works to generate the PABP mutation file for triad\n",
    "def seq2mutation(seq, model=model, return_str=False, ignore_gaps=False,\n",
    "        sep=\":\", offset=1):\n",
    "    mutations = []\n",
    "    seq = seq[8:]\n",
    "    for pf, pm in model.index_map.items():\n",
    "        if seq[pm] != model.target_seq[pm]:\n",
    "            if ignore_gaps and (\n",
    "                    seq[pm] == '-' or seq[pm] not in model.alphabet):\n",
    "                continue\n",
    "            mutations.append((pm+9, model.target_seq[pm], seq[pm]))\n",
    "    if return_str:\n",
    "        return sep.join([m[1] + str(m[0]) + m[2] for m in mutations])\n",
    "    return mutations"
   ]
  },
  {
   "cell_type": "code",
   "execution_count": 28,
   "metadata": {},
   "outputs": [],
   "source": [
    "data['variants'] = data['seq'].apply(seq2mutation)\n",
    "data"
   ]
  },
  {
   "cell_type": "code",
   "execution_count": 29,
   "metadata": {},
   "outputs": [],
   "source": [
    "mutation_encodings = []\n",
    "\n",
    "for  variant in data.variants.values:\n",
    "    mut_encoding_list = []\n",
    "    for mutation in variant:\n",
    "        mut_encoding_list.append('A_' + str(mutation[0]) + mutation[2])\n",
    "        # If the mut_encoding_list has no entries, continue (this is wild type)\n",
    "    \n",
    "    if len(mut_encoding_list) == 0:\n",
    "        continue\n",
    "    # Otherwise, append to mutation_encodings\n",
    "    else:\n",
    "        mutation_encodings.append(\"+\".join(mut_encoding_list) + \"\\n\") \n",
    "\n",
    "# Save the mutants\n",
    "with open(\"PABP_RRM.mut\", \"w\") as f:\n",
    "    f.writelines(mutation_encodings)"
   ]
  },
  {
   "cell_type": "markdown",
   "metadata": {},
   "source": [
    "### Reformatting the mutation in general:"
   ]
  },
  {
   "cell_type": "code",
   "execution_count": 6,
   "metadata": {},
   "outputs": [],
   "source": [
    "#rewrote this function so that it works to generate the PABP mutation  in general\n",
    "def seq2mutation(seq, model=model, return_str=False, ignore_gaps=False,\n",
    "        sep=\":\", offset=1):\n",
    "    mutations = []\n",
    "    seq = seq[8:]\n",
    "    for pf, pm in model.index_map.items():\n",
    "        if seq[pm] != model.target_seq[pm]:\n",
    "            if ignore_gaps and (\n",
    "                    seq[pm] == '-' or seq[pm] not in model.alphabet):\n",
    "                continue\n",
    "            mutations.append((pf, model.target_seq[pm], seq[pm]))\n",
    "    if return_str:\n",
    "        return sep.join([m[1] + str(m[0]) + m[2] for m in mutations])\n",
    "    return mutations"
   ]
  },
  {
   "cell_type": "code",
   "execution_count": 34,
   "metadata": {},
   "outputs": [],
   "source": [
    "def mut2shorthand(muts):\n",
    "    mut_encoding_list = []\n",
    "    for mutation in muts:\n",
    "        mut_encoding_list.append(str(mutation[1])+ str(mutation[0]) + mutation[2])\n",
    "\n",
    "    if len(mut_encoding_list) == 0:\n",
    "        code='WT'\n",
    "    else:\n",
    "        code = \":\".join(mut_encoding_list) \n",
    "    return code"
   ]
  },
  {
   "cell_type": "code",
   "execution_count": 19,
   "metadata": {},
   "outputs": [
    {
     "data": {
      "text/html": [
       "<div>\n",
       "<style scoped>\n",
       "    .dataframe tbody tr th:only-of-type {\n",
       "        vertical-align: middle;\n",
       "    }\n",
       "\n",
       "    .dataframe tbody tr th {\n",
       "        vertical-align: top;\n",
       "    }\n",
       "\n",
       "    .dataframe thead th {\n",
       "        text-align: right;\n",
       "    }\n",
       "</style>\n",
       "<table border=\"1\" class=\"dataframe\">\n",
       "  <thead>\n",
       "    <tr style=\"text-align: right;\">\n",
       "      <th></th>\n",
       "      <th>seq</th>\n",
       "      <th>log_fitness</th>\n",
       "      <th>n_mut</th>\n",
       "      <th>EVMutation</th>\n",
       "      <th>EV_rank</th>\n",
       "      <th>variants</th>\n",
       "    </tr>\n",
       "  </thead>\n",
       "  <tbody>\n",
       "    <tr>\n",
       "      <th>0</th>\n",
       "      <td>QRDPSLRKKGSGNIFIKNLHPDIDNKALYDTFSVFGDILSSKIATD...</td>\n",
       "      <td>0.047837</td>\n",
       "      <td>1</td>\n",
       "      <td>-0.335980</td>\n",
       "      <td>37231.0</td>\n",
       "      <td>[(194, Q, K)]</td>\n",
       "    </tr>\n",
       "    <tr>\n",
       "      <th>1</th>\n",
       "      <td>QRDPSLRKKGSGNIFIKNLHPDIDNKALYDTFSVFGDILSSKIATD...</td>\n",
       "      <td>0.037296</td>\n",
       "      <td>1</td>\n",
       "      <td>-2.912587</td>\n",
       "      <td>34905.0</td>\n",
       "      <td>[(164, K, M)]</td>\n",
       "    </tr>\n",
       "    <tr>\n",
       "      <th>2</th>\n",
       "      <td>QRDPSLRKKGSGNIFIKNLHPDIDNKALYDTFSVFGDILSSKIATD...</td>\n",
       "      <td>0.024693</td>\n",
       "      <td>1</td>\n",
       "      <td>-1.090189</td>\n",
       "      <td>36841.0</td>\n",
       "      <td>[(183, I, V)]</td>\n",
       "    </tr>\n",
       "    <tr>\n",
       "      <th>3</th>\n",
       "      <td>QRDPSLRKKGSGNIFIKNLHPDIDNKALYDTFSVFGDILSSKIATD...</td>\n",
       "      <td>-0.035006</td>\n",
       "      <td>1</td>\n",
       "      <td>2.899314</td>\n",
       "      <td>37700.0</td>\n",
       "      <td>[(177, G, E)]</td>\n",
       "    </tr>\n",
       "    <tr>\n",
       "      <th>4</th>\n",
       "      <td>QRDPSLRKKGSGNIFIKSLHPDIDNKALYDTFSVFGDILSSKIATD...</td>\n",
       "      <td>-0.063472</td>\n",
       "      <td>1</td>\n",
       "      <td>-7.358377</td>\n",
       "      <td>22888.0</td>\n",
       "      <td>[(132, N, S)]</td>\n",
       "    </tr>\n",
       "    <tr>\n",
       "      <th>...</th>\n",
       "      <td>...</td>\n",
       "      <td>...</td>\n",
       "      <td>...</td>\n",
       "      <td>...</td>\n",
       "      <td>...</td>\n",
       "      <td>...</td>\n",
       "    </tr>\n",
       "    <tr>\n",
       "      <th>37706</th>\n",
       "      <td>QRDPSLRKKGSGNIFIKNLHPDIDNKALYDTFSVFGDILASKIATD...</td>\n",
       "      <td>-0.949072</td>\n",
       "      <td>2</td>\n",
       "      <td>-7.838261</td>\n",
       "      <td>21138.0</td>\n",
       "      <td>[(154, S, A), (174, E, Q)]</td>\n",
       "    </tr>\n",
       "    <tr>\n",
       "      <th>37707</th>\n",
       "      <td>QRDPSLRKKGSGNIFIKNLHPDIDNKALYDTFSVFGDILASKIATD...</td>\n",
       "      <td>-3.453333</td>\n",
       "      <td>2</td>\n",
       "      <td>-17.776333</td>\n",
       "      <td>490.0</td>\n",
       "      <td>[(154, S, A), (169, G, E)]</td>\n",
       "    </tr>\n",
       "    <tr>\n",
       "      <th>37708</th>\n",
       "      <td>QRDPSLRKKGSGNIFIKNLHPDIDNKALYDAYSVFGDILSSKIATD...</td>\n",
       "      <td>-0.322274</td>\n",
       "      <td>2</td>\n",
       "      <td>-11.215503</td>\n",
       "      <td>9534.0</td>\n",
       "      <td>[(145, T, A), (146, F, Y)]</td>\n",
       "    </tr>\n",
       "    <tr>\n",
       "      <th>37709</th>\n",
       "      <td>QRDPSLRKKGSGNIFIKNLHPDIDNKALYDTFSVFGDILSSKIATD...</td>\n",
       "      <td>0.001000</td>\n",
       "      <td>2</td>\n",
       "      <td>-7.870227</td>\n",
       "      <td>21008.0</td>\n",
       "      <td>[(171, V, A), (174, E, V)]</td>\n",
       "    </tr>\n",
       "    <tr>\n",
       "      <th>37710</th>\n",
       "      <td>QRDPSLRKKGSGNIFIKNLHPDIDNKALYDTFSVFGDILSSKIATD...</td>\n",
       "      <td>0.000000</td>\n",
       "      <td>0</td>\n",
       "      <td>0.000000</td>\n",
       "      <td>37367.0</td>\n",
       "      <td>[]</td>\n",
       "    </tr>\n",
       "  </tbody>\n",
       "</table>\n",
       "<p>37711 rows × 6 columns</p>\n",
       "</div>"
      ],
      "text/plain": [
       "                                                     seq  log_fitness  n_mut  \\\n",
       "0      QRDPSLRKKGSGNIFIKNLHPDIDNKALYDTFSVFGDILSSKIATD...     0.047837      1   \n",
       "1      QRDPSLRKKGSGNIFIKNLHPDIDNKALYDTFSVFGDILSSKIATD...     0.037296      1   \n",
       "2      QRDPSLRKKGSGNIFIKNLHPDIDNKALYDTFSVFGDILSSKIATD...     0.024693      1   \n",
       "3      QRDPSLRKKGSGNIFIKNLHPDIDNKALYDTFSVFGDILSSKIATD...    -0.035006      1   \n",
       "4      QRDPSLRKKGSGNIFIKSLHPDIDNKALYDTFSVFGDILSSKIATD...    -0.063472      1   \n",
       "...                                                  ...          ...    ...   \n",
       "37706  QRDPSLRKKGSGNIFIKNLHPDIDNKALYDTFSVFGDILASKIATD...    -0.949072      2   \n",
       "37707  QRDPSLRKKGSGNIFIKNLHPDIDNKALYDTFSVFGDILASKIATD...    -3.453333      2   \n",
       "37708  QRDPSLRKKGSGNIFIKNLHPDIDNKALYDAYSVFGDILSSKIATD...    -0.322274      2   \n",
       "37709  QRDPSLRKKGSGNIFIKNLHPDIDNKALYDTFSVFGDILSSKIATD...     0.001000      2   \n",
       "37710  QRDPSLRKKGSGNIFIKNLHPDIDNKALYDTFSVFGDILSSKIATD...     0.000000      0   \n",
       "\n",
       "       EVMutation  EV_rank                    variants  \n",
       "0       -0.335980  37231.0               [(194, Q, K)]  \n",
       "1       -2.912587  34905.0               [(164, K, M)]  \n",
       "2       -1.090189  36841.0               [(183, I, V)]  \n",
       "3        2.899314  37700.0               [(177, G, E)]  \n",
       "4       -7.358377  22888.0               [(132, N, S)]  \n",
       "...           ...      ...                         ...  \n",
       "37706   -7.838261  21138.0  [(154, S, A), (174, E, Q)]  \n",
       "37707  -17.776333    490.0  [(154, S, A), (169, G, E)]  \n",
       "37708  -11.215503   9534.0  [(145, T, A), (146, F, Y)]  \n",
       "37709   -7.870227  21008.0  [(171, V, A), (174, E, V)]  \n",
       "37710    0.000000  37367.0                          []  \n",
       "\n",
       "[37711 rows x 6 columns]"
      ]
     },
     "execution_count": 19,
     "metadata": {},
     "output_type": "execute_result"
    }
   ],
   "source": [
    "data['variants'] = data['seq'].apply(seq2mutation)\n",
    "data"
   ]
  },
  {
   "cell_type": "code",
   "execution_count": 36,
   "metadata": {},
   "outputs": [],
   "source": [
    "data['mutant'] = data['variants'].apply(mut2shorthand)"
   ]
  },
  {
   "cell_type": "code",
   "execution_count": 41,
   "metadata": {},
   "outputs": [],
   "source": [
    "data = data.drop(columns=[\"variants\"])"
   ]
  },
  {
   "cell_type": "code",
   "execution_count": 43,
   "metadata": {},
   "outputs": [],
   "source": [
    "data.to_csv('PABP_AllPreds.csv')"
   ]
  },
  {
   "cell_type": "code",
   "execution_count": 44,
   "metadata": {},
   "outputs": [],
   "source": [
    "ESMdata = pd.read_csv('PABP_ESM.csv')"
   ]
  },
  {
   "cell_type": "code",
   "execution_count": 52,
   "metadata": {},
   "outputs": [],
   "source": [
    "merged = data.merge(ESMdata[['mutant', 'mutation_effect_prediction_vae_ensemble']]).rename(columns={'mutation_effect_prediction_vae_ensemble': 'ESM_ensemble'})"
   ]
  },
  {
   "cell_type": "code",
   "execution_count": 53,
   "metadata": {},
   "outputs": [],
   "source": [
    "merged.to_csv('PABP_AllPreds.csv')"
   ]
  },
  {
   "cell_type": "markdown",
   "metadata": {},
   "source": [
    "### Code to generate all double mutant possibilities"
   ]
  },
  {
   "cell_type": "code",
   "execution_count": 48,
   "metadata": {},
   "outputs": [],
   "source": [
    "ALL_AAS = [\"A\", \"C\", \"D\", \"E\", \"F\", \"G\", \"H\", \"I\", \"K\", \"L\", \"M\", \"N\", \"P\", \"Q\", \"R\", \"S\", \"T\", \"V\", \"W\", \"Y\"]\n",
    "WT = \"QRDPSLRKKGSGNIFIKNLHPDIDNKALYDTFSVFGDILSSKIATDENGKSKGFGFVHFEEEGAAKEAIDALNGMLLNGQEIYVAPHLSRKERDSQ\""
   ]
  },
  {
   "cell_type": "code",
   "execution_count": 49,
   "metadata": {},
   "outputs": [],
   "source": [
    "#generate all the double mutants\n",
    "all_combos = list(itertools.combinations(range(8,90), 2))\n",
    "mutations = []\n",
    "for pos1, pos2 in all_combos:\n",
    "    aa1 = WT[pos1]\n",
    "    aa2 = WT[pos2]\n",
    "    choices1 = [x for x in ALL_AAS if x!= aa1]\n",
    "    choices2 = [x for x in ALL_AAS if x!= aa2]\n",
    "    for choice1 in choices1:\n",
    "        for choice2 in choices2:\n",
    "            variant = WT[:pos1] + choice1 + WT[pos1+1:]\n",
    "            variant = variant[:pos2] + choice2 + variant[pos2+1:]\n",
    "            mutations.append(variant)"
   ]
  },
  {
   "cell_type": "code",
   "execution_count": 55,
   "metadata": {},
   "outputs": [],
   "source": [
    "df = pd.DataFrame(mutations)\n",
    "df.to_csv('All_DSM_PABP.csv')"
   ]
  },
  {
   "cell_type": "markdown",
   "metadata": {},
   "source": []
  }
 ],
 "metadata": {
  "interpreter": {
   "hash": "76080dab29a11557eff43621d14f30d08fac3a4367678bd8b58214f74f029254"
  },
  "kernelspec": {
   "display_name": "Python 3.7.3 64-bit ('mlde2': conda)",
   "language": "python",
   "name": "python3"
  },
  "language_info": {
   "codemirror_mode": {
    "name": "ipython",
    "version": 3
   },
   "file_extension": ".py",
   "mimetype": "text/x-python",
   "name": "python",
   "nbconvert_exporter": "python",
   "pygments_lexer": "ipython3",
   "version": "3.7.3"
  },
  "orig_nbformat": 4
 },
 "nbformat": 4,
 "nbformat_minor": 2
}
