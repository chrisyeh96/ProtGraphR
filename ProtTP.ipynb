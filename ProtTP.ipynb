{
 "cells": [
  {
   "cell_type": "code",
   "execution_count": 4,
   "metadata": {},
   "outputs": [],
   "source": [
    "import os\n",
    "import numpy as np\n",
    "import pandas as pd\n",
    "import torch\n",
    "import torch.nn as nn\n",
    "import torch.nn.functional as F\n",
    "from torch.utils.data import Dataset\n",
    "import xgboost as xgb\n",
    "\n",
    "import seaborn as sns\n",
    "import matplotlib.pyplot as plt\n",
    "from sklearn.preprocessing import StandardScaler\n",
    "from sklearn.linear_model import Ridge\n",
    "from sklearn.utils import resample\n",
    "from sklearn.metrics import r2_score, ndcg_score\n",
    "from sklearn.model_selection import train_test_split\n",
    "from scipy.stats import spearmanr\n"
   ]
  },
  {
   "cell_type": "code",
   "execution_count": 6,
   "metadata": {},
   "outputs": [],
   "source": [
    "ALL_AAS = (\"A\", \"C\", \"D\", \"E\", \"F\", \"G\", \"H\", \"I\", \"K\", \"L\", \"M\", \"N\", \"P\", \"Q\", \"R\", \"S\", \"T\", \"V\", \"W\", \"Y\")"
   ]
  },
  {
   "cell_type": "code",
   "execution_count": 9,
   "metadata": {},
   "outputs": [],
   "source": [
    "class GB1XDataset(Dataset):\n",
    "    \n",
    "    def __init__(self, file_path):\n",
    "        full_sequence = False\n",
    "        \n",
    "        self.data = pd.read_csv(file_path)\n",
    "        self.data['num_muts'] = self.data['Combo'].apply(self.diff_letters)\n",
    "\n",
    "        #only select variants with 2 or less mutations\n",
    "        #self.data = self.data[self.data['num_muts'] <= 2]\n",
    "        \n",
    "        self.all_combos = self.data[\"Combo\"]\n",
    "        if full_sequence:\n",
    "            self.all_combos = self.all_combos.apply(self.generate_full) #need to fix this\n",
    "        self.n_positions_combined = len(self.all_combos[0])\n",
    "\n",
    "        self.X = torch.tensor(self._generate_onehot()).float()\n",
    "        self.attributes = self.data[[\"EvMutation\", \"Triad-FixedBb-dG\", \"esm_msa1_t12_100M_UR50S-Conditional-ColumnUnmasked\"]].values \n",
    "        scaler = StandardScaler()\n",
    "        self.attributes = scaler.fit_transform(self.attributes)\n",
    "        # , \"esm_msa1_t12_100M_UR50S-Naive-ColumnUnmasked\" ,\t\"esm_msa1_t12_100M_UR50S-Conditional-ColumnUnmasked\", \"esm_msa1_t12_100M_UR50S-Naive-ColumnMasked\", \"esm_msa1_t12_100M_UR50S-Conditional-ColumnMasked\"]].values\n",
    "        #\"Triad-FlexibleBb-dG\", \"Triad-FlexibleBb-RMSD\"\n",
    "        self.y = self.data[\"Fitness\"].values\n",
    "\n",
    "    #function that generates onehot encodings\n",
    "    def _generate_onehot(self):\n",
    "        \"\"\"\n",
    "        Builds a onehot encoding for a given combinatorial space.\n",
    "        \"\"\"\n",
    "        # Make a dictionary that links amino acid to index\n",
    "        one_hot_dict = {aa: i for i, aa in enumerate(ALL_AAS)}\n",
    "    \n",
    "        # Build an array of zeros\n",
    "        onehot_array = np.zeros([len(self.all_combos), self.n_positions_combined, 20])\n",
    "        \n",
    "        # Loop over all combos. This should all be vectorized at some point.\n",
    "        for i, combo in enumerate(self.all_combos):\n",
    "            \n",
    "            # Loop over the combo and add ones as appropriate\n",
    "            for j, character in enumerate(combo):\n",
    "                \n",
    "                # Add a 1 to the appropriate position\n",
    "                onehot_ind = one_hot_dict[character]\n",
    "                onehot_array[i, j, onehot_ind] = 1\n",
    "                \n",
    "        # Return the flattened array\n",
    "        return onehot_array.reshape(onehot_array.shape[0],-1)\n",
    "    \n",
    "    @staticmethod\n",
    "    def diff_letters(a, b = 'VDGV'):\n",
    "        return sum ( a[i] != b[i] for i in range(len(a)) )\n",
    "\n",
    "    @staticmethod\n",
    "    def generate_full(combo):\n",
    "        seq = \"MQYKLILNGKTLKGETTTEAVDAATAEKVFKQYANDNGVDGEWTYDDATKTFTVTE\"\n",
    "        seq = seq[:38] + combo[0] + combo[1] + combo[2] + seq[41:53] + combo[3] + seq[54:]\n",
    "        return seq\n",
    "          \n",
    "    def __len__(self):\n",
    "        return len(self.data)\n",
    "    \n",
    "    def __getitem__(self, index):            \n",
    "        return self.X[index], self.attributes[index]"
   ]
  },
  {
   "cell_type": "code",
   "execution_count": 10,
   "metadata": {},
   "outputs": [
    {
     "name": "stdout",
     "output_type": "stream",
     "text": [
      "cuda\n"
     ]
    }
   ],
   "source": [
    "# Device configuration\n",
    "device = torch.device('cuda' if torch.cuda.is_available() else 'cpu')\n",
    "print(device)\n",
    "#torch.cuda.device_count()\n",
    "cuda0 = torch.cuda.set_device(0)\n",
    "\n",
    "# Hyper-parameters\n",
    "input_dim = 80 #initial dimension\n",
    "h_dim1 = 64 #hidden layer dimension 1\n",
    "h_dim2 = 32 #hidden layer dimension 2\n",
    "z_dim = 16 #embedding dimension\n",
    "num_epochs = 20\n",
    "attr_dim = 3 #number of attributes to decode\n",
    "\n",
    "#h_dim1 = 512 #hidden layer dimension 1\n",
    "#h_dim2 = 256 #hidden layer dimension 2\n",
    "#z_dim = 128 #embedding dimension\n",
    "\n",
    "\n",
    "batch_size = 128\n",
    "learning_rate = 1e-3\n",
    "variational = False #if True, trains a variational autoencoder instead of an autoencoder\n",
    "\n",
    "# GB1 dataset\n",
    "dataset = GB1XDataset('./data/AllPredictions.csv')\n",
    "input_dim = dataset.n_positions_combined*20 #initial dimension\n",
    "\n",
    "# Data loader\n",
    "data_loader = torch.utils.data.DataLoader(dataset=dataset,\n",
    "                                          batch_size=batch_size, \n",
    "                                          shuffle=True)\n",
    "\n",
    "# VAE/AE model\n",
    "class ProtTP(nn.Module):\n",
    "    def __init__(self, input_dim=80, h_dim1=64, h_dim2=32, z_dim=16, variational=False):\n",
    "        super(ProtTP, self).__init__()\n",
    "\n",
    "        #encoder layers\n",
    "        self.fce1 = nn.Linear(input_dim, h_dim1)\n",
    "        self.fce2 = nn.Linear(h_dim1, h_dim2)\n",
    "        self.fce3 = nn.Linear(h_dim2, z_dim)\n",
    "        self.fcvar = nn.Linear(h_dim2, z_dim)\n",
    "        \n",
    "        #decoder layers\n",
    "        self.fcd1 = nn.Linear(z_dim, h_dim2)\n",
    "        self.fcd2 = nn.Linear(h_dim2, h_dim1)\n",
    "        self.fcd3 = nn.Linear(h_dim1, input_dim)\n",
    "\n",
    "        #attribute decoder layers\n",
    "        self.fcad1 = nn.Linear(z_dim, z_dim)\n",
    "        self.fcad2 = nn.Linear(z_dim, attr_dim)\n",
    "        \n",
    "    def encode(self, x):\n",
    "        h1 = F.relu(self.fce1(x))\n",
    "        h2 = F.relu(self.fce2(h1))\n",
    "        if variational:\n",
    "            return self.fce3(h2), self.fcvar(h2)\n",
    "        else:\n",
    "            return self.fce3(h2)\n",
    "    \n",
    "    def reparameterize(self, mu, log_var):\n",
    "        std = torch.exp(log_var/2)\n",
    "        eps = torch.randn_like(std)\n",
    "        return mu + eps * std\n",
    "\n",
    "    def decode(self, z):\n",
    "        h1 = F.relu(self.fcd1(z))\n",
    "        h2 = F.relu(self.fcd2(h1))\n",
    "        return torch.softmax(self.fcd3(h2))\n",
    "    \n",
    "    def decode_attr(self, z):\n",
    "        h1 = F.relu(self.fcad1(z))\n",
    "        return self.fcad1(z)\n",
    "\n",
    "    def forward(self, x):\n",
    "        if variational:\n",
    "            mu, log_var = self.encode(x)\n",
    "            z = self.reparameterize(mu, log_var)\n",
    "            x_reconst = self.decode(z)\n",
    "            return x_reconst, mu, log_var\n",
    "        else:\n",
    "            z = self.encode(x)\n",
    "            x_reconst = self.decode(z)\n",
    "            return x_reconst, z\n",
    "        \n",
    "model = ProtTP(input_dim=input_dim, h_dim1=h_dim1, h_dim2=h_dim2, z_dim=z_dim, variational=variational).to(device)\n",
    "optimizer = torch.optim.Adam(model.parameters(), lr=learning_rate)"
   ]
  },
  {
   "cell_type": "code",
   "execution_count": 32,
   "metadata": {},
   "outputs": [
    {
     "name": "stderr",
     "output_type": "stream",
     "text": [
      "/home/jyang4/miniconda3/envs/ProtTP/lib/python3.9/site-packages/torch/nn/_reduction.py:42: UserWarning: size_average and reduce args will be deprecated, please use reduction='sum' instead.\n",
      "  warnings.warn(warning.format(ret))\n"
     ]
    },
    {
     "name": "stdout",
     "output_type": "stream",
     "text": [
      "Epoch[1/20], Step [1167/1167], Reconst Loss: 1284.5219\n",
      "Best model saved\n",
      "Epoch[2/20], Step [1167/1167], Reconst Loss: 732.3413\n",
      "Best model saved\n",
      "Epoch[3/20], Step [1167/1167], Reconst Loss: 221.9527\n",
      "Best model saved\n",
      "Epoch[4/20], Step [1167/1167], Reconst Loss: 11.9499\n",
      "Best model saved\n",
      "Epoch[5/20], Step [1167/1167], Reconst Loss: 1.8023\n",
      "Best model saved\n",
      "Epoch[6/20], Step [1167/1167], Reconst Loss: 0.8124\n",
      "Best model saved\n",
      "Epoch[7/20], Step [1167/1167], Reconst Loss: 0.4150\n",
      "Best model saved\n",
      "Epoch[8/20], Step [1167/1167], Reconst Loss: 0.2236\n",
      "Best model saved\n",
      "Epoch[9/20], Step [1167/1167], Reconst Loss: 0.1603\n",
      "Best model saved\n",
      "Epoch[10/20], Step [1167/1167], Reconst Loss: 0.2346\n",
      "Epoch[11/20], Step [1167/1167], Reconst Loss: 0.1063\n",
      "Best model saved\n",
      "Epoch[12/20], Step [1167/1167], Reconst Loss: 0.0814\n",
      "Best model saved\n",
      "Epoch[13/20], Step [1167/1167], Reconst Loss: 0.0711\n",
      "Best model saved\n",
      "Epoch[14/20], Step [1167/1167], Reconst Loss: 0.0386\n",
      "Best model saved\n",
      "Epoch[15/20], Step [1167/1167], Reconst Loss: 0.0246\n",
      "Best model saved\n",
      "Epoch[16/20], Step [1167/1167], Reconst Loss: 0.0134\n",
      "Best model saved\n",
      "Epoch[17/20], Step [1167/1167], Reconst Loss: 0.1241\n",
      "Epoch[18/20], Step [1167/1167], Reconst Loss: 0.0439\n",
      "Epoch[19/20], Step [1167/1167], Reconst Loss: 0.0279\n",
      "Epoch[20/20], Step [1167/1167], Reconst Loss: 0.0215\n"
     ]
    }
   ],
   "source": [
    "# Start training\n",
    "best_loss = 0\n",
    "for epoch in range(num_epochs):\n",
    "    for i, (x, a) in enumerate(data_loader):\n",
    "        # Forward pass\n",
    "        x = x.to(device).view(-1, input_dim)\n",
    "\n",
    "        if variational:\n",
    "            x_reconst, mu, log_var = model(x)\n",
    "            kl_div = - 0.5 * torch.sum(1 + log_var - mu.pow(2) - log_var.exp()) \n",
    "        else:\n",
    "            x_reconst, z = model(x)\n",
    "            kl_div = 0\n",
    "        \n",
    "        reconst_loss = F.binary_cross_entropy(x_reconst, x, size_average=False)\n",
    "        loss = reconst_loss + kl_div\n",
    "        \n",
    "        # Backprop and optimize\n",
    "        optimizer.zero_grad()\n",
    "        loss.backward()\n",
    "        optimizer.step()\n",
    "        \n",
    "        if (i+1) % 1167 == 0:\n",
    "            if variational:\n",
    "                print (\"Epoch[{}/{}], Step [{}/{}], Reconst Loss: {:.4f}, KL Div: {:.4f}\" \n",
    "                    .format(epoch+1, num_epochs, i+1, len(data_loader), reconst_loss.item(), kl_div.item()))\n",
    "            else:\n",
    "                print (\"Epoch[{}/{}], Step [{}/{}], Reconst Loss: {:.4f}\"\n",
    "                    .format(epoch+1, num_epochs, i+1, len(data_loader), reconst_loss.item()))\n",
    "    \n",
    "    #update the best model after each epoch\n",
    "    if epoch == 0 or loss < best_loss:\n",
    "        best_loss = loss\n",
    "        torch.save(model.state_dict(), 'best_AE.pth')\n",
    "        print('Best model saved')"
   ]
  },
  {
   "cell_type": "code",
   "execution_count": 11,
   "metadata": {},
   "outputs": [],
   "source": [
    "#Get embeddings\n",
    "model.load_state_dict(torch.load('best_AE.pth'))\n",
    "\n",
    "with torch.no_grad():\n",
    "    X = dataset.X.to(device)\n",
    "    if variational:\n",
    "        mu, log_var = model.encode(X)\n",
    "        embeddings = model.reparameterize(mu, log_var)\n",
    "    else:\n",
    "        embeddings = model.encode(X)\n",
    "    reconstructions = model.decode(embeddings)"
   ]
  },
  {
   "cell_type": "code",
   "execution_count": 55,
   "metadata": {},
   "outputs": [],
   "source": [
    "model_params = {\"booster\": \"gbtree\",\n",
    "                      \"tree_method\": \"exact\",\n",
    "                      \"nthread\": 1,\n",
    "                      \"verbosity\": 0,\n",
    "                      \"objective\": \"reg:tweedie\",\n",
    "                      \"tweedie_variance_power\": 1.5,\n",
    "                      \"eval_metric\": \"tweedie-nloglik@1.5\"}\n",
    "\n",
    "# model_params = {\"booster\": \"gblinear\",\n",
    "#                       \"tree_method\": \"exact\",\n",
    "#                       \"nthread\": 1,\n",
    "#                       \"verbosity\": 0,\n",
    "#                       \"objective\": \"reg:tweedie\",\n",
    "#                       \"tweedie_variance_power\": 1.5,\n",
    "#                       \"eval_metric\": \"tweedie-nloglik@1.5\"}"
   ]
  },
  {
   "cell_type": "code",
   "execution_count": 56,
   "metadata": {},
   "outputs": [
    {
     "name": "stdout",
     "output_type": "stream",
     "text": [
      "[0]\ttrain-tweedie-nloglik@1.5:1.32695\ttest-tweedie-nloglik@1.5:1.35240\n",
      "[1]\ttrain-tweedie-nloglik@1.5:1.10499\ttest-tweedie-nloglik@1.5:1.16647\n",
      "[2]\ttrain-tweedie-nloglik@1.5:0.94988\ttest-tweedie-nloglik@1.5:1.04833\n",
      "[3]\ttrain-tweedie-nloglik@1.5:0.84223\ttest-tweedie-nloglik@1.5:0.97775\n",
      "[4]\ttrain-tweedie-nloglik@1.5:0.76942\ttest-tweedie-nloglik@1.5:0.95546\n",
      "[5]\ttrain-tweedie-nloglik@1.5:0.71459\ttest-tweedie-nloglik@1.5:0.94715\n",
      "[6]\ttrain-tweedie-nloglik@1.5:0.68211\ttest-tweedie-nloglik@1.5:0.94086\n",
      "[7]\ttrain-tweedie-nloglik@1.5:0.65990\ttest-tweedie-nloglik@1.5:0.94400\n",
      "[8]\ttrain-tweedie-nloglik@1.5:0.64273\ttest-tweedie-nloglik@1.5:0.95237\n",
      "[9]\ttrain-tweedie-nloglik@1.5:0.63249\ttest-tweedie-nloglik@1.5:0.96110\n",
      "[0]\ttrain-tweedie-nloglik@1.5:1.35569\ttest-tweedie-nloglik@1.5:1.35588\n",
      "[1]\ttrain-tweedie-nloglik@1.5:1.12471\ttest-tweedie-nloglik@1.5:1.17430\n",
      "[2]\ttrain-tweedie-nloglik@1.5:0.96304\ttest-tweedie-nloglik@1.5:1.06504\n",
      "[3]\ttrain-tweedie-nloglik@1.5:0.84566\ttest-tweedie-nloglik@1.5:0.99753\n",
      "[4]\ttrain-tweedie-nloglik@1.5:0.76671\ttest-tweedie-nloglik@1.5:0.96892\n",
      "[5]\ttrain-tweedie-nloglik@1.5:0.71556\ttest-tweedie-nloglik@1.5:0.96973\n",
      "[6]\ttrain-tweedie-nloglik@1.5:0.67995\ttest-tweedie-nloglik@1.5:0.98148\n",
      "[7]\ttrain-tweedie-nloglik@1.5:0.65920\ttest-tweedie-nloglik@1.5:0.98924\n",
      "[8]\ttrain-tweedie-nloglik@1.5:0.64261\ttest-tweedie-nloglik@1.5:1.01583\n",
      "[9]\ttrain-tweedie-nloglik@1.5:0.63562\ttest-tweedie-nloglik@1.5:1.01013\n",
      "[0]\ttrain-tweedie-nloglik@1.5:1.32527\ttest-tweedie-nloglik@1.5:1.35976\n",
      "[1]\ttrain-tweedie-nloglik@1.5:1.09772\ttest-tweedie-nloglik@1.5:1.17894\n",
      "[2]\ttrain-tweedie-nloglik@1.5:0.93927\ttest-tweedie-nloglik@1.5:1.06193\n",
      "[3]\ttrain-tweedie-nloglik@1.5:0.82686\ttest-tweedie-nloglik@1.5:0.99505\n",
      "[4]\ttrain-tweedie-nloglik@1.5:0.75085\ttest-tweedie-nloglik@1.5:0.95925\n",
      "[5]\ttrain-tweedie-nloglik@1.5:0.69876\ttest-tweedie-nloglik@1.5:0.96586\n",
      "[6]\ttrain-tweedie-nloglik@1.5:0.66391\ttest-tweedie-nloglik@1.5:0.94729\n"
     ]
    },
    {
     "name": "stderr",
     "output_type": "stream",
     "text": [
      "/home/jyang4/miniconda3/envs/ProtTP/lib/python3.9/site-packages/xgboost/core.py:105: UserWarning: ntree_limit is deprecated, use `iteration_range` or model slicing instead.\n",
      "  warnings.warn(\n",
      "/home/jyang4/miniconda3/envs/ProtTP/lib/python3.9/site-packages/xgboost/core.py:105: UserWarning: ntree_limit is deprecated, use `iteration_range` or model slicing instead.\n",
      "  warnings.warn(\n"
     ]
    },
    {
     "name": "stdout",
     "output_type": "stream",
     "text": [
      "[7]\ttrain-tweedie-nloglik@1.5:0.64119\ttest-tweedie-nloglik@1.5:0.95859\n",
      "[8]\ttrain-tweedie-nloglik@1.5:0.62478\ttest-tweedie-nloglik@1.5:0.95620\n",
      "[9]\ttrain-tweedie-nloglik@1.5:0.61367\ttest-tweedie-nloglik@1.5:0.97964\n",
      "[0]\ttrain-tweedie-nloglik@1.5:1.28683\ttest-tweedie-nloglik@1.5:1.34370\n",
      "[1]\ttrain-tweedie-nloglik@1.5:1.05470\ttest-tweedie-nloglik@1.5:1.15266\n",
      "[2]\ttrain-tweedie-nloglik@1.5:0.88682\ttest-tweedie-nloglik@1.5:1.03191\n",
      "[3]\ttrain-tweedie-nloglik@1.5:0.77292\ttest-tweedie-nloglik@1.5:0.95999\n",
      "[4]\ttrain-tweedie-nloglik@1.5:0.68878\ttest-tweedie-nloglik@1.5:0.93554\n",
      "[5]\ttrain-tweedie-nloglik@1.5:0.63354\ttest-tweedie-nloglik@1.5:0.94041\n",
      "[6]\ttrain-tweedie-nloglik@1.5:0.59794\ttest-tweedie-nloglik@1.5:0.95782\n",
      "[7]\ttrain-tweedie-nloglik@1.5:0.57521\ttest-tweedie-nloglik@1.5:0.98699\n",
      "[8]\ttrain-tweedie-nloglik@1.5:0.56130\ttest-tweedie-nloglik@1.5:1.01718\n",
      "[9]\ttrain-tweedie-nloglik@1.5:0.55192\ttest-tweedie-nloglik@1.5:1.05225\n",
      "[0]\ttrain-tweedie-nloglik@1.5:1.42241\ttest-tweedie-nloglik@1.5:1.36253\n",
      "[1]\ttrain-tweedie-nloglik@1.5:1.19885\ttest-tweedie-nloglik@1.5:1.17772\n",
      "[2]\ttrain-tweedie-nloglik@1.5:1.04086\ttest-tweedie-nloglik@1.5:1.05416\n",
      "[3]\ttrain-tweedie-nloglik@1.5:0.92290\ttest-tweedie-nloglik@1.5:0.97476\n",
      "[4]\ttrain-tweedie-nloglik@1.5:0.84523\ttest-tweedie-nloglik@1.5:0.92111\n",
      "[5]\ttrain-tweedie-nloglik@1.5:0.79330\ttest-tweedie-nloglik@1.5:0.90915\n"
     ]
    },
    {
     "name": "stderr",
     "output_type": "stream",
     "text": [
      "/home/jyang4/miniconda3/envs/ProtTP/lib/python3.9/site-packages/xgboost/core.py:105: UserWarning: ntree_limit is deprecated, use `iteration_range` or model slicing instead.\n",
      "  warnings.warn(\n",
      "/home/jyang4/miniconda3/envs/ProtTP/lib/python3.9/site-packages/xgboost/core.py:105: UserWarning: ntree_limit is deprecated, use `iteration_range` or model slicing instead.\n",
      "  warnings.warn(\n"
     ]
    },
    {
     "name": "stdout",
     "output_type": "stream",
     "text": [
      "[6]\ttrain-tweedie-nloglik@1.5:0.75880\ttest-tweedie-nloglik@1.5:0.91080\n",
      "[7]\ttrain-tweedie-nloglik@1.5:0.73458\ttest-tweedie-nloglik@1.5:0.90332\n",
      "[8]\ttrain-tweedie-nloglik@1.5:0.72319\ttest-tweedie-nloglik@1.5:0.90357\n",
      "[9]\ttrain-tweedie-nloglik@1.5:0.71190\ttest-tweedie-nloglik@1.5:0.90283\n",
      "[0]\ttrain-tweedie-nloglik@1.5:1.36388\ttest-tweedie-nloglik@1.5:1.35522\n",
      "[1]\ttrain-tweedie-nloglik@1.5:1.13455\ttest-tweedie-nloglik@1.5:1.17436\n",
      "[2]\ttrain-tweedie-nloglik@1.5:0.97236\ttest-tweedie-nloglik@1.5:1.06920\n",
      "[3]\ttrain-tweedie-nloglik@1.5:0.85871\ttest-tweedie-nloglik@1.5:1.00914\n",
      "[4]\ttrain-tweedie-nloglik@1.5:0.77697\ttest-tweedie-nloglik@1.5:0.97643\n",
      "[5]\ttrain-tweedie-nloglik@1.5:0.72032\ttest-tweedie-nloglik@1.5:0.98651\n",
      "[6]\ttrain-tweedie-nloglik@1.5:0.68396\ttest-tweedie-nloglik@1.5:1.02518\n",
      "[7]\ttrain-tweedie-nloglik@1.5:0.66229\ttest-tweedie-nloglik@1.5:1.05957\n",
      "[8]\ttrain-tweedie-nloglik@1.5:0.64587\ttest-tweedie-nloglik@1.5:1.07835\n",
      "[9]\ttrain-tweedie-nloglik@1.5:0.63730\ttest-tweedie-nloglik@1.5:1.08822\n",
      "[0]\ttrain-tweedie-nloglik@1.5:1.38176\ttest-tweedie-nloglik@1.5:1.36430\n",
      "[1]\ttrain-tweedie-nloglik@1.5:1.14876\ttest-tweedie-nloglik@1.5:1.17648\n",
      "[2]\ttrain-tweedie-nloglik@1.5:0.98394\ttest-tweedie-nloglik@1.5:1.05385\n",
      "[3]\ttrain-tweedie-nloglik@1.5:0.86808\ttest-tweedie-nloglik@1.5:0.99066\n",
      "[4]\ttrain-tweedie-nloglik@1.5:0.78716\ttest-tweedie-nloglik@1.5:0.95021\n",
      "[5]\ttrain-tweedie-nloglik@1.5:0.73194\ttest-tweedie-nloglik@1.5:0.93297\n",
      "[6]\ttrain-tweedie-nloglik@1.5:0.69519\ttest-tweedie-nloglik@1.5:0.93536\n"
     ]
    },
    {
     "name": "stderr",
     "output_type": "stream",
     "text": [
      "/home/jyang4/miniconda3/envs/ProtTP/lib/python3.9/site-packages/xgboost/core.py:105: UserWarning: ntree_limit is deprecated, use `iteration_range` or model slicing instead.\n",
      "  warnings.warn(\n",
      "/home/jyang4/miniconda3/envs/ProtTP/lib/python3.9/site-packages/xgboost/core.py:105: UserWarning: ntree_limit is deprecated, use `iteration_range` or model slicing instead.\n",
      "  warnings.warn(\n"
     ]
    },
    {
     "name": "stdout",
     "output_type": "stream",
     "text": [
      "[7]\ttrain-tweedie-nloglik@1.5:0.66795\ttest-tweedie-nloglik@1.5:0.94895\n",
      "[8]\ttrain-tweedie-nloglik@1.5:0.64901\ttest-tweedie-nloglik@1.5:0.97313\n",
      "[9]\ttrain-tweedie-nloglik@1.5:0.63645\ttest-tweedie-nloglik@1.5:0.98660\n",
      "[0]\ttrain-tweedie-nloglik@1.5:1.27353\ttest-tweedie-nloglik@1.5:1.35336\n",
      "[1]\ttrain-tweedie-nloglik@1.5:1.04225\ttest-tweedie-nloglik@1.5:1.17117\n",
      "[2]\ttrain-tweedie-nloglik@1.5:0.87944\ttest-tweedie-nloglik@1.5:1.06350\n",
      "[3]\ttrain-tweedie-nloglik@1.5:0.76755\ttest-tweedie-nloglik@1.5:0.99673\n",
      "[4]\ttrain-tweedie-nloglik@1.5:0.69164\ttest-tweedie-nloglik@1.5:0.98064\n",
      "[5]\ttrain-tweedie-nloglik@1.5:0.63924\ttest-tweedie-nloglik@1.5:0.96686\n",
      "[6]\ttrain-tweedie-nloglik@1.5:0.60574\ttest-tweedie-nloglik@1.5:0.98189\n",
      "[7]\ttrain-tweedie-nloglik@1.5:0.58369\ttest-tweedie-nloglik@1.5:1.00983\n",
      "[8]\ttrain-tweedie-nloglik@1.5:0.56968\ttest-tweedie-nloglik@1.5:1.02080\n",
      "[9]\ttrain-tweedie-nloglik@1.5:0.56113\ttest-tweedie-nloglik@1.5:1.03942\n",
      "[0]\ttrain-tweedie-nloglik@1.5:1.29666\ttest-tweedie-nloglik@1.5:1.34605\n",
      "[1]\ttrain-tweedie-nloglik@1.5:1.05529\ttest-tweedie-nloglik@1.5:1.15600\n",
      "[2]\ttrain-tweedie-nloglik@1.5:0.88351\ttest-tweedie-nloglik@1.5:1.04240\n",
      "[3]\ttrain-tweedie-nloglik@1.5:0.76356\ttest-tweedie-nloglik@1.5:0.98501\n",
      "[4]\ttrain-tweedie-nloglik@1.5:0.67955\ttest-tweedie-nloglik@1.5:0.97308\n",
      "[5]\ttrain-tweedie-nloglik@1.5:0.62289\ttest-tweedie-nloglik@1.5:0.98628\n",
      "[6]\ttrain-tweedie-nloglik@1.5:0.58707\ttest-tweedie-nloglik@1.5:1.02148\n"
     ]
    },
    {
     "name": "stderr",
     "output_type": "stream",
     "text": [
      "/home/jyang4/miniconda3/envs/ProtTP/lib/python3.9/site-packages/xgboost/core.py:105: UserWarning: ntree_limit is deprecated, use `iteration_range` or model slicing instead.\n",
      "  warnings.warn(\n",
      "/home/jyang4/miniconda3/envs/ProtTP/lib/python3.9/site-packages/xgboost/core.py:105: UserWarning: ntree_limit is deprecated, use `iteration_range` or model slicing instead.\n",
      "  warnings.warn(\n"
     ]
    },
    {
     "name": "stdout",
     "output_type": "stream",
     "text": [
      "[7]\ttrain-tweedie-nloglik@1.5:0.56354\ttest-tweedie-nloglik@1.5:1.07082\n",
      "[8]\ttrain-tweedie-nloglik@1.5:0.54807\ttest-tweedie-nloglik@1.5:1.11877\n",
      "[9]\ttrain-tweedie-nloglik@1.5:0.53904\ttest-tweedie-nloglik@1.5:1.14336\n",
      "[0]\ttrain-tweedie-nloglik@1.5:1.21948\ttest-tweedie-nloglik@1.5:1.35298\n",
      "[1]\ttrain-tweedie-nloglik@1.5:0.98534\ttest-tweedie-nloglik@1.5:1.16688\n",
      "[2]\ttrain-tweedie-nloglik@1.5:0.81905\ttest-tweedie-nloglik@1.5:1.05306\n",
      "[3]\ttrain-tweedie-nloglik@1.5:0.70341\ttest-tweedie-nloglik@1.5:0.99994\n",
      "[4]\ttrain-tweedie-nloglik@1.5:0.62307\ttest-tweedie-nloglik@1.5:0.98442\n",
      "[5]\ttrain-tweedie-nloglik@1.5:0.56955\ttest-tweedie-nloglik@1.5:0.98838\n",
      "[6]\ttrain-tweedie-nloglik@1.5:0.53492\ttest-tweedie-nloglik@1.5:1.01761\n",
      "[7]\ttrain-tweedie-nloglik@1.5:0.51258\ttest-tweedie-nloglik@1.5:1.04154\n",
      "[8]\ttrain-tweedie-nloglik@1.5:0.49862\ttest-tweedie-nloglik@1.5:1.07723\n",
      "[9]\ttrain-tweedie-nloglik@1.5:0.48952\ttest-tweedie-nloglik@1.5:1.09662\n",
      "[0]\ttrain-tweedie-nloglik@1.5:1.37172\ttest-tweedie-nloglik@1.5:1.34359\n",
      "[1]\ttrain-tweedie-nloglik@1.5:1.14076\ttest-tweedie-nloglik@1.5:1.14825\n",
      "[2]\ttrain-tweedie-nloglik@1.5:0.97759\ttest-tweedie-nloglik@1.5:1.01733\n",
      "[3]\ttrain-tweedie-nloglik@1.5:0.86272\ttest-tweedie-nloglik@1.5:0.94149\n",
      "[4]\ttrain-tweedie-nloglik@1.5:0.78352\ttest-tweedie-nloglik@1.5:0.90726\n",
      "[5]\ttrain-tweedie-nloglik@1.5:0.73308\ttest-tweedie-nloglik@1.5:0.89922\n",
      "[6]\ttrain-tweedie-nloglik@1.5:0.69727\ttest-tweedie-nloglik@1.5:0.89551\n"
     ]
    },
    {
     "name": "stderr",
     "output_type": "stream",
     "text": [
      "/home/jyang4/miniconda3/envs/ProtTP/lib/python3.9/site-packages/xgboost/core.py:105: UserWarning: ntree_limit is deprecated, use `iteration_range` or model slicing instead.\n",
      "  warnings.warn(\n",
      "/home/jyang4/miniconda3/envs/ProtTP/lib/python3.9/site-packages/xgboost/core.py:105: UserWarning: ntree_limit is deprecated, use `iteration_range` or model slicing instead.\n",
      "  warnings.warn(\n"
     ]
    },
    {
     "name": "stdout",
     "output_type": "stream",
     "text": [
      "[7]\ttrain-tweedie-nloglik@1.5:0.67545\ttest-tweedie-nloglik@1.5:0.89673\n",
      "[8]\ttrain-tweedie-nloglik@1.5:0.65917\ttest-tweedie-nloglik@1.5:0.90474\n",
      "[9]\ttrain-tweedie-nloglik@1.5:0.65178\ttest-tweedie-nloglik@1.5:0.90451\n",
      "[0]\ttrain-tweedie-nloglik@1.5:1.21521\ttest-tweedie-nloglik@1.5:1.35518\n",
      "[1]\ttrain-tweedie-nloglik@1.5:0.98509\ttest-tweedie-nloglik@1.5:1.17428\n",
      "[2]\ttrain-tweedie-nloglik@1.5:0.82173\ttest-tweedie-nloglik@1.5:1.07293\n",
      "[3]\ttrain-tweedie-nloglik@1.5:0.70821\ttest-tweedie-nloglik@1.5:1.02732\n",
      "[4]\ttrain-tweedie-nloglik@1.5:0.63250\ttest-tweedie-nloglik@1.5:1.01970\n",
      "[5]\ttrain-tweedie-nloglik@1.5:0.57993\ttest-tweedie-nloglik@1.5:1.03802\n",
      "[6]\ttrain-tweedie-nloglik@1.5:0.54623\ttest-tweedie-nloglik@1.5:1.08310\n",
      "[7]\ttrain-tweedie-nloglik@1.5:0.52414\ttest-tweedie-nloglik@1.5:1.09482\n",
      "[8]\ttrain-tweedie-nloglik@1.5:0.50789\ttest-tweedie-nloglik@1.5:1.11576\n",
      "[9]\ttrain-tweedie-nloglik@1.5:0.49927\ttest-tweedie-nloglik@1.5:1.14528\n",
      "[0]\ttrain-tweedie-nloglik@1.5:1.25824\ttest-tweedie-nloglik@1.5:1.36480\n",
      "[1]\ttrain-tweedie-nloglik@1.5:1.03247\ttest-tweedie-nloglik@1.5:1.19267\n",
      "[2]\ttrain-tweedie-nloglik@1.5:0.87219\ttest-tweedie-nloglik@1.5:1.08666\n",
      "[3]\ttrain-tweedie-nloglik@1.5:0.76291\ttest-tweedie-nloglik@1.5:1.02058\n",
      "[4]\ttrain-tweedie-nloglik@1.5:0.69115\ttest-tweedie-nloglik@1.5:0.99443\n",
      "[5]\ttrain-tweedie-nloglik@1.5:0.63865\ttest-tweedie-nloglik@1.5:1.00048\n",
      "[6]\ttrain-tweedie-nloglik@1.5:0.60333\ttest-tweedie-nloglik@1.5:1.00217\n",
      "[7]\ttrain-tweedie-nloglik@1.5:0.58140\ttest-tweedie-nloglik@1.5:0.99947\n"
     ]
    },
    {
     "name": "stderr",
     "output_type": "stream",
     "text": [
      "/home/jyang4/miniconda3/envs/ProtTP/lib/python3.9/site-packages/xgboost/core.py:105: UserWarning: ntree_limit is deprecated, use `iteration_range` or model slicing instead.\n",
      "  warnings.warn(\n",
      "/home/jyang4/miniconda3/envs/ProtTP/lib/python3.9/site-packages/xgboost/core.py:105: UserWarning: ntree_limit is deprecated, use `iteration_range` or model slicing instead.\n",
      "  warnings.warn(\n"
     ]
    },
    {
     "name": "stdout",
     "output_type": "stream",
     "text": [
      "[8]\ttrain-tweedie-nloglik@1.5:0.56381\ttest-tweedie-nloglik@1.5:1.00152\n",
      "[9]\ttrain-tweedie-nloglik@1.5:0.55489\ttest-tweedie-nloglik@1.5:1.00151\n",
      "[0]\ttrain-tweedie-nloglik@1.5:1.29093\ttest-tweedie-nloglik@1.5:1.35594\n",
      "[1]\ttrain-tweedie-nloglik@1.5:1.07043\ttest-tweedie-nloglik@1.5:1.16887\n",
      "[2]\ttrain-tweedie-nloglik@1.5:0.91771\ttest-tweedie-nloglik@1.5:1.05140\n",
      "[3]\ttrain-tweedie-nloglik@1.5:0.80938\ttest-tweedie-nloglik@1.5:0.98512\n",
      "[4]\ttrain-tweedie-nloglik@1.5:0.73134\ttest-tweedie-nloglik@1.5:0.95032\n",
      "[5]\ttrain-tweedie-nloglik@1.5:0.68035\ttest-tweedie-nloglik@1.5:0.94465\n",
      "[6]\ttrain-tweedie-nloglik@1.5:0.64914\ttest-tweedie-nloglik@1.5:0.94977\n",
      "[7]\ttrain-tweedie-nloglik@1.5:0.62649\ttest-tweedie-nloglik@1.5:0.95234\n",
      "[8]\ttrain-tweedie-nloglik@1.5:0.61272\ttest-tweedie-nloglik@1.5:0.95274\n",
      "[9]\ttrain-tweedie-nloglik@1.5:0.60131\ttest-tweedie-nloglik@1.5:0.95187\n",
      "[0]\ttrain-tweedie-nloglik@1.5:1.39878\ttest-tweedie-nloglik@1.5:1.35313\n",
      "[1]\ttrain-tweedie-nloglik@1.5:1.16754\ttest-tweedie-nloglik@1.5:1.17178\n",
      "[2]\ttrain-tweedie-nloglik@1.5:1.00212\ttest-tweedie-nloglik@1.5:1.06300\n",
      "[3]\ttrain-tweedie-nloglik@1.5:0.88509\ttest-tweedie-nloglik@1.5:0.98253\n",
      "[4]\ttrain-tweedie-nloglik@1.5:0.80559\ttest-tweedie-nloglik@1.5:0.93941\n",
      "[5]\ttrain-tweedie-nloglik@1.5:0.75179\ttest-tweedie-nloglik@1.5:0.93945\n",
      "[6]\ttrain-tweedie-nloglik@1.5:0.71564\ttest-tweedie-nloglik@1.5:0.92433\n"
     ]
    },
    {
     "name": "stderr",
     "output_type": "stream",
     "text": [
      "/home/jyang4/miniconda3/envs/ProtTP/lib/python3.9/site-packages/xgboost/core.py:105: UserWarning: ntree_limit is deprecated, use `iteration_range` or model slicing instead.\n",
      "  warnings.warn(\n",
      "/home/jyang4/miniconda3/envs/ProtTP/lib/python3.9/site-packages/xgboost/core.py:105: UserWarning: ntree_limit is deprecated, use `iteration_range` or model slicing instead.\n",
      "  warnings.warn(\n"
     ]
    },
    {
     "name": "stdout",
     "output_type": "stream",
     "text": [
      "[7]\ttrain-tweedie-nloglik@1.5:0.68922\ttest-tweedie-nloglik@1.5:0.94214\n",
      "[8]\ttrain-tweedie-nloglik@1.5:0.67075\ttest-tweedie-nloglik@1.5:0.94192\n",
      "[9]\ttrain-tweedie-nloglik@1.5:0.66021\ttest-tweedie-nloglik@1.5:0.93563\n",
      "[0]\ttrain-tweedie-nloglik@1.5:1.46910\ttest-tweedie-nloglik@1.5:1.34223\n",
      "[1]\ttrain-tweedie-nloglik@1.5:1.23119\ttest-tweedie-nloglik@1.5:1.14172\n",
      "[2]\ttrain-tweedie-nloglik@1.5:1.06436\ttest-tweedie-nloglik@1.5:1.00777\n",
      "[3]\ttrain-tweedie-nloglik@1.5:0.94575\ttest-tweedie-nloglik@1.5:0.92781\n",
      "[4]\ttrain-tweedie-nloglik@1.5:0.86549\ttest-tweedie-nloglik@1.5:0.88379\n",
      "[5]\ttrain-tweedie-nloglik@1.5:0.81019\ttest-tweedie-nloglik@1.5:0.87023\n",
      "[6]\ttrain-tweedie-nloglik@1.5:0.77634\ttest-tweedie-nloglik@1.5:0.86770\n",
      "[7]\ttrain-tweedie-nloglik@1.5:0.75272\ttest-tweedie-nloglik@1.5:0.87738\n",
      "[8]\ttrain-tweedie-nloglik@1.5:0.73777\ttest-tweedie-nloglik@1.5:0.89366\n",
      "[9]\ttrain-tweedie-nloglik@1.5:0.73016\ttest-tweedie-nloglik@1.5:0.88777\n",
      "[0]\ttrain-tweedie-nloglik@1.5:1.28734\ttest-tweedie-nloglik@1.5:1.35988\n",
      "[1]\ttrain-tweedie-nloglik@1.5:1.06072\ttest-tweedie-nloglik@1.5:1.18436\n",
      "[2]\ttrain-tweedie-nloglik@1.5:0.89696\ttest-tweedie-nloglik@1.5:1.07764\n",
      "[3]\ttrain-tweedie-nloglik@1.5:0.78548\ttest-tweedie-nloglik@1.5:1.02147\n",
      "[4]\ttrain-tweedie-nloglik@1.5:0.70978\ttest-tweedie-nloglik@1.5:1.01195\n",
      "[5]\ttrain-tweedie-nloglik@1.5:0.65812\ttest-tweedie-nloglik@1.5:1.00691\n",
      "[6]\ttrain-tweedie-nloglik@1.5:0.62248\ttest-tweedie-nloglik@1.5:1.02634\n"
     ]
    },
    {
     "name": "stderr",
     "output_type": "stream",
     "text": [
      "/home/jyang4/miniconda3/envs/ProtTP/lib/python3.9/site-packages/xgboost/core.py:105: UserWarning: ntree_limit is deprecated, use `iteration_range` or model slicing instead.\n",
      "  warnings.warn(\n",
      "/home/jyang4/miniconda3/envs/ProtTP/lib/python3.9/site-packages/xgboost/core.py:105: UserWarning: ntree_limit is deprecated, use `iteration_range` or model slicing instead.\n",
      "  warnings.warn(\n"
     ]
    },
    {
     "name": "stdout",
     "output_type": "stream",
     "text": [
      "[7]\ttrain-tweedie-nloglik@1.5:0.59699\ttest-tweedie-nloglik@1.5:1.03435\n",
      "[8]\ttrain-tweedie-nloglik@1.5:0.57919\ttest-tweedie-nloglik@1.5:1.05351\n",
      "[9]\ttrain-tweedie-nloglik@1.5:0.56635\ttest-tweedie-nloglik@1.5:1.07159\n",
      "[0]\ttrain-tweedie-nloglik@1.5:1.29592\ttest-tweedie-nloglik@1.5:1.34967\n",
      "[1]\ttrain-tweedie-nloglik@1.5:1.05135\ttest-tweedie-nloglik@1.5:1.16647\n",
      "[2]\ttrain-tweedie-nloglik@1.5:0.87845\ttest-tweedie-nloglik@1.5:1.06538\n",
      "[3]\ttrain-tweedie-nloglik@1.5:0.75802\ttest-tweedie-nloglik@1.5:1.01641\n",
      "[4]\ttrain-tweedie-nloglik@1.5:0.67588\ttest-tweedie-nloglik@1.5:1.00863\n",
      "[5]\ttrain-tweedie-nloglik@1.5:0.62113\ttest-tweedie-nloglik@1.5:1.03646\n",
      "[6]\ttrain-tweedie-nloglik@1.5:0.58375\ttest-tweedie-nloglik@1.5:1.06587\n",
      "[7]\ttrain-tweedie-nloglik@1.5:0.56138\ttest-tweedie-nloglik@1.5:1.09383\n",
      "[8]\ttrain-tweedie-nloglik@1.5:0.54631\ttest-tweedie-nloglik@1.5:1.13210\n",
      "[9]\ttrain-tweedie-nloglik@1.5:0.53660\ttest-tweedie-nloglik@1.5:1.18004\n",
      "[0]\ttrain-tweedie-nloglik@1.5:1.33752\ttest-tweedie-nloglik@1.5:1.34979\n",
      "[1]\ttrain-tweedie-nloglik@1.5:1.11094\ttest-tweedie-nloglik@1.5:1.16034\n",
      "[2]\ttrain-tweedie-nloglik@1.5:0.95418\ttest-tweedie-nloglik@1.5:1.03939\n",
      "[3]\ttrain-tweedie-nloglik@1.5:0.84265\ttest-tweedie-nloglik@1.5:0.96723\n",
      "[4]\ttrain-tweedie-nloglik@1.5:0.76709\ttest-tweedie-nloglik@1.5:0.93372\n",
      "[5]\ttrain-tweedie-nloglik@1.5:0.71421\ttest-tweedie-nloglik@1.5:0.92491\n",
      "[6]\ttrain-tweedie-nloglik@1.5:0.67402\ttest-tweedie-nloglik@1.5:0.93713\n"
     ]
    },
    {
     "name": "stderr",
     "output_type": "stream",
     "text": [
      "/home/jyang4/miniconda3/envs/ProtTP/lib/python3.9/site-packages/xgboost/core.py:105: UserWarning: ntree_limit is deprecated, use `iteration_range` or model slicing instead.\n",
      "  warnings.warn(\n",
      "/home/jyang4/miniconda3/envs/ProtTP/lib/python3.9/site-packages/xgboost/core.py:105: UserWarning: ntree_limit is deprecated, use `iteration_range` or model slicing instead.\n",
      "  warnings.warn(\n"
     ]
    },
    {
     "name": "stdout",
     "output_type": "stream",
     "text": [
      "[7]\ttrain-tweedie-nloglik@1.5:0.65082\ttest-tweedie-nloglik@1.5:0.93415\n",
      "[8]\ttrain-tweedie-nloglik@1.5:0.63385\ttest-tweedie-nloglik@1.5:0.95384\n",
      "[9]\ttrain-tweedie-nloglik@1.5:0.62307\ttest-tweedie-nloglik@1.5:0.95641\n",
      "[0]\ttrain-tweedie-nloglik@1.5:1.32353\ttest-tweedie-nloglik@1.5:1.34808\n",
      "[1]\ttrain-tweedie-nloglik@1.5:1.08864\ttest-tweedie-nloglik@1.5:1.15938\n",
      "[2]\ttrain-tweedie-nloglik@1.5:0.92330\ttest-tweedie-nloglik@1.5:1.03983\n",
      "[3]\ttrain-tweedie-nloglik@1.5:0.80930\ttest-tweedie-nloglik@1.5:0.97477\n",
      "[4]\ttrain-tweedie-nloglik@1.5:0.73067\ttest-tweedie-nloglik@1.5:0.94191\n",
      "[5]\ttrain-tweedie-nloglik@1.5:0.67951\ttest-tweedie-nloglik@1.5:0.93181\n",
      "[6]\ttrain-tweedie-nloglik@1.5:0.64260\ttest-tweedie-nloglik@1.5:0.93368\n",
      "[7]\ttrain-tweedie-nloglik@1.5:0.62139\ttest-tweedie-nloglik@1.5:0.94852\n",
      "[8]\ttrain-tweedie-nloglik@1.5:0.60523\ttest-tweedie-nloglik@1.5:0.95866\n",
      "[9]\ttrain-tweedie-nloglik@1.5:0.59571\ttest-tweedie-nloglik@1.5:0.97010\n",
      "[0]\ttrain-tweedie-nloglik@1.5:1.28407\ttest-tweedie-nloglik@1.5:1.34434\n",
      "[1]\ttrain-tweedie-nloglik@1.5:1.04818\ttest-tweedie-nloglik@1.5:1.15192\n",
      "[2]\ttrain-tweedie-nloglik@1.5:0.88084\ttest-tweedie-nloglik@1.5:1.03866\n",
      "[3]\ttrain-tweedie-nloglik@1.5:0.76386\ttest-tweedie-nloglik@1.5:0.98624\n",
      "[4]\ttrain-tweedie-nloglik@1.5:0.68377\ttest-tweedie-nloglik@1.5:0.95614\n",
      "[5]\ttrain-tweedie-nloglik@1.5:0.63123\ttest-tweedie-nloglik@1.5:0.97022\n",
      "[6]\ttrain-tweedie-nloglik@1.5:0.59461\ttest-tweedie-nloglik@1.5:0.97098\n",
      "[7]\ttrain-tweedie-nloglik@1.5:0.57093\ttest-tweedie-nloglik@1.5:0.99991\n"
     ]
    },
    {
     "name": "stderr",
     "output_type": "stream",
     "text": [
      "/home/jyang4/miniconda3/envs/ProtTP/lib/python3.9/site-packages/xgboost/core.py:105: UserWarning: ntree_limit is deprecated, use `iteration_range` or model slicing instead.\n",
      "  warnings.warn(\n",
      "/home/jyang4/miniconda3/envs/ProtTP/lib/python3.9/site-packages/xgboost/core.py:105: UserWarning: ntree_limit is deprecated, use `iteration_range` or model slicing instead.\n",
      "  warnings.warn(\n"
     ]
    },
    {
     "name": "stdout",
     "output_type": "stream",
     "text": [
      "[8]\ttrain-tweedie-nloglik@1.5:0.55557\ttest-tweedie-nloglik@1.5:1.01066\n",
      "[9]\ttrain-tweedie-nloglik@1.5:0.54605\ttest-tweedie-nloglik@1.5:1.03962\n",
      "[0]\ttrain-tweedie-nloglik@1.5:1.28669\ttest-tweedie-nloglik@1.5:1.35419\n",
      "[1]\ttrain-tweedie-nloglik@1.5:1.04822\ttest-tweedie-nloglik@1.5:1.17422\n",
      "[2]\ttrain-tweedie-nloglik@1.5:0.88268\ttest-tweedie-nloglik@1.5:1.06743\n",
      "[3]\ttrain-tweedie-nloglik@1.5:0.76347\ttest-tweedie-nloglik@1.5:1.01631\n",
      "[4]\ttrain-tweedie-nloglik@1.5:0.68475\ttest-tweedie-nloglik@1.5:0.99830\n",
      "[5]\ttrain-tweedie-nloglik@1.5:0.62582\ttest-tweedie-nloglik@1.5:0.99290\n",
      "[6]\ttrain-tweedie-nloglik@1.5:0.58827\ttest-tweedie-nloglik@1.5:0.99768\n",
      "[7]\ttrain-tweedie-nloglik@1.5:0.56545\ttest-tweedie-nloglik@1.5:1.02696\n",
      "[8]\ttrain-tweedie-nloglik@1.5:0.55149\ttest-tweedie-nloglik@1.5:1.05123\n",
      "[9]\ttrain-tweedie-nloglik@1.5:0.54224\ttest-tweedie-nloglik@1.5:1.05536\n",
      "[0]\ttrain-tweedie-nloglik@1.5:1.28820\ttest-tweedie-nloglik@1.5:1.35506\n",
      "[1]\ttrain-tweedie-nloglik@1.5:1.05752\ttest-tweedie-nloglik@1.5:1.17752\n",
      "[2]\ttrain-tweedie-nloglik@1.5:0.89323\ttest-tweedie-nloglik@1.5:1.07891\n",
      "[3]\ttrain-tweedie-nloglik@1.5:0.78044\ttest-tweedie-nloglik@1.5:1.01994\n",
      "[4]\ttrain-tweedie-nloglik@1.5:0.70036\ttest-tweedie-nloglik@1.5:1.00617\n",
      "[5]\ttrain-tweedie-nloglik@1.5:0.64983\ttest-tweedie-nloglik@1.5:1.02370\n",
      "[6]\ttrain-tweedie-nloglik@1.5:0.61327\ttest-tweedie-nloglik@1.5:1.02453\n"
     ]
    },
    {
     "name": "stderr",
     "output_type": "stream",
     "text": [
      "/home/jyang4/miniconda3/envs/ProtTP/lib/python3.9/site-packages/xgboost/core.py:105: UserWarning: ntree_limit is deprecated, use `iteration_range` or model slicing instead.\n",
      "  warnings.warn(\n",
      "/home/jyang4/miniconda3/envs/ProtTP/lib/python3.9/site-packages/xgboost/core.py:105: UserWarning: ntree_limit is deprecated, use `iteration_range` or model slicing instead.\n",
      "  warnings.warn(\n"
     ]
    },
    {
     "name": "stdout",
     "output_type": "stream",
     "text": [
      "[7]\ttrain-tweedie-nloglik@1.5:0.59010\ttest-tweedie-nloglik@1.5:1.06090\n",
      "[8]\ttrain-tweedie-nloglik@1.5:0.57544\ttest-tweedie-nloglik@1.5:1.09837\n",
      "[9]\ttrain-tweedie-nloglik@1.5:0.56574\ttest-tweedie-nloglik@1.5:1.12355\n",
      "[0]\ttrain-tweedie-nloglik@1.5:1.23822\ttest-tweedie-nloglik@1.5:1.35183\n",
      "[1]\ttrain-tweedie-nloglik@1.5:1.00461\ttest-tweedie-nloglik@1.5:1.16775\n",
      "[2]\ttrain-tweedie-nloglik@1.5:0.83820\ttest-tweedie-nloglik@1.5:1.05178\n",
      "[3]\ttrain-tweedie-nloglik@1.5:0.72178\ttest-tweedie-nloglik@1.5:0.99101\n",
      "[4]\ttrain-tweedie-nloglik@1.5:0.64310\ttest-tweedie-nloglik@1.5:0.97762\n",
      "[5]\ttrain-tweedie-nloglik@1.5:0.58743\ttest-tweedie-nloglik@1.5:0.98392\n",
      "[6]\ttrain-tweedie-nloglik@1.5:0.55275\ttest-tweedie-nloglik@1.5:0.99894\n",
      "[7]\ttrain-tweedie-nloglik@1.5:0.52985\ttest-tweedie-nloglik@1.5:1.03788\n",
      "[8]\ttrain-tweedie-nloglik@1.5:0.51494\ttest-tweedie-nloglik@1.5:1.08596\n",
      "[9]\ttrain-tweedie-nloglik@1.5:0.50620\ttest-tweedie-nloglik@1.5:1.11195\n",
      "[0]\ttrain-tweedie-nloglik@1.5:1.33831\ttest-tweedie-nloglik@1.5:1.35452\n",
      "[1]\ttrain-tweedie-nloglik@1.5:1.11443\ttest-tweedie-nloglik@1.5:1.17078\n",
      "[2]\ttrain-tweedie-nloglik@1.5:0.95532\ttest-tweedie-nloglik@1.5:1.05404\n",
      "[3]\ttrain-tweedie-nloglik@1.5:0.84494\ttest-tweedie-nloglik@1.5:0.98840\n",
      "[4]\ttrain-tweedie-nloglik@1.5:0.77141\ttest-tweedie-nloglik@1.5:0.96100\n",
      "[5]\ttrain-tweedie-nloglik@1.5:0.72250\ttest-tweedie-nloglik@1.5:0.94867\n",
      "[6]\ttrain-tweedie-nloglik@1.5:0.68425\ttest-tweedie-nloglik@1.5:0.94800\n"
     ]
    },
    {
     "name": "stderr",
     "output_type": "stream",
     "text": [
      "/home/jyang4/miniconda3/envs/ProtTP/lib/python3.9/site-packages/xgboost/core.py:105: UserWarning: ntree_limit is deprecated, use `iteration_range` or model slicing instead.\n",
      "  warnings.warn(\n",
      "/home/jyang4/miniconda3/envs/ProtTP/lib/python3.9/site-packages/xgboost/core.py:105: UserWarning: ntree_limit is deprecated, use `iteration_range` or model slicing instead.\n",
      "  warnings.warn(\n"
     ]
    },
    {
     "name": "stdout",
     "output_type": "stream",
     "text": [
      "[7]\ttrain-tweedie-nloglik@1.5:0.66255\ttest-tweedie-nloglik@1.5:0.93430\n",
      "[8]\ttrain-tweedie-nloglik@1.5:0.64799\ttest-tweedie-nloglik@1.5:0.93695\n",
      "[9]\ttrain-tweedie-nloglik@1.5:0.63969\ttest-tweedie-nloglik@1.5:0.94429\n",
      "[0]\ttrain-tweedie-nloglik@1.5:1.23286\ttest-tweedie-nloglik@1.5:1.34694\n",
      "[1]\ttrain-tweedie-nloglik@1.5:0.99872\ttest-tweedie-nloglik@1.5:1.16122\n",
      "[2]\ttrain-tweedie-nloglik@1.5:0.83312\ttest-tweedie-nloglik@1.5:1.05572\n",
      "[3]\ttrain-tweedie-nloglik@1.5:0.71721\ttest-tweedie-nloglik@1.5:1.00043\n",
      "[4]\ttrain-tweedie-nloglik@1.5:0.63726\ttest-tweedie-nloglik@1.5:0.97118\n",
      "[5]\ttrain-tweedie-nloglik@1.5:0.58285\ttest-tweedie-nloglik@1.5:0.98334\n",
      "[6]\ttrain-tweedie-nloglik@1.5:0.54779\ttest-tweedie-nloglik@1.5:0.99983\n",
      "[7]\ttrain-tweedie-nloglik@1.5:0.52630\ttest-tweedie-nloglik@1.5:1.02941\n",
      "[8]\ttrain-tweedie-nloglik@1.5:0.51244\ttest-tweedie-nloglik@1.5:1.04005\n",
      "[9]\ttrain-tweedie-nloglik@1.5:0.50303\ttest-tweedie-nloglik@1.5:1.06458\n",
      "[0]\ttrain-tweedie-nloglik@1.5:1.31333\ttest-tweedie-nloglik@1.5:1.36645\n",
      "[1]\ttrain-tweedie-nloglik@1.5:1.08886\ttest-tweedie-nloglik@1.5:1.19401\n",
      "[2]\ttrain-tweedie-nloglik@1.5:0.92759\ttest-tweedie-nloglik@1.5:1.07079\n",
      "[3]\ttrain-tweedie-nloglik@1.5:0.81571\ttest-tweedie-nloglik@1.5:1.01399\n",
      "[4]\ttrain-tweedie-nloglik@1.5:0.74048\ttest-tweedie-nloglik@1.5:0.97600\n",
      "[5]\ttrain-tweedie-nloglik@1.5:0.68937\ttest-tweedie-nloglik@1.5:0.97499\n",
      "[6]\ttrain-tweedie-nloglik@1.5:0.65095\ttest-tweedie-nloglik@1.5:0.96597\n",
      "[7]\ttrain-tweedie-nloglik@1.5:0.62781\ttest-tweedie-nloglik@1.5:0.98685\n"
     ]
    },
    {
     "name": "stderr",
     "output_type": "stream",
     "text": [
      "/home/jyang4/miniconda3/envs/ProtTP/lib/python3.9/site-packages/xgboost/core.py:105: UserWarning: ntree_limit is deprecated, use `iteration_range` or model slicing instead.\n",
      "  warnings.warn(\n",
      "/home/jyang4/miniconda3/envs/ProtTP/lib/python3.9/site-packages/xgboost/core.py:105: UserWarning: ntree_limit is deprecated, use `iteration_range` or model slicing instead.\n",
      "  warnings.warn(\n"
     ]
    },
    {
     "name": "stdout",
     "output_type": "stream",
     "text": [
      "[8]\ttrain-tweedie-nloglik@1.5:0.61055\ttest-tweedie-nloglik@1.5:1.00898\n",
      "[9]\ttrain-tweedie-nloglik@1.5:0.60009\ttest-tweedie-nloglik@1.5:1.03086\n",
      "[0]\ttrain-tweedie-nloglik@1.5:1.28193\ttest-tweedie-nloglik@1.5:1.35274\n",
      "[1]\ttrain-tweedie-nloglik@1.5:1.04505\ttest-tweedie-nloglik@1.5:1.17390\n",
      "[2]\ttrain-tweedie-nloglik@1.5:0.87811\ttest-tweedie-nloglik@1.5:1.07246\n",
      "[3]\ttrain-tweedie-nloglik@1.5:0.76174\ttest-tweedie-nloglik@1.5:1.03202\n",
      "[4]\ttrain-tweedie-nloglik@1.5:0.68371\ttest-tweedie-nloglik@1.5:1.03843\n",
      "[5]\ttrain-tweedie-nloglik@1.5:0.63061\ttest-tweedie-nloglik@1.5:1.05241\n",
      "[6]\ttrain-tweedie-nloglik@1.5:0.59690\ttest-tweedie-nloglik@1.5:1.08028\n",
      "[7]\ttrain-tweedie-nloglik@1.5:0.57404\ttest-tweedie-nloglik@1.5:1.14718\n",
      "[8]\ttrain-tweedie-nloglik@1.5:0.56061\ttest-tweedie-nloglik@1.5:1.15551\n",
      "[9]\ttrain-tweedie-nloglik@1.5:0.55094\ttest-tweedie-nloglik@1.5:1.17406\n",
      "[0]\ttrain-tweedie-nloglik@1.5:1.39576\ttest-tweedie-nloglik@1.5:1.34738\n",
      "[1]\ttrain-tweedie-nloglik@1.5:1.17852\ttest-tweedie-nloglik@1.5:1.15176\n",
      "[2]\ttrain-tweedie-nloglik@1.5:1.02305\ttest-tweedie-nloglik@1.5:1.03021\n",
      "[3]\ttrain-tweedie-nloglik@1.5:0.91519\ttest-tweedie-nloglik@1.5:0.95086\n",
      "[4]\ttrain-tweedie-nloglik@1.5:0.84178\ttest-tweedie-nloglik@1.5:0.91640\n",
      "[5]\ttrain-tweedie-nloglik@1.5:0.78850\ttest-tweedie-nloglik@1.5:0.89198\n",
      "[6]\ttrain-tweedie-nloglik@1.5:0.75684\ttest-tweedie-nloglik@1.5:0.89440\n",
      "[7]\ttrain-tweedie-nloglik@1.5:0.73581\ttest-tweedie-nloglik@1.5:0.90146\n"
     ]
    },
    {
     "name": "stderr",
     "output_type": "stream",
     "text": [
      "/home/jyang4/miniconda3/envs/ProtTP/lib/python3.9/site-packages/xgboost/core.py:105: UserWarning: ntree_limit is deprecated, use `iteration_range` or model slicing instead.\n",
      "  warnings.warn(\n",
      "/home/jyang4/miniconda3/envs/ProtTP/lib/python3.9/site-packages/xgboost/core.py:105: UserWarning: ntree_limit is deprecated, use `iteration_range` or model slicing instead.\n",
      "  warnings.warn(\n"
     ]
    },
    {
     "name": "stdout",
     "output_type": "stream",
     "text": [
      "[8]\ttrain-tweedie-nloglik@1.5:0.72093\ttest-tweedie-nloglik@1.5:0.91460\n",
      "[9]\ttrain-tweedie-nloglik@1.5:0.71322\ttest-tweedie-nloglik@1.5:0.91281\n",
      "[0]\ttrain-tweedie-nloglik@1.5:1.26058\ttest-tweedie-nloglik@1.5:1.35235\n",
      "[1]\ttrain-tweedie-nloglik@1.5:1.02646\ttest-tweedie-nloglik@1.5:1.16701\n",
      "[2]\ttrain-tweedie-nloglik@1.5:0.85876\ttest-tweedie-nloglik@1.5:1.05425\n",
      "[3]\ttrain-tweedie-nloglik@1.5:0.74217\ttest-tweedie-nloglik@1.5:0.99721\n",
      "[4]\ttrain-tweedie-nloglik@1.5:0.66066\ttest-tweedie-nloglik@1.5:0.97461\n",
      "[5]\ttrain-tweedie-nloglik@1.5:0.60673\ttest-tweedie-nloglik@1.5:0.96877\n",
      "[6]\ttrain-tweedie-nloglik@1.5:0.57098\ttest-tweedie-nloglik@1.5:0.99687\n",
      "[7]\ttrain-tweedie-nloglik@1.5:0.54763\ttest-tweedie-nloglik@1.5:1.01432\n",
      "[8]\ttrain-tweedie-nloglik@1.5:0.53432\ttest-tweedie-nloglik@1.5:1.04391\n",
      "[9]\ttrain-tweedie-nloglik@1.5:0.52415\ttest-tweedie-nloglik@1.5:1.06922\n",
      "[0]\ttrain-tweedie-nloglik@1.5:1.26696\ttest-tweedie-nloglik@1.5:1.35322\n",
      "[1]\ttrain-tweedie-nloglik@1.5:1.03516\ttest-tweedie-nloglik@1.5:1.16954\n",
      "[2]\ttrain-tweedie-nloglik@1.5:0.87093\ttest-tweedie-nloglik@1.5:1.05346\n",
      "[3]\ttrain-tweedie-nloglik@1.5:0.75603\ttest-tweedie-nloglik@1.5:0.98508\n",
      "[4]\ttrain-tweedie-nloglik@1.5:0.67761\ttest-tweedie-nloglik@1.5:0.97093\n",
      "[5]\ttrain-tweedie-nloglik@1.5:0.62439\ttest-tweedie-nloglik@1.5:0.97402\n",
      "[6]\ttrain-tweedie-nloglik@1.5:0.58935\ttest-tweedie-nloglik@1.5:0.98397\n"
     ]
    },
    {
     "name": "stderr",
     "output_type": "stream",
     "text": [
      "/home/jyang4/miniconda3/envs/ProtTP/lib/python3.9/site-packages/xgboost/core.py:105: UserWarning: ntree_limit is deprecated, use `iteration_range` or model slicing instead.\n",
      "  warnings.warn(\n",
      "/home/jyang4/miniconda3/envs/ProtTP/lib/python3.9/site-packages/xgboost/core.py:105: UserWarning: ntree_limit is deprecated, use `iteration_range` or model slicing instead.\n",
      "  warnings.warn(\n"
     ]
    },
    {
     "name": "stdout",
     "output_type": "stream",
     "text": [
      "[7]\ttrain-tweedie-nloglik@1.5:0.56823\ttest-tweedie-nloglik@1.5:1.01274\n",
      "[8]\ttrain-tweedie-nloglik@1.5:0.55052\ttest-tweedie-nloglik@1.5:1.03497\n",
      "[9]\ttrain-tweedie-nloglik@1.5:0.54037\ttest-tweedie-nloglik@1.5:1.04820\n",
      "[0]\ttrain-tweedie-nloglik@1.5:1.35391\ttest-tweedie-nloglik@1.5:1.35588\n",
      "[1]\ttrain-tweedie-nloglik@1.5:1.12010\ttest-tweedie-nloglik@1.5:1.17260\n",
      "[2]\ttrain-tweedie-nloglik@1.5:0.95555\ttest-tweedie-nloglik@1.5:1.04342\n",
      "[3]\ttrain-tweedie-nloglik@1.5:0.83847\ttest-tweedie-nloglik@1.5:0.96536\n",
      "[4]\ttrain-tweedie-nloglik@1.5:0.75857\ttest-tweedie-nloglik@1.5:0.92425\n",
      "[5]\ttrain-tweedie-nloglik@1.5:0.70473\ttest-tweedie-nloglik@1.5:0.91824\n",
      "[6]\ttrain-tweedie-nloglik@1.5:0.66820\ttest-tweedie-nloglik@1.5:0.91135\n",
      "[7]\ttrain-tweedie-nloglik@1.5:0.64651\ttest-tweedie-nloglik@1.5:0.93146\n",
      "[8]\ttrain-tweedie-nloglik@1.5:0.63282\ttest-tweedie-nloglik@1.5:0.94220\n",
      "[9]\ttrain-tweedie-nloglik@1.5:0.62383\ttest-tweedie-nloglik@1.5:0.94333\n",
      "[0]\ttrain-tweedie-nloglik@1.5:1.29830\ttest-tweedie-nloglik@1.5:1.35185\n",
      "[1]\ttrain-tweedie-nloglik@1.5:1.07314\ttest-tweedie-nloglik@1.5:1.16076\n",
      "[2]\ttrain-tweedie-nloglik@1.5:0.91474\ttest-tweedie-nloglik@1.5:1.04387\n",
      "[3]\ttrain-tweedie-nloglik@1.5:0.80589\ttest-tweedie-nloglik@1.5:0.97348\n",
      "[4]\ttrain-tweedie-nloglik@1.5:0.73004\ttest-tweedie-nloglik@1.5:0.93883\n",
      "[5]\ttrain-tweedie-nloglik@1.5:0.67843\ttest-tweedie-nloglik@1.5:0.92331\n",
      "[6]\ttrain-tweedie-nloglik@1.5:0.64407\ttest-tweedie-nloglik@1.5:0.92561\n",
      "[7]\ttrain-tweedie-nloglik@1.5:0.62129\ttest-tweedie-nloglik@1.5:0.94043\n"
     ]
    },
    {
     "name": "stderr",
     "output_type": "stream",
     "text": [
      "/home/jyang4/miniconda3/envs/ProtTP/lib/python3.9/site-packages/xgboost/core.py:105: UserWarning: ntree_limit is deprecated, use `iteration_range` or model slicing instead.\n",
      "  warnings.warn(\n",
      "/home/jyang4/miniconda3/envs/ProtTP/lib/python3.9/site-packages/xgboost/core.py:105: UserWarning: ntree_limit is deprecated, use `iteration_range` or model slicing instead.\n",
      "  warnings.warn(\n"
     ]
    },
    {
     "name": "stdout",
     "output_type": "stream",
     "text": [
      "[8]\ttrain-tweedie-nloglik@1.5:0.60632\ttest-tweedie-nloglik@1.5:0.96142\n",
      "[9]\ttrain-tweedie-nloglik@1.5:0.59795\ttest-tweedie-nloglik@1.5:0.97537\n",
      "[0]\ttrain-tweedie-nloglik@1.5:1.29570\ttest-tweedie-nloglik@1.5:1.34478\n",
      "[1]\ttrain-tweedie-nloglik@1.5:1.06330\ttest-tweedie-nloglik@1.5:1.15254\n",
      "[2]\ttrain-tweedie-nloglik@1.5:0.89891\ttest-tweedie-nloglik@1.5:1.03370\n",
      "[3]\ttrain-tweedie-nloglik@1.5:0.78149\ttest-tweedie-nloglik@1.5:0.96799\n",
      "[4]\ttrain-tweedie-nloglik@1.5:0.70241\ttest-tweedie-nloglik@1.5:0.94742\n",
      "[5]\ttrain-tweedie-nloglik@1.5:0.64959\ttest-tweedie-nloglik@1.5:0.95922\n",
      "[6]\ttrain-tweedie-nloglik@1.5:0.61381\ttest-tweedie-nloglik@1.5:0.98001\n",
      "[7]\ttrain-tweedie-nloglik@1.5:0.59128\ttest-tweedie-nloglik@1.5:1.01702\n",
      "[8]\ttrain-tweedie-nloglik@1.5:0.57873\ttest-tweedie-nloglik@1.5:1.03863\n",
      "[9]\ttrain-tweedie-nloglik@1.5:0.56848\ttest-tweedie-nloglik@1.5:1.05118\n",
      "[0]\ttrain-tweedie-nloglik@1.5:1.26372\ttest-tweedie-nloglik@1.5:1.34180\n",
      "[1]\ttrain-tweedie-nloglik@1.5:1.02457\ttest-tweedie-nloglik@1.5:1.14940\n",
      "[2]\ttrain-tweedie-nloglik@1.5:0.85316\ttest-tweedie-nloglik@1.5:1.03352\n",
      "[3]\ttrain-tweedie-nloglik@1.5:0.73475\ttest-tweedie-nloglik@1.5:0.97505\n",
      "[4]\ttrain-tweedie-nloglik@1.5:0.65440\ttest-tweedie-nloglik@1.5:0.94537\n",
      "[5]\ttrain-tweedie-nloglik@1.5:0.59839\ttest-tweedie-nloglik@1.5:0.95958\n",
      "[6]\ttrain-tweedie-nloglik@1.5:0.56101\ttest-tweedie-nloglik@1.5:0.97457\n"
     ]
    },
    {
     "name": "stderr",
     "output_type": "stream",
     "text": [
      "/home/jyang4/miniconda3/envs/ProtTP/lib/python3.9/site-packages/xgboost/core.py:105: UserWarning: ntree_limit is deprecated, use `iteration_range` or model slicing instead.\n",
      "  warnings.warn(\n",
      "/home/jyang4/miniconda3/envs/ProtTP/lib/python3.9/site-packages/xgboost/core.py:105: UserWarning: ntree_limit is deprecated, use `iteration_range` or model slicing instead.\n",
      "  warnings.warn(\n"
     ]
    },
    {
     "name": "stdout",
     "output_type": "stream",
     "text": [
      "[7]\ttrain-tweedie-nloglik@1.5:0.53714\ttest-tweedie-nloglik@1.5:1.01541\n",
      "[8]\ttrain-tweedie-nloglik@1.5:0.52260\ttest-tweedie-nloglik@1.5:1.06011\n",
      "[9]\ttrain-tweedie-nloglik@1.5:0.51275\ttest-tweedie-nloglik@1.5:1.09665\n",
      "[0]\ttrain-tweedie-nloglik@1.5:1.36339\ttest-tweedie-nloglik@1.5:1.34961\n",
      "[1]\ttrain-tweedie-nloglik@1.5:1.13531\ttest-tweedie-nloglik@1.5:1.15674\n",
      "[2]\ttrain-tweedie-nloglik@1.5:0.97467\ttest-tweedie-nloglik@1.5:1.03023\n",
      "[3]\ttrain-tweedie-nloglik@1.5:0.86063\ttest-tweedie-nloglik@1.5:0.94925\n",
      "[4]\ttrain-tweedie-nloglik@1.5:0.78460\ttest-tweedie-nloglik@1.5:0.90365\n",
      "[5]\ttrain-tweedie-nloglik@1.5:0.72848\ttest-tweedie-nloglik@1.5:0.88187\n",
      "[6]\ttrain-tweedie-nloglik@1.5:0.69342\ttest-tweedie-nloglik@1.5:0.87495\n",
      "[7]\ttrain-tweedie-nloglik@1.5:0.67088\ttest-tweedie-nloglik@1.5:0.87803\n",
      "[8]\ttrain-tweedie-nloglik@1.5:0.65518\ttest-tweedie-nloglik@1.5:0.88029\n",
      "[9]\ttrain-tweedie-nloglik@1.5:0.64839\ttest-tweedie-nloglik@1.5:0.87381\n",
      "[0]\ttrain-tweedie-nloglik@1.5:1.22430\ttest-tweedie-nloglik@1.5:1.35821\n",
      "[1]\ttrain-tweedie-nloglik@1.5:0.99358\ttest-tweedie-nloglik@1.5:1.16812\n",
      "[2]\ttrain-tweedie-nloglik@1.5:0.82986\ttest-tweedie-nloglik@1.5:1.05814\n",
      "[3]\ttrain-tweedie-nloglik@1.5:0.71769\ttest-tweedie-nloglik@1.5:1.00755\n",
      "[4]\ttrain-tweedie-nloglik@1.5:0.63896\ttest-tweedie-nloglik@1.5:0.98999\n",
      "[5]\ttrain-tweedie-nloglik@1.5:0.58847\ttest-tweedie-nloglik@1.5:1.00702\n",
      "[6]\ttrain-tweedie-nloglik@1.5:0.55463\ttest-tweedie-nloglik@1.5:1.03624\n",
      "[7]\ttrain-tweedie-nloglik@1.5:0.53263\ttest-tweedie-nloglik@1.5:1.05211\n"
     ]
    },
    {
     "name": "stderr",
     "output_type": "stream",
     "text": [
      "/home/jyang4/miniconda3/envs/ProtTP/lib/python3.9/site-packages/xgboost/core.py:105: UserWarning: ntree_limit is deprecated, use `iteration_range` or model slicing instead.\n",
      "  warnings.warn(\n",
      "/home/jyang4/miniconda3/envs/ProtTP/lib/python3.9/site-packages/xgboost/core.py:105: UserWarning: ntree_limit is deprecated, use `iteration_range` or model slicing instead.\n",
      "  warnings.warn(\n"
     ]
    },
    {
     "name": "stdout",
     "output_type": "stream",
     "text": [
      "[8]\ttrain-tweedie-nloglik@1.5:0.51821\ttest-tweedie-nloglik@1.5:1.08157\n",
      "[9]\ttrain-tweedie-nloglik@1.5:0.50895\ttest-tweedie-nloglik@1.5:1.11896\n",
      "[0]\ttrain-tweedie-nloglik@1.5:1.22107\ttest-tweedie-nloglik@1.5:1.35065\n",
      "[1]\ttrain-tweedie-nloglik@1.5:0.99433\ttest-tweedie-nloglik@1.5:1.16729\n",
      "[2]\ttrain-tweedie-nloglik@1.5:0.83431\ttest-tweedie-nloglik@1.5:1.05128\n",
      "[3]\ttrain-tweedie-nloglik@1.5:0.72368\ttest-tweedie-nloglik@1.5:0.98647\n",
      "[4]\ttrain-tweedie-nloglik@1.5:0.64545\ttest-tweedie-nloglik@1.5:0.95512\n",
      "[5]\ttrain-tweedie-nloglik@1.5:0.59210\ttest-tweedie-nloglik@1.5:0.96389\n",
      "[6]\ttrain-tweedie-nloglik@1.5:0.55963\ttest-tweedie-nloglik@1.5:0.97971\n",
      "[7]\ttrain-tweedie-nloglik@1.5:0.53559\ttest-tweedie-nloglik@1.5:0.99320\n",
      "[8]\ttrain-tweedie-nloglik@1.5:0.52155\ttest-tweedie-nloglik@1.5:1.01231\n",
      "[9]\ttrain-tweedie-nloglik@1.5:0.51098\ttest-tweedie-nloglik@1.5:1.03111\n",
      "[0]\ttrain-tweedie-nloglik@1.5:1.40010\ttest-tweedie-nloglik@1.5:1.35873\n",
      "[1]\ttrain-tweedie-nloglik@1.5:1.17245\ttest-tweedie-nloglik@1.5:1.17584\n",
      "[2]\ttrain-tweedie-nloglik@1.5:1.00933\ttest-tweedie-nloglik@1.5:1.05171\n",
      "[3]\ttrain-tweedie-nloglik@1.5:0.90126\ttest-tweedie-nloglik@1.5:0.97564\n",
      "[4]\ttrain-tweedie-nloglik@1.5:0.82153\ttest-tweedie-nloglik@1.5:0.93999\n",
      "[5]\ttrain-tweedie-nloglik@1.5:0.76714\ttest-tweedie-nloglik@1.5:0.93165\n",
      "[6]\ttrain-tweedie-nloglik@1.5:0.73160\ttest-tweedie-nloglik@1.5:0.92990\n",
      "[7]\ttrain-tweedie-nloglik@1.5:0.70701\ttest-tweedie-nloglik@1.5:0.93376\n"
     ]
    },
    {
     "name": "stderr",
     "output_type": "stream",
     "text": [
      "/home/jyang4/miniconda3/envs/ProtTP/lib/python3.9/site-packages/xgboost/core.py:105: UserWarning: ntree_limit is deprecated, use `iteration_range` or model slicing instead.\n",
      "  warnings.warn(\n",
      "/home/jyang4/miniconda3/envs/ProtTP/lib/python3.9/site-packages/xgboost/core.py:105: UserWarning: ntree_limit is deprecated, use `iteration_range` or model slicing instead.\n",
      "  warnings.warn(\n"
     ]
    },
    {
     "name": "stdout",
     "output_type": "stream",
     "text": [
      "[8]\ttrain-tweedie-nloglik@1.5:0.68967\ttest-tweedie-nloglik@1.5:0.94630\n",
      "[9]\ttrain-tweedie-nloglik@1.5:0.67727\ttest-tweedie-nloglik@1.5:0.95243\n",
      "[0]\ttrain-tweedie-nloglik@1.5:1.34822\ttest-tweedie-nloglik@1.5:1.35153\n",
      "[1]\ttrain-tweedie-nloglik@1.5:1.11660\ttest-tweedie-nloglik@1.5:1.16536\n",
      "[2]\ttrain-tweedie-nloglik@1.5:0.95431\ttest-tweedie-nloglik@1.5:1.05228\n",
      "[3]\ttrain-tweedie-nloglik@1.5:0.83939\ttest-tweedie-nloglik@1.5:0.98266\n",
      "[4]\ttrain-tweedie-nloglik@1.5:0.76373\ttest-tweedie-nloglik@1.5:0.95809\n",
      "[5]\ttrain-tweedie-nloglik@1.5:0.71323\ttest-tweedie-nloglik@1.5:0.94675\n",
      "[6]\ttrain-tweedie-nloglik@1.5:0.67954\ttest-tweedie-nloglik@1.5:0.94406\n",
      "[7]\ttrain-tweedie-nloglik@1.5:0.65840\ttest-tweedie-nloglik@1.5:0.95736\n",
      "[8]\ttrain-tweedie-nloglik@1.5:0.64445\ttest-tweedie-nloglik@1.5:0.96101\n",
      "[9]\ttrain-tweedie-nloglik@1.5:0.63620\ttest-tweedie-nloglik@1.5:0.95510\n",
      "[0]\ttrain-tweedie-nloglik@1.5:1.21029\ttest-tweedie-nloglik@1.5:1.35718\n",
      "[1]\ttrain-tweedie-nloglik@1.5:0.98283\ttest-tweedie-nloglik@1.5:1.17687\n",
      "[2]\ttrain-tweedie-nloglik@1.5:0.82125\ttest-tweedie-nloglik@1.5:1.07002\n",
      "[3]\ttrain-tweedie-nloglik@1.5:0.70941\ttest-tweedie-nloglik@1.5:1.01822\n",
      "[4]\ttrain-tweedie-nloglik@1.5:0.63233\ttest-tweedie-nloglik@1.5:0.98999\n",
      "[5]\ttrain-tweedie-nloglik@1.5:0.58189\ttest-tweedie-nloglik@1.5:0.99642\n",
      "[6]\ttrain-tweedie-nloglik@1.5:0.54541\ttest-tweedie-nloglik@1.5:1.01472\n",
      "[7]\ttrain-tweedie-nloglik@1.5:0.52190\ttest-tweedie-nloglik@1.5:1.02639\n"
     ]
    },
    {
     "name": "stderr",
     "output_type": "stream",
     "text": [
      "/home/jyang4/miniconda3/envs/ProtTP/lib/python3.9/site-packages/xgboost/core.py:105: UserWarning: ntree_limit is deprecated, use `iteration_range` or model slicing instead.\n",
      "  warnings.warn(\n",
      "/home/jyang4/miniconda3/envs/ProtTP/lib/python3.9/site-packages/xgboost/core.py:105: UserWarning: ntree_limit is deprecated, use `iteration_range` or model slicing instead.\n",
      "  warnings.warn(\n"
     ]
    },
    {
     "name": "stdout",
     "output_type": "stream",
     "text": [
      "[8]\ttrain-tweedie-nloglik@1.5:0.50683\ttest-tweedie-nloglik@1.5:1.05958\n",
      "[9]\ttrain-tweedie-nloglik@1.5:0.49794\ttest-tweedie-nloglik@1.5:1.07092\n",
      "[0]\ttrain-tweedie-nloglik@1.5:1.29813\ttest-tweedie-nloglik@1.5:1.34913\n",
      "[1]\ttrain-tweedie-nloglik@1.5:1.06018\ttest-tweedie-nloglik@1.5:1.16471\n",
      "[2]\ttrain-tweedie-nloglik@1.5:0.89306\ttest-tweedie-nloglik@1.5:1.05355\n",
      "[3]\ttrain-tweedie-nloglik@1.5:0.77730\ttest-tweedie-nloglik@1.5:0.99774\n",
      "[4]\ttrain-tweedie-nloglik@1.5:0.69861\ttest-tweedie-nloglik@1.5:0.97611\n",
      "[5]\ttrain-tweedie-nloglik@1.5:0.64514\ttest-tweedie-nloglik@1.5:0.97117\n",
      "[6]\ttrain-tweedie-nloglik@1.5:0.61036\ttest-tweedie-nloglik@1.5:0.97942\n",
      "[7]\ttrain-tweedie-nloglik@1.5:0.58780\ttest-tweedie-nloglik@1.5:0.98671\n",
      "[8]\ttrain-tweedie-nloglik@1.5:0.57170\ttest-tweedie-nloglik@1.5:1.02125\n",
      "[9]\ttrain-tweedie-nloglik@1.5:0.56119\ttest-tweedie-nloglik@1.5:1.03099\n",
      "[0]\ttrain-tweedie-nloglik@1.5:1.46055\ttest-tweedie-nloglik@1.5:1.35742\n",
      "[1]\ttrain-tweedie-nloglik@1.5:1.22495\ttest-tweedie-nloglik@1.5:1.16916\n",
      "[2]\ttrain-tweedie-nloglik@1.5:1.05724\ttest-tweedie-nloglik@1.5:1.05158\n",
      "[3]\ttrain-tweedie-nloglik@1.5:0.93976\ttest-tweedie-nloglik@1.5:0.98490\n",
      "[4]\ttrain-tweedie-nloglik@1.5:0.85937\ttest-tweedie-nloglik@1.5:0.95613\n",
      "[5]\ttrain-tweedie-nloglik@1.5:0.80525\ttest-tweedie-nloglik@1.5:0.95595\n",
      "[6]\ttrain-tweedie-nloglik@1.5:0.76383\ttest-tweedie-nloglik@1.5:0.96250\n"
     ]
    },
    {
     "name": "stderr",
     "output_type": "stream",
     "text": [
      "/home/jyang4/miniconda3/envs/ProtTP/lib/python3.9/site-packages/xgboost/core.py:105: UserWarning: ntree_limit is deprecated, use `iteration_range` or model slicing instead.\n",
      "  warnings.warn(\n",
      "/home/jyang4/miniconda3/envs/ProtTP/lib/python3.9/site-packages/xgboost/core.py:105: UserWarning: ntree_limit is deprecated, use `iteration_range` or model slicing instead.\n",
      "  warnings.warn(\n"
     ]
    },
    {
     "name": "stdout",
     "output_type": "stream",
     "text": [
      "[7]\ttrain-tweedie-nloglik@1.5:0.73639\ttest-tweedie-nloglik@1.5:0.97730\n",
      "[8]\ttrain-tweedie-nloglik@1.5:0.71586\ttest-tweedie-nloglik@1.5:0.96915\n",
      "[9]\ttrain-tweedie-nloglik@1.5:0.70807\ttest-tweedie-nloglik@1.5:0.96834\n",
      "[0]\ttrain-tweedie-nloglik@1.5:1.32539\ttest-tweedie-nloglik@1.5:1.35931\n",
      "[1]\ttrain-tweedie-nloglik@1.5:1.10269\ttest-tweedie-nloglik@1.5:1.17718\n",
      "[2]\ttrain-tweedie-nloglik@1.5:0.94114\ttest-tweedie-nloglik@1.5:1.05282\n",
      "[3]\ttrain-tweedie-nloglik@1.5:0.82621\ttest-tweedie-nloglik@1.5:0.97859\n",
      "[4]\ttrain-tweedie-nloglik@1.5:0.75235\ttest-tweedie-nloglik@1.5:0.94169\n",
      "[5]\ttrain-tweedie-nloglik@1.5:0.69091\ttest-tweedie-nloglik@1.5:0.92122\n",
      "[6]\ttrain-tweedie-nloglik@1.5:0.65560\ttest-tweedie-nloglik@1.5:0.92603\n",
      "[7]\ttrain-tweedie-nloglik@1.5:0.62922\ttest-tweedie-nloglik@1.5:0.94635\n",
      "[8]\ttrain-tweedie-nloglik@1.5:0.61135\ttest-tweedie-nloglik@1.5:0.95470\n",
      "[9]\ttrain-tweedie-nloglik@1.5:0.59767\ttest-tweedie-nloglik@1.5:0.95589\n",
      "[0]\ttrain-tweedie-nloglik@1.5:1.25477\ttest-tweedie-nloglik@1.5:1.35193\n",
      "[1]\ttrain-tweedie-nloglik@1.5:1.02587\ttest-tweedie-nloglik@1.5:1.17355\n",
      "[2]\ttrain-tweedie-nloglik@1.5:0.85978\ttest-tweedie-nloglik@1.5:1.06300\n",
      "[3]\ttrain-tweedie-nloglik@1.5:0.74335\ttest-tweedie-nloglik@1.5:1.00842\n",
      "[4]\ttrain-tweedie-nloglik@1.5:0.66355\ttest-tweedie-nloglik@1.5:0.99742\n",
      "[5]\ttrain-tweedie-nloglik@1.5:0.61016\ttest-tweedie-nloglik@1.5:1.01757\n",
      "[6]\ttrain-tweedie-nloglik@1.5:0.57652\ttest-tweedie-nloglik@1.5:1.05777\n"
     ]
    },
    {
     "name": "stderr",
     "output_type": "stream",
     "text": [
      "/home/jyang4/miniconda3/envs/ProtTP/lib/python3.9/site-packages/xgboost/core.py:105: UserWarning: ntree_limit is deprecated, use `iteration_range` or model slicing instead.\n",
      "  warnings.warn(\n",
      "/home/jyang4/miniconda3/envs/ProtTP/lib/python3.9/site-packages/xgboost/core.py:105: UserWarning: ntree_limit is deprecated, use `iteration_range` or model slicing instead.\n",
      "  warnings.warn(\n"
     ]
    },
    {
     "name": "stdout",
     "output_type": "stream",
     "text": [
      "[7]\ttrain-tweedie-nloglik@1.5:0.55457\ttest-tweedie-nloglik@1.5:1.10710\n",
      "[8]\ttrain-tweedie-nloglik@1.5:0.54076\ttest-tweedie-nloglik@1.5:1.13543\n",
      "[9]\ttrain-tweedie-nloglik@1.5:0.53183\ttest-tweedie-nloglik@1.5:1.16018\n",
      "[0]\ttrain-tweedie-nloglik@1.5:1.37933\ttest-tweedie-nloglik@1.5:1.35721\n",
      "[1]\ttrain-tweedie-nloglik@1.5:1.14593\ttest-tweedie-nloglik@1.5:1.17693\n",
      "[2]\ttrain-tweedie-nloglik@1.5:0.98124\ttest-tweedie-nloglik@1.5:1.07208\n",
      "[3]\ttrain-tweedie-nloglik@1.5:0.86500\ttest-tweedie-nloglik@1.5:1.00661\n",
      "[4]\ttrain-tweedie-nloglik@1.5:0.78339\ttest-tweedie-nloglik@1.5:0.97615\n",
      "[5]\ttrain-tweedie-nloglik@1.5:0.72967\ttest-tweedie-nloglik@1.5:0.96997\n",
      "[6]\ttrain-tweedie-nloglik@1.5:0.69538\ttest-tweedie-nloglik@1.5:0.99003\n",
      "[7]\ttrain-tweedie-nloglik@1.5:0.67183\ttest-tweedie-nloglik@1.5:0.98510\n",
      "[8]\ttrain-tweedie-nloglik@1.5:0.65925\ttest-tweedie-nloglik@1.5:0.99022\n",
      "[9]\ttrain-tweedie-nloglik@1.5:0.65256\ttest-tweedie-nloglik@1.5:0.99619\n",
      "[0]\ttrain-tweedie-nloglik@1.5:1.41637\ttest-tweedie-nloglik@1.5:1.35360\n",
      "[1]\ttrain-tweedie-nloglik@1.5:1.18692\ttest-tweedie-nloglik@1.5:1.15944\n",
      "[2]\ttrain-tweedie-nloglik@1.5:1.02562\ttest-tweedie-nloglik@1.5:1.02939\n",
      "[3]\ttrain-tweedie-nloglik@1.5:0.91457\ttest-tweedie-nloglik@1.5:0.95131\n",
      "[4]\ttrain-tweedie-nloglik@1.5:0.83498\ttest-tweedie-nloglik@1.5:0.89409\n",
      "[5]\ttrain-tweedie-nloglik@1.5:0.78235\ttest-tweedie-nloglik@1.5:0.86957\n",
      "[6]\ttrain-tweedie-nloglik@1.5:0.74384\ttest-tweedie-nloglik@1.5:0.86054\n"
     ]
    },
    {
     "name": "stderr",
     "output_type": "stream",
     "text": [
      "/home/jyang4/miniconda3/envs/ProtTP/lib/python3.9/site-packages/xgboost/core.py:105: UserWarning: ntree_limit is deprecated, use `iteration_range` or model slicing instead.\n",
      "  warnings.warn(\n",
      "/home/jyang4/miniconda3/envs/ProtTP/lib/python3.9/site-packages/xgboost/core.py:105: UserWarning: ntree_limit is deprecated, use `iteration_range` or model slicing instead.\n",
      "  warnings.warn(\n"
     ]
    },
    {
     "name": "stdout",
     "output_type": "stream",
     "text": [
      "[7]\ttrain-tweedie-nloglik@1.5:0.71984\ttest-tweedie-nloglik@1.5:0.86359\n",
      "[8]\ttrain-tweedie-nloglik@1.5:0.70433\ttest-tweedie-nloglik@1.5:0.86565\n",
      "[9]\ttrain-tweedie-nloglik@1.5:0.69508\ttest-tweedie-nloglik@1.5:0.86499\n",
      "[0]\ttrain-tweedie-nloglik@1.5:1.28716\ttest-tweedie-nloglik@1.5:1.35886\n",
      "[1]\ttrain-tweedie-nloglik@1.5:1.06376\ttest-tweedie-nloglik@1.5:1.17484\n",
      "[2]\ttrain-tweedie-nloglik@1.5:0.90738\ttest-tweedie-nloglik@1.5:1.05791\n",
      "[3]\ttrain-tweedie-nloglik@1.5:0.79580\ttest-tweedie-nloglik@1.5:0.98445\n",
      "[4]\ttrain-tweedie-nloglik@1.5:0.72077\ttest-tweedie-nloglik@1.5:0.95205\n",
      "[5]\ttrain-tweedie-nloglik@1.5:0.67219\ttest-tweedie-nloglik@1.5:0.92922\n",
      "[6]\ttrain-tweedie-nloglik@1.5:0.64003\ttest-tweedie-nloglik@1.5:0.92843\n",
      "[7]\ttrain-tweedie-nloglik@1.5:0.61903\ttest-tweedie-nloglik@1.5:0.93442\n",
      "[8]\ttrain-tweedie-nloglik@1.5:0.60591\ttest-tweedie-nloglik@1.5:0.94153\n",
      "[9]\ttrain-tweedie-nloglik@1.5:0.59828\ttest-tweedie-nloglik@1.5:0.93775\n",
      "[0]\ttrain-tweedie-nloglik@1.5:1.32030\ttest-tweedie-nloglik@1.5:1.35220\n",
      "[1]\ttrain-tweedie-nloglik@1.5:1.09146\ttest-tweedie-nloglik@1.5:1.16508\n",
      "[2]\ttrain-tweedie-nloglik@1.5:0.93036\ttest-tweedie-nloglik@1.5:1.04034\n",
      "[3]\ttrain-tweedie-nloglik@1.5:0.81940\ttest-tweedie-nloglik@1.5:0.97115\n",
      "[4]\ttrain-tweedie-nloglik@1.5:0.74255\ttest-tweedie-nloglik@1.5:0.93240\n",
      "[5]\ttrain-tweedie-nloglik@1.5:0.69324\ttest-tweedie-nloglik@1.5:0.90573\n",
      "[6]\ttrain-tweedie-nloglik@1.5:0.66064\ttest-tweedie-nloglik@1.5:0.90143\n"
     ]
    },
    {
     "name": "stderr",
     "output_type": "stream",
     "text": [
      "/home/jyang4/miniconda3/envs/ProtTP/lib/python3.9/site-packages/xgboost/core.py:105: UserWarning: ntree_limit is deprecated, use `iteration_range` or model slicing instead.\n",
      "  warnings.warn(\n",
      "/home/jyang4/miniconda3/envs/ProtTP/lib/python3.9/site-packages/xgboost/core.py:105: UserWarning: ntree_limit is deprecated, use `iteration_range` or model slicing instead.\n",
      "  warnings.warn(\n"
     ]
    },
    {
     "name": "stdout",
     "output_type": "stream",
     "text": [
      "[7]\ttrain-tweedie-nloglik@1.5:0.63713\ttest-tweedie-nloglik@1.5:0.90340\n",
      "[8]\ttrain-tweedie-nloglik@1.5:0.62314\ttest-tweedie-nloglik@1.5:0.92166\n",
      "[9]\ttrain-tweedie-nloglik@1.5:0.61259\ttest-tweedie-nloglik@1.5:0.92493\n",
      "[0]\ttrain-tweedie-nloglik@1.5:1.30387\ttest-tweedie-nloglik@1.5:1.35022\n",
      "[1]\ttrain-tweedie-nloglik@1.5:1.06667\ttest-tweedie-nloglik@1.5:1.16473\n",
      "[2]\ttrain-tweedie-nloglik@1.5:0.89447\ttest-tweedie-nloglik@1.5:1.05215\n",
      "[3]\ttrain-tweedie-nloglik@1.5:0.77541\ttest-tweedie-nloglik@1.5:0.99625\n",
      "[4]\ttrain-tweedie-nloglik@1.5:0.69391\ttest-tweedie-nloglik@1.5:0.98056\n",
      "[5]\ttrain-tweedie-nloglik@1.5:0.63955\ttest-tweedie-nloglik@1.5:1.00334\n",
      "[6]\ttrain-tweedie-nloglik@1.5:0.60385\ttest-tweedie-nloglik@1.5:1.04156\n",
      "[7]\ttrain-tweedie-nloglik@1.5:0.58080\ttest-tweedie-nloglik@1.5:1.08341\n",
      "[8]\ttrain-tweedie-nloglik@1.5:0.56744\ttest-tweedie-nloglik@1.5:1.12918\n",
      "[9]\ttrain-tweedie-nloglik@1.5:0.55939\ttest-tweedie-nloglik@1.5:1.15884\n",
      "[0]\ttrain-tweedie-nloglik@1.5:1.24191\ttest-tweedie-nloglik@1.5:1.35661\n",
      "[1]\ttrain-tweedie-nloglik@1.5:1.01592\ttest-tweedie-nloglik@1.5:1.17149\n",
      "[2]\ttrain-tweedie-nloglik@1.5:0.85796\ttest-tweedie-nloglik@1.5:1.05898\n",
      "[3]\ttrain-tweedie-nloglik@1.5:0.75040\ttest-tweedie-nloglik@1.5:1.00580\n",
      "[4]\ttrain-tweedie-nloglik@1.5:0.67679\ttest-tweedie-nloglik@1.5:0.96838\n",
      "[5]\ttrain-tweedie-nloglik@1.5:0.62315\ttest-tweedie-nloglik@1.5:0.96193\n",
      "[6]\ttrain-tweedie-nloglik@1.5:0.58705\ttest-tweedie-nloglik@1.5:0.96281\n",
      "[7]\ttrain-tweedie-nloglik@1.5:0.56529\ttest-tweedie-nloglik@1.5:0.97635\n"
     ]
    },
    {
     "name": "stderr",
     "output_type": "stream",
     "text": [
      "/home/jyang4/miniconda3/envs/ProtTP/lib/python3.9/site-packages/xgboost/core.py:105: UserWarning: ntree_limit is deprecated, use `iteration_range` or model slicing instead.\n",
      "  warnings.warn(\n",
      "/home/jyang4/miniconda3/envs/ProtTP/lib/python3.9/site-packages/xgboost/core.py:105: UserWarning: ntree_limit is deprecated, use `iteration_range` or model slicing instead.\n",
      "  warnings.warn(\n"
     ]
    },
    {
     "name": "stdout",
     "output_type": "stream",
     "text": [
      "[8]\ttrain-tweedie-nloglik@1.5:0.54951\ttest-tweedie-nloglik@1.5:0.99082\n",
      "[9]\ttrain-tweedie-nloglik@1.5:0.54129\ttest-tweedie-nloglik@1.5:0.98632\n",
      "[0]\ttrain-tweedie-nloglik@1.5:1.23591\ttest-tweedie-nloglik@1.5:1.35457\n",
      "[1]\ttrain-tweedie-nloglik@1.5:1.00931\ttest-tweedie-nloglik@1.5:1.17508\n",
      "[2]\ttrain-tweedie-nloglik@1.5:0.85127\ttest-tweedie-nloglik@1.5:1.06570\n",
      "[3]\ttrain-tweedie-nloglik@1.5:0.73667\ttest-tweedie-nloglik@1.5:0.99279\n",
      "[4]\ttrain-tweedie-nloglik@1.5:0.65930\ttest-tweedie-nloglik@1.5:0.96335\n",
      "[5]\ttrain-tweedie-nloglik@1.5:0.60638\ttest-tweedie-nloglik@1.5:0.96416\n",
      "[6]\ttrain-tweedie-nloglik@1.5:0.57257\ttest-tweedie-nloglik@1.5:0.96480\n",
      "[7]\ttrain-tweedie-nloglik@1.5:0.55166\ttest-tweedie-nloglik@1.5:0.98162\n",
      "[8]\ttrain-tweedie-nloglik@1.5:0.53650\ttest-tweedie-nloglik@1.5:1.01067\n",
      "[9]\ttrain-tweedie-nloglik@1.5:0.52662\ttest-tweedie-nloglik@1.5:1.03106\n",
      "[0]\ttrain-tweedie-nloglik@1.5:1.37218\ttest-tweedie-nloglik@1.5:1.35475\n",
      "[1]\ttrain-tweedie-nloglik@1.5:1.14192\ttest-tweedie-nloglik@1.5:1.17587\n",
      "[2]\ttrain-tweedie-nloglik@1.5:0.98048\ttest-tweedie-nloglik@1.5:1.07465\n",
      "[3]\ttrain-tweedie-nloglik@1.5:0.86750\ttest-tweedie-nloglik@1.5:1.00082\n",
      "[4]\ttrain-tweedie-nloglik@1.5:0.79007\ttest-tweedie-nloglik@1.5:0.99250\n",
      "[5]\ttrain-tweedie-nloglik@1.5:0.73833\ttest-tweedie-nloglik@1.5:0.98775\n",
      "[6]\ttrain-tweedie-nloglik@1.5:0.70406\ttest-tweedie-nloglik@1.5:0.99783\n",
      "[7]\ttrain-tweedie-nloglik@1.5:0.68112\ttest-tweedie-nloglik@1.5:1.00311\n"
     ]
    },
    {
     "name": "stderr",
     "output_type": "stream",
     "text": [
      "/home/jyang4/miniconda3/envs/ProtTP/lib/python3.9/site-packages/xgboost/core.py:105: UserWarning: ntree_limit is deprecated, use `iteration_range` or model slicing instead.\n",
      "  warnings.warn(\n",
      "/home/jyang4/miniconda3/envs/ProtTP/lib/python3.9/site-packages/xgboost/core.py:105: UserWarning: ntree_limit is deprecated, use `iteration_range` or model slicing instead.\n",
      "  warnings.warn(\n"
     ]
    },
    {
     "name": "stdout",
     "output_type": "stream",
     "text": [
      "[8]\ttrain-tweedie-nloglik@1.5:0.66675\ttest-tweedie-nloglik@1.5:1.03748\n",
      "[9]\ttrain-tweedie-nloglik@1.5:0.65780\ttest-tweedie-nloglik@1.5:1.04992\n",
      "[0]\ttrain-tweedie-nloglik@1.5:1.37676\ttest-tweedie-nloglik@1.5:1.36336\n",
      "[1]\ttrain-tweedie-nloglik@1.5:1.14367\ttest-tweedie-nloglik@1.5:1.17953\n",
      "[2]\ttrain-tweedie-nloglik@1.5:0.98097\ttest-tweedie-nloglik@1.5:1.05552\n",
      "[3]\ttrain-tweedie-nloglik@1.5:0.86770\ttest-tweedie-nloglik@1.5:0.98435\n",
      "[4]\ttrain-tweedie-nloglik@1.5:0.79224\ttest-tweedie-nloglik@1.5:0.93729\n",
      "[5]\ttrain-tweedie-nloglik@1.5:0.74283\ttest-tweedie-nloglik@1.5:0.91686\n",
      "[6]\ttrain-tweedie-nloglik@1.5:0.70868\ttest-tweedie-nloglik@1.5:0.91881\n",
      "[7]\ttrain-tweedie-nloglik@1.5:0.68527\ttest-tweedie-nloglik@1.5:0.91975\n",
      "[8]\ttrain-tweedie-nloglik@1.5:0.67135\ttest-tweedie-nloglik@1.5:0.92510\n",
      "[9]\ttrain-tweedie-nloglik@1.5:0.65963\ttest-tweedie-nloglik@1.5:0.91679\n",
      "[0]\ttrain-tweedie-nloglik@1.5:1.27896\ttest-tweedie-nloglik@1.5:1.35728\n",
      "[1]\ttrain-tweedie-nloglik@1.5:1.05866\ttest-tweedie-nloglik@1.5:1.17416\n",
      "[2]\ttrain-tweedie-nloglik@1.5:0.90560\ttest-tweedie-nloglik@1.5:1.05718\n",
      "[3]\ttrain-tweedie-nloglik@1.5:0.80353\ttest-tweedie-nloglik@1.5:0.99244\n",
      "[4]\ttrain-tweedie-nloglik@1.5:0.72938\ttest-tweedie-nloglik@1.5:0.94827\n",
      "[5]\ttrain-tweedie-nloglik@1.5:0.67986\ttest-tweedie-nloglik@1.5:0.92588\n",
      "[6]\ttrain-tweedie-nloglik@1.5:0.64935\ttest-tweedie-nloglik@1.5:0.92807\n"
     ]
    },
    {
     "name": "stderr",
     "output_type": "stream",
     "text": [
      "/home/jyang4/miniconda3/envs/ProtTP/lib/python3.9/site-packages/xgboost/core.py:105: UserWarning: ntree_limit is deprecated, use `iteration_range` or model slicing instead.\n",
      "  warnings.warn(\n",
      "/home/jyang4/miniconda3/envs/ProtTP/lib/python3.9/site-packages/xgboost/core.py:105: UserWarning: ntree_limit is deprecated, use `iteration_range` or model slicing instead.\n",
      "  warnings.warn(\n"
     ]
    },
    {
     "name": "stdout",
     "output_type": "stream",
     "text": [
      "[7]\ttrain-tweedie-nloglik@1.5:0.62810\ttest-tweedie-nloglik@1.5:0.92549\n",
      "[8]\ttrain-tweedie-nloglik@1.5:0.61234\ttest-tweedie-nloglik@1.5:0.92378\n",
      "[9]\ttrain-tweedie-nloglik@1.5:0.60255\ttest-tweedie-nloglik@1.5:0.92980\n",
      "[0]\ttrain-tweedie-nloglik@1.5:1.34040\ttest-tweedie-nloglik@1.5:1.35438\n",
      "[1]\ttrain-tweedie-nloglik@1.5:1.11475\ttest-tweedie-nloglik@1.5:1.17029\n",
      "[2]\ttrain-tweedie-nloglik@1.5:0.95318\ttest-tweedie-nloglik@1.5:1.05239\n",
      "[3]\ttrain-tweedie-nloglik@1.5:0.84645\ttest-tweedie-nloglik@1.5:0.98857\n",
      "[4]\ttrain-tweedie-nloglik@1.5:0.77079\ttest-tweedie-nloglik@1.5:0.95717\n",
      "[5]\ttrain-tweedie-nloglik@1.5:0.71935\ttest-tweedie-nloglik@1.5:0.94781\n",
      "[6]\ttrain-tweedie-nloglik@1.5:0.68880\ttest-tweedie-nloglik@1.5:0.94777\n",
      "[7]\ttrain-tweedie-nloglik@1.5:0.66380\ttest-tweedie-nloglik@1.5:0.96029\n",
      "[8]\ttrain-tweedie-nloglik@1.5:0.65037\ttest-tweedie-nloglik@1.5:0.97053\n",
      "[9]\ttrain-tweedie-nloglik@1.5:0.64279\ttest-tweedie-nloglik@1.5:0.96585\n",
      "[0]\ttrain-tweedie-nloglik@1.5:1.29229\ttest-tweedie-nloglik@1.5:1.34982\n",
      "[1]\ttrain-tweedie-nloglik@1.5:1.06516\ttest-tweedie-nloglik@1.5:1.16318\n",
      "[2]\ttrain-tweedie-nloglik@1.5:0.90665\ttest-tweedie-nloglik@1.5:1.04773\n",
      "[3]\ttrain-tweedie-nloglik@1.5:0.79422\ttest-tweedie-nloglik@1.5:0.98215\n",
      "[4]\ttrain-tweedie-nloglik@1.5:0.72038\ttest-tweedie-nloglik@1.5:0.94732\n",
      "[5]\ttrain-tweedie-nloglik@1.5:0.66851\ttest-tweedie-nloglik@1.5:0.94995\n",
      "[6]\ttrain-tweedie-nloglik@1.5:0.63293\ttest-tweedie-nloglik@1.5:0.95823\n"
     ]
    },
    {
     "name": "stderr",
     "output_type": "stream",
     "text": [
      "/home/jyang4/miniconda3/envs/ProtTP/lib/python3.9/site-packages/xgboost/core.py:105: UserWarning: ntree_limit is deprecated, use `iteration_range` or model slicing instead.\n",
      "  warnings.warn(\n",
      "/home/jyang4/miniconda3/envs/ProtTP/lib/python3.9/site-packages/xgboost/core.py:105: UserWarning: ntree_limit is deprecated, use `iteration_range` or model slicing instead.\n",
      "  warnings.warn(\n"
     ]
    },
    {
     "name": "stdout",
     "output_type": "stream",
     "text": [
      "[7]\ttrain-tweedie-nloglik@1.5:0.61011\ttest-tweedie-nloglik@1.5:0.97245\n",
      "[8]\ttrain-tweedie-nloglik@1.5:0.59526\ttest-tweedie-nloglik@1.5:1.00748\n",
      "[9]\ttrain-tweedie-nloglik@1.5:0.58483\ttest-tweedie-nloglik@1.5:1.01712\n",
      "[0]\ttrain-tweedie-nloglik@1.5:1.25547\ttest-tweedie-nloglik@1.5:1.34125\n",
      "[1]\ttrain-tweedie-nloglik@1.5:1.02162\ttest-tweedie-nloglik@1.5:1.14360\n",
      "[2]\ttrain-tweedie-nloglik@1.5:0.85434\ttest-tweedie-nloglik@1.5:1.01655\n",
      "[3]\ttrain-tweedie-nloglik@1.5:0.73659\ttest-tweedie-nloglik@1.5:0.94267\n",
      "[4]\ttrain-tweedie-nloglik@1.5:0.65539\ttest-tweedie-nloglik@1.5:0.91274\n",
      "[5]\ttrain-tweedie-nloglik@1.5:0.60160\ttest-tweedie-nloglik@1.5:0.91339\n",
      "[6]\ttrain-tweedie-nloglik@1.5:0.56725\ttest-tweedie-nloglik@1.5:0.92808\n",
      "[7]\ttrain-tweedie-nloglik@1.5:0.54608\ttest-tweedie-nloglik@1.5:0.95621\n",
      "[8]\ttrain-tweedie-nloglik@1.5:0.53177\ttest-tweedie-nloglik@1.5:0.97611\n",
      "[9]\ttrain-tweedie-nloglik@1.5:0.52160\ttest-tweedie-nloglik@1.5:0.99978\n",
      "[0]\ttrain-tweedie-nloglik@1.5:1.34372\ttest-tweedie-nloglik@1.5:1.35104\n",
      "[1]\ttrain-tweedie-nloglik@1.5:1.10833\ttest-tweedie-nloglik@1.5:1.16042\n",
      "[2]\ttrain-tweedie-nloglik@1.5:0.93491\ttest-tweedie-nloglik@1.5:1.03425\n",
      "[3]\ttrain-tweedie-nloglik@1.5:0.81568\ttest-tweedie-nloglik@1.5:0.96309\n",
      "[4]\ttrain-tweedie-nloglik@1.5:0.73170\ttest-tweedie-nloglik@1.5:0.94120\n",
      "[5]\ttrain-tweedie-nloglik@1.5:0.67359\ttest-tweedie-nloglik@1.5:0.93280\n",
      "[6]\ttrain-tweedie-nloglik@1.5:0.63317\ttest-tweedie-nloglik@1.5:0.92851\n",
      "[7]\ttrain-tweedie-nloglik@1.5:0.60842\ttest-tweedie-nloglik@1.5:0.94426\n"
     ]
    },
    {
     "name": "stderr",
     "output_type": "stream",
     "text": [
      "/home/jyang4/miniconda3/envs/ProtTP/lib/python3.9/site-packages/xgboost/core.py:105: UserWarning: ntree_limit is deprecated, use `iteration_range` or model slicing instead.\n",
      "  warnings.warn(\n",
      "/home/jyang4/miniconda3/envs/ProtTP/lib/python3.9/site-packages/xgboost/core.py:105: UserWarning: ntree_limit is deprecated, use `iteration_range` or model slicing instead.\n",
      "  warnings.warn(\n"
     ]
    },
    {
     "name": "stdout",
     "output_type": "stream",
     "text": [
      "[8]\ttrain-tweedie-nloglik@1.5:0.59376\ttest-tweedie-nloglik@1.5:0.95869\n",
      "[9]\ttrain-tweedie-nloglik@1.5:0.58450\ttest-tweedie-nloglik@1.5:0.97273\n",
      "[0]\ttrain-tweedie-nloglik@1.5:1.42200\ttest-tweedie-nloglik@1.5:1.34975\n",
      "[1]\ttrain-tweedie-nloglik@1.5:1.19699\ttest-tweedie-nloglik@1.5:1.16251\n",
      "[2]\ttrain-tweedie-nloglik@1.5:1.04161\ttest-tweedie-nloglik@1.5:1.04374\n",
      "[3]\ttrain-tweedie-nloglik@1.5:0.93255\ttest-tweedie-nloglik@1.5:0.97071\n",
      "[4]\ttrain-tweedie-nloglik@1.5:0.85672\ttest-tweedie-nloglik@1.5:0.92999\n",
      "[5]\ttrain-tweedie-nloglik@1.5:0.80603\ttest-tweedie-nloglik@1.5:0.91811\n",
      "[6]\ttrain-tweedie-nloglik@1.5:0.77286\ttest-tweedie-nloglik@1.5:0.90681\n",
      "[7]\ttrain-tweedie-nloglik@1.5:0.75094\ttest-tweedie-nloglik@1.5:0.91255\n",
      "[8]\ttrain-tweedie-nloglik@1.5:0.73447\ttest-tweedie-nloglik@1.5:0.91537\n",
      "[9]\ttrain-tweedie-nloglik@1.5:0.72452\ttest-tweedie-nloglik@1.5:0.91553\n",
      "[0]\ttrain-tweedie-nloglik@1.5:1.27302\ttest-tweedie-nloglik@1.5:1.35302\n",
      "[1]\ttrain-tweedie-nloglik@1.5:1.04265\ttest-tweedie-nloglik@1.5:1.16784\n",
      "[2]\ttrain-tweedie-nloglik@1.5:0.88039\ttest-tweedie-nloglik@1.5:1.05610\n",
      "[3]\ttrain-tweedie-nloglik@1.5:0.76934\ttest-tweedie-nloglik@1.5:0.98680\n",
      "[4]\ttrain-tweedie-nloglik@1.5:0.69475\ttest-tweedie-nloglik@1.5:0.95030\n",
      "[5]\ttrain-tweedie-nloglik@1.5:0.64368\ttest-tweedie-nloglik@1.5:0.93788\n",
      "[6]\ttrain-tweedie-nloglik@1.5:0.61008\ttest-tweedie-nloglik@1.5:0.95428\n"
     ]
    },
    {
     "name": "stderr",
     "output_type": "stream",
     "text": [
      "/home/jyang4/miniconda3/envs/ProtTP/lib/python3.9/site-packages/xgboost/core.py:105: UserWarning: ntree_limit is deprecated, use `iteration_range` or model slicing instead.\n",
      "  warnings.warn(\n",
      "/home/jyang4/miniconda3/envs/ProtTP/lib/python3.9/site-packages/xgboost/core.py:105: UserWarning: ntree_limit is deprecated, use `iteration_range` or model slicing instead.\n",
      "  warnings.warn(\n"
     ]
    },
    {
     "name": "stdout",
     "output_type": "stream",
     "text": [
      "[7]\ttrain-tweedie-nloglik@1.5:0.58639\ttest-tweedie-nloglik@1.5:0.96217\n",
      "[8]\ttrain-tweedie-nloglik@1.5:0.57128\ttest-tweedie-nloglik@1.5:0.98208\n",
      "[9]\ttrain-tweedie-nloglik@1.5:0.56144\ttest-tweedie-nloglik@1.5:0.99525\n",
      "[0]\ttrain-tweedie-nloglik@1.5:1.30266\ttest-tweedie-nloglik@1.5:1.35105\n",
      "[1]\ttrain-tweedie-nloglik@1.5:1.06816\ttest-tweedie-nloglik@1.5:1.16271\n",
      "[2]\ttrain-tweedie-nloglik@1.5:0.90311\ttest-tweedie-nloglik@1.5:1.04699\n",
      "[3]\ttrain-tweedie-nloglik@1.5:0.78780\ttest-tweedie-nloglik@1.5:0.97777\n",
      "[4]\ttrain-tweedie-nloglik@1.5:0.71098\ttest-tweedie-nloglik@1.5:0.94622\n",
      "[5]\ttrain-tweedie-nloglik@1.5:0.66124\ttest-tweedie-nloglik@1.5:0.93597\n",
      "[6]\ttrain-tweedie-nloglik@1.5:0.62552\ttest-tweedie-nloglik@1.5:0.94123\n",
      "[7]\ttrain-tweedie-nloglik@1.5:0.60199\ttest-tweedie-nloglik@1.5:0.96378\n",
      "[8]\ttrain-tweedie-nloglik@1.5:0.58646\ttest-tweedie-nloglik@1.5:0.98526\n",
      "[9]\ttrain-tweedie-nloglik@1.5:0.57745\ttest-tweedie-nloglik@1.5:0.99826\n",
      "[0]\ttrain-tweedie-nloglik@1.5:1.29101\ttest-tweedie-nloglik@1.5:1.35636\n",
      "[1]\ttrain-tweedie-nloglik@1.5:1.04727\ttest-tweedie-nloglik@1.5:1.16855\n",
      "[2]\ttrain-tweedie-nloglik@1.5:0.86976\ttest-tweedie-nloglik@1.5:1.05125\n",
      "[3]\ttrain-tweedie-nloglik@1.5:0.74624\ttest-tweedie-nloglik@1.5:0.98874\n",
      "[4]\ttrain-tweedie-nloglik@1.5:0.66077\ttest-tweedie-nloglik@1.5:0.96946\n",
      "[5]\ttrain-tweedie-nloglik@1.5:0.60596\ttest-tweedie-nloglik@1.5:0.97323\n",
      "[6]\ttrain-tweedie-nloglik@1.5:0.56798\ttest-tweedie-nloglik@1.5:1.00429\n"
     ]
    },
    {
     "name": "stderr",
     "output_type": "stream",
     "text": [
      "/home/jyang4/miniconda3/envs/ProtTP/lib/python3.9/site-packages/xgboost/core.py:105: UserWarning: ntree_limit is deprecated, use `iteration_range` or model slicing instead.\n",
      "  warnings.warn(\n",
      "/home/jyang4/miniconda3/envs/ProtTP/lib/python3.9/site-packages/xgboost/core.py:105: UserWarning: ntree_limit is deprecated, use `iteration_range` or model slicing instead.\n",
      "  warnings.warn(\n"
     ]
    },
    {
     "name": "stdout",
     "output_type": "stream",
     "text": [
      "[7]\ttrain-tweedie-nloglik@1.5:0.54395\ttest-tweedie-nloglik@1.5:1.02450\n",
      "[8]\ttrain-tweedie-nloglik@1.5:0.52896\ttest-tweedie-nloglik@1.5:1.05470\n",
      "[9]\ttrain-tweedie-nloglik@1.5:0.51888\ttest-tweedie-nloglik@1.5:1.07368\n",
      "[0]\ttrain-tweedie-nloglik@1.5:1.41127\ttest-tweedie-nloglik@1.5:1.35959\n",
      "[1]\ttrain-tweedie-nloglik@1.5:1.19433\ttest-tweedie-nloglik@1.5:1.17431\n",
      "[2]\ttrain-tweedie-nloglik@1.5:1.03800\ttest-tweedie-nloglik@1.5:1.05352\n",
      "[3]\ttrain-tweedie-nloglik@1.5:0.92971\ttest-tweedie-nloglik@1.5:0.98344\n",
      "[4]\ttrain-tweedie-nloglik@1.5:0.84954\ttest-tweedie-nloglik@1.5:0.94925\n",
      "[5]\ttrain-tweedie-nloglik@1.5:0.80001\ttest-tweedie-nloglik@1.5:0.94254\n",
      "[6]\ttrain-tweedie-nloglik@1.5:0.75831\ttest-tweedie-nloglik@1.5:0.93057\n",
      "[7]\ttrain-tweedie-nloglik@1.5:0.73197\ttest-tweedie-nloglik@1.5:0.94534\n",
      "[8]\ttrain-tweedie-nloglik@1.5:0.71724\ttest-tweedie-nloglik@1.5:0.94564\n",
      "[9]\ttrain-tweedie-nloglik@1.5:0.70951\ttest-tweedie-nloglik@1.5:0.93485\n",
      "[0]\ttrain-tweedie-nloglik@1.5:1.41788\ttest-tweedie-nloglik@1.5:1.35653\n",
      "[1]\ttrain-tweedie-nloglik@1.5:1.18627\ttest-tweedie-nloglik@1.5:1.17138\n",
      "[2]\ttrain-tweedie-nloglik@1.5:1.02171\ttest-tweedie-nloglik@1.5:1.05431\n",
      "[3]\ttrain-tweedie-nloglik@1.5:0.90441\ttest-tweedie-nloglik@1.5:0.98601\n",
      "[4]\ttrain-tweedie-nloglik@1.5:0.82490\ttest-tweedie-nloglik@1.5:0.96039\n",
      "[5]\ttrain-tweedie-nloglik@1.5:0.77219\ttest-tweedie-nloglik@1.5:0.95991\n",
      "[6]\ttrain-tweedie-nloglik@1.5:0.73468\ttest-tweedie-nloglik@1.5:0.97399\n"
     ]
    },
    {
     "name": "stderr",
     "output_type": "stream",
     "text": [
      "/home/jyang4/miniconda3/envs/ProtTP/lib/python3.9/site-packages/xgboost/core.py:105: UserWarning: ntree_limit is deprecated, use `iteration_range` or model slicing instead.\n",
      "  warnings.warn(\n",
      "/home/jyang4/miniconda3/envs/ProtTP/lib/python3.9/site-packages/xgboost/core.py:105: UserWarning: ntree_limit is deprecated, use `iteration_range` or model slicing instead.\n",
      "  warnings.warn(\n"
     ]
    },
    {
     "name": "stdout",
     "output_type": "stream",
     "text": [
      "[7]\ttrain-tweedie-nloglik@1.5:0.71218\ttest-tweedie-nloglik@1.5:0.97368\n",
      "[8]\ttrain-tweedie-nloglik@1.5:0.69750\ttest-tweedie-nloglik@1.5:0.97718\n",
      "[9]\ttrain-tweedie-nloglik@1.5:0.68692\ttest-tweedie-nloglik@1.5:0.99373\n",
      "[0]\ttrain-tweedie-nloglik@1.5:1.30926\ttest-tweedie-nloglik@1.5:1.36059\n",
      "[1]\ttrain-tweedie-nloglik@1.5:1.08368\ttest-tweedie-nloglik@1.5:1.18369\n",
      "[2]\ttrain-tweedie-nloglik@1.5:0.92530\ttest-tweedie-nloglik@1.5:1.08154\n",
      "[3]\ttrain-tweedie-nloglik@1.5:0.81744\ttest-tweedie-nloglik@1.5:1.02148\n",
      "[4]\ttrain-tweedie-nloglik@1.5:0.74465\ttest-tweedie-nloglik@1.5:0.99412\n",
      "[5]\ttrain-tweedie-nloglik@1.5:0.69512\ttest-tweedie-nloglik@1.5:0.98548\n",
      "[6]\ttrain-tweedie-nloglik@1.5:0.66179\ttest-tweedie-nloglik@1.5:0.99389\n",
      "[7]\ttrain-tweedie-nloglik@1.5:0.64278\ttest-tweedie-nloglik@1.5:1.01418\n",
      "[8]\ttrain-tweedie-nloglik@1.5:0.62803\ttest-tweedie-nloglik@1.5:1.03348\n",
      "[9]\ttrain-tweedie-nloglik@1.5:0.61702\ttest-tweedie-nloglik@1.5:1.05560\n",
      "[0]\ttrain-tweedie-nloglik@1.5:1.27950\ttest-tweedie-nloglik@1.5:1.34574\n",
      "[1]\ttrain-tweedie-nloglik@1.5:1.04114\ttest-tweedie-nloglik@1.5:1.15438\n",
      "[2]\ttrain-tweedie-nloglik@1.5:0.87247\ttest-tweedie-nloglik@1.5:1.03754\n",
      "[3]\ttrain-tweedie-nloglik@1.5:0.75445\ttest-tweedie-nloglik@1.5:0.97524\n",
      "[4]\ttrain-tweedie-nloglik@1.5:0.67446\ttest-tweedie-nloglik@1.5:0.95566\n",
      "[5]\ttrain-tweedie-nloglik@1.5:0.62165\ttest-tweedie-nloglik@1.5:0.96305\n",
      "[6]\ttrain-tweedie-nloglik@1.5:0.58871\ttest-tweedie-nloglik@1.5:0.99107\n"
     ]
    },
    {
     "name": "stderr",
     "output_type": "stream",
     "text": [
      "/home/jyang4/miniconda3/envs/ProtTP/lib/python3.9/site-packages/xgboost/core.py:105: UserWarning: ntree_limit is deprecated, use `iteration_range` or model slicing instead.\n",
      "  warnings.warn(\n",
      "/home/jyang4/miniconda3/envs/ProtTP/lib/python3.9/site-packages/xgboost/core.py:105: UserWarning: ntree_limit is deprecated, use `iteration_range` or model slicing instead.\n",
      "  warnings.warn(\n"
     ]
    },
    {
     "name": "stdout",
     "output_type": "stream",
     "text": [
      "[7]\ttrain-tweedie-nloglik@1.5:0.56782\ttest-tweedie-nloglik@1.5:1.02820\n",
      "[8]\ttrain-tweedie-nloglik@1.5:0.55473\ttest-tweedie-nloglik@1.5:1.05508\n",
      "[9]\ttrain-tweedie-nloglik@1.5:0.54623\ttest-tweedie-nloglik@1.5:1.07872\n",
      "[0]\ttrain-tweedie-nloglik@1.5:1.37480\ttest-tweedie-nloglik@1.5:1.35543\n",
      "[1]\ttrain-tweedie-nloglik@1.5:1.13646\ttest-tweedie-nloglik@1.5:1.16730\n",
      "[2]\ttrain-tweedie-nloglik@1.5:0.96698\ttest-tweedie-nloglik@1.5:1.04229\n",
      "[3]\ttrain-tweedie-nloglik@1.5:0.85068\ttest-tweedie-nloglik@1.5:0.96699\n",
      "[4]\ttrain-tweedie-nloglik@1.5:0.76890\ttest-tweedie-nloglik@1.5:0.92922\n",
      "[5]\ttrain-tweedie-nloglik@1.5:0.71150\ttest-tweedie-nloglik@1.5:0.91893\n",
      "[6]\ttrain-tweedie-nloglik@1.5:0.67472\ttest-tweedie-nloglik@1.5:0.91487\n",
      "[7]\ttrain-tweedie-nloglik@1.5:0.64644\ttest-tweedie-nloglik@1.5:0.91202\n",
      "[8]\ttrain-tweedie-nloglik@1.5:0.62946\ttest-tweedie-nloglik@1.5:0.91854\n",
      "[9]\ttrain-tweedie-nloglik@1.5:0.62010\ttest-tweedie-nloglik@1.5:0.92544\n",
      "[0]\ttrain-tweedie-nloglik@1.5:1.35238\ttest-tweedie-nloglik@1.5:1.35571\n",
      "[1]\ttrain-tweedie-nloglik@1.5:1.11973\ttest-tweedie-nloglik@1.5:1.16663\n",
      "[2]\ttrain-tweedie-nloglik@1.5:0.95498\ttest-tweedie-nloglik@1.5:1.05753\n",
      "[3]\ttrain-tweedie-nloglik@1.5:0.83993\ttest-tweedie-nloglik@1.5:0.99906\n",
      "[4]\ttrain-tweedie-nloglik@1.5:0.76246\ttest-tweedie-nloglik@1.5:0.98307\n",
      "[5]\ttrain-tweedie-nloglik@1.5:0.71138\ttest-tweedie-nloglik@1.5:0.99493\n",
      "[6]\ttrain-tweedie-nloglik@1.5:0.67608\ttest-tweedie-nloglik@1.5:0.99123\n"
     ]
    },
    {
     "name": "stderr",
     "output_type": "stream",
     "text": [
      "/home/jyang4/miniconda3/envs/ProtTP/lib/python3.9/site-packages/xgboost/core.py:105: UserWarning: ntree_limit is deprecated, use `iteration_range` or model slicing instead.\n",
      "  warnings.warn(\n",
      "/home/jyang4/miniconda3/envs/ProtTP/lib/python3.9/site-packages/xgboost/core.py:105: UserWarning: ntree_limit is deprecated, use `iteration_range` or model slicing instead.\n",
      "  warnings.warn(\n"
     ]
    },
    {
     "name": "stdout",
     "output_type": "stream",
     "text": [
      "[7]\ttrain-tweedie-nloglik@1.5:0.65589\ttest-tweedie-nloglik@1.5:1.01809\n",
      "[8]\ttrain-tweedie-nloglik@1.5:0.64058\ttest-tweedie-nloglik@1.5:1.03069\n",
      "[9]\ttrain-tweedie-nloglik@1.5:0.63202\ttest-tweedie-nloglik@1.5:1.04167\n",
      "[0]\ttrain-tweedie-nloglik@1.5:1.34147\ttest-tweedie-nloglik@1.5:1.35357\n",
      "[1]\ttrain-tweedie-nloglik@1.5:1.11791\ttest-tweedie-nloglik@1.5:1.16462\n",
      "[2]\ttrain-tweedie-nloglik@1.5:0.96076\ttest-tweedie-nloglik@1.5:1.04168\n",
      "[3]\ttrain-tweedie-nloglik@1.5:0.84928\ttest-tweedie-nloglik@1.5:0.96078\n",
      "[4]\ttrain-tweedie-nloglik@1.5:0.77529\ttest-tweedie-nloglik@1.5:0.91733\n",
      "[5]\ttrain-tweedie-nloglik@1.5:0.72375\ttest-tweedie-nloglik@1.5:0.89462\n",
      "[6]\ttrain-tweedie-nloglik@1.5:0.69097\ttest-tweedie-nloglik@1.5:0.88002\n",
      "[7]\ttrain-tweedie-nloglik@1.5:0.66815\ttest-tweedie-nloglik@1.5:0.87639\n",
      "[8]\ttrain-tweedie-nloglik@1.5:0.65750\ttest-tweedie-nloglik@1.5:0.87020\n",
      "[9]\ttrain-tweedie-nloglik@1.5:0.64770\ttest-tweedie-nloglik@1.5:0.87311\n",
      "[0]\ttrain-tweedie-nloglik@1.5:1.25684\ttest-tweedie-nloglik@1.5:1.35120\n",
      "[1]\ttrain-tweedie-nloglik@1.5:1.02537\ttest-tweedie-nloglik@1.5:1.16417\n",
      "[2]\ttrain-tweedie-nloglik@1.5:0.86017\ttest-tweedie-nloglik@1.5:1.04884\n",
      "[3]\ttrain-tweedie-nloglik@1.5:0.74544\ttest-tweedie-nloglik@1.5:0.98240\n",
      "[4]\ttrain-tweedie-nloglik@1.5:0.66347\ttest-tweedie-nloglik@1.5:0.95487\n",
      "[5]\ttrain-tweedie-nloglik@1.5:0.60933\ttest-tweedie-nloglik@1.5:0.94766\n",
      "[6]\ttrain-tweedie-nloglik@1.5:0.57392\ttest-tweedie-nloglik@1.5:0.95640\n",
      "[7]\ttrain-tweedie-nloglik@1.5:0.54907\ttest-tweedie-nloglik@1.5:0.97872\n"
     ]
    },
    {
     "name": "stderr",
     "output_type": "stream",
     "text": [
      "/home/jyang4/miniconda3/envs/ProtTP/lib/python3.9/site-packages/xgboost/core.py:105: UserWarning: ntree_limit is deprecated, use `iteration_range` or model slicing instead.\n",
      "  warnings.warn(\n",
      "/home/jyang4/miniconda3/envs/ProtTP/lib/python3.9/site-packages/xgboost/core.py:105: UserWarning: ntree_limit is deprecated, use `iteration_range` or model slicing instead.\n",
      "  warnings.warn(\n"
     ]
    },
    {
     "name": "stdout",
     "output_type": "stream",
     "text": [
      "[8]\ttrain-tweedie-nloglik@1.5:0.53370\ttest-tweedie-nloglik@1.5:1.00163\n",
      "[9]\ttrain-tweedie-nloglik@1.5:0.52429\ttest-tweedie-nloglik@1.5:1.01341\n",
      "[0]\ttrain-tweedie-nloglik@1.5:1.41883\ttest-tweedie-nloglik@1.5:1.35981\n",
      "[1]\ttrain-tweedie-nloglik@1.5:1.19443\ttest-tweedie-nloglik@1.5:1.17871\n",
      "[2]\ttrain-tweedie-nloglik@1.5:1.03548\ttest-tweedie-nloglik@1.5:1.06489\n",
      "[3]\ttrain-tweedie-nloglik@1.5:0.92675\ttest-tweedie-nloglik@1.5:0.99662\n",
      "[4]\ttrain-tweedie-nloglik@1.5:0.85831\ttest-tweedie-nloglik@1.5:0.96793\n",
      "[5]\ttrain-tweedie-nloglik@1.5:0.80505\ttest-tweedie-nloglik@1.5:0.95299\n",
      "[6]\ttrain-tweedie-nloglik@1.5:0.77179\ttest-tweedie-nloglik@1.5:0.97275\n",
      "[7]\ttrain-tweedie-nloglik@1.5:0.74774\ttest-tweedie-nloglik@1.5:0.97211\n",
      "[8]\ttrain-tweedie-nloglik@1.5:0.73281\ttest-tweedie-nloglik@1.5:0.97646\n",
      "[9]\ttrain-tweedie-nloglik@1.5:0.72467\ttest-tweedie-nloglik@1.5:0.96754\n",
      "[0]\ttrain-tweedie-nloglik@1.5:1.42479\ttest-tweedie-nloglik@1.5:1.36206\n",
      "[1]\ttrain-tweedie-nloglik@1.5:1.19808\ttest-tweedie-nloglik@1.5:1.17931\n",
      "[2]\ttrain-tweedie-nloglik@1.5:1.03062\ttest-tweedie-nloglik@1.5:1.05349\n",
      "[3]\ttrain-tweedie-nloglik@1.5:0.91365\ttest-tweedie-nloglik@1.5:0.97400\n",
      "[4]\ttrain-tweedie-nloglik@1.5:0.83544\ttest-tweedie-nloglik@1.5:0.93008\n",
      "[5]\ttrain-tweedie-nloglik@1.5:0.77772\ttest-tweedie-nloglik@1.5:0.91174\n",
      "[6]\ttrain-tweedie-nloglik@1.5:0.73975\ttest-tweedie-nloglik@1.5:0.90526\n"
     ]
    },
    {
     "name": "stderr",
     "output_type": "stream",
     "text": [
      "/home/jyang4/miniconda3/envs/ProtTP/lib/python3.9/site-packages/xgboost/core.py:105: UserWarning: ntree_limit is deprecated, use `iteration_range` or model slicing instead.\n",
      "  warnings.warn(\n",
      "/home/jyang4/miniconda3/envs/ProtTP/lib/python3.9/site-packages/xgboost/core.py:105: UserWarning: ntree_limit is deprecated, use `iteration_range` or model slicing instead.\n",
      "  warnings.warn(\n"
     ]
    },
    {
     "name": "stdout",
     "output_type": "stream",
     "text": [
      "[7]\ttrain-tweedie-nloglik@1.5:0.71939\ttest-tweedie-nloglik@1.5:0.90315\n",
      "[8]\ttrain-tweedie-nloglik@1.5:0.69983\ttest-tweedie-nloglik@1.5:0.90466\n",
      "[9]\ttrain-tweedie-nloglik@1.5:0.69218\ttest-tweedie-nloglik@1.5:0.90446\n",
      "[0]\ttrain-tweedie-nloglik@1.5:1.32802\ttest-tweedie-nloglik@1.5:1.35290\n",
      "[1]\ttrain-tweedie-nloglik@1.5:1.10346\ttest-tweedie-nloglik@1.5:1.16614\n",
      "[2]\ttrain-tweedie-nloglik@1.5:0.94981\ttest-tweedie-nloglik@1.5:1.04892\n",
      "[3]\ttrain-tweedie-nloglik@1.5:0.84148\ttest-tweedie-nloglik@1.5:0.98130\n",
      "[4]\ttrain-tweedie-nloglik@1.5:0.77055\ttest-tweedie-nloglik@1.5:0.94661\n",
      "[5]\ttrain-tweedie-nloglik@1.5:0.72405\ttest-tweedie-nloglik@1.5:0.93795\n",
      "[6]\ttrain-tweedie-nloglik@1.5:0.69111\ttest-tweedie-nloglik@1.5:0.94002\n",
      "[7]\ttrain-tweedie-nloglik@1.5:0.66491\ttest-tweedie-nloglik@1.5:0.95161\n",
      "[8]\ttrain-tweedie-nloglik@1.5:0.65036\ttest-tweedie-nloglik@1.5:0.96308\n",
      "[9]\ttrain-tweedie-nloglik@1.5:0.63616\ttest-tweedie-nloglik@1.5:0.97485\n",
      "[0]\ttrain-tweedie-nloglik@1.5:1.35420\ttest-tweedie-nloglik@1.5:1.35767\n",
      "[1]\ttrain-tweedie-nloglik@1.5:1.13637\ttest-tweedie-nloglik@1.5:1.17155\n",
      "[2]\ttrain-tweedie-nloglik@1.5:0.98287\ttest-tweedie-nloglik@1.5:1.05017\n",
      "[3]\ttrain-tweedie-nloglik@1.5:0.87464\ttest-tweedie-nloglik@1.5:0.97671\n",
      "[4]\ttrain-tweedie-nloglik@1.5:0.80096\ttest-tweedie-nloglik@1.5:0.93541\n",
      "[5]\ttrain-tweedie-nloglik@1.5:0.75164\ttest-tweedie-nloglik@1.5:0.92020\n",
      "[6]\ttrain-tweedie-nloglik@1.5:0.71680\ttest-tweedie-nloglik@1.5:0.92044\n"
     ]
    },
    {
     "name": "stderr",
     "output_type": "stream",
     "text": [
      "/home/jyang4/miniconda3/envs/ProtTP/lib/python3.9/site-packages/xgboost/core.py:105: UserWarning: ntree_limit is deprecated, use `iteration_range` or model slicing instead.\n",
      "  warnings.warn(\n",
      "/home/jyang4/miniconda3/envs/ProtTP/lib/python3.9/site-packages/xgboost/core.py:105: UserWarning: ntree_limit is deprecated, use `iteration_range` or model slicing instead.\n",
      "  warnings.warn(\n"
     ]
    },
    {
     "name": "stdout",
     "output_type": "stream",
     "text": [
      "[7]\ttrain-tweedie-nloglik@1.5:0.69571\ttest-tweedie-nloglik@1.5:0.91257\n",
      "[8]\ttrain-tweedie-nloglik@1.5:0.67824\ttest-tweedie-nloglik@1.5:0.92721\n",
      "[9]\ttrain-tweedie-nloglik@1.5:0.66984\ttest-tweedie-nloglik@1.5:0.91948\n",
      "[0]\ttrain-tweedie-nloglik@1.5:1.31066\ttest-tweedie-nloglik@1.5:1.34927\n",
      "[1]\ttrain-tweedie-nloglik@1.5:1.08364\ttest-tweedie-nloglik@1.5:1.15792\n",
      "[2]\ttrain-tweedie-nloglik@1.5:0.92441\ttest-tweedie-nloglik@1.5:1.03826\n",
      "[3]\ttrain-tweedie-nloglik@1.5:0.81467\ttest-tweedie-nloglik@1.5:0.96913\n",
      "[4]\ttrain-tweedie-nloglik@1.5:0.73666\ttest-tweedie-nloglik@1.5:0.93682\n",
      "[5]\ttrain-tweedie-nloglik@1.5:0.68354\ttest-tweedie-nloglik@1.5:0.91534\n",
      "[6]\ttrain-tweedie-nloglik@1.5:0.64862\ttest-tweedie-nloglik@1.5:0.92237\n",
      "[7]\ttrain-tweedie-nloglik@1.5:0.62445\ttest-tweedie-nloglik@1.5:0.93078\n",
      "[8]\ttrain-tweedie-nloglik@1.5:0.60981\ttest-tweedie-nloglik@1.5:0.94913\n",
      "[9]\ttrain-tweedie-nloglik@1.5:0.59982\ttest-tweedie-nloglik@1.5:0.96371\n",
      "[0]\ttrain-tweedie-nloglik@1.5:1.29349\ttest-tweedie-nloglik@1.5:1.35530\n",
      "[1]\ttrain-tweedie-nloglik@1.5:1.06143\ttest-tweedie-nloglik@1.5:1.17310\n",
      "[2]\ttrain-tweedie-nloglik@1.5:0.89802\ttest-tweedie-nloglik@1.5:1.05774\n",
      "[3]\ttrain-tweedie-nloglik@1.5:0.78372\ttest-tweedie-nloglik@1.5:0.99729\n",
      "[4]\ttrain-tweedie-nloglik@1.5:0.70514\ttest-tweedie-nloglik@1.5:0.96098\n",
      "[5]\ttrain-tweedie-nloglik@1.5:0.65213\ttest-tweedie-nloglik@1.5:0.96432\n",
      "[6]\ttrain-tweedie-nloglik@1.5:0.61564\ttest-tweedie-nloglik@1.5:0.97966\n"
     ]
    },
    {
     "name": "stderr",
     "output_type": "stream",
     "text": [
      "/home/jyang4/miniconda3/envs/ProtTP/lib/python3.9/site-packages/xgboost/core.py:105: UserWarning: ntree_limit is deprecated, use `iteration_range` or model slicing instead.\n",
      "  warnings.warn(\n",
      "/home/jyang4/miniconda3/envs/ProtTP/lib/python3.9/site-packages/xgboost/core.py:105: UserWarning: ntree_limit is deprecated, use `iteration_range` or model slicing instead.\n",
      "  warnings.warn(\n"
     ]
    },
    {
     "name": "stdout",
     "output_type": "stream",
     "text": [
      "[7]\ttrain-tweedie-nloglik@1.5:0.59451\ttest-tweedie-nloglik@1.5:0.99074\n",
      "[8]\ttrain-tweedie-nloglik@1.5:0.57878\ttest-tweedie-nloglik@1.5:1.01631\n",
      "[9]\ttrain-tweedie-nloglik@1.5:0.57072\ttest-tweedie-nloglik@1.5:1.02627\n",
      "[0]\ttrain-tweedie-nloglik@1.5:1.27769\ttest-tweedie-nloglik@1.5:1.35937\n",
      "[1]\ttrain-tweedie-nloglik@1.5:1.04866\ttest-tweedie-nloglik@1.5:1.18162\n",
      "[2]\ttrain-tweedie-nloglik@1.5:0.88455\ttest-tweedie-nloglik@1.5:1.07102\n",
      "[3]\ttrain-tweedie-nloglik@1.5:0.77204\ttest-tweedie-nloglik@1.5:1.00452\n",
      "[4]\ttrain-tweedie-nloglik@1.5:0.69321\ttest-tweedie-nloglik@1.5:0.97220\n",
      "[5]\ttrain-tweedie-nloglik@1.5:0.64023\ttest-tweedie-nloglik@1.5:0.95698\n",
      "[6]\ttrain-tweedie-nloglik@1.5:0.60407\ttest-tweedie-nloglik@1.5:0.97993\n",
      "[7]\ttrain-tweedie-nloglik@1.5:0.58083\ttest-tweedie-nloglik@1.5:1.00762\n",
      "[8]\ttrain-tweedie-nloglik@1.5:0.56603\ttest-tweedie-nloglik@1.5:1.03300\n",
      "[9]\ttrain-tweedie-nloglik@1.5:0.55427\ttest-tweedie-nloglik@1.5:1.06287\n",
      "[0]\ttrain-tweedie-nloglik@1.5:1.37073\ttest-tweedie-nloglik@1.5:1.35643\n",
      "[1]\ttrain-tweedie-nloglik@1.5:1.14687\ttest-tweedie-nloglik@1.5:1.17411\n",
      "[2]\ttrain-tweedie-nloglik@1.5:0.98668\ttest-tweedie-nloglik@1.5:1.05306\n",
      "[3]\ttrain-tweedie-nloglik@1.5:0.87294\ttest-tweedie-nloglik@1.5:0.98517\n",
      "[4]\ttrain-tweedie-nloglik@1.5:0.79507\ttest-tweedie-nloglik@1.5:0.95497\n",
      "[5]\ttrain-tweedie-nloglik@1.5:0.74377\ttest-tweedie-nloglik@1.5:0.95483\n",
      "[6]\ttrain-tweedie-nloglik@1.5:0.70722\ttest-tweedie-nloglik@1.5:0.95300\n"
     ]
    },
    {
     "name": "stderr",
     "output_type": "stream",
     "text": [
      "/home/jyang4/miniconda3/envs/ProtTP/lib/python3.9/site-packages/xgboost/core.py:105: UserWarning: ntree_limit is deprecated, use `iteration_range` or model slicing instead.\n",
      "  warnings.warn(\n",
      "/home/jyang4/miniconda3/envs/ProtTP/lib/python3.9/site-packages/xgboost/core.py:105: UserWarning: ntree_limit is deprecated, use `iteration_range` or model slicing instead.\n",
      "  warnings.warn(\n"
     ]
    },
    {
     "name": "stdout",
     "output_type": "stream",
     "text": [
      "[7]\ttrain-tweedie-nloglik@1.5:0.68218\ttest-tweedie-nloglik@1.5:0.95505\n",
      "[8]\ttrain-tweedie-nloglik@1.5:0.66778\ttest-tweedie-nloglik@1.5:0.97601\n",
      "[9]\ttrain-tweedie-nloglik@1.5:0.65981\ttest-tweedie-nloglik@1.5:0.98706\n",
      "[0]\ttrain-tweedie-nloglik@1.5:1.33020\ttest-tweedie-nloglik@1.5:1.35593\n",
      "[1]\ttrain-tweedie-nloglik@1.5:1.10108\ttest-tweedie-nloglik@1.5:1.16929\n",
      "[2]\ttrain-tweedie-nloglik@1.5:0.93977\ttest-tweedie-nloglik@1.5:1.05164\n",
      "[3]\ttrain-tweedie-nloglik@1.5:0.82729\ttest-tweedie-nloglik@1.5:0.98177\n",
      "[4]\ttrain-tweedie-nloglik@1.5:0.74807\ttest-tweedie-nloglik@1.5:0.94283\n",
      "[5]\ttrain-tweedie-nloglik@1.5:0.69314\ttest-tweedie-nloglik@1.5:0.91989\n",
      "[6]\ttrain-tweedie-nloglik@1.5:0.66200\ttest-tweedie-nloglik@1.5:0.91978\n",
      "[7]\ttrain-tweedie-nloglik@1.5:0.63987\ttest-tweedie-nloglik@1.5:0.92998\n",
      "[8]\ttrain-tweedie-nloglik@1.5:0.62031\ttest-tweedie-nloglik@1.5:0.93599\n",
      "[9]\ttrain-tweedie-nloglik@1.5:0.61227\ttest-tweedie-nloglik@1.5:0.93601\n",
      "[0]\ttrain-tweedie-nloglik@1.5:1.24302\ttest-tweedie-nloglik@1.5:1.35490\n",
      "[1]\ttrain-tweedie-nloglik@1.5:1.01038\ttest-tweedie-nloglik@1.5:1.16921\n",
      "[2]\ttrain-tweedie-nloglik@1.5:0.84609\ttest-tweedie-nloglik@1.5:1.05901\n",
      "[3]\ttrain-tweedie-nloglik@1.5:0.73391\ttest-tweedie-nloglik@1.5:0.99557\n",
      "[4]\ttrain-tweedie-nloglik@1.5:0.65299\ttest-tweedie-nloglik@1.5:0.97649\n",
      "[5]\ttrain-tweedie-nloglik@1.5:0.60228\ttest-tweedie-nloglik@1.5:0.98235\n",
      "[6]\ttrain-tweedie-nloglik@1.5:0.56728\ttest-tweedie-nloglik@1.5:1.00449\n"
     ]
    },
    {
     "name": "stderr",
     "output_type": "stream",
     "text": [
      "/home/jyang4/miniconda3/envs/ProtTP/lib/python3.9/site-packages/xgboost/core.py:105: UserWarning: ntree_limit is deprecated, use `iteration_range` or model slicing instead.\n",
      "  warnings.warn(\n",
      "/home/jyang4/miniconda3/envs/ProtTP/lib/python3.9/site-packages/xgboost/core.py:105: UserWarning: ntree_limit is deprecated, use `iteration_range` or model slicing instead.\n",
      "  warnings.warn(\n"
     ]
    },
    {
     "name": "stdout",
     "output_type": "stream",
     "text": [
      "[7]\ttrain-tweedie-nloglik@1.5:0.54742\ttest-tweedie-nloglik@1.5:1.01718\n",
      "[8]\ttrain-tweedie-nloglik@1.5:0.53339\ttest-tweedie-nloglik@1.5:1.04555\n",
      "[9]\ttrain-tweedie-nloglik@1.5:0.52465\ttest-tweedie-nloglik@1.5:1.07363\n",
      "[0]\ttrain-tweedie-nloglik@1.5:1.31785\ttest-tweedie-nloglik@1.5:1.35124\n",
      "[1]\ttrain-tweedie-nloglik@1.5:1.08446\ttest-tweedie-nloglik@1.5:1.16264\n",
      "[2]\ttrain-tweedie-nloglik@1.5:0.91810\ttest-tweedie-nloglik@1.5:1.04546\n",
      "[3]\ttrain-tweedie-nloglik@1.5:0.80311\ttest-tweedie-nloglik@1.5:0.98208\n",
      "[4]\ttrain-tweedie-nloglik@1.5:0.72527\ttest-tweedie-nloglik@1.5:0.95845\n",
      "[5]\ttrain-tweedie-nloglik@1.5:0.67059\ttest-tweedie-nloglik@1.5:0.94562\n",
      "[6]\ttrain-tweedie-nloglik@1.5:0.63614\ttest-tweedie-nloglik@1.5:0.94789\n",
      "[7]\ttrain-tweedie-nloglik@1.5:0.61372\ttest-tweedie-nloglik@1.5:0.96662\n",
      "[8]\ttrain-tweedie-nloglik@1.5:0.59827\ttest-tweedie-nloglik@1.5:0.98832\n",
      "[9]\ttrain-tweedie-nloglik@1.5:0.58764\ttest-tweedie-nloglik@1.5:0.97885\n",
      "[0]\ttrain-tweedie-nloglik@1.5:1.30595\ttest-tweedie-nloglik@1.5:1.35273\n",
      "[1]\ttrain-tweedie-nloglik@1.5:1.08365\ttest-tweedie-nloglik@1.5:1.16145\n",
      "[2]\ttrain-tweedie-nloglik@1.5:0.92678\ttest-tweedie-nloglik@1.5:1.03909\n",
      "[3]\ttrain-tweedie-nloglik@1.5:0.81547\ttest-tweedie-nloglik@1.5:0.96568\n",
      "[4]\ttrain-tweedie-nloglik@1.5:0.73786\ttest-tweedie-nloglik@1.5:0.93418\n",
      "[5]\ttrain-tweedie-nloglik@1.5:0.68546\ttest-tweedie-nloglik@1.5:0.92581\n",
      "[6]\ttrain-tweedie-nloglik@1.5:0.65003\ttest-tweedie-nloglik@1.5:0.94275\n"
     ]
    },
    {
     "name": "stderr",
     "output_type": "stream",
     "text": [
      "/home/jyang4/miniconda3/envs/ProtTP/lib/python3.9/site-packages/xgboost/core.py:105: UserWarning: ntree_limit is deprecated, use `iteration_range` or model slicing instead.\n",
      "  warnings.warn(\n",
      "/home/jyang4/miniconda3/envs/ProtTP/lib/python3.9/site-packages/xgboost/core.py:105: UserWarning: ntree_limit is deprecated, use `iteration_range` or model slicing instead.\n",
      "  warnings.warn(\n"
     ]
    },
    {
     "name": "stdout",
     "output_type": "stream",
     "text": [
      "[7]\ttrain-tweedie-nloglik@1.5:0.62524\ttest-tweedie-nloglik@1.5:0.94090\n",
      "[8]\ttrain-tweedie-nloglik@1.5:0.61006\ttest-tweedie-nloglik@1.5:0.96352\n",
      "[9]\ttrain-tweedie-nloglik@1.5:0.60249\ttest-tweedie-nloglik@1.5:0.96110\n",
      "[0]\ttrain-tweedie-nloglik@1.5:1.40381\ttest-tweedie-nloglik@1.5:1.35261\n",
      "[1]\ttrain-tweedie-nloglik@1.5:1.17026\ttest-tweedie-nloglik@1.5:1.15872\n",
      "[2]\ttrain-tweedie-nloglik@1.5:1.00534\ttest-tweedie-nloglik@1.5:1.02853\n",
      "[3]\ttrain-tweedie-nloglik@1.5:0.89054\ttest-tweedie-nloglik@1.5:0.94892\n",
      "[4]\ttrain-tweedie-nloglik@1.5:0.81302\ttest-tweedie-nloglik@1.5:0.90772\n",
      "[5]\ttrain-tweedie-nloglik@1.5:0.75707\ttest-tweedie-nloglik@1.5:0.87910\n",
      "[6]\ttrain-tweedie-nloglik@1.5:0.71590\ttest-tweedie-nloglik@1.5:0.86554\n",
      "[7]\ttrain-tweedie-nloglik@1.5:0.69261\ttest-tweedie-nloglik@1.5:0.87443\n",
      "[8]\ttrain-tweedie-nloglik@1.5:0.67494\ttest-tweedie-nloglik@1.5:0.87944\n",
      "[9]\ttrain-tweedie-nloglik@1.5:0.66623\ttest-tweedie-nloglik@1.5:0.88811\n",
      "[0]\ttrain-tweedie-nloglik@1.5:1.29878\ttest-tweedie-nloglik@1.5:1.35761\n",
      "[1]\ttrain-tweedie-nloglik@1.5:1.07071\ttest-tweedie-nloglik@1.5:1.18153\n",
      "[2]\ttrain-tweedie-nloglik@1.5:0.91021\ttest-tweedie-nloglik@1.5:1.06853\n",
      "[3]\ttrain-tweedie-nloglik@1.5:0.79795\ttest-tweedie-nloglik@1.5:1.00311\n",
      "[4]\ttrain-tweedie-nloglik@1.5:0.71285\ttest-tweedie-nloglik@1.5:0.96366\n",
      "[5]\ttrain-tweedie-nloglik@1.5:0.65754\ttest-tweedie-nloglik@1.5:0.94834\n",
      "[6]\ttrain-tweedie-nloglik@1.5:0.62223\ttest-tweedie-nloglik@1.5:0.95196\n"
     ]
    },
    {
     "name": "stderr",
     "output_type": "stream",
     "text": [
      "/home/jyang4/miniconda3/envs/ProtTP/lib/python3.9/site-packages/xgboost/core.py:105: UserWarning: ntree_limit is deprecated, use `iteration_range` or model slicing instead.\n",
      "  warnings.warn(\n",
      "/home/jyang4/miniconda3/envs/ProtTP/lib/python3.9/site-packages/xgboost/core.py:105: UserWarning: ntree_limit is deprecated, use `iteration_range` or model slicing instead.\n",
      "  warnings.warn(\n"
     ]
    },
    {
     "name": "stdout",
     "output_type": "stream",
     "text": [
      "[7]\ttrain-tweedie-nloglik@1.5:0.59856\ttest-tweedie-nloglik@1.5:0.95590\n",
      "[8]\ttrain-tweedie-nloglik@1.5:0.58432\ttest-tweedie-nloglik@1.5:0.98002\n",
      "[9]\ttrain-tweedie-nloglik@1.5:0.57409\ttest-tweedie-nloglik@1.5:0.99147\n",
      "[0]\ttrain-tweedie-nloglik@1.5:1.29791\ttest-tweedie-nloglik@1.5:1.35067\n",
      "[1]\ttrain-tweedie-nloglik@1.5:1.06830\ttest-tweedie-nloglik@1.5:1.16927\n",
      "[2]\ttrain-tweedie-nloglik@1.5:0.90282\ttest-tweedie-nloglik@1.5:1.04279\n",
      "[3]\ttrain-tweedie-nloglik@1.5:0.79075\ttest-tweedie-nloglik@1.5:0.98166\n",
      "[4]\ttrain-tweedie-nloglik@1.5:0.70875\ttest-tweedie-nloglik@1.5:0.94961\n",
      "[5]\ttrain-tweedie-nloglik@1.5:0.65481\ttest-tweedie-nloglik@1.5:0.93509\n",
      "[6]\ttrain-tweedie-nloglik@1.5:0.61923\ttest-tweedie-nloglik@1.5:0.93248\n",
      "[7]\ttrain-tweedie-nloglik@1.5:0.59692\ttest-tweedie-nloglik@1.5:0.94075\n",
      "[8]\ttrain-tweedie-nloglik@1.5:0.57946\ttest-tweedie-nloglik@1.5:0.96196\n",
      "[9]\ttrain-tweedie-nloglik@1.5:0.56906\ttest-tweedie-nloglik@1.5:0.96998\n",
      "[0]\ttrain-tweedie-nloglik@1.5:1.33922\ttest-tweedie-nloglik@1.5:1.35880\n",
      "[1]\ttrain-tweedie-nloglik@1.5:1.10924\ttest-tweedie-nloglik@1.5:1.17738\n",
      "[2]\ttrain-tweedie-nloglik@1.5:0.94421\ttest-tweedie-nloglik@1.5:1.06589\n",
      "[3]\ttrain-tweedie-nloglik@1.5:0.82786\ttest-tweedie-nloglik@1.5:0.99860\n",
      "[4]\ttrain-tweedie-nloglik@1.5:0.75089\ttest-tweedie-nloglik@1.5:0.97252\n",
      "[5]\ttrain-tweedie-nloglik@1.5:0.69463\ttest-tweedie-nloglik@1.5:0.97179\n",
      "[6]\ttrain-tweedie-nloglik@1.5:0.65822\ttest-tweedie-nloglik@1.5:0.99332\n"
     ]
    },
    {
     "name": "stderr",
     "output_type": "stream",
     "text": [
      "/home/jyang4/miniconda3/envs/ProtTP/lib/python3.9/site-packages/xgboost/core.py:105: UserWarning: ntree_limit is deprecated, use `iteration_range` or model slicing instead.\n",
      "  warnings.warn(\n",
      "/home/jyang4/miniconda3/envs/ProtTP/lib/python3.9/site-packages/xgboost/core.py:105: UserWarning: ntree_limit is deprecated, use `iteration_range` or model slicing instead.\n",
      "  warnings.warn(\n"
     ]
    },
    {
     "name": "stdout",
     "output_type": "stream",
     "text": [
      "[7]\ttrain-tweedie-nloglik@1.5:0.63598\ttest-tweedie-nloglik@1.5:1.02153\n",
      "[8]\ttrain-tweedie-nloglik@1.5:0.62081\ttest-tweedie-nloglik@1.5:1.03412\n",
      "[9]\ttrain-tweedie-nloglik@1.5:0.61286\ttest-tweedie-nloglik@1.5:1.05187\n",
      "[0]\ttrain-tweedie-nloglik@1.5:1.48533\ttest-tweedie-nloglik@1.5:1.36109\n",
      "[1]\ttrain-tweedie-nloglik@1.5:1.25702\ttest-tweedie-nloglik@1.5:1.17069\n",
      "[2]\ttrain-tweedie-nloglik@1.5:1.09307\ttest-tweedie-nloglik@1.5:1.04427\n",
      "[3]\ttrain-tweedie-nloglik@1.5:0.97739\ttest-tweedie-nloglik@1.5:0.97176\n",
      "[4]\ttrain-tweedie-nloglik@1.5:0.89812\ttest-tweedie-nloglik@1.5:0.93002\n",
      "[5]\ttrain-tweedie-nloglik@1.5:0.84507\ttest-tweedie-nloglik@1.5:0.91136\n",
      "[6]\ttrain-tweedie-nloglik@1.5:0.80581\ttest-tweedie-nloglik@1.5:0.89827\n",
      "[7]\ttrain-tweedie-nloglik@1.5:0.77973\ttest-tweedie-nloglik@1.5:0.89450\n",
      "[8]\ttrain-tweedie-nloglik@1.5:0.76758\ttest-tweedie-nloglik@1.5:0.88269\n",
      "[9]\ttrain-tweedie-nloglik@1.5:0.75434\ttest-tweedie-nloglik@1.5:0.87995\n",
      "[0]\ttrain-tweedie-nloglik@1.5:1.34130\ttest-tweedie-nloglik@1.5:1.35321\n",
      "[1]\ttrain-tweedie-nloglik@1.5:1.11433\ttest-tweedie-nloglik@1.5:1.16547\n",
      "[2]\ttrain-tweedie-nloglik@1.5:0.95088\ttest-tweedie-nloglik@1.5:1.03589\n",
      "[3]\ttrain-tweedie-nloglik@1.5:0.83499\ttest-tweedie-nloglik@1.5:0.95614\n",
      "[4]\ttrain-tweedie-nloglik@1.5:0.75722\ttest-tweedie-nloglik@1.5:0.91399\n",
      "[5]\ttrain-tweedie-nloglik@1.5:0.70110\ttest-tweedie-nloglik@1.5:0.88920\n",
      "[6]\ttrain-tweedie-nloglik@1.5:0.66814\ttest-tweedie-nloglik@1.5:0.88570\n"
     ]
    },
    {
     "name": "stderr",
     "output_type": "stream",
     "text": [
      "/home/jyang4/miniconda3/envs/ProtTP/lib/python3.9/site-packages/xgboost/core.py:105: UserWarning: ntree_limit is deprecated, use `iteration_range` or model slicing instead.\n",
      "  warnings.warn(\n",
      "/home/jyang4/miniconda3/envs/ProtTP/lib/python3.9/site-packages/xgboost/core.py:105: UserWarning: ntree_limit is deprecated, use `iteration_range` or model slicing instead.\n",
      "  warnings.warn(\n"
     ]
    },
    {
     "name": "stdout",
     "output_type": "stream",
     "text": [
      "[7]\ttrain-tweedie-nloglik@1.5:0.64298\ttest-tweedie-nloglik@1.5:0.88213\n",
      "[8]\ttrain-tweedie-nloglik@1.5:0.63002\ttest-tweedie-nloglik@1.5:0.88561\n",
      "[9]\ttrain-tweedie-nloglik@1.5:0.61921\ttest-tweedie-nloglik@1.5:0.90199\n",
      "[0]\ttrain-tweedie-nloglik@1.5:1.35546\ttest-tweedie-nloglik@1.5:1.35150\n",
      "[1]\ttrain-tweedie-nloglik@1.5:1.11906\ttest-tweedie-nloglik@1.5:1.16533\n",
      "[2]\ttrain-tweedie-nloglik@1.5:0.95226\ttest-tweedie-nloglik@1.5:1.04994\n",
      "[3]\ttrain-tweedie-nloglik@1.5:0.83427\ttest-tweedie-nloglik@1.5:0.98675\n",
      "[4]\ttrain-tweedie-nloglik@1.5:0.75390\ttest-tweedie-nloglik@1.5:0.96586\n",
      "[5]\ttrain-tweedie-nloglik@1.5:0.70122\ttest-tweedie-nloglik@1.5:0.97296\n",
      "[6]\ttrain-tweedie-nloglik@1.5:0.66734\ttest-tweedie-nloglik@1.5:0.98349\n",
      "[7]\ttrain-tweedie-nloglik@1.5:0.64475\ttest-tweedie-nloglik@1.5:1.02029\n",
      "[8]\ttrain-tweedie-nloglik@1.5:0.62889\ttest-tweedie-nloglik@1.5:1.02179\n",
      "[9]\ttrain-tweedie-nloglik@1.5:0.61981\ttest-tweedie-nloglik@1.5:1.04671\n",
      "[0]\ttrain-tweedie-nloglik@1.5:1.33689\ttest-tweedie-nloglik@1.5:1.34726\n",
      "[1]\ttrain-tweedie-nloglik@1.5:1.11164\ttest-tweedie-nloglik@1.5:1.15522\n",
      "[2]\ttrain-tweedie-nloglik@1.5:0.95471\ttest-tweedie-nloglik@1.5:1.02983\n",
      "[3]\ttrain-tweedie-nloglik@1.5:0.84122\ttest-tweedie-nloglik@1.5:0.95725\n",
      "[4]\ttrain-tweedie-nloglik@1.5:0.76415\ttest-tweedie-nloglik@1.5:0.91522\n",
      "[5]\ttrain-tweedie-nloglik@1.5:0.71182\ttest-tweedie-nloglik@1.5:0.90353\n",
      "[6]\ttrain-tweedie-nloglik@1.5:0.67750\ttest-tweedie-nloglik@1.5:0.90430\n"
     ]
    },
    {
     "name": "stderr",
     "output_type": "stream",
     "text": [
      "/home/jyang4/miniconda3/envs/ProtTP/lib/python3.9/site-packages/xgboost/core.py:105: UserWarning: ntree_limit is deprecated, use `iteration_range` or model slicing instead.\n",
      "  warnings.warn(\n",
      "/home/jyang4/miniconda3/envs/ProtTP/lib/python3.9/site-packages/xgboost/core.py:105: UserWarning: ntree_limit is deprecated, use `iteration_range` or model slicing instead.\n",
      "  warnings.warn(\n"
     ]
    },
    {
     "name": "stdout",
     "output_type": "stream",
     "text": [
      "[7]\ttrain-tweedie-nloglik@1.5:0.65305\ttest-tweedie-nloglik@1.5:0.90237\n",
      "[8]\ttrain-tweedie-nloglik@1.5:0.63854\ttest-tweedie-nloglik@1.5:0.90343\n",
      "[9]\ttrain-tweedie-nloglik@1.5:0.62827\ttest-tweedie-nloglik@1.5:0.90565\n",
      "[0]\ttrain-tweedie-nloglik@1.5:1.36952\ttest-tweedie-nloglik@1.5:1.35222\n",
      "[1]\ttrain-tweedie-nloglik@1.5:1.13645\ttest-tweedie-nloglik@1.5:1.16740\n",
      "[2]\ttrain-tweedie-nloglik@1.5:0.97302\ttest-tweedie-nloglik@1.5:1.05546\n",
      "[3]\ttrain-tweedie-nloglik@1.5:0.85710\ttest-tweedie-nloglik@1.5:0.98380\n",
      "[4]\ttrain-tweedie-nloglik@1.5:0.78016\ttest-tweedie-nloglik@1.5:0.95154\n",
      "[5]\ttrain-tweedie-nloglik@1.5:0.72667\ttest-tweedie-nloglik@1.5:0.94921\n",
      "[6]\ttrain-tweedie-nloglik@1.5:0.69313\ttest-tweedie-nloglik@1.5:0.95968\n",
      "[7]\ttrain-tweedie-nloglik@1.5:0.67205\ttest-tweedie-nloglik@1.5:0.98223\n",
      "[8]\ttrain-tweedie-nloglik@1.5:0.65663\ttest-tweedie-nloglik@1.5:0.99827\n",
      "[9]\ttrain-tweedie-nloglik@1.5:0.64707\ttest-tweedie-nloglik@1.5:1.01833\n",
      "[0]\ttrain-tweedie-nloglik@1.5:1.27232\ttest-tweedie-nloglik@1.5:1.35850\n",
      "[1]\ttrain-tweedie-nloglik@1.5:1.04142\ttest-tweedie-nloglik@1.5:1.18039\n",
      "[2]\ttrain-tweedie-nloglik@1.5:0.87958\ttest-tweedie-nloglik@1.5:1.06626\n",
      "[3]\ttrain-tweedie-nloglik@1.5:0.76951\ttest-tweedie-nloglik@1.5:0.99890\n",
      "[4]\ttrain-tweedie-nloglik@1.5:0.68868\ttest-tweedie-nloglik@1.5:0.97432\n",
      "[5]\ttrain-tweedie-nloglik@1.5:0.63490\ttest-tweedie-nloglik@1.5:0.96450\n",
      "[6]\ttrain-tweedie-nloglik@1.5:0.60226\ttest-tweedie-nloglik@1.5:0.96414\n"
     ]
    },
    {
     "name": "stderr",
     "output_type": "stream",
     "text": [
      "/home/jyang4/miniconda3/envs/ProtTP/lib/python3.9/site-packages/xgboost/core.py:105: UserWarning: ntree_limit is deprecated, use `iteration_range` or model slicing instead.\n",
      "  warnings.warn(\n",
      "/home/jyang4/miniconda3/envs/ProtTP/lib/python3.9/site-packages/xgboost/core.py:105: UserWarning: ntree_limit is deprecated, use `iteration_range` or model slicing instead.\n",
      "  warnings.warn(\n"
     ]
    },
    {
     "name": "stdout",
     "output_type": "stream",
     "text": [
      "[7]\ttrain-tweedie-nloglik@1.5:0.57801\ttest-tweedie-nloglik@1.5:0.99881\n",
      "[8]\ttrain-tweedie-nloglik@1.5:0.56380\ttest-tweedie-nloglik@1.5:1.01332\n",
      "[9]\ttrain-tweedie-nloglik@1.5:0.55339\ttest-tweedie-nloglik@1.5:1.02447\n",
      "[0]\ttrain-tweedie-nloglik@1.5:1.21044\ttest-tweedie-nloglik@1.5:1.36279\n",
      "[1]\ttrain-tweedie-nloglik@1.5:0.97427\ttest-tweedie-nloglik@1.5:1.18812\n",
      "[2]\ttrain-tweedie-nloglik@1.5:0.80914\ttest-tweedie-nloglik@1.5:1.08676\n",
      "[3]\ttrain-tweedie-nloglik@1.5:0.69117\ttest-tweedie-nloglik@1.5:1.03928\n",
      "[4]\ttrain-tweedie-nloglik@1.5:0.60874\ttest-tweedie-nloglik@1.5:1.02087\n",
      "[5]\ttrain-tweedie-nloglik@1.5:0.55307\ttest-tweedie-nloglik@1.5:1.04882\n",
      "[6]\ttrain-tweedie-nloglik@1.5:0.51580\ttest-tweedie-nloglik@1.5:1.08247\n",
      "[7]\ttrain-tweedie-nloglik@1.5:0.49206\ttest-tweedie-nloglik@1.5:1.10893\n",
      "[8]\ttrain-tweedie-nloglik@1.5:0.47744\ttest-tweedie-nloglik@1.5:1.15239\n",
      "[9]\ttrain-tweedie-nloglik@1.5:0.46679\ttest-tweedie-nloglik@1.5:1.16022\n",
      "[0]\ttrain-tweedie-nloglik@1.5:1.33486\ttest-tweedie-nloglik@1.5:1.34971\n",
      "[1]\ttrain-tweedie-nloglik@1.5:1.10731\ttest-tweedie-nloglik@1.5:1.15982\n",
      "[2]\ttrain-tweedie-nloglik@1.5:0.94774\ttest-tweedie-nloglik@1.5:1.04032\n",
      "[3]\ttrain-tweedie-nloglik@1.5:0.83856\ttest-tweedie-nloglik@1.5:0.97298\n",
      "[4]\ttrain-tweedie-nloglik@1.5:0.76542\ttest-tweedie-nloglik@1.5:0.94238\n",
      "[5]\ttrain-tweedie-nloglik@1.5:0.71216\ttest-tweedie-nloglik@1.5:0.92265\n",
      "[6]\ttrain-tweedie-nloglik@1.5:0.68158\ttest-tweedie-nloglik@1.5:0.92385\n"
     ]
    },
    {
     "name": "stderr",
     "output_type": "stream",
     "text": [
      "/home/jyang4/miniconda3/envs/ProtTP/lib/python3.9/site-packages/xgboost/core.py:105: UserWarning: ntree_limit is deprecated, use `iteration_range` or model slicing instead.\n",
      "  warnings.warn(\n",
      "/home/jyang4/miniconda3/envs/ProtTP/lib/python3.9/site-packages/xgboost/core.py:105: UserWarning: ntree_limit is deprecated, use `iteration_range` or model slicing instead.\n",
      "  warnings.warn(\n"
     ]
    },
    {
     "name": "stdout",
     "output_type": "stream",
     "text": [
      "[7]\ttrain-tweedie-nloglik@1.5:0.65605\ttest-tweedie-nloglik@1.5:0.93766\n",
      "[8]\ttrain-tweedie-nloglik@1.5:0.63985\ttest-tweedie-nloglik@1.5:0.94128\n",
      "[9]\ttrain-tweedie-nloglik@1.5:0.63005\ttest-tweedie-nloglik@1.5:0.94915\n",
      "[0]\ttrain-tweedie-nloglik@1.5:1.33889\ttest-tweedie-nloglik@1.5:1.35551\n",
      "[1]\ttrain-tweedie-nloglik@1.5:1.09747\ttest-tweedie-nloglik@1.5:1.17015\n",
      "[2]\ttrain-tweedie-nloglik@1.5:0.92729\ttest-tweedie-nloglik@1.5:1.05643\n",
      "[3]\ttrain-tweedie-nloglik@1.5:0.80807\ttest-tweedie-nloglik@1.5:0.99968\n",
      "[4]\ttrain-tweedie-nloglik@1.5:0.72538\ttest-tweedie-nloglik@1.5:0.97499\n",
      "[5]\ttrain-tweedie-nloglik@1.5:0.66767\ttest-tweedie-nloglik@1.5:0.96887\n",
      "[6]\ttrain-tweedie-nloglik@1.5:0.63296\ttest-tweedie-nloglik@1.5:0.99154\n",
      "[7]\ttrain-tweedie-nloglik@1.5:0.60693\ttest-tweedie-nloglik@1.5:1.00638\n",
      "[8]\ttrain-tweedie-nloglik@1.5:0.59134\ttest-tweedie-nloglik@1.5:1.01197\n",
      "[9]\ttrain-tweedie-nloglik@1.5:0.58059\ttest-tweedie-nloglik@1.5:1.03771\n",
      "[0]\ttrain-tweedie-nloglik@1.5:1.33020\ttest-tweedie-nloglik@1.5:1.35600\n",
      "[1]\ttrain-tweedie-nloglik@1.5:1.09868\ttest-tweedie-nloglik@1.5:1.17529\n",
      "[2]\ttrain-tweedie-nloglik@1.5:0.93579\ttest-tweedie-nloglik@1.5:1.06187\n",
      "[3]\ttrain-tweedie-nloglik@1.5:0.82341\ttest-tweedie-nloglik@1.5:1.00789\n",
      "[4]\ttrain-tweedie-nloglik@1.5:0.74773\ttest-tweedie-nloglik@1.5:0.99340\n",
      "[5]\ttrain-tweedie-nloglik@1.5:0.69491\ttest-tweedie-nloglik@1.5:1.00549\n",
      "[6]\ttrain-tweedie-nloglik@1.5:0.65675\ttest-tweedie-nloglik@1.5:0.99872\n",
      "[7]\ttrain-tweedie-nloglik@1.5:0.63534\ttest-tweedie-nloglik@1.5:0.99875\n"
     ]
    },
    {
     "name": "stderr",
     "output_type": "stream",
     "text": [
      "/home/jyang4/miniconda3/envs/ProtTP/lib/python3.9/site-packages/xgboost/core.py:105: UserWarning: ntree_limit is deprecated, use `iteration_range` or model slicing instead.\n",
      "  warnings.warn(\n",
      "/home/jyang4/miniconda3/envs/ProtTP/lib/python3.9/site-packages/xgboost/core.py:105: UserWarning: ntree_limit is deprecated, use `iteration_range` or model slicing instead.\n",
      "  warnings.warn(\n"
     ]
    },
    {
     "name": "stdout",
     "output_type": "stream",
     "text": [
      "[8]\ttrain-tweedie-nloglik@1.5:0.61791\ttest-tweedie-nloglik@1.5:1.01670\n",
      "[9]\ttrain-tweedie-nloglik@1.5:0.60799\ttest-tweedie-nloglik@1.5:1.03556\n",
      "[0]\ttrain-tweedie-nloglik@1.5:1.26009\ttest-tweedie-nloglik@1.5:1.35125\n",
      "[1]\ttrain-tweedie-nloglik@1.5:1.02906\ttest-tweedie-nloglik@1.5:1.16508\n",
      "[2]\ttrain-tweedie-nloglik@1.5:0.86601\ttest-tweedie-nloglik@1.5:1.04867\n",
      "[3]\ttrain-tweedie-nloglik@1.5:0.75330\ttest-tweedie-nloglik@1.5:0.98581\n",
      "[4]\ttrain-tweedie-nloglik@1.5:0.67435\ttest-tweedie-nloglik@1.5:0.94646\n",
      "[5]\ttrain-tweedie-nloglik@1.5:0.62247\ttest-tweedie-nloglik@1.5:0.94256\n",
      "[6]\ttrain-tweedie-nloglik@1.5:0.58801\ttest-tweedie-nloglik@1.5:0.94150\n",
      "[7]\ttrain-tweedie-nloglik@1.5:0.56735\ttest-tweedie-nloglik@1.5:0.94858\n",
      "[8]\ttrain-tweedie-nloglik@1.5:0.55326\ttest-tweedie-nloglik@1.5:0.96842\n",
      "[9]\ttrain-tweedie-nloglik@1.5:0.54287\ttest-tweedie-nloglik@1.5:0.98362\n",
      "[0]\ttrain-tweedie-nloglik@1.5:1.33213\ttest-tweedie-nloglik@1.5:1.35384\n",
      "[1]\ttrain-tweedie-nloglik@1.5:1.09312\ttest-tweedie-nloglik@1.5:1.16857\n",
      "[2]\ttrain-tweedie-nloglik@1.5:0.92510\ttest-tweedie-nloglik@1.5:1.05592\n",
      "[3]\ttrain-tweedie-nloglik@1.5:0.80806\ttest-tweedie-nloglik@1.5:0.99367\n",
      "[4]\ttrain-tweedie-nloglik@1.5:0.72707\ttest-tweedie-nloglik@1.5:0.96879\n",
      "[5]\ttrain-tweedie-nloglik@1.5:0.67348\ttest-tweedie-nloglik@1.5:0.96445\n",
      "[6]\ttrain-tweedie-nloglik@1.5:0.63538\ttest-tweedie-nloglik@1.5:0.99297\n"
     ]
    },
    {
     "name": "stderr",
     "output_type": "stream",
     "text": [
      "/home/jyang4/miniconda3/envs/ProtTP/lib/python3.9/site-packages/xgboost/core.py:105: UserWarning: ntree_limit is deprecated, use `iteration_range` or model slicing instead.\n",
      "  warnings.warn(\n",
      "/home/jyang4/miniconda3/envs/ProtTP/lib/python3.9/site-packages/xgboost/core.py:105: UserWarning: ntree_limit is deprecated, use `iteration_range` or model slicing instead.\n",
      "  warnings.warn(\n"
     ]
    },
    {
     "name": "stdout",
     "output_type": "stream",
     "text": [
      "[7]\ttrain-tweedie-nloglik@1.5:0.61210\ttest-tweedie-nloglik@1.5:1.00268\n",
      "[8]\ttrain-tweedie-nloglik@1.5:0.59549\ttest-tweedie-nloglik@1.5:1.02373\n",
      "[9]\ttrain-tweedie-nloglik@1.5:0.58622\ttest-tweedie-nloglik@1.5:1.03567\n",
      "[0]\ttrain-tweedie-nloglik@1.5:1.23830\ttest-tweedie-nloglik@1.5:1.35326\n",
      "[1]\ttrain-tweedie-nloglik@1.5:1.01073\ttest-tweedie-nloglik@1.5:1.17309\n",
      "[2]\ttrain-tweedie-nloglik@1.5:0.84940\ttest-tweedie-nloglik@1.5:1.05037\n",
      "[3]\ttrain-tweedie-nloglik@1.5:0.73836\ttest-tweedie-nloglik@1.5:0.98401\n",
      "[4]\ttrain-tweedie-nloglik@1.5:0.66328\ttest-tweedie-nloglik@1.5:0.95241\n",
      "[5]\ttrain-tweedie-nloglik@1.5:0.61181\ttest-tweedie-nloglik@1.5:0.93693\n",
      "[6]\ttrain-tweedie-nloglik@1.5:0.57913\ttest-tweedie-nloglik@1.5:0.93498\n",
      "[7]\ttrain-tweedie-nloglik@1.5:0.55891\ttest-tweedie-nloglik@1.5:0.95326\n",
      "[8]\ttrain-tweedie-nloglik@1.5:0.54447\ttest-tweedie-nloglik@1.5:0.96331\n",
      "[9]\ttrain-tweedie-nloglik@1.5:0.53607\ttest-tweedie-nloglik@1.5:0.98841\n",
      "[0]\ttrain-tweedie-nloglik@1.5:1.40412\ttest-tweedie-nloglik@1.5:1.36779\n",
      "[1]\ttrain-tweedie-nloglik@1.5:1.18741\ttest-tweedie-nloglik@1.5:1.18907\n",
      "[2]\ttrain-tweedie-nloglik@1.5:1.03179\ttest-tweedie-nloglik@1.5:1.06794\n"
     ]
    },
    {
     "name": "stderr",
     "output_type": "stream",
     "text": [
      "/home/jyang4/miniconda3/envs/ProtTP/lib/python3.9/site-packages/xgboost/core.py:105: UserWarning: ntree_limit is deprecated, use `iteration_range` or model slicing instead.\n",
      "  warnings.warn(\n",
      "/home/jyang4/miniconda3/envs/ProtTP/lib/python3.9/site-packages/xgboost/core.py:105: UserWarning: ntree_limit is deprecated, use `iteration_range` or model slicing instead.\n",
      "  warnings.warn(\n"
     ]
    },
    {
     "name": "stdout",
     "output_type": "stream",
     "text": [
      "[3]\ttrain-tweedie-nloglik@1.5:0.92149\ttest-tweedie-nloglik@1.5:0.99519\n",
      "[4]\ttrain-tweedie-nloglik@1.5:0.84124\ttest-tweedie-nloglik@1.5:0.96664\n",
      "[5]\ttrain-tweedie-nloglik@1.5:0.78650\ttest-tweedie-nloglik@1.5:0.96423\n",
      "[6]\ttrain-tweedie-nloglik@1.5:0.74572\ttest-tweedie-nloglik@1.5:0.96671\n",
      "[7]\ttrain-tweedie-nloglik@1.5:0.71610\ttest-tweedie-nloglik@1.5:0.98106\n",
      "[8]\ttrain-tweedie-nloglik@1.5:0.69473\ttest-tweedie-nloglik@1.5:0.99824\n",
      "[9]\ttrain-tweedie-nloglik@1.5:0.68119\ttest-tweedie-nloglik@1.5:1.01870\n",
      "[0]\ttrain-tweedie-nloglik@1.5:1.26228\ttest-tweedie-nloglik@1.5:1.35139\n",
      "[1]\ttrain-tweedie-nloglik@1.5:1.03014\ttest-tweedie-nloglik@1.5:1.16722\n",
      "[2]\ttrain-tweedie-nloglik@1.5:0.86658\ttest-tweedie-nloglik@1.5:1.05608\n",
      "[3]\ttrain-tweedie-nloglik@1.5:0.75263\ttest-tweedie-nloglik@1.5:1.00731\n",
      "[4]\ttrain-tweedie-nloglik@1.5:0.67111\ttest-tweedie-nloglik@1.5:0.98766\n",
      "[5]\ttrain-tweedie-nloglik@1.5:0.61522\ttest-tweedie-nloglik@1.5:1.00653\n",
      "[6]\ttrain-tweedie-nloglik@1.5:0.57598\ttest-tweedie-nloglik@1.5:1.02140\n",
      "[7]\ttrain-tweedie-nloglik@1.5:0.55005\ttest-tweedie-nloglik@1.5:1.06025\n",
      "[8]\ttrain-tweedie-nloglik@1.5:0.53165\ttest-tweedie-nloglik@1.5:1.08466\n",
      "[9]\ttrain-tweedie-nloglik@1.5:0.51937\ttest-tweedie-nloglik@1.5:1.13809\n",
      "[0]\ttrain-tweedie-nloglik@1.5:1.26599\ttest-tweedie-nloglik@1.5:1.36537\n",
      "[1]\ttrain-tweedie-nloglik@1.5:1.04017\ttest-tweedie-nloglik@1.5:1.19065\n"
     ]
    },
    {
     "name": "stderr",
     "output_type": "stream",
     "text": [
      "/home/jyang4/miniconda3/envs/ProtTP/lib/python3.9/site-packages/xgboost/core.py:105: UserWarning: ntree_limit is deprecated, use `iteration_range` or model slicing instead.\n",
      "  warnings.warn(\n",
      "/home/jyang4/miniconda3/envs/ProtTP/lib/python3.9/site-packages/xgboost/core.py:105: UserWarning: ntree_limit is deprecated, use `iteration_range` or model slicing instead.\n",
      "  warnings.warn(\n"
     ]
    },
    {
     "name": "stdout",
     "output_type": "stream",
     "text": [
      "[2]\ttrain-tweedie-nloglik@1.5:0.87454\ttest-tweedie-nloglik@1.5:1.07842\n",
      "[3]\ttrain-tweedie-nloglik@1.5:0.75895\ttest-tweedie-nloglik@1.5:1.01606\n",
      "[4]\ttrain-tweedie-nloglik@1.5:0.67714\ttest-tweedie-nloglik@1.5:0.98104\n",
      "[5]\ttrain-tweedie-nloglik@1.5:0.62003\ttest-tweedie-nloglik@1.5:0.97869\n",
      "[6]\ttrain-tweedie-nloglik@1.5:0.58458\ttest-tweedie-nloglik@1.5:0.99120\n",
      "[7]\ttrain-tweedie-nloglik@1.5:0.55962\ttest-tweedie-nloglik@1.5:1.02110\n",
      "[8]\ttrain-tweedie-nloglik@1.5:0.54226\ttest-tweedie-nloglik@1.5:1.03064\n",
      "[9]\ttrain-tweedie-nloglik@1.5:0.52881\ttest-tweedie-nloglik@1.5:1.04392\n",
      "[0]\ttrain-tweedie-nloglik@1.5:1.36339\ttest-tweedie-nloglik@1.5:1.37387\n",
      "[1]\ttrain-tweedie-nloglik@1.5:1.13815\ttest-tweedie-nloglik@1.5:1.20173\n",
      "[2]\ttrain-tweedie-nloglik@1.5:0.97216\ttest-tweedie-nloglik@1.5:1.08838\n",
      "[3]\ttrain-tweedie-nloglik@1.5:0.85459\ttest-tweedie-nloglik@1.5:1.03063\n",
      "[4]\ttrain-tweedie-nloglik@1.5:0.77430\ttest-tweedie-nloglik@1.5:0.99141\n",
      "[5]\ttrain-tweedie-nloglik@1.5:0.71991\ttest-tweedie-nloglik@1.5:0.99916\n",
      "[6]\ttrain-tweedie-nloglik@1.5:0.68309\ttest-tweedie-nloglik@1.5:0.99791\n",
      "[7]\ttrain-tweedie-nloglik@1.5:0.65462\ttest-tweedie-nloglik@1.5:1.02251\n",
      "[8]\ttrain-tweedie-nloglik@1.5:0.63468\ttest-tweedie-nloglik@1.5:1.05764\n",
      "[9]\ttrain-tweedie-nloglik@1.5:0.62228\ttest-tweedie-nloglik@1.5:1.06013\n",
      "[0]\ttrain-tweedie-nloglik@1.5:1.33779\ttest-tweedie-nloglik@1.5:1.36932\n",
      "[1]\ttrain-tweedie-nloglik@1.5:1.10728\ttest-tweedie-nloglik@1.5:1.19791\n"
     ]
    },
    {
     "name": "stderr",
     "output_type": "stream",
     "text": [
      "/home/jyang4/miniconda3/envs/ProtTP/lib/python3.9/site-packages/xgboost/core.py:105: UserWarning: ntree_limit is deprecated, use `iteration_range` or model slicing instead.\n",
      "  warnings.warn(\n",
      "/home/jyang4/miniconda3/envs/ProtTP/lib/python3.9/site-packages/xgboost/core.py:105: UserWarning: ntree_limit is deprecated, use `iteration_range` or model slicing instead.\n",
      "  warnings.warn(\n"
     ]
    },
    {
     "name": "stdout",
     "output_type": "stream",
     "text": [
      "[2]\ttrain-tweedie-nloglik@1.5:0.93851\ttest-tweedie-nloglik@1.5:1.09528\n",
      "[3]\ttrain-tweedie-nloglik@1.5:0.82033\ttest-tweedie-nloglik@1.5:1.04099\n",
      "[4]\ttrain-tweedie-nloglik@1.5:0.73705\ttest-tweedie-nloglik@1.5:1.01589\n",
      "[5]\ttrain-tweedie-nloglik@1.5:0.67966\ttest-tweedie-nloglik@1.5:1.00553\n",
      "[6]\ttrain-tweedie-nloglik@1.5:0.64246\ttest-tweedie-nloglik@1.5:1.00743\n",
      "[7]\ttrain-tweedie-nloglik@1.5:0.62050\ttest-tweedie-nloglik@1.5:1.02815\n",
      "[8]\ttrain-tweedie-nloglik@1.5:0.60339\ttest-tweedie-nloglik@1.5:1.04046\n",
      "[9]\ttrain-tweedie-nloglik@1.5:0.59183\ttest-tweedie-nloglik@1.5:1.05487\n",
      "[0]\ttrain-tweedie-nloglik@1.5:1.33989\ttest-tweedie-nloglik@1.5:1.37526\n",
      "[1]\ttrain-tweedie-nloglik@1.5:1.10384\ttest-tweedie-nloglik@1.5:1.21446\n",
      "[2]\ttrain-tweedie-nloglik@1.5:0.93330\ttest-tweedie-nloglik@1.5:1.10953\n",
      "[3]\ttrain-tweedie-nloglik@1.5:0.82686\ttest-tweedie-nloglik@1.5:1.05397\n",
      "[4]\ttrain-tweedie-nloglik@1.5:0.73923\ttest-tweedie-nloglik@1.5:1.03352\n",
      "[5]\ttrain-tweedie-nloglik@1.5:0.68099\ttest-tweedie-nloglik@1.5:1.04029\n",
      "[6]\ttrain-tweedie-nloglik@1.5:0.64551\ttest-tweedie-nloglik@1.5:1.06669\n",
      "[7]\ttrain-tweedie-nloglik@1.5:0.61352\ttest-tweedie-nloglik@1.5:1.07784\n",
      "[8]\ttrain-tweedie-nloglik@1.5:0.59287\ttest-tweedie-nloglik@1.5:1.11102\n",
      "[9]\ttrain-tweedie-nloglik@1.5:0.58088\ttest-tweedie-nloglik@1.5:1.14275\n",
      "[0]\ttrain-tweedie-nloglik@1.5:1.27017\ttest-tweedie-nloglik@1.5:1.36108\n"
     ]
    },
    {
     "name": "stderr",
     "output_type": "stream",
     "text": [
      "/home/jyang4/miniconda3/envs/ProtTP/lib/python3.9/site-packages/xgboost/core.py:105: UserWarning: ntree_limit is deprecated, use `iteration_range` or model slicing instead.\n",
      "  warnings.warn(\n",
      "/home/jyang4/miniconda3/envs/ProtTP/lib/python3.9/site-packages/xgboost/core.py:105: UserWarning: ntree_limit is deprecated, use `iteration_range` or model slicing instead.\n",
      "  warnings.warn(\n"
     ]
    },
    {
     "name": "stdout",
     "output_type": "stream",
     "text": [
      "[1]\ttrain-tweedie-nloglik@1.5:1.03717\ttest-tweedie-nloglik@1.5:1.17805\n",
      "[2]\ttrain-tweedie-nloglik@1.5:0.87428\ttest-tweedie-nloglik@1.5:1.06826\n",
      "[3]\ttrain-tweedie-nloglik@1.5:0.75986\ttest-tweedie-nloglik@1.5:1.00854\n",
      "[4]\ttrain-tweedie-nloglik@1.5:0.67930\ttest-tweedie-nloglik@1.5:0.98693\n",
      "[5]\ttrain-tweedie-nloglik@1.5:0.62570\ttest-tweedie-nloglik@1.5:0.98877\n",
      "[6]\ttrain-tweedie-nloglik@1.5:0.58659\ttest-tweedie-nloglik@1.5:0.99915\n",
      "[7]\ttrain-tweedie-nloglik@1.5:0.56123\ttest-tweedie-nloglik@1.5:1.01711\n",
      "[8]\ttrain-tweedie-nloglik@1.5:0.54119\ttest-tweedie-nloglik@1.5:1.04032\n",
      "[9]\ttrain-tweedie-nloglik@1.5:0.52672\ttest-tweedie-nloglik@1.5:1.06415\n",
      "[0]\ttrain-tweedie-nloglik@1.5:1.24809\ttest-tweedie-nloglik@1.5:1.36400\n",
      "[1]\ttrain-tweedie-nloglik@1.5:1.02109\ttest-tweedie-nloglik@1.5:1.19367\n",
      "[2]\ttrain-tweedie-nloglik@1.5:0.85879\ttest-tweedie-nloglik@1.5:1.09970\n",
      "[3]\ttrain-tweedie-nloglik@1.5:0.74505\ttest-tweedie-nloglik@1.5:1.04426\n",
      "[4]\ttrain-tweedie-nloglik@1.5:0.66657\ttest-tweedie-nloglik@1.5:1.03364\n",
      "[5]\ttrain-tweedie-nloglik@1.5:0.61108\ttest-tweedie-nloglik@1.5:1.02493\n",
      "[6]\ttrain-tweedie-nloglik@1.5:0.57635\ttest-tweedie-nloglik@1.5:1.03202\n",
      "[7]\ttrain-tweedie-nloglik@1.5:0.54987\ttest-tweedie-nloglik@1.5:1.07624\n",
      "[8]\ttrain-tweedie-nloglik@1.5:0.53151\ttest-tweedie-nloglik@1.5:1.11158\n",
      "[9]\ttrain-tweedie-nloglik@1.5:0.51883\ttest-tweedie-nloglik@1.5:1.15512\n",
      "[0]\ttrain-tweedie-nloglik@1.5:1.40228\ttest-tweedie-nloglik@1.5:1.38132\n",
      "[1]\ttrain-tweedie-nloglik@1.5:1.17642\ttest-tweedie-nloglik@1.5:1.20587\n"
     ]
    },
    {
     "name": "stderr",
     "output_type": "stream",
     "text": [
      "/home/jyang4/miniconda3/envs/ProtTP/lib/python3.9/site-packages/xgboost/core.py:105: UserWarning: ntree_limit is deprecated, use `iteration_range` or model slicing instead.\n",
      "  warnings.warn(\n",
      "/home/jyang4/miniconda3/envs/ProtTP/lib/python3.9/site-packages/xgboost/core.py:105: UserWarning: ntree_limit is deprecated, use `iteration_range` or model slicing instead.\n",
      "  warnings.warn(\n"
     ]
    },
    {
     "name": "stdout",
     "output_type": "stream",
     "text": [
      "[2]\ttrain-tweedie-nloglik@1.5:1.02006\ttest-tweedie-nloglik@1.5:1.10497\n",
      "[3]\ttrain-tweedie-nloglik@1.5:0.90635\ttest-tweedie-nloglik@1.5:1.05275\n",
      "[4]\ttrain-tweedie-nloglik@1.5:0.83101\ttest-tweedie-nloglik@1.5:1.01993\n",
      "[5]\ttrain-tweedie-nloglik@1.5:0.77886\ttest-tweedie-nloglik@1.5:1.01798\n",
      "[6]\ttrain-tweedie-nloglik@1.5:0.73237\ttest-tweedie-nloglik@1.5:0.99885\n",
      "[7]\ttrain-tweedie-nloglik@1.5:0.70556\ttest-tweedie-nloglik@1.5:1.02431\n",
      "[8]\ttrain-tweedie-nloglik@1.5:0.68250\ttest-tweedie-nloglik@1.5:1.02082\n",
      "[9]\ttrain-tweedie-nloglik@1.5:0.67102\ttest-tweedie-nloglik@1.5:1.04380\n",
      "[0]\ttrain-tweedie-nloglik@1.5:1.23541\ttest-tweedie-nloglik@1.5:1.35888\n",
      "[1]\ttrain-tweedie-nloglik@1.5:1.00022\ttest-tweedie-nloglik@1.5:1.18225\n",
      "[2]\ttrain-tweedie-nloglik@1.5:0.82911\ttest-tweedie-nloglik@1.5:1.07537\n",
      "[3]\ttrain-tweedie-nloglik@1.5:0.71057\ttest-tweedie-nloglik@1.5:1.02580\n",
      "[4]\ttrain-tweedie-nloglik@1.5:0.62864\ttest-tweedie-nloglik@1.5:0.99019\n",
      "[5]\ttrain-tweedie-nloglik@1.5:0.56886\ttest-tweedie-nloglik@1.5:1.00528\n",
      "[6]\ttrain-tweedie-nloglik@1.5:0.52942\ttest-tweedie-nloglik@1.5:1.01601\n",
      "[7]\ttrain-tweedie-nloglik@1.5:0.50471\ttest-tweedie-nloglik@1.5:1.03774\n",
      "[8]\ttrain-tweedie-nloglik@1.5:0.48562\ttest-tweedie-nloglik@1.5:1.06853\n",
      "[9]\ttrain-tweedie-nloglik@1.5:0.47474\ttest-tweedie-nloglik@1.5:1.09423\n",
      "[0]\ttrain-tweedie-nloglik@1.5:1.32250\ttest-tweedie-nloglik@1.5:1.36320\n",
      "[1]\ttrain-tweedie-nloglik@1.5:1.08747\ttest-tweedie-nloglik@1.5:1.18534\n"
     ]
    },
    {
     "name": "stderr",
     "output_type": "stream",
     "text": [
      "/home/jyang4/miniconda3/envs/ProtTP/lib/python3.9/site-packages/xgboost/core.py:105: UserWarning: ntree_limit is deprecated, use `iteration_range` or model slicing instead.\n",
      "  warnings.warn(\n",
      "/home/jyang4/miniconda3/envs/ProtTP/lib/python3.9/site-packages/xgboost/core.py:105: UserWarning: ntree_limit is deprecated, use `iteration_range` or model slicing instead.\n",
      "  warnings.warn(\n"
     ]
    },
    {
     "name": "stdout",
     "output_type": "stream",
     "text": [
      "[2]\ttrain-tweedie-nloglik@1.5:0.92059\ttest-tweedie-nloglik@1.5:1.07085\n",
      "[3]\ttrain-tweedie-nloglik@1.5:0.80139\ttest-tweedie-nloglik@1.5:1.00668\n",
      "[4]\ttrain-tweedie-nloglik@1.5:0.71430\ttest-tweedie-nloglik@1.5:0.97001\n",
      "[5]\ttrain-tweedie-nloglik@1.5:0.65428\ttest-tweedie-nloglik@1.5:0.97299\n",
      "[6]\ttrain-tweedie-nloglik@1.5:0.61612\ttest-tweedie-nloglik@1.5:0.98458\n",
      "[7]\ttrain-tweedie-nloglik@1.5:0.58668\ttest-tweedie-nloglik@1.5:0.97255\n",
      "[8]\ttrain-tweedie-nloglik@1.5:0.56942\ttest-tweedie-nloglik@1.5:0.98889\n",
      "[9]\ttrain-tweedie-nloglik@1.5:0.55727\ttest-tweedie-nloglik@1.5:1.01783\n",
      "[0]\ttrain-tweedie-nloglik@1.5:1.27611\ttest-tweedie-nloglik@1.5:1.35980\n",
      "[1]\ttrain-tweedie-nloglik@1.5:1.04614\ttest-tweedie-nloglik@1.5:1.18169\n",
      "[2]\ttrain-tweedie-nloglik@1.5:0.88098\ttest-tweedie-nloglik@1.5:1.07311\n",
      "[3]\ttrain-tweedie-nloglik@1.5:0.76731\ttest-tweedie-nloglik@1.5:1.02737\n",
      "[4]\ttrain-tweedie-nloglik@1.5:0.68855\ttest-tweedie-nloglik@1.5:1.02458\n",
      "[5]\ttrain-tweedie-nloglik@1.5:0.63365\ttest-tweedie-nloglik@1.5:1.03598\n",
      "[6]\ttrain-tweedie-nloglik@1.5:0.59492\ttest-tweedie-nloglik@1.5:1.05877\n",
      "[7]\ttrain-tweedie-nloglik@1.5:0.57045\ttest-tweedie-nloglik@1.5:1.10748\n",
      "[8]\ttrain-tweedie-nloglik@1.5:0.55396\ttest-tweedie-nloglik@1.5:1.14485\n",
      "[9]\ttrain-tweedie-nloglik@1.5:0.54256\ttest-tweedie-nloglik@1.5:1.18450\n",
      "[0]\ttrain-tweedie-nloglik@1.5:1.37672\ttest-tweedie-nloglik@1.5:1.36987\n",
      "[1]\ttrain-tweedie-nloglik@1.5:1.14422\ttest-tweedie-nloglik@1.5:1.19760\n"
     ]
    },
    {
     "name": "stderr",
     "output_type": "stream",
     "text": [
      "/home/jyang4/miniconda3/envs/ProtTP/lib/python3.9/site-packages/xgboost/core.py:105: UserWarning: ntree_limit is deprecated, use `iteration_range` or model slicing instead.\n",
      "  warnings.warn(\n",
      "/home/jyang4/miniconda3/envs/ProtTP/lib/python3.9/site-packages/xgboost/core.py:105: UserWarning: ntree_limit is deprecated, use `iteration_range` or model slicing instead.\n",
      "  warnings.warn(\n"
     ]
    },
    {
     "name": "stdout",
     "output_type": "stream",
     "text": [
      "[2]\ttrain-tweedie-nloglik@1.5:0.97503\ttest-tweedie-nloglik@1.5:1.08577\n",
      "[3]\ttrain-tweedie-nloglik@1.5:0.86049\ttest-tweedie-nloglik@1.5:1.02091\n",
      "[4]\ttrain-tweedie-nloglik@1.5:0.77853\ttest-tweedie-nloglik@1.5:1.00211\n",
      "[5]\ttrain-tweedie-nloglik@1.5:0.72230\ttest-tweedie-nloglik@1.5:1.01194\n",
      "[6]\ttrain-tweedie-nloglik@1.5:0.68529\ttest-tweedie-nloglik@1.5:1.03405\n",
      "[7]\ttrain-tweedie-nloglik@1.5:0.66060\ttest-tweedie-nloglik@1.5:1.06503\n",
      "[8]\ttrain-tweedie-nloglik@1.5:0.64340\ttest-tweedie-nloglik@1.5:1.08924\n",
      "[9]\ttrain-tweedie-nloglik@1.5:0.63494\ttest-tweedie-nloglik@1.5:1.10771\n",
      "[0]\ttrain-tweedie-nloglik@1.5:1.34917\ttest-tweedie-nloglik@1.5:1.38047\n",
      "[1]\ttrain-tweedie-nloglik@1.5:1.12866\ttest-tweedie-nloglik@1.5:1.21064\n",
      "[2]\ttrain-tweedie-nloglik@1.5:0.97543\ttest-tweedie-nloglik@1.5:1.10586\n",
      "[3]\ttrain-tweedie-nloglik@1.5:0.86244\ttest-tweedie-nloglik@1.5:1.04263\n",
      "[4]\ttrain-tweedie-nloglik@1.5:0.78719\ttest-tweedie-nloglik@1.5:1.01628\n",
      "[5]\ttrain-tweedie-nloglik@1.5:0.73060\ttest-tweedie-nloglik@1.5:1.00501\n",
      "[6]\ttrain-tweedie-nloglik@1.5:0.69216\ttest-tweedie-nloglik@1.5:1.02151\n",
      "[7]\ttrain-tweedie-nloglik@1.5:0.65979\ttest-tweedie-nloglik@1.5:1.04223\n",
      "[8]\ttrain-tweedie-nloglik@1.5:0.64284\ttest-tweedie-nloglik@1.5:1.07295\n",
      "[9]\ttrain-tweedie-nloglik@1.5:0.62909\ttest-tweedie-nloglik@1.5:1.08709\n",
      "[0]\ttrain-tweedie-nloglik@1.5:1.30294\ttest-tweedie-nloglik@1.5:1.35783\n",
      "[1]\ttrain-tweedie-nloglik@1.5:1.07278\ttest-tweedie-nloglik@1.5:1.17506\n"
     ]
    },
    {
     "name": "stderr",
     "output_type": "stream",
     "text": [
      "/home/jyang4/miniconda3/envs/ProtTP/lib/python3.9/site-packages/xgboost/core.py:105: UserWarning: ntree_limit is deprecated, use `iteration_range` or model slicing instead.\n",
      "  warnings.warn(\n",
      "/home/jyang4/miniconda3/envs/ProtTP/lib/python3.9/site-packages/xgboost/core.py:105: UserWarning: ntree_limit is deprecated, use `iteration_range` or model slicing instead.\n",
      "  warnings.warn(\n"
     ]
    },
    {
     "name": "stdout",
     "output_type": "stream",
     "text": [
      "[2]\ttrain-tweedie-nloglik@1.5:0.90724\ttest-tweedie-nloglik@1.5:1.05365\n",
      "[3]\ttrain-tweedie-nloglik@1.5:0.79134\ttest-tweedie-nloglik@1.5:0.98077\n",
      "[4]\ttrain-tweedie-nloglik@1.5:0.70864\ttest-tweedie-nloglik@1.5:0.96538\n",
      "[5]\ttrain-tweedie-nloglik@1.5:0.64984\ttest-tweedie-nloglik@1.5:0.95963\n",
      "[6]\ttrain-tweedie-nloglik@1.5:0.61050\ttest-tweedie-nloglik@1.5:0.96766\n",
      "[7]\ttrain-tweedie-nloglik@1.5:0.58421\ttest-tweedie-nloglik@1.5:1.00262\n",
      "[8]\ttrain-tweedie-nloglik@1.5:0.56532\ttest-tweedie-nloglik@1.5:1.02832\n",
      "[9]\ttrain-tweedie-nloglik@1.5:0.55448\ttest-tweedie-nloglik@1.5:1.05655\n",
      "[0]\ttrain-tweedie-nloglik@1.5:1.43376\ttest-tweedie-nloglik@1.5:1.37577\n",
      "[1]\ttrain-tweedie-nloglik@1.5:1.19848\ttest-tweedie-nloglik@1.5:1.19344\n",
      "[2]\ttrain-tweedie-nloglik@1.5:1.03835\ttest-tweedie-nloglik@1.5:1.08588\n",
      "[3]\ttrain-tweedie-nloglik@1.5:0.91656\ttest-tweedie-nloglik@1.5:0.99707\n",
      "[4]\ttrain-tweedie-nloglik@1.5:0.84132\ttest-tweedie-nloglik@1.5:0.95008\n",
      "[5]\ttrain-tweedie-nloglik@1.5:0.78963\ttest-tweedie-nloglik@1.5:0.92348\n",
      "[6]\ttrain-tweedie-nloglik@1.5:0.74260\ttest-tweedie-nloglik@1.5:0.91729\n",
      "[7]\ttrain-tweedie-nloglik@1.5:0.71414\ttest-tweedie-nloglik@1.5:0.93096\n",
      "[8]\ttrain-tweedie-nloglik@1.5:0.69120\ttest-tweedie-nloglik@1.5:0.95082\n",
      "[9]\ttrain-tweedie-nloglik@1.5:0.68029\ttest-tweedie-nloglik@1.5:0.96087\n",
      "[0]\ttrain-tweedie-nloglik@1.5:1.27529\ttest-tweedie-nloglik@1.5:1.36155\n"
     ]
    },
    {
     "name": "stderr",
     "output_type": "stream",
     "text": [
      "/home/jyang4/miniconda3/envs/ProtTP/lib/python3.9/site-packages/xgboost/core.py:105: UserWarning: ntree_limit is deprecated, use `iteration_range` or model slicing instead.\n",
      "  warnings.warn(\n",
      "/home/jyang4/miniconda3/envs/ProtTP/lib/python3.9/site-packages/xgboost/core.py:105: UserWarning: ntree_limit is deprecated, use `iteration_range` or model slicing instead.\n",
      "  warnings.warn(\n"
     ]
    },
    {
     "name": "stdout",
     "output_type": "stream",
     "text": [
      "[1]\ttrain-tweedie-nloglik@1.5:1.04902\ttest-tweedie-nloglik@1.5:1.18572\n",
      "[2]\ttrain-tweedie-nloglik@1.5:0.88898\ttest-tweedie-nloglik@1.5:1.07945\n",
      "[3]\ttrain-tweedie-nloglik@1.5:0.77616\ttest-tweedie-nloglik@1.5:1.02359\n",
      "[4]\ttrain-tweedie-nloglik@1.5:0.69738\ttest-tweedie-nloglik@1.5:0.99821\n",
      "[5]\ttrain-tweedie-nloglik@1.5:0.64089\ttest-tweedie-nloglik@1.5:0.99774\n",
      "[6]\ttrain-tweedie-nloglik@1.5:0.60393\ttest-tweedie-nloglik@1.5:1.01541\n",
      "[7]\ttrain-tweedie-nloglik@1.5:0.58061\ttest-tweedie-nloglik@1.5:1.05350\n",
      "[8]\ttrain-tweedie-nloglik@1.5:0.56436\ttest-tweedie-nloglik@1.5:1.09090\n",
      "[9]\ttrain-tweedie-nloglik@1.5:0.54987\ttest-tweedie-nloglik@1.5:1.13206\n",
      "[0]\ttrain-tweedie-nloglik@1.5:1.27053\ttest-tweedie-nloglik@1.5:1.36193\n",
      "[1]\ttrain-tweedie-nloglik@1.5:1.04060\ttest-tweedie-nloglik@1.5:1.17694\n",
      "[2]\ttrain-tweedie-nloglik@1.5:0.87621\ttest-tweedie-nloglik@1.5:1.05825\n",
      "[3]\ttrain-tweedie-nloglik@1.5:0.75345\ttest-tweedie-nloglik@1.5:0.97977\n",
      "[4]\ttrain-tweedie-nloglik@1.5:0.66663\ttest-tweedie-nloglik@1.5:0.95429\n",
      "[5]\ttrain-tweedie-nloglik@1.5:0.60805\ttest-tweedie-nloglik@1.5:0.96426\n",
      "[6]\ttrain-tweedie-nloglik@1.5:0.57040\ttest-tweedie-nloglik@1.5:0.97464\n",
      "[7]\ttrain-tweedie-nloglik@1.5:0.54157\ttest-tweedie-nloglik@1.5:1.00815\n",
      "[8]\ttrain-tweedie-nloglik@1.5:0.52326\ttest-tweedie-nloglik@1.5:1.03174\n",
      "[9]\ttrain-tweedie-nloglik@1.5:0.50827\ttest-tweedie-nloglik@1.5:1.06496\n",
      "[0]\ttrain-tweedie-nloglik@1.5:1.38534\ttest-tweedie-nloglik@1.5:1.36411\n",
      "[1]\ttrain-tweedie-nloglik@1.5:1.14562\ttest-tweedie-nloglik@1.5:1.18017\n"
     ]
    },
    {
     "name": "stderr",
     "output_type": "stream",
     "text": [
      "/home/jyang4/miniconda3/envs/ProtTP/lib/python3.9/site-packages/xgboost/core.py:105: UserWarning: ntree_limit is deprecated, use `iteration_range` or model slicing instead.\n",
      "  warnings.warn(\n",
      "/home/jyang4/miniconda3/envs/ProtTP/lib/python3.9/site-packages/xgboost/core.py:105: UserWarning: ntree_limit is deprecated, use `iteration_range` or model slicing instead.\n",
      "  warnings.warn(\n"
     ]
    },
    {
     "name": "stdout",
     "output_type": "stream",
     "text": [
      "[2]\ttrain-tweedie-nloglik@1.5:0.97702\ttest-tweedie-nloglik@1.5:1.06417\n",
      "[3]\ttrain-tweedie-nloglik@1.5:0.86079\ttest-tweedie-nloglik@1.5:0.99488\n",
      "[4]\ttrain-tweedie-nloglik@1.5:0.77858\ttest-tweedie-nloglik@1.5:0.95449\n",
      "[5]\ttrain-tweedie-nloglik@1.5:0.72234\ttest-tweedie-nloglik@1.5:0.95631\n",
      "[6]\ttrain-tweedie-nloglik@1.5:0.68560\ttest-tweedie-nloglik@1.5:0.94935\n",
      "[7]\ttrain-tweedie-nloglik@1.5:0.66201\ttest-tweedie-nloglik@1.5:0.96141\n",
      "[8]\ttrain-tweedie-nloglik@1.5:0.64309\ttest-tweedie-nloglik@1.5:0.96880\n",
      "[9]\ttrain-tweedie-nloglik@1.5:0.63240\ttest-tweedie-nloglik@1.5:0.97136\n",
      "[0]\ttrain-tweedie-nloglik@1.5:1.31017\ttest-tweedie-nloglik@1.5:1.37879\n",
      "[1]\ttrain-tweedie-nloglik@1.5:1.07808\ttest-tweedie-nloglik@1.5:1.20223\n",
      "[2]\ttrain-tweedie-nloglik@1.5:0.90964\ttest-tweedie-nloglik@1.5:1.09825\n",
      "[3]\ttrain-tweedie-nloglik@1.5:0.78812\ttest-tweedie-nloglik@1.5:1.05993\n",
      "[4]\ttrain-tweedie-nloglik@1.5:0.70467\ttest-tweedie-nloglik@1.5:1.05109\n",
      "[5]\ttrain-tweedie-nloglik@1.5:0.64637\ttest-tweedie-nloglik@1.5:1.08088\n",
      "[6]\ttrain-tweedie-nloglik@1.5:0.60407\ttest-tweedie-nloglik@1.5:1.07266\n",
      "[7]\ttrain-tweedie-nloglik@1.5:0.57785\ttest-tweedie-nloglik@1.5:1.11990\n",
      "[8]\ttrain-tweedie-nloglik@1.5:0.55849\ttest-tweedie-nloglik@1.5:1.17465\n",
      "[9]\ttrain-tweedie-nloglik@1.5:0.54600\ttest-tweedie-nloglik@1.5:1.21777\n",
      "[0]\ttrain-tweedie-nloglik@1.5:1.26553\ttest-tweedie-nloglik@1.5:1.36731\n",
      "[1]\ttrain-tweedie-nloglik@1.5:1.03944\ttest-tweedie-nloglik@1.5:1.19193\n"
     ]
    },
    {
     "name": "stderr",
     "output_type": "stream",
     "text": [
      "/home/jyang4/miniconda3/envs/ProtTP/lib/python3.9/site-packages/xgboost/core.py:105: UserWarning: ntree_limit is deprecated, use `iteration_range` or model slicing instead.\n",
      "  warnings.warn(\n",
      "/home/jyang4/miniconda3/envs/ProtTP/lib/python3.9/site-packages/xgboost/core.py:105: UserWarning: ntree_limit is deprecated, use `iteration_range` or model slicing instead.\n",
      "  warnings.warn(\n"
     ]
    },
    {
     "name": "stdout",
     "output_type": "stream",
     "text": [
      "[2]\ttrain-tweedie-nloglik@1.5:0.87771\ttest-tweedie-nloglik@1.5:1.08878\n",
      "[3]\ttrain-tweedie-nloglik@1.5:0.76484\ttest-tweedie-nloglik@1.5:1.03716\n",
      "[4]\ttrain-tweedie-nloglik@1.5:0.68457\ttest-tweedie-nloglik@1.5:1.02252\n",
      "[5]\ttrain-tweedie-nloglik@1.5:0.62737\ttest-tweedie-nloglik@1.5:1.04119\n",
      "[6]\ttrain-tweedie-nloglik@1.5:0.58834\ttest-tweedie-nloglik@1.5:1.04727\n",
      "[7]\ttrain-tweedie-nloglik@1.5:0.56313\ttest-tweedie-nloglik@1.5:1.09076\n",
      "[8]\ttrain-tweedie-nloglik@1.5:0.54524\ttest-tweedie-nloglik@1.5:1.12860\n",
      "[9]\ttrain-tweedie-nloglik@1.5:0.53045\ttest-tweedie-nloglik@1.5:1.15453\n",
      "[0]\ttrain-tweedie-nloglik@1.5:1.35724\ttest-tweedie-nloglik@1.5:1.36820\n",
      "[1]\ttrain-tweedie-nloglik@1.5:1.13125\ttest-tweedie-nloglik@1.5:1.19905\n",
      "[2]\ttrain-tweedie-nloglik@1.5:0.96854\ttest-tweedie-nloglik@1.5:1.09311\n",
      "[3]\ttrain-tweedie-nloglik@1.5:0.85490\ttest-tweedie-nloglik@1.5:1.02709\n",
      "[4]\ttrain-tweedie-nloglik@1.5:0.77165\ttest-tweedie-nloglik@1.5:1.00403\n",
      "[5]\ttrain-tweedie-nloglik@1.5:0.71090\ttest-tweedie-nloglik@1.5:0.99741\n",
      "[6]\ttrain-tweedie-nloglik@1.5:0.67116\ttest-tweedie-nloglik@1.5:1.01598\n",
      "[7]\ttrain-tweedie-nloglik@1.5:0.64341\ttest-tweedie-nloglik@1.5:1.02034\n",
      "[8]\ttrain-tweedie-nloglik@1.5:0.62733\ttest-tweedie-nloglik@1.5:1.05227\n",
      "[9]\ttrain-tweedie-nloglik@1.5:0.61749\ttest-tweedie-nloglik@1.5:1.06539\n",
      "[0]\ttrain-tweedie-nloglik@1.5:1.33789\ttest-tweedie-nloglik@1.5:1.37630\n",
      "[1]\ttrain-tweedie-nloglik@1.5:1.11653\ttest-tweedie-nloglik@1.5:1.20102\n"
     ]
    },
    {
     "name": "stderr",
     "output_type": "stream",
     "text": [
      "/home/jyang4/miniconda3/envs/ProtTP/lib/python3.9/site-packages/xgboost/core.py:105: UserWarning: ntree_limit is deprecated, use `iteration_range` or model slicing instead.\n",
      "  warnings.warn(\n",
      "/home/jyang4/miniconda3/envs/ProtTP/lib/python3.9/site-packages/xgboost/core.py:105: UserWarning: ntree_limit is deprecated, use `iteration_range` or model slicing instead.\n",
      "  warnings.warn(\n"
     ]
    },
    {
     "name": "stdout",
     "output_type": "stream",
     "text": [
      "[2]\ttrain-tweedie-nloglik@1.5:0.95380\ttest-tweedie-nloglik@1.5:1.08201\n",
      "[3]\ttrain-tweedie-nloglik@1.5:0.84000\ttest-tweedie-nloglik@1.5:1.01434\n",
      "[4]\ttrain-tweedie-nloglik@1.5:0.75843\ttest-tweedie-nloglik@1.5:0.98245\n",
      "[5]\ttrain-tweedie-nloglik@1.5:0.69932\ttest-tweedie-nloglik@1.5:0.96454\n",
      "[6]\ttrain-tweedie-nloglik@1.5:0.66163\ttest-tweedie-nloglik@1.5:0.98001\n",
      "[7]\ttrain-tweedie-nloglik@1.5:0.63406\ttest-tweedie-nloglik@1.5:0.99178\n",
      "[8]\ttrain-tweedie-nloglik@1.5:0.61714\ttest-tweedie-nloglik@1.5:1.02037\n",
      "[9]\ttrain-tweedie-nloglik@1.5:0.60822\ttest-tweedie-nloglik@1.5:1.02973\n",
      "[0]\ttrain-tweedie-nloglik@1.5:1.38603\ttest-tweedie-nloglik@1.5:1.37453\n",
      "[1]\ttrain-tweedie-nloglik@1.5:1.16076\ttest-tweedie-nloglik@1.5:1.20452\n",
      "[2]\ttrain-tweedie-nloglik@1.5:1.00002\ttest-tweedie-nloglik@1.5:1.09406\n",
      "[3]\ttrain-tweedie-nloglik@1.5:0.88545\ttest-tweedie-nloglik@1.5:1.02097\n",
      "[4]\ttrain-tweedie-nloglik@1.5:0.80414\ttest-tweedie-nloglik@1.5:0.98961\n",
      "[5]\ttrain-tweedie-nloglik@1.5:0.74941\ttest-tweedie-nloglik@1.5:0.97521\n",
      "[6]\ttrain-tweedie-nloglik@1.5:0.71203\ttest-tweedie-nloglik@1.5:0.98060\n",
      "[7]\ttrain-tweedie-nloglik@1.5:0.68569\ttest-tweedie-nloglik@1.5:0.96446\n",
      "[8]\ttrain-tweedie-nloglik@1.5:0.66831\ttest-tweedie-nloglik@1.5:0.98409\n",
      "[9]\ttrain-tweedie-nloglik@1.5:0.65589\ttest-tweedie-nloglik@1.5:0.99025\n",
      "[0]\ttrain-tweedie-nloglik@1.5:1.39689\ttest-tweedie-nloglik@1.5:1.36492\n",
      "[1]\ttrain-tweedie-nloglik@1.5:1.15455\ttest-tweedie-nloglik@1.5:1.17775\n"
     ]
    },
    {
     "name": "stderr",
     "output_type": "stream",
     "text": [
      "/home/jyang4/miniconda3/envs/ProtTP/lib/python3.9/site-packages/xgboost/core.py:105: UserWarning: ntree_limit is deprecated, use `iteration_range` or model slicing instead.\n",
      "  warnings.warn(\n",
      "/home/jyang4/miniconda3/envs/ProtTP/lib/python3.9/site-packages/xgboost/core.py:105: UserWarning: ntree_limit is deprecated, use `iteration_range` or model slicing instead.\n",
      "  warnings.warn(\n"
     ]
    },
    {
     "name": "stdout",
     "output_type": "stream",
     "text": [
      "[2]\ttrain-tweedie-nloglik@1.5:0.98301\ttest-tweedie-nloglik@1.5:1.05965\n",
      "[3]\ttrain-tweedie-nloglik@1.5:0.86486\ttest-tweedie-nloglik@1.5:0.99245\n",
      "[4]\ttrain-tweedie-nloglik@1.5:0.78363\ttest-tweedie-nloglik@1.5:0.95394\n",
      "[5]\ttrain-tweedie-nloglik@1.5:0.72736\ttest-tweedie-nloglik@1.5:0.94501\n",
      "[6]\ttrain-tweedie-nloglik@1.5:0.69085\ttest-tweedie-nloglik@1.5:0.93597\n",
      "[7]\ttrain-tweedie-nloglik@1.5:0.66380\ttest-tweedie-nloglik@1.5:0.94941\n",
      "[8]\ttrain-tweedie-nloglik@1.5:0.64701\ttest-tweedie-nloglik@1.5:0.95227\n",
      "[9]\ttrain-tweedie-nloglik@1.5:0.63462\ttest-tweedie-nloglik@1.5:0.96140\n",
      "[0]\ttrain-tweedie-nloglik@1.5:1.32156\ttest-tweedie-nloglik@1.5:1.37196\n",
      "[1]\ttrain-tweedie-nloglik@1.5:1.08851\ttest-tweedie-nloglik@1.5:1.20523\n",
      "[2]\ttrain-tweedie-nloglik@1.5:0.91892\ttest-tweedie-nloglik@1.5:1.10432\n",
      "[3]\ttrain-tweedie-nloglik@1.5:0.80475\ttest-tweedie-nloglik@1.5:1.05677\n",
      "[4]\ttrain-tweedie-nloglik@1.5:0.71661\ttest-tweedie-nloglik@1.5:1.04052\n",
      "[5]\ttrain-tweedie-nloglik@1.5:0.65623\ttest-tweedie-nloglik@1.5:1.05739\n",
      "[6]\ttrain-tweedie-nloglik@1.5:0.61835\ttest-tweedie-nloglik@1.5:1.08138\n",
      "[7]\ttrain-tweedie-nloglik@1.5:0.59024\ttest-tweedie-nloglik@1.5:1.11807\n",
      "[8]\ttrain-tweedie-nloglik@1.5:0.57286\ttest-tweedie-nloglik@1.5:1.15400\n",
      "[9]\ttrain-tweedie-nloglik@1.5:0.55682\ttest-tweedie-nloglik@1.5:1.19879\n",
      "[0]\ttrain-tweedie-nloglik@1.5:1.26374\ttest-tweedie-nloglik@1.5:1.38751\n",
      "[1]\ttrain-tweedie-nloglik@1.5:1.04770\ttest-tweedie-nloglik@1.5:1.23216\n"
     ]
    },
    {
     "name": "stderr",
     "output_type": "stream",
     "text": [
      "/home/jyang4/miniconda3/envs/ProtTP/lib/python3.9/site-packages/xgboost/core.py:105: UserWarning: ntree_limit is deprecated, use `iteration_range` or model slicing instead.\n",
      "  warnings.warn(\n",
      "/home/jyang4/miniconda3/envs/ProtTP/lib/python3.9/site-packages/xgboost/core.py:105: UserWarning: ntree_limit is deprecated, use `iteration_range` or model slicing instead.\n",
      "  warnings.warn(\n"
     ]
    },
    {
     "name": "stdout",
     "output_type": "stream",
     "text": [
      "[2]\ttrain-tweedie-nloglik@1.5:0.89028\ttest-tweedie-nloglik@1.5:1.13070\n",
      "[3]\ttrain-tweedie-nloglik@1.5:0.78130\ttest-tweedie-nloglik@1.5:1.06185\n",
      "[4]\ttrain-tweedie-nloglik@1.5:0.70551\ttest-tweedie-nloglik@1.5:1.03713\n",
      "[5]\ttrain-tweedie-nloglik@1.5:0.64755\ttest-tweedie-nloglik@1.5:1.03483\n",
      "[6]\ttrain-tweedie-nloglik@1.5:0.60870\ttest-tweedie-nloglik@1.5:1.05959\n",
      "[7]\ttrain-tweedie-nloglik@1.5:0.58244\ttest-tweedie-nloglik@1.5:1.08441\n",
      "[8]\ttrain-tweedie-nloglik@1.5:0.56591\ttest-tweedie-nloglik@1.5:1.10166\n",
      "[9]\ttrain-tweedie-nloglik@1.5:0.55610\ttest-tweedie-nloglik@1.5:1.11285\n",
      "[0]\ttrain-tweedie-nloglik@1.5:1.48314\ttest-tweedie-nloglik@1.5:1.36428\n",
      "[1]\ttrain-tweedie-nloglik@1.5:1.25376\ttest-tweedie-nloglik@1.5:1.18277\n",
      "[2]\ttrain-tweedie-nloglik@1.5:1.08316\ttest-tweedie-nloglik@1.5:1.05368\n",
      "[3]\ttrain-tweedie-nloglik@1.5:0.96428\ttest-tweedie-nloglik@1.5:0.97963\n",
      "[4]\ttrain-tweedie-nloglik@1.5:0.88360\ttest-tweedie-nloglik@1.5:0.92850\n",
      "[5]\ttrain-tweedie-nloglik@1.5:0.82239\ttest-tweedie-nloglik@1.5:0.90514\n",
      "[6]\ttrain-tweedie-nloglik@1.5:0.78567\ttest-tweedie-nloglik@1.5:0.90738\n",
      "[7]\ttrain-tweedie-nloglik@1.5:0.76082\ttest-tweedie-nloglik@1.5:0.92363\n",
      "[8]\ttrain-tweedie-nloglik@1.5:0.73892\ttest-tweedie-nloglik@1.5:0.94406\n",
      "[9]\ttrain-tweedie-nloglik@1.5:0.72313\ttest-tweedie-nloglik@1.5:0.95961\n",
      "[0]\ttrain-tweedie-nloglik@1.5:1.26363\ttest-tweedie-nloglik@1.5:1.36868\n"
     ]
    },
    {
     "name": "stderr",
     "output_type": "stream",
     "text": [
      "/home/jyang4/miniconda3/envs/ProtTP/lib/python3.9/site-packages/xgboost/core.py:105: UserWarning: ntree_limit is deprecated, use `iteration_range` or model slicing instead.\n",
      "  warnings.warn(\n",
      "/home/jyang4/miniconda3/envs/ProtTP/lib/python3.9/site-packages/xgboost/core.py:105: UserWarning: ntree_limit is deprecated, use `iteration_range` or model slicing instead.\n",
      "  warnings.warn(\n"
     ]
    },
    {
     "name": "stdout",
     "output_type": "stream",
     "text": [
      "[1]\ttrain-tweedie-nloglik@1.5:1.02673\ttest-tweedie-nloglik@1.5:1.19680\n",
      "[2]\ttrain-tweedie-nloglik@1.5:0.85907\ttest-tweedie-nloglik@1.5:1.11160\n",
      "[3]\ttrain-tweedie-nloglik@1.5:0.73561\ttest-tweedie-nloglik@1.5:1.05593\n",
      "[4]\ttrain-tweedie-nloglik@1.5:0.65163\ttest-tweedie-nloglik@1.5:1.03081\n",
      "[5]\ttrain-tweedie-nloglik@1.5:0.59365\ttest-tweedie-nloglik@1.5:1.05746\n",
      "[6]\ttrain-tweedie-nloglik@1.5:0.55735\ttest-tweedie-nloglik@1.5:1.10671\n",
      "[7]\ttrain-tweedie-nloglik@1.5:0.53008\ttest-tweedie-nloglik@1.5:1.16629\n",
      "[8]\ttrain-tweedie-nloglik@1.5:0.51309\ttest-tweedie-nloglik@1.5:1.20417\n",
      "[9]\ttrain-tweedie-nloglik@1.5:0.50127\ttest-tweedie-nloglik@1.5:1.24141\n",
      "[0]\ttrain-tweedie-nloglik@1.5:1.33493\ttest-tweedie-nloglik@1.5:1.36537\n",
      "[1]\ttrain-tweedie-nloglik@1.5:1.10291\ttest-tweedie-nloglik@1.5:1.18946\n",
      "[2]\ttrain-tweedie-nloglik@1.5:0.93733\ttest-tweedie-nloglik@1.5:1.08544\n",
      "[3]\ttrain-tweedie-nloglik@1.5:0.81752\ttest-tweedie-nloglik@1.5:1.00378\n",
      "[4]\ttrain-tweedie-nloglik@1.5:0.73855\ttest-tweedie-nloglik@1.5:0.98593\n",
      "[5]\ttrain-tweedie-nloglik@1.5:0.68253\ttest-tweedie-nloglik@1.5:0.96601\n",
      "[6]\ttrain-tweedie-nloglik@1.5:0.64641\ttest-tweedie-nloglik@1.5:0.96461\n",
      "[7]\ttrain-tweedie-nloglik@1.5:0.62323\ttest-tweedie-nloglik@1.5:0.97728\n",
      "[8]\ttrain-tweedie-nloglik@1.5:0.60259\ttest-tweedie-nloglik@1.5:1.00737\n",
      "[9]\ttrain-tweedie-nloglik@1.5:0.59112\ttest-tweedie-nloglik@1.5:1.02775\n",
      "[0]\ttrain-tweedie-nloglik@1.5:1.21815\ttest-tweedie-nloglik@1.5:1.36257\n",
      "[1]\ttrain-tweedie-nloglik@1.5:0.98306\ttest-tweedie-nloglik@1.5:1.19572\n"
     ]
    },
    {
     "name": "stderr",
     "output_type": "stream",
     "text": [
      "/home/jyang4/miniconda3/envs/ProtTP/lib/python3.9/site-packages/xgboost/core.py:105: UserWarning: ntree_limit is deprecated, use `iteration_range` or model slicing instead.\n",
      "  warnings.warn(\n",
      "/home/jyang4/miniconda3/envs/ProtTP/lib/python3.9/site-packages/xgboost/core.py:105: UserWarning: ntree_limit is deprecated, use `iteration_range` or model slicing instead.\n",
      "  warnings.warn(\n"
     ]
    },
    {
     "name": "stdout",
     "output_type": "stream",
     "text": [
      "[2]\ttrain-tweedie-nloglik@1.5:0.81517\ttest-tweedie-nloglik@1.5:1.09328\n",
      "[3]\ttrain-tweedie-nloglik@1.5:0.69673\ttest-tweedie-nloglik@1.5:1.05099\n",
      "[4]\ttrain-tweedie-nloglik@1.5:0.61427\ttest-tweedie-nloglik@1.5:1.04170\n",
      "[5]\ttrain-tweedie-nloglik@1.5:0.55841\ttest-tweedie-nloglik@1.5:1.07328\n",
      "[6]\ttrain-tweedie-nloglik@1.5:0.52221\ttest-tweedie-nloglik@1.5:1.11744\n",
      "[7]\ttrain-tweedie-nloglik@1.5:0.49801\ttest-tweedie-nloglik@1.5:1.14922\n",
      "[8]\ttrain-tweedie-nloglik@1.5:0.48119\ttest-tweedie-nloglik@1.5:1.19484\n",
      "[9]\ttrain-tweedie-nloglik@1.5:0.47064\ttest-tweedie-nloglik@1.5:1.23589\n",
      "[0]\ttrain-tweedie-nloglik@1.5:1.36549\ttest-tweedie-nloglik@1.5:1.35988\n",
      "[1]\ttrain-tweedie-nloglik@1.5:1.12152\ttest-tweedie-nloglik@1.5:1.18443\n",
      "[2]\ttrain-tweedie-nloglik@1.5:0.94749\ttest-tweedie-nloglik@1.5:1.07725\n",
      "[3]\ttrain-tweedie-nloglik@1.5:0.82658\ttest-tweedie-nloglik@1.5:1.02696\n",
      "[4]\ttrain-tweedie-nloglik@1.5:0.74211\ttest-tweedie-nloglik@1.5:1.00202\n",
      "[5]\ttrain-tweedie-nloglik@1.5:0.68288\ttest-tweedie-nloglik@1.5:0.99272\n",
      "[6]\ttrain-tweedie-nloglik@1.5:0.64233\ttest-tweedie-nloglik@1.5:1.02825\n",
      "[7]\ttrain-tweedie-nloglik@1.5:0.61430\ttest-tweedie-nloglik@1.5:1.05753\n",
      "[8]\ttrain-tweedie-nloglik@1.5:0.59694\ttest-tweedie-nloglik@1.5:1.06348\n",
      "[9]\ttrain-tweedie-nloglik@1.5:0.58551\ttest-tweedie-nloglik@1.5:1.08463\n",
      "[0]\ttrain-tweedie-nloglik@1.5:1.34602\ttest-tweedie-nloglik@1.5:1.36037\n",
      "[1]\ttrain-tweedie-nloglik@1.5:1.10749\ttest-tweedie-nloglik@1.5:1.18620\n"
     ]
    },
    {
     "name": "stderr",
     "output_type": "stream",
     "text": [
      "/home/jyang4/miniconda3/envs/ProtTP/lib/python3.9/site-packages/xgboost/core.py:105: UserWarning: ntree_limit is deprecated, use `iteration_range` or model slicing instead.\n",
      "  warnings.warn(\n",
      "/home/jyang4/miniconda3/envs/ProtTP/lib/python3.9/site-packages/xgboost/core.py:105: UserWarning: ntree_limit is deprecated, use `iteration_range` or model slicing instead.\n",
      "  warnings.warn(\n"
     ]
    },
    {
     "name": "stdout",
     "output_type": "stream",
     "text": [
      "[2]\ttrain-tweedie-nloglik@1.5:0.93835\ttest-tweedie-nloglik@1.5:1.07384\n",
      "[3]\ttrain-tweedie-nloglik@1.5:0.81758\ttest-tweedie-nloglik@1.5:1.00327\n",
      "[4]\ttrain-tweedie-nloglik@1.5:0.73504\ttest-tweedie-nloglik@1.5:0.99205\n",
      "[5]\ttrain-tweedie-nloglik@1.5:0.67911\ttest-tweedie-nloglik@1.5:0.99443\n",
      "[6]\ttrain-tweedie-nloglik@1.5:0.64083\ttest-tweedie-nloglik@1.5:1.01709\n",
      "[7]\ttrain-tweedie-nloglik@1.5:0.61617\ttest-tweedie-nloglik@1.5:1.04132\n",
      "[8]\ttrain-tweedie-nloglik@1.5:0.60061\ttest-tweedie-nloglik@1.5:1.06419\n",
      "[9]\ttrain-tweedie-nloglik@1.5:0.58824\ttest-tweedie-nloglik@1.5:1.10434\n",
      "[0]\ttrain-tweedie-nloglik@1.5:1.30766\ttest-tweedie-nloglik@1.5:1.37125\n",
      "[1]\ttrain-tweedie-nloglik@1.5:1.07740\ttest-tweedie-nloglik@1.5:1.20229\n",
      "[2]\ttrain-tweedie-nloglik@1.5:0.91274\ttest-tweedie-nloglik@1.5:1.08880\n",
      "[3]\ttrain-tweedie-nloglik@1.5:0.78951\ttest-tweedie-nloglik@1.5:1.02325\n",
      "[4]\ttrain-tweedie-nloglik@1.5:0.70693\ttest-tweedie-nloglik@1.5:0.98223\n",
      "[5]\ttrain-tweedie-nloglik@1.5:0.64743\ttest-tweedie-nloglik@1.5:0.98089\n",
      "[6]\ttrain-tweedie-nloglik@1.5:0.61033\ttest-tweedie-nloglik@1.5:0.99605\n",
      "[7]\ttrain-tweedie-nloglik@1.5:0.58332\ttest-tweedie-nloglik@1.5:1.02113\n",
      "[8]\ttrain-tweedie-nloglik@1.5:0.56273\ttest-tweedie-nloglik@1.5:1.05900\n",
      "[9]\ttrain-tweedie-nloglik@1.5:0.54860\ttest-tweedie-nloglik@1.5:1.07999\n",
      "[0]\ttrain-tweedie-nloglik@1.5:1.25068\ttest-tweedie-nloglik@1.5:1.36147\n",
      "[1]\ttrain-tweedie-nloglik@1.5:1.02149\ttest-tweedie-nloglik@1.5:1.19234\n"
     ]
    },
    {
     "name": "stderr",
     "output_type": "stream",
     "text": [
      "/home/jyang4/miniconda3/envs/ProtTP/lib/python3.9/site-packages/xgboost/core.py:105: UserWarning: ntree_limit is deprecated, use `iteration_range` or model slicing instead.\n",
      "  warnings.warn(\n",
      "/home/jyang4/miniconda3/envs/ProtTP/lib/python3.9/site-packages/xgboost/core.py:105: UserWarning: ntree_limit is deprecated, use `iteration_range` or model slicing instead.\n",
      "  warnings.warn(\n"
     ]
    },
    {
     "name": "stdout",
     "output_type": "stream",
     "text": [
      "[2]\ttrain-tweedie-nloglik@1.5:0.85953\ttest-tweedie-nloglik@1.5:1.08449\n",
      "[3]\ttrain-tweedie-nloglik@1.5:0.74132\ttest-tweedie-nloglik@1.5:1.03448\n",
      "[4]\ttrain-tweedie-nloglik@1.5:0.65928\ttest-tweedie-nloglik@1.5:1.01865\n",
      "[5]\ttrain-tweedie-nloglik@1.5:0.60666\ttest-tweedie-nloglik@1.5:1.03084\n",
      "[6]\ttrain-tweedie-nloglik@1.5:0.56736\ttest-tweedie-nloglik@1.5:1.06083\n",
      "[7]\ttrain-tweedie-nloglik@1.5:0.53984\ttest-tweedie-nloglik@1.5:1.09945\n",
      "[8]\ttrain-tweedie-nloglik@1.5:0.52213\ttest-tweedie-nloglik@1.5:1.13888\n",
      "[9]\ttrain-tweedie-nloglik@1.5:0.51064\ttest-tweedie-nloglik@1.5:1.17274\n",
      "[0]\ttrain-tweedie-nloglik@1.5:1.27462\ttest-tweedie-nloglik@1.5:1.36372\n",
      "[1]\ttrain-tweedie-nloglik@1.5:1.04471\ttest-tweedie-nloglik@1.5:1.18906\n",
      "[2]\ttrain-tweedie-nloglik@1.5:0.88027\ttest-tweedie-nloglik@1.5:1.08487\n",
      "[3]\ttrain-tweedie-nloglik@1.5:0.76616\ttest-tweedie-nloglik@1.5:1.02529\n",
      "[4]\ttrain-tweedie-nloglik@1.5:0.68160\ttest-tweedie-nloglik@1.5:1.00028\n",
      "[5]\ttrain-tweedie-nloglik@1.5:0.62694\ttest-tweedie-nloglik@1.5:0.98636\n",
      "[6]\ttrain-tweedie-nloglik@1.5:0.58561\ttest-tweedie-nloglik@1.5:1.00485\n",
      "[7]\ttrain-tweedie-nloglik@1.5:0.55858\ttest-tweedie-nloglik@1.5:1.04406\n",
      "[8]\ttrain-tweedie-nloglik@1.5:0.53752\ttest-tweedie-nloglik@1.5:1.06619\n",
      "[9]\ttrain-tweedie-nloglik@1.5:0.52474\ttest-tweedie-nloglik@1.5:1.08886\n",
      "[0]\ttrain-tweedie-nloglik@1.5:1.38490\ttest-tweedie-nloglik@1.5:1.37059\n"
     ]
    },
    {
     "name": "stderr",
     "output_type": "stream",
     "text": [
      "/home/jyang4/miniconda3/envs/ProtTP/lib/python3.9/site-packages/xgboost/core.py:105: UserWarning: ntree_limit is deprecated, use `iteration_range` or model slicing instead.\n",
      "  warnings.warn(\n",
      "/home/jyang4/miniconda3/envs/ProtTP/lib/python3.9/site-packages/xgboost/core.py:105: UserWarning: ntree_limit is deprecated, use `iteration_range` or model slicing instead.\n",
      "  warnings.warn(\n"
     ]
    },
    {
     "name": "stdout",
     "output_type": "stream",
     "text": [
      "[1]\ttrain-tweedie-nloglik@1.5:1.16556\ttest-tweedie-nloglik@1.5:1.19693\n",
      "[2]\ttrain-tweedie-nloglik@1.5:0.99825\ttest-tweedie-nloglik@1.5:1.06712\n",
      "[3]\ttrain-tweedie-nloglik@1.5:0.88134\ttest-tweedie-nloglik@1.5:0.98937\n",
      "[4]\ttrain-tweedie-nloglik@1.5:0.80322\ttest-tweedie-nloglik@1.5:0.95477\n",
      "[5]\ttrain-tweedie-nloglik@1.5:0.74569\ttest-tweedie-nloglik@1.5:0.93700\n",
      "[6]\ttrain-tweedie-nloglik@1.5:0.70417\ttest-tweedie-nloglik@1.5:0.93001\n",
      "[7]\ttrain-tweedie-nloglik@1.5:0.68219\ttest-tweedie-nloglik@1.5:0.93361\n",
      "[8]\ttrain-tweedie-nloglik@1.5:0.65515\ttest-tweedie-nloglik@1.5:0.94874\n",
      "[9]\ttrain-tweedie-nloglik@1.5:0.63945\ttest-tweedie-nloglik@1.5:0.95775\n",
      "[0]\ttrain-tweedie-nloglik@1.5:1.32074\ttest-tweedie-nloglik@1.5:1.37018\n",
      "[1]\ttrain-tweedie-nloglik@1.5:1.08035\ttest-tweedie-nloglik@1.5:1.18315\n",
      "[2]\ttrain-tweedie-nloglik@1.5:0.90840\ttest-tweedie-nloglik@1.5:1.06891\n",
      "[3]\ttrain-tweedie-nloglik@1.5:0.78860\ttest-tweedie-nloglik@1.5:1.01272\n",
      "[4]\ttrain-tweedie-nloglik@1.5:0.70602\ttest-tweedie-nloglik@1.5:0.98706\n",
      "[5]\ttrain-tweedie-nloglik@1.5:0.65426\ttest-tweedie-nloglik@1.5:0.99844\n",
      "[6]\ttrain-tweedie-nloglik@1.5:0.61805\ttest-tweedie-nloglik@1.5:1.02700\n",
      "[7]\ttrain-tweedie-nloglik@1.5:0.59366\ttest-tweedie-nloglik@1.5:1.06768\n",
      "[8]\ttrain-tweedie-nloglik@1.5:0.57575\ttest-tweedie-nloglik@1.5:1.10500\n",
      "[9]\ttrain-tweedie-nloglik@1.5:0.56441\ttest-tweedie-nloglik@1.5:1.12836\n",
      "[0]\ttrain-tweedie-nloglik@1.5:1.24312\ttest-tweedie-nloglik@1.5:1.36105\n"
     ]
    },
    {
     "name": "stderr",
     "output_type": "stream",
     "text": [
      "/home/jyang4/miniconda3/envs/ProtTP/lib/python3.9/site-packages/xgboost/core.py:105: UserWarning: ntree_limit is deprecated, use `iteration_range` or model slicing instead.\n",
      "  warnings.warn(\n",
      "/home/jyang4/miniconda3/envs/ProtTP/lib/python3.9/site-packages/xgboost/core.py:105: UserWarning: ntree_limit is deprecated, use `iteration_range` or model slicing instead.\n",
      "  warnings.warn(\n"
     ]
    },
    {
     "name": "stdout",
     "output_type": "stream",
     "text": [
      "[1]\ttrain-tweedie-nloglik@1.5:1.01289\ttest-tweedie-nloglik@1.5:1.18767\n",
      "[2]\ttrain-tweedie-nloglik@1.5:0.84860\ttest-tweedie-nloglik@1.5:1.09431\n",
      "[3]\ttrain-tweedie-nloglik@1.5:0.73249\ttest-tweedie-nloglik@1.5:1.04063\n",
      "[4]\ttrain-tweedie-nloglik@1.5:0.65084\ttest-tweedie-nloglik@1.5:1.05397\n",
      "[5]\ttrain-tweedie-nloglik@1.5:0.59557\ttest-tweedie-nloglik@1.5:1.07588\n",
      "[6]\ttrain-tweedie-nloglik@1.5:0.55729\ttest-tweedie-nloglik@1.5:1.10902\n",
      "[7]\ttrain-tweedie-nloglik@1.5:0.53382\ttest-tweedie-nloglik@1.5:1.13385\n",
      "[8]\ttrain-tweedie-nloglik@1.5:0.51623\ttest-tweedie-nloglik@1.5:1.18817\n",
      "[9]\ttrain-tweedie-nloglik@1.5:0.50428\ttest-tweedie-nloglik@1.5:1.22212\n",
      "[0]\ttrain-tweedie-nloglik@1.5:1.26829\ttest-tweedie-nloglik@1.5:1.36745\n",
      "[1]\ttrain-tweedie-nloglik@1.5:1.03447\ttest-tweedie-nloglik@1.5:1.18088\n",
      "[2]\ttrain-tweedie-nloglik@1.5:0.86809\ttest-tweedie-nloglik@1.5:1.05683\n",
      "[3]\ttrain-tweedie-nloglik@1.5:0.75323\ttest-tweedie-nloglik@1.5:0.98872\n",
      "[4]\ttrain-tweedie-nloglik@1.5:0.66952\ttest-tweedie-nloglik@1.5:0.96951\n",
      "[5]\ttrain-tweedie-nloglik@1.5:0.61457\ttest-tweedie-nloglik@1.5:0.96787\n",
      "[6]\ttrain-tweedie-nloglik@1.5:0.57920\ttest-tweedie-nloglik@1.5:0.99084\n",
      "[7]\ttrain-tweedie-nloglik@1.5:0.55124\ttest-tweedie-nloglik@1.5:1.00937\n",
      "[8]\ttrain-tweedie-nloglik@1.5:0.53344\ttest-tweedie-nloglik@1.5:1.04692\n",
      "[9]\ttrain-tweedie-nloglik@1.5:0.52237\ttest-tweedie-nloglik@1.5:1.06849\n",
      "[0]\ttrain-tweedie-nloglik@1.5:1.32021\ttest-tweedie-nloglik@1.5:1.36975\n",
      "[1]\ttrain-tweedie-nloglik@1.5:1.08815\ttest-tweedie-nloglik@1.5:1.18814\n"
     ]
    },
    {
     "name": "stderr",
     "output_type": "stream",
     "text": [
      "/home/jyang4/miniconda3/envs/ProtTP/lib/python3.9/site-packages/xgboost/core.py:105: UserWarning: ntree_limit is deprecated, use `iteration_range` or model slicing instead.\n",
      "  warnings.warn(\n",
      "/home/jyang4/miniconda3/envs/ProtTP/lib/python3.9/site-packages/xgboost/core.py:105: UserWarning: ntree_limit is deprecated, use `iteration_range` or model slicing instead.\n",
      "  warnings.warn(\n"
     ]
    },
    {
     "name": "stdout",
     "output_type": "stream",
     "text": [
      "[2]\ttrain-tweedie-nloglik@1.5:0.92080\ttest-tweedie-nloglik@1.5:1.08590\n",
      "[3]\ttrain-tweedie-nloglik@1.5:0.80314\ttest-tweedie-nloglik@1.5:1.03753\n",
      "[4]\ttrain-tweedie-nloglik@1.5:0.71989\ttest-tweedie-nloglik@1.5:1.02884\n",
      "[5]\ttrain-tweedie-nloglik@1.5:0.66399\ttest-tweedie-nloglik@1.5:1.04657\n",
      "[6]\ttrain-tweedie-nloglik@1.5:0.62597\ttest-tweedie-nloglik@1.5:1.06400\n",
      "[7]\ttrain-tweedie-nloglik@1.5:0.60017\ttest-tweedie-nloglik@1.5:1.10247\n",
      "[8]\ttrain-tweedie-nloglik@1.5:0.58164\ttest-tweedie-nloglik@1.5:1.13370\n",
      "[9]\ttrain-tweedie-nloglik@1.5:0.57051\ttest-tweedie-nloglik@1.5:1.17541\n",
      "[0]\ttrain-tweedie-nloglik@1.5:1.32422\ttest-tweedie-nloglik@1.5:1.37205\n",
      "[1]\ttrain-tweedie-nloglik@1.5:1.09113\ttest-tweedie-nloglik@1.5:1.20277\n",
      "[2]\ttrain-tweedie-nloglik@1.5:0.92920\ttest-tweedie-nloglik@1.5:1.10354\n",
      "[3]\ttrain-tweedie-nloglik@1.5:0.80544\ttest-tweedie-nloglik@1.5:1.02415\n",
      "[4]\ttrain-tweedie-nloglik@1.5:0.71866\ttest-tweedie-nloglik@1.5:0.98296\n",
      "[5]\ttrain-tweedie-nloglik@1.5:0.65577\ttest-tweedie-nloglik@1.5:0.95772\n",
      "[6]\ttrain-tweedie-nloglik@1.5:0.61553\ttest-tweedie-nloglik@1.5:0.96841\n",
      "[7]\ttrain-tweedie-nloglik@1.5:0.59115\ttest-tweedie-nloglik@1.5:0.98813\n",
      "[8]\ttrain-tweedie-nloglik@1.5:0.57456\ttest-tweedie-nloglik@1.5:1.00133\n",
      "[9]\ttrain-tweedie-nloglik@1.5:0.56207\ttest-tweedie-nloglik@1.5:1.01954\n"
     ]
    },
    {
     "name": "stderr",
     "output_type": "stream",
     "text": [
      "/home/jyang4/miniconda3/envs/ProtTP/lib/python3.9/site-packages/xgboost/core.py:105: UserWarning: ntree_limit is deprecated, use `iteration_range` or model slicing instead.\n",
      "  warnings.warn(\n",
      "/home/jyang4/miniconda3/envs/ProtTP/lib/python3.9/site-packages/xgboost/core.py:105: UserWarning: ntree_limit is deprecated, use `iteration_range` or model slicing instead.\n",
      "  warnings.warn(\n"
     ]
    },
    {
     "name": "stdout",
     "output_type": "stream",
     "text": [
      "[0]\ttrain-tweedie-nloglik@1.5:1.40281\ttest-tweedie-nloglik@1.5:1.35374\n",
      "[1]\ttrain-tweedie-nloglik@1.5:1.17859\ttest-tweedie-nloglik@1.5:1.16922\n",
      "[2]\ttrain-tweedie-nloglik@1.5:1.01704\ttest-tweedie-nloglik@1.5:1.04931\n",
      "[3]\ttrain-tweedie-nloglik@1.5:0.90154\ttest-tweedie-nloglik@1.5:0.97310\n",
      "[4]\ttrain-tweedie-nloglik@1.5:0.82285\ttest-tweedie-nloglik@1.5:0.93333\n",
      "[5]\ttrain-tweedie-nloglik@1.5:0.76655\ttest-tweedie-nloglik@1.5:0.91103\n",
      "[6]\ttrain-tweedie-nloglik@1.5:0.72821\ttest-tweedie-nloglik@1.5:0.91165\n",
      "[7]\ttrain-tweedie-nloglik@1.5:0.70073\ttest-tweedie-nloglik@1.5:0.92153\n",
      "[8]\ttrain-tweedie-nloglik@1.5:0.68432\ttest-tweedie-nloglik@1.5:0.93239\n",
      "[9]\ttrain-tweedie-nloglik@1.5:0.67231\ttest-tweedie-nloglik@1.5:0.94583\n",
      "[0]\ttrain-tweedie-nloglik@1.5:1.30832\ttest-tweedie-nloglik@1.5:1.36001\n",
      "[1]\ttrain-tweedie-nloglik@1.5:1.07887\ttest-tweedie-nloglik@1.5:1.17753\n",
      "[2]\ttrain-tweedie-nloglik@1.5:0.91294\ttest-tweedie-nloglik@1.5:1.05638\n",
      "[3]\ttrain-tweedie-nloglik@1.5:0.79594\ttest-tweedie-nloglik@1.5:0.98903\n",
      "[4]\ttrain-tweedie-nloglik@1.5:0.71233\ttest-tweedie-nloglik@1.5:0.94760\n",
      "[5]\ttrain-tweedie-nloglik@1.5:0.65575\ttest-tweedie-nloglik@1.5:0.94441\n",
      "[6]\ttrain-tweedie-nloglik@1.5:0.61667\ttest-tweedie-nloglik@1.5:0.97083\n",
      "[7]\ttrain-tweedie-nloglik@1.5:0.58959\ttest-tweedie-nloglik@1.5:0.98934\n",
      "[8]\ttrain-tweedie-nloglik@1.5:0.57223\ttest-tweedie-nloglik@1.5:1.02862\n",
      "[9]\ttrain-tweedie-nloglik@1.5:0.56089\ttest-tweedie-nloglik@1.5:1.06534\n",
      "[0]\ttrain-tweedie-nloglik@1.5:1.42073\ttest-tweedie-nloglik@1.5:1.35618\n",
      "[1]\ttrain-tweedie-nloglik@1.5:1.17563\ttest-tweedie-nloglik@1.5:1.17477\n"
     ]
    },
    {
     "name": "stderr",
     "output_type": "stream",
     "text": [
      "/home/jyang4/miniconda3/envs/ProtTP/lib/python3.9/site-packages/xgboost/core.py:105: UserWarning: ntree_limit is deprecated, use `iteration_range` or model slicing instead.\n",
      "  warnings.warn(\n",
      "/home/jyang4/miniconda3/envs/ProtTP/lib/python3.9/site-packages/xgboost/core.py:105: UserWarning: ntree_limit is deprecated, use `iteration_range` or model slicing instead.\n",
      "  warnings.warn(\n"
     ]
    },
    {
     "name": "stdout",
     "output_type": "stream",
     "text": [
      "[2]\ttrain-tweedie-nloglik@1.5:1.00571\ttest-tweedie-nloglik@1.5:1.05603\n",
      "[3]\ttrain-tweedie-nloglik@1.5:0.88248\ttest-tweedie-nloglik@1.5:0.98787\n",
      "[4]\ttrain-tweedie-nloglik@1.5:0.80227\ttest-tweedie-nloglik@1.5:0.96087\n",
      "[5]\ttrain-tweedie-nloglik@1.5:0.74424\ttest-tweedie-nloglik@1.5:0.95608\n",
      "[6]\ttrain-tweedie-nloglik@1.5:0.70347\ttest-tweedie-nloglik@1.5:0.96381\n",
      "[7]\ttrain-tweedie-nloglik@1.5:0.67938\ttest-tweedie-nloglik@1.5:0.97983\n",
      "[8]\ttrain-tweedie-nloglik@1.5:0.66238\ttest-tweedie-nloglik@1.5:0.99628\n",
      "[9]\ttrain-tweedie-nloglik@1.5:0.64657\ttest-tweedie-nloglik@1.5:1.02320\n",
      "[0]\ttrain-tweedie-nloglik@1.5:1.29686\ttest-tweedie-nloglik@1.5:1.36699\n",
      "[1]\ttrain-tweedie-nloglik@1.5:1.07229\ttest-tweedie-nloglik@1.5:1.19458\n",
      "[2]\ttrain-tweedie-nloglik@1.5:0.91041\ttest-tweedie-nloglik@1.5:1.09674\n",
      "[3]\ttrain-tweedie-nloglik@1.5:0.79154\ttest-tweedie-nloglik@1.5:1.04517\n",
      "[4]\ttrain-tweedie-nloglik@1.5:0.71287\ttest-tweedie-nloglik@1.5:1.01741\n",
      "[5]\ttrain-tweedie-nloglik@1.5:0.65536\ttest-tweedie-nloglik@1.5:0.99543\n",
      "[6]\ttrain-tweedie-nloglik@1.5:0.61490\ttest-tweedie-nloglik@1.5:0.99353\n",
      "[7]\ttrain-tweedie-nloglik@1.5:0.58709\ttest-tweedie-nloglik@1.5:1.02160\n",
      "[8]\ttrain-tweedie-nloglik@1.5:0.57380\ttest-tweedie-nloglik@1.5:1.05360\n",
      "[9]\ttrain-tweedie-nloglik@1.5:0.55885\ttest-tweedie-nloglik@1.5:1.05918\n",
      "[0]\ttrain-tweedie-nloglik@1.5:1.43295\ttest-tweedie-nloglik@1.5:1.36330\n",
      "[1]\ttrain-tweedie-nloglik@1.5:1.19148\ttest-tweedie-nloglik@1.5:1.18608\n"
     ]
    },
    {
     "name": "stderr",
     "output_type": "stream",
     "text": [
      "/home/jyang4/miniconda3/envs/ProtTP/lib/python3.9/site-packages/xgboost/core.py:105: UserWarning: ntree_limit is deprecated, use `iteration_range` or model slicing instead.\n",
      "  warnings.warn(\n",
      "/home/jyang4/miniconda3/envs/ProtTP/lib/python3.9/site-packages/xgboost/core.py:105: UserWarning: ntree_limit is deprecated, use `iteration_range` or model slicing instead.\n",
      "  warnings.warn(\n"
     ]
    },
    {
     "name": "stdout",
     "output_type": "stream",
     "text": [
      "[2]\ttrain-tweedie-nloglik@1.5:1.02267\ttest-tweedie-nloglik@1.5:1.07703\n",
      "[3]\ttrain-tweedie-nloglik@1.5:0.90596\ttest-tweedie-nloglik@1.5:1.01731\n",
      "[4]\ttrain-tweedie-nloglik@1.5:0.82820\ttest-tweedie-nloglik@1.5:0.98808\n",
      "[5]\ttrain-tweedie-nloglik@1.5:0.77429\ttest-tweedie-nloglik@1.5:0.98468\n",
      "[6]\ttrain-tweedie-nloglik@1.5:0.73921\ttest-tweedie-nloglik@1.5:0.98423\n",
      "[7]\ttrain-tweedie-nloglik@1.5:0.71352\ttest-tweedie-nloglik@1.5:0.99354\n",
      "[8]\ttrain-tweedie-nloglik@1.5:0.69691\ttest-tweedie-nloglik@1.5:1.01295\n",
      "[9]\ttrain-tweedie-nloglik@1.5:0.68367\ttest-tweedie-nloglik@1.5:1.02100\n",
      "[0]\ttrain-tweedie-nloglik@1.5:1.35236\ttest-tweedie-nloglik@1.5:1.37911\n",
      "[1]\ttrain-tweedie-nloglik@1.5:1.11760\ttest-tweedie-nloglik@1.5:1.19151\n",
      "[2]\ttrain-tweedie-nloglik@1.5:0.95195\ttest-tweedie-nloglik@1.5:1.07471\n",
      "[3]\ttrain-tweedie-nloglik@1.5:0.83571\ttest-tweedie-nloglik@1.5:1.01781\n",
      "[4]\ttrain-tweedie-nloglik@1.5:0.75466\ttest-tweedie-nloglik@1.5:0.99788\n",
      "[5]\ttrain-tweedie-nloglik@1.5:0.70030\ttest-tweedie-nloglik@1.5:1.00278\n",
      "[6]\ttrain-tweedie-nloglik@1.5:0.65961\ttest-tweedie-nloglik@1.5:1.00715\n",
      "[7]\ttrain-tweedie-nloglik@1.5:0.63485\ttest-tweedie-nloglik@1.5:1.03370\n",
      "[8]\ttrain-tweedie-nloglik@1.5:0.61782\ttest-tweedie-nloglik@1.5:1.05942\n",
      "[9]\ttrain-tweedie-nloglik@1.5:0.60120\ttest-tweedie-nloglik@1.5:1.08512\n",
      "[0]\ttrain-tweedie-nloglik@1.5:1.28991\ttest-tweedie-nloglik@1.5:1.36239\n"
     ]
    },
    {
     "name": "stderr",
     "output_type": "stream",
     "text": [
      "/home/jyang4/miniconda3/envs/ProtTP/lib/python3.9/site-packages/xgboost/core.py:105: UserWarning: ntree_limit is deprecated, use `iteration_range` or model slicing instead.\n",
      "  warnings.warn(\n",
      "/home/jyang4/miniconda3/envs/ProtTP/lib/python3.9/site-packages/xgboost/core.py:105: UserWarning: ntree_limit is deprecated, use `iteration_range` or model slicing instead.\n",
      "  warnings.warn(\n"
     ]
    },
    {
     "name": "stdout",
     "output_type": "stream",
     "text": [
      "[1]\ttrain-tweedie-nloglik@1.5:1.05968\ttest-tweedie-nloglik@1.5:1.18242\n",
      "[2]\ttrain-tweedie-nloglik@1.5:0.89648\ttest-tweedie-nloglik@1.5:1.07678\n",
      "[3]\ttrain-tweedie-nloglik@1.5:0.78484\ttest-tweedie-nloglik@1.5:1.02647\n",
      "[4]\ttrain-tweedie-nloglik@1.5:0.70589\ttest-tweedie-nloglik@1.5:1.00216\n",
      "[5]\ttrain-tweedie-nloglik@1.5:0.65159\ttest-tweedie-nloglik@1.5:1.01252\n",
      "[6]\ttrain-tweedie-nloglik@1.5:0.61500\ttest-tweedie-nloglik@1.5:1.03078\n",
      "[7]\ttrain-tweedie-nloglik@1.5:0.59258\ttest-tweedie-nloglik@1.5:1.06330\n",
      "[8]\ttrain-tweedie-nloglik@1.5:0.57761\ttest-tweedie-nloglik@1.5:1.10689\n",
      "[9]\ttrain-tweedie-nloglik@1.5:0.56642\ttest-tweedie-nloglik@1.5:1.14467\n",
      "[0]\ttrain-tweedie-nloglik@1.5:1.30304\ttest-tweedie-nloglik@1.5:1.35544\n",
      "[1]\ttrain-tweedie-nloglik@1.5:1.07717\ttest-tweedie-nloglik@1.5:1.17585\n",
      "[2]\ttrain-tweedie-nloglik@1.5:0.90600\ttest-tweedie-nloglik@1.5:1.05368\n",
      "[3]\ttrain-tweedie-nloglik@1.5:0.78450\ttest-tweedie-nloglik@1.5:0.97950\n",
      "[4]\ttrain-tweedie-nloglik@1.5:0.70313\ttest-tweedie-nloglik@1.5:0.93885\n",
      "[5]\ttrain-tweedie-nloglik@1.5:0.64390\ttest-tweedie-nloglik@1.5:0.92015\n",
      "[6]\ttrain-tweedie-nloglik@1.5:0.60191\ttest-tweedie-nloglik@1.5:0.93700\n",
      "[7]\ttrain-tweedie-nloglik@1.5:0.57361\ttest-tweedie-nloglik@1.5:0.96005\n",
      "[8]\ttrain-tweedie-nloglik@1.5:0.55644\ttest-tweedie-nloglik@1.5:0.98019\n",
      "[9]\ttrain-tweedie-nloglik@1.5:0.54431\ttest-tweedie-nloglik@1.5:1.00584\n",
      "[0]\ttrain-tweedie-nloglik@1.5:1.36199\ttest-tweedie-nloglik@1.5:1.37593\n"
     ]
    },
    {
     "name": "stderr",
     "output_type": "stream",
     "text": [
      "/home/jyang4/miniconda3/envs/ProtTP/lib/python3.9/site-packages/xgboost/core.py:105: UserWarning: ntree_limit is deprecated, use `iteration_range` or model slicing instead.\n",
      "  warnings.warn(\n",
      "/home/jyang4/miniconda3/envs/ProtTP/lib/python3.9/site-packages/xgboost/core.py:105: UserWarning: ntree_limit is deprecated, use `iteration_range` or model slicing instead.\n",
      "  warnings.warn(\n"
     ]
    },
    {
     "name": "stdout",
     "output_type": "stream",
     "text": [
      "[1]\ttrain-tweedie-nloglik@1.5:1.13792\ttest-tweedie-nloglik@1.5:1.19024\n",
      "[2]\ttrain-tweedie-nloglik@1.5:0.97330\ttest-tweedie-nloglik@1.5:1.06690\n",
      "[3]\ttrain-tweedie-nloglik@1.5:0.85658\ttest-tweedie-nloglik@1.5:0.98839\n",
      "[4]\ttrain-tweedie-nloglik@1.5:0.77752\ttest-tweedie-nloglik@1.5:0.95252\n",
      "[5]\ttrain-tweedie-nloglik@1.5:0.72263\ttest-tweedie-nloglik@1.5:0.93858\n",
      "[6]\ttrain-tweedie-nloglik@1.5:0.68298\ttest-tweedie-nloglik@1.5:0.94627\n",
      "[7]\ttrain-tweedie-nloglik@1.5:0.65822\ttest-tweedie-nloglik@1.5:0.96077\n",
      "[8]\ttrain-tweedie-nloglik@1.5:0.64101\ttest-tweedie-nloglik@1.5:0.98793\n",
      "[9]\ttrain-tweedie-nloglik@1.5:0.62828\ttest-tweedie-nloglik@1.5:1.00845\n",
      "[0]\ttrain-tweedie-nloglik@1.5:1.28220\ttest-tweedie-nloglik@1.5:1.37182\n",
      "[1]\ttrain-tweedie-nloglik@1.5:1.05277\ttest-tweedie-nloglik@1.5:1.18743\n",
      "[2]\ttrain-tweedie-nloglik@1.5:0.88750\ttest-tweedie-nloglik@1.5:1.06591\n",
      "[3]\ttrain-tweedie-nloglik@1.5:0.77376\ttest-tweedie-nloglik@1.5:1.00223\n",
      "[4]\ttrain-tweedie-nloglik@1.5:0.69226\ttest-tweedie-nloglik@1.5:0.97181\n",
      "[5]\ttrain-tweedie-nloglik@1.5:0.63715\ttest-tweedie-nloglik@1.5:0.97591\n",
      "[6]\ttrain-tweedie-nloglik@1.5:0.59920\ttest-tweedie-nloglik@1.5:0.99669\n",
      "[7]\ttrain-tweedie-nloglik@1.5:0.57277\ttest-tweedie-nloglik@1.5:1.00918\n",
      "[8]\ttrain-tweedie-nloglik@1.5:0.55410\ttest-tweedie-nloglik@1.5:1.04784\n",
      "[9]\ttrain-tweedie-nloglik@1.5:0.54200\ttest-tweedie-nloglik@1.5:1.07534\n",
      "[0]\ttrain-tweedie-nloglik@1.5:1.36040\ttest-tweedie-nloglik@1.5:1.37133\n",
      "[1]\ttrain-tweedie-nloglik@1.5:1.12316\ttest-tweedie-nloglik@1.5:1.18163\n"
     ]
    },
    {
     "name": "stderr",
     "output_type": "stream",
     "text": [
      "/home/jyang4/miniconda3/envs/ProtTP/lib/python3.9/site-packages/xgboost/core.py:105: UserWarning: ntree_limit is deprecated, use `iteration_range` or model slicing instead.\n",
      "  warnings.warn(\n",
      "/home/jyang4/miniconda3/envs/ProtTP/lib/python3.9/site-packages/xgboost/core.py:105: UserWarning: ntree_limit is deprecated, use `iteration_range` or model slicing instead.\n",
      "  warnings.warn(\n"
     ]
    },
    {
     "name": "stdout",
     "output_type": "stream",
     "text": [
      "[2]\ttrain-tweedie-nloglik@1.5:0.95169\ttest-tweedie-nloglik@1.5:1.07072\n",
      "[3]\ttrain-tweedie-nloglik@1.5:0.83042\ttest-tweedie-nloglik@1.5:1.00754\n",
      "[4]\ttrain-tweedie-nloglik@1.5:0.74601\ttest-tweedie-nloglik@1.5:0.99005\n",
      "[5]\ttrain-tweedie-nloglik@1.5:0.68854\ttest-tweedie-nloglik@1.5:1.01001\n",
      "[6]\ttrain-tweedie-nloglik@1.5:0.65019\ttest-tweedie-nloglik@1.5:1.02993\n",
      "[7]\ttrain-tweedie-nloglik@1.5:0.62487\ttest-tweedie-nloglik@1.5:1.04922\n",
      "[8]\ttrain-tweedie-nloglik@1.5:0.60755\ttest-tweedie-nloglik@1.5:1.09237\n",
      "[9]\ttrain-tweedie-nloglik@1.5:0.59623\ttest-tweedie-nloglik@1.5:1.12864\n",
      "[0]\ttrain-tweedie-nloglik@1.5:1.33113\ttest-tweedie-nloglik@1.5:1.36263\n",
      "[1]\ttrain-tweedie-nloglik@1.5:1.09866\ttest-tweedie-nloglik@1.5:1.17720\n",
      "[2]\ttrain-tweedie-nloglik@1.5:0.93523\ttest-tweedie-nloglik@1.5:1.05465\n",
      "[3]\ttrain-tweedie-nloglik@1.5:0.81801\ttest-tweedie-nloglik@1.5:0.98282\n",
      "[4]\ttrain-tweedie-nloglik@1.5:0.73633\ttest-tweedie-nloglik@1.5:0.92663\n",
      "[5]\ttrain-tweedie-nloglik@1.5:0.68009\ttest-tweedie-nloglik@1.5:0.91201\n",
      "[6]\ttrain-tweedie-nloglik@1.5:0.63938\ttest-tweedie-nloglik@1.5:0.90230\n",
      "[7]\ttrain-tweedie-nloglik@1.5:0.61290\ttest-tweedie-nloglik@1.5:0.89639\n",
      "[8]\ttrain-tweedie-nloglik@1.5:0.59260\ttest-tweedie-nloglik@1.5:0.90751\n",
      "[9]\ttrain-tweedie-nloglik@1.5:0.57771\ttest-tweedie-nloglik@1.5:0.92092\n",
      "[0]\ttrain-tweedie-nloglik@1.5:1.32832\ttest-tweedie-nloglik@1.5:1.36075\n",
      "[1]\ttrain-tweedie-nloglik@1.5:1.11116\ttest-tweedie-nloglik@1.5:1.19146\n"
     ]
    },
    {
     "name": "stderr",
     "output_type": "stream",
     "text": [
      "/home/jyang4/miniconda3/envs/ProtTP/lib/python3.9/site-packages/xgboost/core.py:105: UserWarning: ntree_limit is deprecated, use `iteration_range` or model slicing instead.\n",
      "  warnings.warn(\n",
      "/home/jyang4/miniconda3/envs/ProtTP/lib/python3.9/site-packages/xgboost/core.py:105: UserWarning: ntree_limit is deprecated, use `iteration_range` or model slicing instead.\n",
      "  warnings.warn(\n"
     ]
    },
    {
     "name": "stdout",
     "output_type": "stream",
     "text": [
      "[2]\ttrain-tweedie-nloglik@1.5:0.95699\ttest-tweedie-nloglik@1.5:1.09217\n",
      "[3]\ttrain-tweedie-nloglik@1.5:0.84108\ttest-tweedie-nloglik@1.5:1.03338\n",
      "[4]\ttrain-tweedie-nloglik@1.5:0.75975\ttest-tweedie-nloglik@1.5:1.01761\n",
      "[5]\ttrain-tweedie-nloglik@1.5:0.70062\ttest-tweedie-nloglik@1.5:1.02347\n",
      "[6]\ttrain-tweedie-nloglik@1.5:0.66807\ttest-tweedie-nloglik@1.5:1.03660\n",
      "[7]\ttrain-tweedie-nloglik@1.5:0.64018\ttest-tweedie-nloglik@1.5:1.07353\n",
      "[8]\ttrain-tweedie-nloglik@1.5:0.61844\ttest-tweedie-nloglik@1.5:1.09463\n",
      "[9]\ttrain-tweedie-nloglik@1.5:0.60465\ttest-tweedie-nloglik@1.5:1.10952\n",
      "[0]\ttrain-tweedie-nloglik@1.5:1.33619\ttest-tweedie-nloglik@1.5:1.34923\n",
      "[1]\ttrain-tweedie-nloglik@1.5:1.10245\ttest-tweedie-nloglik@1.5:1.16033\n",
      "[2]\ttrain-tweedie-nloglik@1.5:0.93812\ttest-tweedie-nloglik@1.5:1.04215\n",
      "[3]\ttrain-tweedie-nloglik@1.5:0.82466\ttest-tweedie-nloglik@1.5:0.96976\n",
      "[4]\ttrain-tweedie-nloglik@1.5:0.74683\ttest-tweedie-nloglik@1.5:0.93663\n",
      "[5]\ttrain-tweedie-nloglik@1.5:0.69020\ttest-tweedie-nloglik@1.5:0.92790\n",
      "[6]\ttrain-tweedie-nloglik@1.5:0.65222\ttest-tweedie-nloglik@1.5:0.93559\n",
      "[7]\ttrain-tweedie-nloglik@1.5:0.62710\ttest-tweedie-nloglik@1.5:0.95218\n",
      "[8]\ttrain-tweedie-nloglik@1.5:0.61115\ttest-tweedie-nloglik@1.5:0.96159\n",
      "[9]\ttrain-tweedie-nloglik@1.5:0.60006\ttest-tweedie-nloglik@1.5:0.98172\n",
      "[0]\ttrain-tweedie-nloglik@1.5:1.37781\ttest-tweedie-nloglik@1.5:1.37122\n",
      "[1]\ttrain-tweedie-nloglik@1.5:1.14420\ttest-tweedie-nloglik@1.5:1.19596\n"
     ]
    },
    {
     "name": "stderr",
     "output_type": "stream",
     "text": [
      "/home/jyang4/miniconda3/envs/ProtTP/lib/python3.9/site-packages/xgboost/core.py:105: UserWarning: ntree_limit is deprecated, use `iteration_range` or model slicing instead.\n",
      "  warnings.warn(\n",
      "/home/jyang4/miniconda3/envs/ProtTP/lib/python3.9/site-packages/xgboost/core.py:105: UserWarning: ntree_limit is deprecated, use `iteration_range` or model slicing instead.\n",
      "  warnings.warn(\n"
     ]
    },
    {
     "name": "stdout",
     "output_type": "stream",
     "text": [
      "[2]\ttrain-tweedie-nloglik@1.5:0.97645\ttest-tweedie-nloglik@1.5:1.08332\n",
      "[3]\ttrain-tweedie-nloglik@1.5:0.85852\ttest-tweedie-nloglik@1.5:1.01530\n",
      "[4]\ttrain-tweedie-nloglik@1.5:0.78069\ttest-tweedie-nloglik@1.5:0.98269\n",
      "[5]\ttrain-tweedie-nloglik@1.5:0.72651\ttest-tweedie-nloglik@1.5:0.97389\n",
      "[6]\ttrain-tweedie-nloglik@1.5:0.68763\ttest-tweedie-nloglik@1.5:0.98946\n",
      "[7]\ttrain-tweedie-nloglik@1.5:0.65616\ttest-tweedie-nloglik@1.5:0.99141\n",
      "[8]\ttrain-tweedie-nloglik@1.5:0.63526\ttest-tweedie-nloglik@1.5:1.01316\n",
      "[9]\ttrain-tweedie-nloglik@1.5:0.62228\ttest-tweedie-nloglik@1.5:1.02897\n",
      "[0]\ttrain-tweedie-nloglik@1.5:1.29900\ttest-tweedie-nloglik@1.5:1.35650\n",
      "[1]\ttrain-tweedie-nloglik@1.5:1.06482\ttest-tweedie-nloglik@1.5:1.17689\n",
      "[2]\ttrain-tweedie-nloglik@1.5:0.90078\ttest-tweedie-nloglik@1.5:1.06946\n",
      "[3]\ttrain-tweedie-nloglik@1.5:0.78501\ttest-tweedie-nloglik@1.5:1.01094\n",
      "[4]\ttrain-tweedie-nloglik@1.5:0.70563\ttest-tweedie-nloglik@1.5:0.99288\n",
      "[5]\ttrain-tweedie-nloglik@1.5:0.64953\ttest-tweedie-nloglik@1.5:1.00175\n",
      "[6]\ttrain-tweedie-nloglik@1.5:0.61187\ttest-tweedie-nloglik@1.5:1.01750\n",
      "[7]\ttrain-tweedie-nloglik@1.5:0.58627\ttest-tweedie-nloglik@1.5:1.04735\n",
      "[8]\ttrain-tweedie-nloglik@1.5:0.56659\ttest-tweedie-nloglik@1.5:1.08069\n",
      "[9]\ttrain-tweedie-nloglik@1.5:0.55546\ttest-tweedie-nloglik@1.5:1.08757\n",
      "[0]\ttrain-tweedie-nloglik@1.5:1.32951\ttest-tweedie-nloglik@1.5:1.37512\n",
      "[1]\ttrain-tweedie-nloglik@1.5:1.09743\ttest-tweedie-nloglik@1.5:1.19995\n"
     ]
    },
    {
     "name": "stderr",
     "output_type": "stream",
     "text": [
      "/home/jyang4/miniconda3/envs/ProtTP/lib/python3.9/site-packages/xgboost/core.py:105: UserWarning: ntree_limit is deprecated, use `iteration_range` or model slicing instead.\n",
      "  warnings.warn(\n",
      "/home/jyang4/miniconda3/envs/ProtTP/lib/python3.9/site-packages/xgboost/core.py:105: UserWarning: ntree_limit is deprecated, use `iteration_range` or model slicing instead.\n",
      "  warnings.warn(\n"
     ]
    },
    {
     "name": "stdout",
     "output_type": "stream",
     "text": [
      "[2]\ttrain-tweedie-nloglik@1.5:0.93258\ttest-tweedie-nloglik@1.5:1.10548\n",
      "[3]\ttrain-tweedie-nloglik@1.5:0.81442\ttest-tweedie-nloglik@1.5:1.05860\n",
      "[4]\ttrain-tweedie-nloglik@1.5:0.73216\ttest-tweedie-nloglik@1.5:1.03731\n",
      "[5]\ttrain-tweedie-nloglik@1.5:0.67548\ttest-tweedie-nloglik@1.5:1.02983\n",
      "[6]\ttrain-tweedie-nloglik@1.5:0.63429\ttest-tweedie-nloglik@1.5:1.06324\n",
      "[7]\ttrain-tweedie-nloglik@1.5:0.60540\ttest-tweedie-nloglik@1.5:1.08978\n",
      "[8]\ttrain-tweedie-nloglik@1.5:0.58878\ttest-tweedie-nloglik@1.5:1.11684\n",
      "[9]\ttrain-tweedie-nloglik@1.5:0.57292\ttest-tweedie-nloglik@1.5:1.14472\n",
      "[0]\ttrain-tweedie-nloglik@1.5:1.37592\ttest-tweedie-nloglik@1.5:1.35986\n",
      "[1]\ttrain-tweedie-nloglik@1.5:1.14487\ttest-tweedie-nloglik@1.5:1.18427\n",
      "[2]\ttrain-tweedie-nloglik@1.5:0.97662\ttest-tweedie-nloglik@1.5:1.06724\n",
      "[3]\ttrain-tweedie-nloglik@1.5:0.85937\ttest-tweedie-nloglik@1.5:1.00768\n",
      "[4]\ttrain-tweedie-nloglik@1.5:0.77626\ttest-tweedie-nloglik@1.5:0.96471\n",
      "[5]\ttrain-tweedie-nloglik@1.5:0.72103\ttest-tweedie-nloglik@1.5:0.96554\n",
      "[6]\ttrain-tweedie-nloglik@1.5:0.68697\ttest-tweedie-nloglik@1.5:0.97933\n",
      "[7]\ttrain-tweedie-nloglik@1.5:0.65933\ttest-tweedie-nloglik@1.5:0.99799\n",
      "[8]\ttrain-tweedie-nloglik@1.5:0.63707\ttest-tweedie-nloglik@1.5:1.00560\n",
      "[9]\ttrain-tweedie-nloglik@1.5:0.62374\ttest-tweedie-nloglik@1.5:1.02917\n",
      "[0]\ttrain-tweedie-nloglik@1.5:1.39844\ttest-tweedie-nloglik@1.5:1.36278\n",
      "[1]\ttrain-tweedie-nloglik@1.5:1.15924\ttest-tweedie-nloglik@1.5:1.18234\n"
     ]
    },
    {
     "name": "stderr",
     "output_type": "stream",
     "text": [
      "/home/jyang4/miniconda3/envs/ProtTP/lib/python3.9/site-packages/xgboost/core.py:105: UserWarning: ntree_limit is deprecated, use `iteration_range` or model slicing instead.\n",
      "  warnings.warn(\n",
      "/home/jyang4/miniconda3/envs/ProtTP/lib/python3.9/site-packages/xgboost/core.py:105: UserWarning: ntree_limit is deprecated, use `iteration_range` or model slicing instead.\n",
      "  warnings.warn(\n"
     ]
    },
    {
     "name": "stdout",
     "output_type": "stream",
     "text": [
      "[2]\ttrain-tweedie-nloglik@1.5:0.98453\ttest-tweedie-nloglik@1.5:1.05692\n",
      "[3]\ttrain-tweedie-nloglik@1.5:0.85977\ttest-tweedie-nloglik@1.5:0.98505\n",
      "[4]\ttrain-tweedie-nloglik@1.5:0.77259\ttest-tweedie-nloglik@1.5:0.94503\n",
      "[5]\ttrain-tweedie-nloglik@1.5:0.71454\ttest-tweedie-nloglik@1.5:0.94214\n",
      "[6]\ttrain-tweedie-nloglik@1.5:0.67310\ttest-tweedie-nloglik@1.5:0.94753\n",
      "[7]\ttrain-tweedie-nloglik@1.5:0.64872\ttest-tweedie-nloglik@1.5:0.95790\n",
      "[8]\ttrain-tweedie-nloglik@1.5:0.62801\ttest-tweedie-nloglik@1.5:0.97110\n",
      "[9]\ttrain-tweedie-nloglik@1.5:0.61277\ttest-tweedie-nloglik@1.5:0.99510\n",
      "[0]\ttrain-tweedie-nloglik@1.5:1.35846\ttest-tweedie-nloglik@1.5:1.37611\n",
      "[1]\ttrain-tweedie-nloglik@1.5:1.12426\ttest-tweedie-nloglik@1.5:1.18404\n",
      "[2]\ttrain-tweedie-nloglik@1.5:0.95976\ttest-tweedie-nloglik@1.5:1.06572\n",
      "[3]\ttrain-tweedie-nloglik@1.5:0.84106\ttest-tweedie-nloglik@1.5:0.98648\n",
      "[4]\ttrain-tweedie-nloglik@1.5:0.76290\ttest-tweedie-nloglik@1.5:0.96218\n",
      "[5]\ttrain-tweedie-nloglik@1.5:0.70664\ttest-tweedie-nloglik@1.5:0.95633\n",
      "[6]\ttrain-tweedie-nloglik@1.5:0.67103\ttest-tweedie-nloglik@1.5:0.97130\n",
      "[7]\ttrain-tweedie-nloglik@1.5:0.64587\ttest-tweedie-nloglik@1.5:0.99240\n",
      "[8]\ttrain-tweedie-nloglik@1.5:0.62805\ttest-tweedie-nloglik@1.5:1.00404\n",
      "[9]\ttrain-tweedie-nloglik@1.5:0.61472\ttest-tweedie-nloglik@1.5:1.03199\n",
      "[0]\ttrain-tweedie-nloglik@1.5:1.34825\ttest-tweedie-nloglik@1.5:1.36174\n",
      "[1]\ttrain-tweedie-nloglik@1.5:1.11242\ttest-tweedie-nloglik@1.5:1.18513\n"
     ]
    },
    {
     "name": "stderr",
     "output_type": "stream",
     "text": [
      "/home/jyang4/miniconda3/envs/ProtTP/lib/python3.9/site-packages/xgboost/core.py:105: UserWarning: ntree_limit is deprecated, use `iteration_range` or model slicing instead.\n",
      "  warnings.warn(\n",
      "/home/jyang4/miniconda3/envs/ProtTP/lib/python3.9/site-packages/xgboost/core.py:105: UserWarning: ntree_limit is deprecated, use `iteration_range` or model slicing instead.\n",
      "  warnings.warn(\n"
     ]
    },
    {
     "name": "stdout",
     "output_type": "stream",
     "text": [
      "[2]\ttrain-tweedie-nloglik@1.5:0.94648\ttest-tweedie-nloglik@1.5:1.08016\n",
      "[3]\ttrain-tweedie-nloglik@1.5:0.82800\ttest-tweedie-nloglik@1.5:1.01992\n",
      "[4]\ttrain-tweedie-nloglik@1.5:0.74469\ttest-tweedie-nloglik@1.5:0.99620\n",
      "[5]\ttrain-tweedie-nloglik@1.5:0.68900\ttest-tweedie-nloglik@1.5:1.00245\n",
      "[6]\ttrain-tweedie-nloglik@1.5:0.65235\ttest-tweedie-nloglik@1.5:1.03014\n",
      "[7]\ttrain-tweedie-nloglik@1.5:0.62703\ttest-tweedie-nloglik@1.5:1.05293\n",
      "[8]\ttrain-tweedie-nloglik@1.5:0.60682\ttest-tweedie-nloglik@1.5:1.09500\n",
      "[9]\ttrain-tweedie-nloglik@1.5:0.59281\ttest-tweedie-nloglik@1.5:1.12563\n",
      "[0]\ttrain-tweedie-nloglik@1.5:1.34695\ttest-tweedie-nloglik@1.5:1.35956\n",
      "[1]\ttrain-tweedie-nloglik@1.5:1.11044\ttest-tweedie-nloglik@1.5:1.17829\n",
      "[2]\ttrain-tweedie-nloglik@1.5:0.94157\ttest-tweedie-nloglik@1.5:1.07325\n",
      "[3]\ttrain-tweedie-nloglik@1.5:0.81973\ttest-tweedie-nloglik@1.5:0.99603\n",
      "[4]\ttrain-tweedie-nloglik@1.5:0.74072\ttest-tweedie-nloglik@1.5:0.97063\n",
      "[5]\ttrain-tweedie-nloglik@1.5:0.68259\ttest-tweedie-nloglik@1.5:0.95896\n",
      "[6]\ttrain-tweedie-nloglik@1.5:0.64311\ttest-tweedie-nloglik@1.5:0.98135\n",
      "[7]\ttrain-tweedie-nloglik@1.5:0.61787\ttest-tweedie-nloglik@1.5:1.01108\n",
      "[8]\ttrain-tweedie-nloglik@1.5:0.60115\ttest-tweedie-nloglik@1.5:1.02834\n",
      "[9]\ttrain-tweedie-nloglik@1.5:0.58729\ttest-tweedie-nloglik@1.5:1.04357\n",
      "[0]\ttrain-tweedie-nloglik@1.5:1.28633\ttest-tweedie-nloglik@1.5:1.36292\n"
     ]
    },
    {
     "name": "stderr",
     "output_type": "stream",
     "text": [
      "/home/jyang4/miniconda3/envs/ProtTP/lib/python3.9/site-packages/xgboost/core.py:105: UserWarning: ntree_limit is deprecated, use `iteration_range` or model slicing instead.\n",
      "  warnings.warn(\n",
      "/home/jyang4/miniconda3/envs/ProtTP/lib/python3.9/site-packages/xgboost/core.py:105: UserWarning: ntree_limit is deprecated, use `iteration_range` or model slicing instead.\n",
      "  warnings.warn(\n"
     ]
    },
    {
     "name": "stdout",
     "output_type": "stream",
     "text": [
      "[1]\ttrain-tweedie-nloglik@1.5:1.05873\ttest-tweedie-nloglik@1.5:1.18682\n",
      "[2]\ttrain-tweedie-nloglik@1.5:0.89953\ttest-tweedie-nloglik@1.5:1.08615\n",
      "[3]\ttrain-tweedie-nloglik@1.5:0.78790\ttest-tweedie-nloglik@1.5:1.03704\n",
      "[4]\ttrain-tweedie-nloglik@1.5:0.70987\ttest-tweedie-nloglik@1.5:1.02205\n",
      "[5]\ttrain-tweedie-nloglik@1.5:0.65494\ttest-tweedie-nloglik@1.5:1.03214\n",
      "[6]\ttrain-tweedie-nloglik@1.5:0.61798\ttest-tweedie-nloglik@1.5:1.05503\n",
      "[7]\ttrain-tweedie-nloglik@1.5:0.59380\ttest-tweedie-nloglik@1.5:1.07219\n",
      "[8]\ttrain-tweedie-nloglik@1.5:0.57497\ttest-tweedie-nloglik@1.5:1.10048\n",
      "[9]\ttrain-tweedie-nloglik@1.5:0.56446\ttest-tweedie-nloglik@1.5:1.12353\n",
      "[0]\ttrain-tweedie-nloglik@1.5:1.29854\ttest-tweedie-nloglik@1.5:1.36039\n",
      "[1]\ttrain-tweedie-nloglik@1.5:1.07028\ttest-tweedie-nloglik@1.5:1.17066\n",
      "[2]\ttrain-tweedie-nloglik@1.5:0.90799\ttest-tweedie-nloglik@1.5:1.04872\n",
      "[3]\ttrain-tweedie-nloglik@1.5:0.79477\ttest-tweedie-nloglik@1.5:0.98458\n",
      "[4]\ttrain-tweedie-nloglik@1.5:0.71309\ttest-tweedie-nloglik@1.5:0.93802\n",
      "[5]\ttrain-tweedie-nloglik@1.5:0.65877\ttest-tweedie-nloglik@1.5:0.93573\n",
      "[6]\ttrain-tweedie-nloglik@1.5:0.62374\ttest-tweedie-nloglik@1.5:0.93938\n",
      "[7]\ttrain-tweedie-nloglik@1.5:0.59991\ttest-tweedie-nloglik@1.5:0.95095\n",
      "[8]\ttrain-tweedie-nloglik@1.5:0.58547\ttest-tweedie-nloglik@1.5:0.96933\n",
      "[9]\ttrain-tweedie-nloglik@1.5:0.57611\ttest-tweedie-nloglik@1.5:0.99252\n",
      "[0]\ttrain-tweedie-nloglik@1.5:1.34386\ttest-tweedie-nloglik@1.5:1.37153\n",
      "[1]\ttrain-tweedie-nloglik@1.5:1.11576\ttest-tweedie-nloglik@1.5:1.20339\n"
     ]
    },
    {
     "name": "stderr",
     "output_type": "stream",
     "text": [
      "/home/jyang4/miniconda3/envs/ProtTP/lib/python3.9/site-packages/xgboost/core.py:105: UserWarning: ntree_limit is deprecated, use `iteration_range` or model slicing instead.\n",
      "  warnings.warn(\n",
      "/home/jyang4/miniconda3/envs/ProtTP/lib/python3.9/site-packages/xgboost/core.py:105: UserWarning: ntree_limit is deprecated, use `iteration_range` or model slicing instead.\n",
      "  warnings.warn(\n"
     ]
    },
    {
     "name": "stdout",
     "output_type": "stream",
     "text": [
      "[2]\ttrain-tweedie-nloglik@1.5:0.94997\ttest-tweedie-nloglik@1.5:1.10009\n",
      "[3]\ttrain-tweedie-nloglik@1.5:0.83558\ttest-tweedie-nloglik@1.5:1.02903\n",
      "[4]\ttrain-tweedie-nloglik@1.5:0.75257\ttest-tweedie-nloglik@1.5:0.99385\n",
      "[5]\ttrain-tweedie-nloglik@1.5:0.69597\ttest-tweedie-nloglik@1.5:0.99841\n",
      "[6]\ttrain-tweedie-nloglik@1.5:0.65826\ttest-tweedie-nloglik@1.5:1.00991\n",
      "[7]\ttrain-tweedie-nloglik@1.5:0.62720\ttest-tweedie-nloglik@1.5:1.01747\n",
      "[8]\ttrain-tweedie-nloglik@1.5:0.61076\ttest-tweedie-nloglik@1.5:1.05126\n",
      "[9]\ttrain-tweedie-nloglik@1.5:0.59961\ttest-tweedie-nloglik@1.5:1.08351\n",
      "[0]\ttrain-tweedie-nloglik@1.5:1.21528\ttest-tweedie-nloglik@1.5:1.36305\n",
      "[1]\ttrain-tweedie-nloglik@1.5:0.97964\ttest-tweedie-nloglik@1.5:1.18063\n",
      "[2]\ttrain-tweedie-nloglik@1.5:0.81339\ttest-tweedie-nloglik@1.5:1.07466\n",
      "[3]\ttrain-tweedie-nloglik@1.5:0.69493\ttest-tweedie-nloglik@1.5:1.02374\n",
      "[4]\ttrain-tweedie-nloglik@1.5:0.61225\ttest-tweedie-nloglik@1.5:1.01278\n",
      "[5]\ttrain-tweedie-nloglik@1.5:0.55538\ttest-tweedie-nloglik@1.5:1.04004\n",
      "[6]\ttrain-tweedie-nloglik@1.5:0.51425\ttest-tweedie-nloglik@1.5:1.07817\n",
      "[7]\ttrain-tweedie-nloglik@1.5:0.48786\ttest-tweedie-nloglik@1.5:1.10531\n",
      "[8]\ttrain-tweedie-nloglik@1.5:0.47056\ttest-tweedie-nloglik@1.5:1.14567\n",
      "[9]\ttrain-tweedie-nloglik@1.5:0.45855\ttest-tweedie-nloglik@1.5:1.18400\n",
      "[0]\ttrain-tweedie-nloglik@1.5:1.33833\ttest-tweedie-nloglik@1.5:1.36651\n",
      "[1]\ttrain-tweedie-nloglik@1.5:1.11387\ttest-tweedie-nloglik@1.5:1.18889\n"
     ]
    },
    {
     "name": "stderr",
     "output_type": "stream",
     "text": [
      "/home/jyang4/miniconda3/envs/ProtTP/lib/python3.9/site-packages/xgboost/core.py:105: UserWarning: ntree_limit is deprecated, use `iteration_range` or model slicing instead.\n",
      "  warnings.warn(\n",
      "/home/jyang4/miniconda3/envs/ProtTP/lib/python3.9/site-packages/xgboost/core.py:105: UserWarning: ntree_limit is deprecated, use `iteration_range` or model slicing instead.\n",
      "  warnings.warn(\n"
     ]
    },
    {
     "name": "stdout",
     "output_type": "stream",
     "text": [
      "[2]\ttrain-tweedie-nloglik@1.5:0.95256\ttest-tweedie-nloglik@1.5:1.07216\n",
      "[3]\ttrain-tweedie-nloglik@1.5:0.83034\ttest-tweedie-nloglik@1.5:1.00550\n",
      "[4]\ttrain-tweedie-nloglik@1.5:0.74548\ttest-tweedie-nloglik@1.5:0.97360\n",
      "[5]\ttrain-tweedie-nloglik@1.5:0.69097\ttest-tweedie-nloglik@1.5:0.95458\n",
      "[6]\ttrain-tweedie-nloglik@1.5:0.64768\ttest-tweedie-nloglik@1.5:0.97692\n",
      "[7]\ttrain-tweedie-nloglik@1.5:0.61869\ttest-tweedie-nloglik@1.5:1.00597\n",
      "[8]\ttrain-tweedie-nloglik@1.5:0.59882\ttest-tweedie-nloglik@1.5:1.03276\n",
      "[9]\ttrain-tweedie-nloglik@1.5:0.58385\ttest-tweedie-nloglik@1.5:1.07456\n",
      "[0]\ttrain-tweedie-nloglik@1.5:1.28900\ttest-tweedie-nloglik@1.5:1.36597\n",
      "[1]\ttrain-tweedie-nloglik@1.5:1.05454\ttest-tweedie-nloglik@1.5:1.19354\n",
      "[2]\ttrain-tweedie-nloglik@1.5:0.88944\ttest-tweedie-nloglik@1.5:1.08765\n",
      "[3]\ttrain-tweedie-nloglik@1.5:0.77042\ttest-tweedie-nloglik@1.5:1.04271\n",
      "[4]\ttrain-tweedie-nloglik@1.5:0.68575\ttest-tweedie-nloglik@1.5:1.02322\n",
      "[5]\ttrain-tweedie-nloglik@1.5:0.62535\ttest-tweedie-nloglik@1.5:1.03594\n",
      "[6]\ttrain-tweedie-nloglik@1.5:0.58422\ttest-tweedie-nloglik@1.5:1.06084\n",
      "[7]\ttrain-tweedie-nloglik@1.5:0.55751\ttest-tweedie-nloglik@1.5:1.08123\n",
      "[8]\ttrain-tweedie-nloglik@1.5:0.53836\ttest-tweedie-nloglik@1.5:1.11951\n",
      "[9]\ttrain-tweedie-nloglik@1.5:0.52509\ttest-tweedie-nloglik@1.5:1.15068\n",
      "[0]\ttrain-tweedie-nloglik@1.5:1.38810\ttest-tweedie-nloglik@1.5:1.36270\n"
     ]
    },
    {
     "name": "stderr",
     "output_type": "stream",
     "text": [
      "/home/jyang4/miniconda3/envs/ProtTP/lib/python3.9/site-packages/xgboost/core.py:105: UserWarning: ntree_limit is deprecated, use `iteration_range` or model slicing instead.\n",
      "  warnings.warn(\n",
      "/home/jyang4/miniconda3/envs/ProtTP/lib/python3.9/site-packages/xgboost/core.py:105: UserWarning: ntree_limit is deprecated, use `iteration_range` or model slicing instead.\n",
      "  warnings.warn(\n"
     ]
    },
    {
     "name": "stdout",
     "output_type": "stream",
     "text": [
      "[1]\ttrain-tweedie-nloglik@1.5:1.15479\ttest-tweedie-nloglik@1.5:1.18503\n",
      "[2]\ttrain-tweedie-nloglik@1.5:0.98474\ttest-tweedie-nloglik@1.5:1.06969\n",
      "[3]\ttrain-tweedie-nloglik@1.5:0.86464\ttest-tweedie-nloglik@1.5:1.00276\n",
      "[4]\ttrain-tweedie-nloglik@1.5:0.78120\ttest-tweedie-nloglik@1.5:0.97210\n",
      "[5]\ttrain-tweedie-nloglik@1.5:0.72503\ttest-tweedie-nloglik@1.5:0.96783\n",
      "[6]\ttrain-tweedie-nloglik@1.5:0.68759\ttest-tweedie-nloglik@1.5:0.97731\n",
      "[7]\ttrain-tweedie-nloglik@1.5:0.66035\ttest-tweedie-nloglik@1.5:0.99683\n",
      "[8]\ttrain-tweedie-nloglik@1.5:0.64081\ttest-tweedie-nloglik@1.5:1.01287\n",
      "[9]\ttrain-tweedie-nloglik@1.5:0.62932\ttest-tweedie-nloglik@1.5:1.02361\n",
      "[0]\ttrain-tweedie-nloglik@1.5:1.23385\ttest-tweedie-nloglik@1.5:1.35024\n",
      "[1]\ttrain-tweedie-nloglik@1.5:0.99915\ttest-tweedie-nloglik@1.5:1.16720\n",
      "[2]\ttrain-tweedie-nloglik@1.5:0.82985\ttest-tweedie-nloglik@1.5:1.06229\n",
      "[3]\ttrain-tweedie-nloglik@1.5:0.70861\ttest-tweedie-nloglik@1.5:0.99032\n",
      "[4]\ttrain-tweedie-nloglik@1.5:0.62584\ttest-tweedie-nloglik@1.5:0.96005\n",
      "[5]\ttrain-tweedie-nloglik@1.5:0.56918\ttest-tweedie-nloglik@1.5:0.96650\n",
      "[6]\ttrain-tweedie-nloglik@1.5:0.53159\ttest-tweedie-nloglik@1.5:0.98459\n",
      "[7]\ttrain-tweedie-nloglik@1.5:0.50634\ttest-tweedie-nloglik@1.5:1.02015\n",
      "[8]\ttrain-tweedie-nloglik@1.5:0.48798\ttest-tweedie-nloglik@1.5:1.05564\n",
      "[9]\ttrain-tweedie-nloglik@1.5:0.47683\ttest-tweedie-nloglik@1.5:1.10035\n",
      "[0]\ttrain-tweedie-nloglik@1.5:1.26069\ttest-tweedie-nloglik@1.5:1.36764\n",
      "[1]\ttrain-tweedie-nloglik@1.5:1.03913\ttest-tweedie-nloglik@1.5:1.20203\n"
     ]
    },
    {
     "name": "stderr",
     "output_type": "stream",
     "text": [
      "/home/jyang4/miniconda3/envs/ProtTP/lib/python3.9/site-packages/xgboost/core.py:105: UserWarning: ntree_limit is deprecated, use `iteration_range` or model slicing instead.\n",
      "  warnings.warn(\n",
      "/home/jyang4/miniconda3/envs/ProtTP/lib/python3.9/site-packages/xgboost/core.py:105: UserWarning: ntree_limit is deprecated, use `iteration_range` or model slicing instead.\n",
      "  warnings.warn(\n"
     ]
    },
    {
     "name": "stdout",
     "output_type": "stream",
     "text": [
      "[2]\ttrain-tweedie-nloglik@1.5:0.88642\ttest-tweedie-nloglik@1.5:1.11018\n",
      "[3]\ttrain-tweedie-nloglik@1.5:0.77219\ttest-tweedie-nloglik@1.5:1.06402\n",
      "[4]\ttrain-tweedie-nloglik@1.5:0.69046\ttest-tweedie-nloglik@1.5:1.03410\n",
      "[5]\ttrain-tweedie-nloglik@1.5:0.63040\ttest-tweedie-nloglik@1.5:1.04593\n",
      "[6]\ttrain-tweedie-nloglik@1.5:0.59020\ttest-tweedie-nloglik@1.5:1.07510\n",
      "[7]\ttrain-tweedie-nloglik@1.5:0.56373\ttest-tweedie-nloglik@1.5:1.12347\n",
      "[8]\ttrain-tweedie-nloglik@1.5:0.54459\ttest-tweedie-nloglik@1.5:1.16319\n",
      "[9]\ttrain-tweedie-nloglik@1.5:0.52934\ttest-tweedie-nloglik@1.5:1.19938\n",
      "[0]\ttrain-tweedie-nloglik@1.5:1.27797\ttest-tweedie-nloglik@1.5:1.36712\n",
      "[1]\ttrain-tweedie-nloglik@1.5:1.05279\ttest-tweedie-nloglik@1.5:1.19468\n",
      "[2]\ttrain-tweedie-nloglik@1.5:0.89152\ttest-tweedie-nloglik@1.5:1.07632\n",
      "[3]\ttrain-tweedie-nloglik@1.5:0.77471\ttest-tweedie-nloglik@1.5:1.00674\n",
      "[4]\ttrain-tweedie-nloglik@1.5:0.69448\ttest-tweedie-nloglik@1.5:0.99546\n",
      "[5]\ttrain-tweedie-nloglik@1.5:0.64143\ttest-tweedie-nloglik@1.5:0.99298\n",
      "[6]\ttrain-tweedie-nloglik@1.5:0.60306\ttest-tweedie-nloglik@1.5:1.02917\n",
      "[7]\ttrain-tweedie-nloglik@1.5:0.57836\ttest-tweedie-nloglik@1.5:1.07548\n",
      "[8]\ttrain-tweedie-nloglik@1.5:0.56240\ttest-tweedie-nloglik@1.5:1.11539\n",
      "[9]\ttrain-tweedie-nloglik@1.5:0.55038\ttest-tweedie-nloglik@1.5:1.15890\n",
      "[0]\ttrain-tweedie-nloglik@1.5:1.51789\ttest-tweedie-nloglik@1.5:1.36994\n",
      "[1]\ttrain-tweedie-nloglik@1.5:1.27589\ttest-tweedie-nloglik@1.5:1.19929\n"
     ]
    },
    {
     "name": "stderr",
     "output_type": "stream",
     "text": [
      "/home/jyang4/miniconda3/envs/ProtTP/lib/python3.9/site-packages/xgboost/core.py:105: UserWarning: ntree_limit is deprecated, use `iteration_range` or model slicing instead.\n",
      "  warnings.warn(\n",
      "/home/jyang4/miniconda3/envs/ProtTP/lib/python3.9/site-packages/xgboost/core.py:105: UserWarning: ntree_limit is deprecated, use `iteration_range` or model slicing instead.\n",
      "  warnings.warn(\n"
     ]
    },
    {
     "name": "stdout",
     "output_type": "stream",
     "text": [
      "[2]\ttrain-tweedie-nloglik@1.5:1.09960\ttest-tweedie-nloglik@1.5:1.08908\n",
      "[3]\ttrain-tweedie-nloglik@1.5:0.98748\ttest-tweedie-nloglik@1.5:1.01488\n",
      "[4]\ttrain-tweedie-nloglik@1.5:0.90126\ttest-tweedie-nloglik@1.5:0.99115\n",
      "[5]\ttrain-tweedie-nloglik@1.5:0.84293\ttest-tweedie-nloglik@1.5:0.98429\n",
      "[6]\ttrain-tweedie-nloglik@1.5:0.80529\ttest-tweedie-nloglik@1.5:1.00338\n",
      "[7]\ttrain-tweedie-nloglik@1.5:0.78161\ttest-tweedie-nloglik@1.5:1.01695\n",
      "[8]\ttrain-tweedie-nloglik@1.5:0.75516\ttest-tweedie-nloglik@1.5:1.00541\n",
      "[9]\ttrain-tweedie-nloglik@1.5:0.73733\ttest-tweedie-nloglik@1.5:1.00952\n",
      "[0]\ttrain-tweedie-nloglik@1.5:1.33388\ttest-tweedie-nloglik@1.5:1.38501\n",
      "[1]\ttrain-tweedie-nloglik@1.5:1.11046\ttest-tweedie-nloglik@1.5:1.22317\n",
      "[2]\ttrain-tweedie-nloglik@1.5:0.95260\ttest-tweedie-nloglik@1.5:1.12448\n",
      "[3]\ttrain-tweedie-nloglik@1.5:0.83977\ttest-tweedie-nloglik@1.5:1.07580\n",
      "[4]\ttrain-tweedie-nloglik@1.5:0.76224\ttest-tweedie-nloglik@1.5:1.05166\n",
      "[5]\ttrain-tweedie-nloglik@1.5:0.70937\ttest-tweedie-nloglik@1.5:1.03953\n",
      "[6]\ttrain-tweedie-nloglik@1.5:0.67120\ttest-tweedie-nloglik@1.5:1.03923\n",
      "[7]\ttrain-tweedie-nloglik@1.5:0.64483\ttest-tweedie-nloglik@1.5:1.05280\n",
      "[8]\ttrain-tweedie-nloglik@1.5:0.62363\ttest-tweedie-nloglik@1.5:1.08613\n",
      "[9]\ttrain-tweedie-nloglik@1.5:0.60890\ttest-tweedie-nloglik@1.5:1.13322\n",
      "[0]\ttrain-tweedie-nloglik@1.5:1.33005\ttest-tweedie-nloglik@1.5:1.37387\n",
      "[1]\ttrain-tweedie-nloglik@1.5:1.10163\ttest-tweedie-nloglik@1.5:1.21045\n"
     ]
    },
    {
     "name": "stderr",
     "output_type": "stream",
     "text": [
      "/home/jyang4/miniconda3/envs/ProtTP/lib/python3.9/site-packages/xgboost/core.py:105: UserWarning: ntree_limit is deprecated, use `iteration_range` or model slicing instead.\n",
      "  warnings.warn(\n",
      "/home/jyang4/miniconda3/envs/ProtTP/lib/python3.9/site-packages/xgboost/core.py:105: UserWarning: ntree_limit is deprecated, use `iteration_range` or model slicing instead.\n",
      "  warnings.warn(\n"
     ]
    },
    {
     "name": "stdout",
     "output_type": "stream",
     "text": [
      "[2]\ttrain-tweedie-nloglik@1.5:0.94006\ttest-tweedie-nloglik@1.5:1.12391\n",
      "[3]\ttrain-tweedie-nloglik@1.5:0.82715\ttest-tweedie-nloglik@1.5:1.07483\n",
      "[4]\ttrain-tweedie-nloglik@1.5:0.75122\ttest-tweedie-nloglik@1.5:1.03568\n",
      "[5]\ttrain-tweedie-nloglik@1.5:0.69674\ttest-tweedie-nloglik@1.5:1.06101\n",
      "[6]\ttrain-tweedie-nloglik@1.5:0.65538\ttest-tweedie-nloglik@1.5:1.08791\n",
      "[7]\ttrain-tweedie-nloglik@1.5:0.62957\ttest-tweedie-nloglik@1.5:1.11266\n",
      "[8]\ttrain-tweedie-nloglik@1.5:0.61100\ttest-tweedie-nloglik@1.5:1.14409\n",
      "[9]\ttrain-tweedie-nloglik@1.5:0.59752\ttest-tweedie-nloglik@1.5:1.18904\n",
      "[0]\ttrain-tweedie-nloglik@1.5:1.29578\ttest-tweedie-nloglik@1.5:1.36086\n",
      "[1]\ttrain-tweedie-nloglik@1.5:1.06001\ttest-tweedie-nloglik@1.5:1.16544\n",
      "[2]\ttrain-tweedie-nloglik@1.5:0.89242\ttest-tweedie-nloglik@1.5:1.05852\n",
      "[3]\ttrain-tweedie-nloglik@1.5:0.77753\ttest-tweedie-nloglik@1.5:0.99978\n",
      "[4]\ttrain-tweedie-nloglik@1.5:0.69220\ttest-tweedie-nloglik@1.5:0.95566\n",
      "[5]\ttrain-tweedie-nloglik@1.5:0.63571\ttest-tweedie-nloglik@1.5:0.94834\n",
      "[6]\ttrain-tweedie-nloglik@1.5:0.59724\ttest-tweedie-nloglik@1.5:0.96475\n",
      "[7]\ttrain-tweedie-nloglik@1.5:0.57020\ttest-tweedie-nloglik@1.5:0.98069\n",
      "[8]\ttrain-tweedie-nloglik@1.5:0.55339\ttest-tweedie-nloglik@1.5:1.00618\n",
      "[9]\ttrain-tweedie-nloglik@1.5:0.54157\ttest-tweedie-nloglik@1.5:1.01903\n",
      "[0]\ttrain-tweedie-nloglik@1.5:1.38708\ttest-tweedie-nloglik@1.5:1.36437\n"
     ]
    },
    {
     "name": "stderr",
     "output_type": "stream",
     "text": [
      "/home/jyang4/miniconda3/envs/ProtTP/lib/python3.9/site-packages/xgboost/core.py:105: UserWarning: ntree_limit is deprecated, use `iteration_range` or model slicing instead.\n",
      "  warnings.warn(\n",
      "/home/jyang4/miniconda3/envs/ProtTP/lib/python3.9/site-packages/xgboost/core.py:105: UserWarning: ntree_limit is deprecated, use `iteration_range` or model slicing instead.\n",
      "  warnings.warn(\n"
     ]
    },
    {
     "name": "stdout",
     "output_type": "stream",
     "text": [
      "[1]\ttrain-tweedie-nloglik@1.5:1.15945\ttest-tweedie-nloglik@1.5:1.17311\n",
      "[2]\ttrain-tweedie-nloglik@1.5:0.99901\ttest-tweedie-nloglik@1.5:1.05602\n",
      "[3]\ttrain-tweedie-nloglik@1.5:0.88487\ttest-tweedie-nloglik@1.5:0.99165\n",
      "[4]\ttrain-tweedie-nloglik@1.5:0.80707\ttest-tweedie-nloglik@1.5:0.96141\n",
      "[5]\ttrain-tweedie-nloglik@1.5:0.75963\ttest-tweedie-nloglik@1.5:0.95444\n",
      "[6]\ttrain-tweedie-nloglik@1.5:0.71630\ttest-tweedie-nloglik@1.5:0.95608\n",
      "[7]\ttrain-tweedie-nloglik@1.5:0.69002\ttest-tweedie-nloglik@1.5:0.96620\n",
      "[8]\ttrain-tweedie-nloglik@1.5:0.67386\ttest-tweedie-nloglik@1.5:0.97201\n",
      "[9]\ttrain-tweedie-nloglik@1.5:0.66203\ttest-tweedie-nloglik@1.5:0.98980\n",
      "[0]\ttrain-tweedie-nloglik@1.5:1.40350\ttest-tweedie-nloglik@1.5:1.36222\n",
      "[1]\ttrain-tweedie-nloglik@1.5:1.17044\ttest-tweedie-nloglik@1.5:1.17067\n",
      "[2]\ttrain-tweedie-nloglik@1.5:1.00573\ttest-tweedie-nloglik@1.5:1.04600\n",
      "[3]\ttrain-tweedie-nloglik@1.5:0.89023\ttest-tweedie-nloglik@1.5:0.96900\n",
      "[4]\ttrain-tweedie-nloglik@1.5:0.80443\ttest-tweedie-nloglik@1.5:0.92902\n",
      "[5]\ttrain-tweedie-nloglik@1.5:0.74637\ttest-tweedie-nloglik@1.5:0.90093\n",
      "[6]\ttrain-tweedie-nloglik@1.5:0.70742\ttest-tweedie-nloglik@1.5:0.90128\n",
      "[7]\ttrain-tweedie-nloglik@1.5:0.68081\ttest-tweedie-nloglik@1.5:0.91901\n",
      "[8]\ttrain-tweedie-nloglik@1.5:0.66156\ttest-tweedie-nloglik@1.5:0.93564\n",
      "[9]\ttrain-tweedie-nloglik@1.5:0.64719\ttest-tweedie-nloglik@1.5:0.96212\n",
      "[0]\ttrain-tweedie-nloglik@1.5:1.25563\ttest-tweedie-nloglik@1.5:1.35301\n",
      "[1]\ttrain-tweedie-nloglik@1.5:1.01520\ttest-tweedie-nloglik@1.5:1.16607\n"
     ]
    },
    {
     "name": "stderr",
     "output_type": "stream",
     "text": [
      "/home/jyang4/miniconda3/envs/ProtTP/lib/python3.9/site-packages/xgboost/core.py:105: UserWarning: ntree_limit is deprecated, use `iteration_range` or model slicing instead.\n",
      "  warnings.warn(\n",
      "/home/jyang4/miniconda3/envs/ProtTP/lib/python3.9/site-packages/xgboost/core.py:105: UserWarning: ntree_limit is deprecated, use `iteration_range` or model slicing instead.\n",
      "  warnings.warn(\n"
     ]
    },
    {
     "name": "stdout",
     "output_type": "stream",
     "text": [
      "[2]\ttrain-tweedie-nloglik@1.5:0.84308\ttest-tweedie-nloglik@1.5:1.05734\n",
      "[3]\ttrain-tweedie-nloglik@1.5:0.72432\ttest-tweedie-nloglik@1.5:1.00866\n",
      "[4]\ttrain-tweedie-nloglik@1.5:0.64262\ttest-tweedie-nloglik@1.5:0.98457\n",
      "[5]\ttrain-tweedie-nloglik@1.5:0.58806\ttest-tweedie-nloglik@1.5:1.00248\n",
      "[6]\ttrain-tweedie-nloglik@1.5:0.55301\ttest-tweedie-nloglik@1.5:1.03986\n",
      "[7]\ttrain-tweedie-nloglik@1.5:0.52742\ttest-tweedie-nloglik@1.5:1.06665\n",
      "[8]\ttrain-tweedie-nloglik@1.5:0.51204\ttest-tweedie-nloglik@1.5:1.10426\n",
      "[9]\ttrain-tweedie-nloglik@1.5:0.50086\ttest-tweedie-nloglik@1.5:1.14769\n",
      "[0]\ttrain-tweedie-nloglik@1.5:1.38905\ttest-tweedie-nloglik@1.5:1.37427\n",
      "[1]\ttrain-tweedie-nloglik@1.5:1.16470\ttest-tweedie-nloglik@1.5:1.20755\n",
      "[2]\ttrain-tweedie-nloglik@1.5:1.00160\ttest-tweedie-nloglik@1.5:1.09102\n",
      "[3]\ttrain-tweedie-nloglik@1.5:0.88428\ttest-tweedie-nloglik@1.5:1.00960\n",
      "[4]\ttrain-tweedie-nloglik@1.5:0.80605\ttest-tweedie-nloglik@1.5:0.97650\n",
      "[5]\ttrain-tweedie-nloglik@1.5:0.74041\ttest-tweedie-nloglik@1.5:0.96099\n",
      "[6]\ttrain-tweedie-nloglik@1.5:0.69789\ttest-tweedie-nloglik@1.5:0.97032\n",
      "[7]\ttrain-tweedie-nloglik@1.5:0.66895\ttest-tweedie-nloglik@1.5:0.98514\n",
      "[8]\ttrain-tweedie-nloglik@1.5:0.64889\ttest-tweedie-nloglik@1.5:0.98794\n",
      "[9]\ttrain-tweedie-nloglik@1.5:0.63594\ttest-tweedie-nloglik@1.5:1.01582\n",
      "[0]\ttrain-tweedie-nloglik@1.5:1.38046\ttest-tweedie-nloglik@1.5:1.35624\n",
      "[1]\ttrain-tweedie-nloglik@1.5:1.15602\ttest-tweedie-nloglik@1.5:1.17223\n"
     ]
    },
    {
     "name": "stderr",
     "output_type": "stream",
     "text": [
      "/home/jyang4/miniconda3/envs/ProtTP/lib/python3.9/site-packages/xgboost/core.py:105: UserWarning: ntree_limit is deprecated, use `iteration_range` or model slicing instead.\n",
      "  warnings.warn(\n",
      "/home/jyang4/miniconda3/envs/ProtTP/lib/python3.9/site-packages/xgboost/core.py:105: UserWarning: ntree_limit is deprecated, use `iteration_range` or model slicing instead.\n",
      "  warnings.warn(\n"
     ]
    },
    {
     "name": "stdout",
     "output_type": "stream",
     "text": [
      "[2]\ttrain-tweedie-nloglik@1.5:0.99984\ttest-tweedie-nloglik@1.5:1.04932\n",
      "[3]\ttrain-tweedie-nloglik@1.5:0.88605\ttest-tweedie-nloglik@1.5:0.96730\n",
      "[4]\ttrain-tweedie-nloglik@1.5:0.80484\ttest-tweedie-nloglik@1.5:0.92953\n",
      "[5]\ttrain-tweedie-nloglik@1.5:0.74861\ttest-tweedie-nloglik@1.5:0.92231\n",
      "[6]\ttrain-tweedie-nloglik@1.5:0.70988\ttest-tweedie-nloglik@1.5:0.91871\n",
      "[7]\ttrain-tweedie-nloglik@1.5:0.68163\ttest-tweedie-nloglik@1.5:0.92148\n",
      "[8]\ttrain-tweedie-nloglik@1.5:0.66424\ttest-tweedie-nloglik@1.5:0.93127\n",
      "[9]\ttrain-tweedie-nloglik@1.5:0.65227\ttest-tweedie-nloglik@1.5:0.94624\n",
      "[0]\ttrain-tweedie-nloglik@1.5:1.30091\ttest-tweedie-nloglik@1.5:1.36334\n",
      "[1]\ttrain-tweedie-nloglik@1.5:1.06737\ttest-tweedie-nloglik@1.5:1.18110\n",
      "[2]\ttrain-tweedie-nloglik@1.5:0.90318\ttest-tweedie-nloglik@1.5:1.07018\n",
      "[3]\ttrain-tweedie-nloglik@1.5:0.78577\ttest-tweedie-nloglik@1.5:0.99756\n",
      "[4]\ttrain-tweedie-nloglik@1.5:0.70421\ttest-tweedie-nloglik@1.5:0.96818\n",
      "[5]\ttrain-tweedie-nloglik@1.5:0.64933\ttest-tweedie-nloglik@1.5:0.95135\n",
      "[6]\ttrain-tweedie-nloglik@1.5:0.61291\ttest-tweedie-nloglik@1.5:0.96013\n",
      "[7]\ttrain-tweedie-nloglik@1.5:0.58835\ttest-tweedie-nloglik@1.5:0.97200\n",
      "[8]\ttrain-tweedie-nloglik@1.5:0.57070\ttest-tweedie-nloglik@1.5:0.99729\n",
      "[9]\ttrain-tweedie-nloglik@1.5:0.55890\ttest-tweedie-nloglik@1.5:1.02263\n",
      "[0]\ttrain-tweedie-nloglik@1.5:1.25038\ttest-tweedie-nloglik@1.5:1.36420\n"
     ]
    },
    {
     "name": "stderr",
     "output_type": "stream",
     "text": [
      "/home/jyang4/miniconda3/envs/ProtTP/lib/python3.9/site-packages/xgboost/core.py:105: UserWarning: ntree_limit is deprecated, use `iteration_range` or model slicing instead.\n",
      "  warnings.warn(\n",
      "/home/jyang4/miniconda3/envs/ProtTP/lib/python3.9/site-packages/xgboost/core.py:105: UserWarning: ntree_limit is deprecated, use `iteration_range` or model slicing instead.\n",
      "  warnings.warn(\n"
     ]
    },
    {
     "name": "stdout",
     "output_type": "stream",
     "text": [
      "[1]\ttrain-tweedie-nloglik@1.5:1.02648\ttest-tweedie-nloglik@1.5:1.19590\n",
      "[2]\ttrain-tweedie-nloglik@1.5:0.86086\ttest-tweedie-nloglik@1.5:1.09434\n",
      "[3]\ttrain-tweedie-nloglik@1.5:0.74706\ttest-tweedie-nloglik@1.5:1.05294\n",
      "[4]\ttrain-tweedie-nloglik@1.5:0.67031\ttest-tweedie-nloglik@1.5:1.05325\n",
      "[5]\ttrain-tweedie-nloglik@1.5:0.61695\ttest-tweedie-nloglik@1.5:1.05826\n",
      "[6]\ttrain-tweedie-nloglik@1.5:0.57539\ttest-tweedie-nloglik@1.5:1.08020\n",
      "[7]\ttrain-tweedie-nloglik@1.5:0.55054\ttest-tweedie-nloglik@1.5:1.11237\n",
      "[8]\ttrain-tweedie-nloglik@1.5:0.53163\ttest-tweedie-nloglik@1.5:1.12422\n",
      "[9]\ttrain-tweedie-nloglik@1.5:0.51712\ttest-tweedie-nloglik@1.5:1.15345\n",
      "[0]\ttrain-tweedie-nloglik@1.5:1.34835\ttest-tweedie-nloglik@1.5:1.38153\n",
      "[1]\ttrain-tweedie-nloglik@1.5:1.11808\ttest-tweedie-nloglik@1.5:1.22341\n",
      "[2]\ttrain-tweedie-nloglik@1.5:0.94777\ttest-tweedie-nloglik@1.5:1.10425\n",
      "[3]\ttrain-tweedie-nloglik@1.5:0.82286\ttest-tweedie-nloglik@1.5:1.03290\n",
      "[4]\ttrain-tweedie-nloglik@1.5:0.73892\ttest-tweedie-nloglik@1.5:1.01837\n",
      "[5]\ttrain-tweedie-nloglik@1.5:0.67721\ttest-tweedie-nloglik@1.5:1.03099\n",
      "[6]\ttrain-tweedie-nloglik@1.5:0.63548\ttest-tweedie-nloglik@1.5:1.03698\n",
      "[7]\ttrain-tweedie-nloglik@1.5:0.60754\ttest-tweedie-nloglik@1.5:1.05567\n",
      "[8]\ttrain-tweedie-nloglik@1.5:0.58722\ttest-tweedie-nloglik@1.5:1.07239\n",
      "[9]\ttrain-tweedie-nloglik@1.5:0.57422\ttest-tweedie-nloglik@1.5:1.11585\n",
      "[0]\ttrain-tweedie-nloglik@1.5:1.29029\ttest-tweedie-nloglik@1.5:1.35574\n"
     ]
    },
    {
     "name": "stderr",
     "output_type": "stream",
     "text": [
      "/home/jyang4/miniconda3/envs/ProtTP/lib/python3.9/site-packages/xgboost/core.py:105: UserWarning: ntree_limit is deprecated, use `iteration_range` or model slicing instead.\n",
      "  warnings.warn(\n",
      "/home/jyang4/miniconda3/envs/ProtTP/lib/python3.9/site-packages/xgboost/core.py:105: UserWarning: ntree_limit is deprecated, use `iteration_range` or model slicing instead.\n",
      "  warnings.warn(\n"
     ]
    },
    {
     "name": "stdout",
     "output_type": "stream",
     "text": [
      "[1]\ttrain-tweedie-nloglik@1.5:1.06003\ttest-tweedie-nloglik@1.5:1.17644\n",
      "[2]\ttrain-tweedie-nloglik@1.5:0.89356\ttest-tweedie-nloglik@1.5:1.06651\n",
      "[3]\ttrain-tweedie-nloglik@1.5:0.77497\ttest-tweedie-nloglik@1.5:1.01200\n",
      "[4]\ttrain-tweedie-nloglik@1.5:0.69318\ttest-tweedie-nloglik@1.5:0.99939\n",
      "[5]\ttrain-tweedie-nloglik@1.5:0.63817\ttest-tweedie-nloglik@1.5:1.02663\n",
      "[6]\ttrain-tweedie-nloglik@1.5:0.60110\ttest-tweedie-nloglik@1.5:1.05659\n",
      "[7]\ttrain-tweedie-nloglik@1.5:0.57536\ttest-tweedie-nloglik@1.5:1.10559\n",
      "[8]\ttrain-tweedie-nloglik@1.5:0.55899\ttest-tweedie-nloglik@1.5:1.14280\n",
      "[9]\ttrain-tweedie-nloglik@1.5:0.54864\ttest-tweedie-nloglik@1.5:1.19223\n",
      "[0]\ttrain-tweedie-nloglik@1.5:1.33812\ttest-tweedie-nloglik@1.5:1.37274\n",
      "[1]\ttrain-tweedie-nloglik@1.5:1.11131\ttest-tweedie-nloglik@1.5:1.20345\n",
      "[2]\ttrain-tweedie-nloglik@1.5:0.94882\ttest-tweedie-nloglik@1.5:1.10240\n",
      "[3]\ttrain-tweedie-nloglik@1.5:0.82991\ttest-tweedie-nloglik@1.5:1.04710\n",
      "[4]\ttrain-tweedie-nloglik@1.5:0.74887\ttest-tweedie-nloglik@1.5:1.01819\n",
      "[5]\ttrain-tweedie-nloglik@1.5:0.68911\ttest-tweedie-nloglik@1.5:1.02048\n",
      "[6]\ttrain-tweedie-nloglik@1.5:0.64948\ttest-tweedie-nloglik@1.5:1.05148\n",
      "[7]\ttrain-tweedie-nloglik@1.5:0.62413\ttest-tweedie-nloglik@1.5:1.09182\n",
      "[8]\ttrain-tweedie-nloglik@1.5:0.60441\ttest-tweedie-nloglik@1.5:1.12316\n",
      "[9]\ttrain-tweedie-nloglik@1.5:0.59009\ttest-tweedie-nloglik@1.5:1.13785\n",
      "[0]\ttrain-tweedie-nloglik@1.5:1.26546\ttest-tweedie-nloglik@1.5:1.35529\n",
      "[1]\ttrain-tweedie-nloglik@1.5:1.02748\ttest-tweedie-nloglik@1.5:1.17242\n"
     ]
    },
    {
     "name": "stderr",
     "output_type": "stream",
     "text": [
      "/home/jyang4/miniconda3/envs/ProtTP/lib/python3.9/site-packages/xgboost/core.py:105: UserWarning: ntree_limit is deprecated, use `iteration_range` or model slicing instead.\n",
      "  warnings.warn(\n",
      "/home/jyang4/miniconda3/envs/ProtTP/lib/python3.9/site-packages/xgboost/core.py:105: UserWarning: ntree_limit is deprecated, use `iteration_range` or model slicing instead.\n",
      "  warnings.warn(\n"
     ]
    },
    {
     "name": "stdout",
     "output_type": "stream",
     "text": [
      "[2]\ttrain-tweedie-nloglik@1.5:0.85869\ttest-tweedie-nloglik@1.5:1.05872\n",
      "[3]\ttrain-tweedie-nloglik@1.5:0.73979\ttest-tweedie-nloglik@1.5:0.99151\n",
      "[4]\ttrain-tweedie-nloglik@1.5:0.65825\ttest-tweedie-nloglik@1.5:0.97095\n",
      "[5]\ttrain-tweedie-nloglik@1.5:0.60339\ttest-tweedie-nloglik@1.5:0.97335\n",
      "[6]\ttrain-tweedie-nloglik@1.5:0.56683\ttest-tweedie-nloglik@1.5:0.98769\n",
      "[7]\ttrain-tweedie-nloglik@1.5:0.54225\ttest-tweedie-nloglik@1.5:1.01273\n",
      "[8]\ttrain-tweedie-nloglik@1.5:0.52706\ttest-tweedie-nloglik@1.5:1.04401\n",
      "[9]\ttrain-tweedie-nloglik@1.5:0.51679\ttest-tweedie-nloglik@1.5:1.05958\n",
      "[0]\ttrain-tweedie-nloglik@1.5:1.36486\ttest-tweedie-nloglik@1.5:1.35653\n",
      "[1]\ttrain-tweedie-nloglik@1.5:1.13149\ttest-tweedie-nloglik@1.5:1.17373\n",
      "[2]\ttrain-tweedie-nloglik@1.5:0.96698\ttest-tweedie-nloglik@1.5:1.05577\n",
      "[3]\ttrain-tweedie-nloglik@1.5:0.85218\ttest-tweedie-nloglik@1.5:0.99290\n",
      "[4]\ttrain-tweedie-nloglik@1.5:0.77551\ttest-tweedie-nloglik@1.5:0.96825\n",
      "[5]\ttrain-tweedie-nloglik@1.5:0.72130\ttest-tweedie-nloglik@1.5:0.95480\n",
      "[6]\ttrain-tweedie-nloglik@1.5:0.68356\ttest-tweedie-nloglik@1.5:0.97006\n",
      "[7]\ttrain-tweedie-nloglik@1.5:0.65778\ttest-tweedie-nloglik@1.5:0.98668\n",
      "[8]\ttrain-tweedie-nloglik@1.5:0.64083\ttest-tweedie-nloglik@1.5:0.99404\n",
      "[9]\ttrain-tweedie-nloglik@1.5:0.62801\ttest-tweedie-nloglik@1.5:1.00402\n",
      "[0]\ttrain-tweedie-nloglik@1.5:1.38962\ttest-tweedie-nloglik@1.5:1.36111\n",
      "[1]\ttrain-tweedie-nloglik@1.5:1.14884\ttest-tweedie-nloglik@1.5:1.17831\n"
     ]
    },
    {
     "name": "stderr",
     "output_type": "stream",
     "text": [
      "/home/jyang4/miniconda3/envs/ProtTP/lib/python3.9/site-packages/xgboost/core.py:105: UserWarning: ntree_limit is deprecated, use `iteration_range` or model slicing instead.\n",
      "  warnings.warn(\n",
      "/home/jyang4/miniconda3/envs/ProtTP/lib/python3.9/site-packages/xgboost/core.py:105: UserWarning: ntree_limit is deprecated, use `iteration_range` or model slicing instead.\n",
      "  warnings.warn(\n"
     ]
    },
    {
     "name": "stdout",
     "output_type": "stream",
     "text": [
      "[2]\ttrain-tweedie-nloglik@1.5:0.98040\ttest-tweedie-nloglik@1.5:1.06445\n",
      "[3]\ttrain-tweedie-nloglik@1.5:0.86258\ttest-tweedie-nloglik@1.5:0.99902\n",
      "[4]\ttrain-tweedie-nloglik@1.5:0.78113\ttest-tweedie-nloglik@1.5:0.97660\n",
      "[5]\ttrain-tweedie-nloglik@1.5:0.72541\ttest-tweedie-nloglik@1.5:0.96486\n",
      "[6]\ttrain-tweedie-nloglik@1.5:0.68911\ttest-tweedie-nloglik@1.5:0.96550\n",
      "[7]\ttrain-tweedie-nloglik@1.5:0.65849\ttest-tweedie-nloglik@1.5:0.97992\n",
      "[8]\ttrain-tweedie-nloglik@1.5:0.63790\ttest-tweedie-nloglik@1.5:0.99659\n",
      "[9]\ttrain-tweedie-nloglik@1.5:0.62553\ttest-tweedie-nloglik@1.5:1.02889\n",
      "[0]\ttrain-tweedie-nloglik@1.5:1.29501\ttest-tweedie-nloglik@1.5:1.35703\n",
      "[1]\ttrain-tweedie-nloglik@1.5:1.05767\ttest-tweedie-nloglik@1.5:1.17009\n",
      "[2]\ttrain-tweedie-nloglik@1.5:0.88871\ttest-tweedie-nloglik@1.5:1.04908\n",
      "[3]\ttrain-tweedie-nloglik@1.5:0.76794\ttest-tweedie-nloglik@1.5:0.99409\n",
      "[4]\ttrain-tweedie-nloglik@1.5:0.68498\ttest-tweedie-nloglik@1.5:0.96153\n",
      "[5]\ttrain-tweedie-nloglik@1.5:0.63135\ttest-tweedie-nloglik@1.5:0.96357\n",
      "[6]\ttrain-tweedie-nloglik@1.5:0.59127\ttest-tweedie-nloglik@1.5:0.96997\n",
      "[7]\ttrain-tweedie-nloglik@1.5:0.56623\ttest-tweedie-nloglik@1.5:0.99065\n",
      "[8]\ttrain-tweedie-nloglik@1.5:0.54625\ttest-tweedie-nloglik@1.5:0.99748\n",
      "[9]\ttrain-tweedie-nloglik@1.5:0.53223\ttest-tweedie-nloglik@1.5:1.02415\n",
      "[0]\ttrain-tweedie-nloglik@1.5:1.29877\ttest-tweedie-nloglik@1.5:1.36764\n",
      "[1]\ttrain-tweedie-nloglik@1.5:1.06875\ttest-tweedie-nloglik@1.5:1.19501\n"
     ]
    },
    {
     "name": "stderr",
     "output_type": "stream",
     "text": [
      "/home/jyang4/miniconda3/envs/ProtTP/lib/python3.9/site-packages/xgboost/core.py:105: UserWarning: ntree_limit is deprecated, use `iteration_range` or model slicing instead.\n",
      "  warnings.warn(\n",
      "/home/jyang4/miniconda3/envs/ProtTP/lib/python3.9/site-packages/xgboost/core.py:105: UserWarning: ntree_limit is deprecated, use `iteration_range` or model slicing instead.\n",
      "  warnings.warn(\n"
     ]
    },
    {
     "name": "stdout",
     "output_type": "stream",
     "text": [
      "[2]\ttrain-tweedie-nloglik@1.5:0.90302\ttest-tweedie-nloglik@1.5:1.08685\n",
      "[3]\ttrain-tweedie-nloglik@1.5:0.78589\ttest-tweedie-nloglik@1.5:1.03275\n",
      "[4]\ttrain-tweedie-nloglik@1.5:0.69974\ttest-tweedie-nloglik@1.5:0.99730\n",
      "[5]\ttrain-tweedie-nloglik@1.5:0.64548\ttest-tweedie-nloglik@1.5:0.99611\n",
      "[6]\ttrain-tweedie-nloglik@1.5:0.60369\ttest-tweedie-nloglik@1.5:0.99760\n",
      "[7]\ttrain-tweedie-nloglik@1.5:0.57608\ttest-tweedie-nloglik@1.5:1.03190\n",
      "[8]\ttrain-tweedie-nloglik@1.5:0.55707\ttest-tweedie-nloglik@1.5:1.04738\n",
      "[9]\ttrain-tweedie-nloglik@1.5:0.54450\ttest-tweedie-nloglik@1.5:1.08112\n",
      "[0]\ttrain-tweedie-nloglik@1.5:1.28272\ttest-tweedie-nloglik@1.5:1.36588\n",
      "[1]\ttrain-tweedie-nloglik@1.5:1.04674\ttest-tweedie-nloglik@1.5:1.18705\n",
      "[2]\ttrain-tweedie-nloglik@1.5:0.87824\ttest-tweedie-nloglik@1.5:1.06922\n",
      "[3]\ttrain-tweedie-nloglik@1.5:0.75977\ttest-tweedie-nloglik@1.5:1.00879\n",
      "[4]\ttrain-tweedie-nloglik@1.5:0.67683\ttest-tweedie-nloglik@1.5:0.97988\n",
      "[5]\ttrain-tweedie-nloglik@1.5:0.61931\ttest-tweedie-nloglik@1.5:0.97408\n",
      "[6]\ttrain-tweedie-nloglik@1.5:0.57839\ttest-tweedie-nloglik@1.5:0.98411\n",
      "[7]\ttrain-tweedie-nloglik@1.5:0.55015\ttest-tweedie-nloglik@1.5:0.99776\n",
      "[8]\ttrain-tweedie-nloglik@1.5:0.53173\ttest-tweedie-nloglik@1.5:1.02425\n",
      "[9]\ttrain-tweedie-nloglik@1.5:0.52030\ttest-tweedie-nloglik@1.5:1.05738\n",
      "[0]\ttrain-tweedie-nloglik@1.5:1.23113\ttest-tweedie-nloglik@1.5:1.36202\n",
      "[1]\ttrain-tweedie-nloglik@1.5:1.00451\ttest-tweedie-nloglik@1.5:1.18674\n"
     ]
    },
    {
     "name": "stderr",
     "output_type": "stream",
     "text": [
      "/home/jyang4/miniconda3/envs/ProtTP/lib/python3.9/site-packages/xgboost/core.py:105: UserWarning: ntree_limit is deprecated, use `iteration_range` or model slicing instead.\n",
      "  warnings.warn(\n",
      "/home/jyang4/miniconda3/envs/ProtTP/lib/python3.9/site-packages/xgboost/core.py:105: UserWarning: ntree_limit is deprecated, use `iteration_range` or model slicing instead.\n",
      "  warnings.warn(\n"
     ]
    },
    {
     "name": "stdout",
     "output_type": "stream",
     "text": [
      "[2]\ttrain-tweedie-nloglik@1.5:0.84159\ttest-tweedie-nloglik@1.5:1.07795\n",
      "[3]\ttrain-tweedie-nloglik@1.5:0.72642\ttest-tweedie-nloglik@1.5:1.01294\n",
      "[4]\ttrain-tweedie-nloglik@1.5:0.64653\ttest-tweedie-nloglik@1.5:0.99169\n",
      "[5]\ttrain-tweedie-nloglik@1.5:0.59074\ttest-tweedie-nloglik@1.5:1.01108\n",
      "[6]\ttrain-tweedie-nloglik@1.5:0.55154\ttest-tweedie-nloglik@1.5:1.06508\n",
      "[7]\ttrain-tweedie-nloglik@1.5:0.52534\ttest-tweedie-nloglik@1.5:1.09408\n",
      "[8]\ttrain-tweedie-nloglik@1.5:0.50720\ttest-tweedie-nloglik@1.5:1.15001\n",
      "[9]\ttrain-tweedie-nloglik@1.5:0.49466\ttest-tweedie-nloglik@1.5:1.18913\n",
      "[0]\ttrain-tweedie-nloglik@1.5:1.32082\ttest-tweedie-nloglik@1.5:1.37603\n",
      "[1]\ttrain-tweedie-nloglik@1.5:1.08209\ttest-tweedie-nloglik@1.5:1.18621\n",
      "[2]\ttrain-tweedie-nloglik@1.5:0.91255\ttest-tweedie-nloglik@1.5:1.07720\n",
      "[3]\ttrain-tweedie-nloglik@1.5:0.79380\ttest-tweedie-nloglik@1.5:1.02312\n",
      "[4]\ttrain-tweedie-nloglik@1.5:0.71004\ttest-tweedie-nloglik@1.5:1.01447\n",
      "[5]\ttrain-tweedie-nloglik@1.5:0.65614\ttest-tweedie-nloglik@1.5:1.02223\n",
      "[6]\ttrain-tweedie-nloglik@1.5:0.61742\ttest-tweedie-nloglik@1.5:1.04462\n",
      "[7]\ttrain-tweedie-nloglik@1.5:0.58819\ttest-tweedie-nloglik@1.5:1.05640\n",
      "[8]\ttrain-tweedie-nloglik@1.5:0.56800\ttest-tweedie-nloglik@1.5:1.08727\n",
      "[9]\ttrain-tweedie-nloglik@1.5:0.55401\ttest-tweedie-nloglik@1.5:1.11256\n",
      "[0]\ttrain-tweedie-nloglik@1.5:1.35855\ttest-tweedie-nloglik@1.5:1.35886\n",
      "[1]\ttrain-tweedie-nloglik@1.5:1.11698\ttest-tweedie-nloglik@1.5:1.17825\n"
     ]
    },
    {
     "name": "stderr",
     "output_type": "stream",
     "text": [
      "/home/jyang4/miniconda3/envs/ProtTP/lib/python3.9/site-packages/xgboost/core.py:105: UserWarning: ntree_limit is deprecated, use `iteration_range` or model slicing instead.\n",
      "  warnings.warn(\n",
      "/home/jyang4/miniconda3/envs/ProtTP/lib/python3.9/site-packages/xgboost/core.py:105: UserWarning: ntree_limit is deprecated, use `iteration_range` or model slicing instead.\n",
      "  warnings.warn(\n"
     ]
    },
    {
     "name": "stdout",
     "output_type": "stream",
     "text": [
      "[2]\ttrain-tweedie-nloglik@1.5:0.94789\ttest-tweedie-nloglik@1.5:1.07135\n",
      "[3]\ttrain-tweedie-nloglik@1.5:0.82869\ttest-tweedie-nloglik@1.5:1.00539\n",
      "[4]\ttrain-tweedie-nloglik@1.5:0.74390\ttest-tweedie-nloglik@1.5:0.96249\n",
      "[5]\ttrain-tweedie-nloglik@1.5:0.68961\ttest-tweedie-nloglik@1.5:0.93480\n",
      "[6]\ttrain-tweedie-nloglik@1.5:0.64893\ttest-tweedie-nloglik@1.5:0.95703\n",
      "[7]\ttrain-tweedie-nloglik@1.5:0.62140\ttest-tweedie-nloglik@1.5:0.97857\n",
      "[8]\ttrain-tweedie-nloglik@1.5:0.60315\ttest-tweedie-nloglik@1.5:1.00933\n",
      "[9]\ttrain-tweedie-nloglik@1.5:0.59331\ttest-tweedie-nloglik@1.5:1.03003\n",
      "[0]\ttrain-tweedie-nloglik@1.5:1.34193\ttest-tweedie-nloglik@1.5:1.36897\n",
      "[1]\ttrain-tweedie-nloglik@1.5:1.10603\ttest-tweedie-nloglik@1.5:1.19200\n",
      "[2]\ttrain-tweedie-nloglik@1.5:0.94406\ttest-tweedie-nloglik@1.5:1.07979\n",
      "[3]\ttrain-tweedie-nloglik@1.5:0.82972\ttest-tweedie-nloglik@1.5:1.02764\n",
      "[4]\ttrain-tweedie-nloglik@1.5:0.75025\ttest-tweedie-nloglik@1.5:1.02582\n",
      "[5]\ttrain-tweedie-nloglik@1.5:0.69596\ttest-tweedie-nloglik@1.5:1.05143\n",
      "[6]\ttrain-tweedie-nloglik@1.5:0.65426\ttest-tweedie-nloglik@1.5:1.08090\n",
      "[7]\ttrain-tweedie-nloglik@1.5:0.62470\ttest-tweedie-nloglik@1.5:1.07858\n",
      "[8]\ttrain-tweedie-nloglik@1.5:0.60494\ttest-tweedie-nloglik@1.5:1.10039\n",
      "[9]\ttrain-tweedie-nloglik@1.5:0.58889\ttest-tweedie-nloglik@1.5:1.12952\n",
      "[0]\ttrain-tweedie-nloglik@1.5:1.30952\ttest-tweedie-nloglik@1.5:1.36566\n",
      "[1]\ttrain-tweedie-nloglik@1.5:1.08169\ttest-tweedie-nloglik@1.5:1.18854\n"
     ]
    },
    {
     "name": "stderr",
     "output_type": "stream",
     "text": [
      "/home/jyang4/miniconda3/envs/ProtTP/lib/python3.9/site-packages/xgboost/core.py:105: UserWarning: ntree_limit is deprecated, use `iteration_range` or model slicing instead.\n",
      "  warnings.warn(\n",
      "/home/jyang4/miniconda3/envs/ProtTP/lib/python3.9/site-packages/xgboost/core.py:105: UserWarning: ntree_limit is deprecated, use `iteration_range` or model slicing instead.\n",
      "  warnings.warn(\n"
     ]
    },
    {
     "name": "stdout",
     "output_type": "stream",
     "text": [
      "[2]\ttrain-tweedie-nloglik@1.5:0.91456\ttest-tweedie-nloglik@1.5:1.08125\n",
      "[3]\ttrain-tweedie-nloglik@1.5:0.79489\ttest-tweedie-nloglik@1.5:1.03501\n",
      "[4]\ttrain-tweedie-nloglik@1.5:0.71330\ttest-tweedie-nloglik@1.5:0.99448\n",
      "[5]\ttrain-tweedie-nloglik@1.5:0.65497\ttest-tweedie-nloglik@1.5:0.99238\n",
      "[6]\ttrain-tweedie-nloglik@1.5:0.61764\ttest-tweedie-nloglik@1.5:1.00502\n",
      "[7]\ttrain-tweedie-nloglik@1.5:0.59001\ttest-tweedie-nloglik@1.5:1.02965\n",
      "[8]\ttrain-tweedie-nloglik@1.5:0.57291\ttest-tweedie-nloglik@1.5:1.07116\n",
      "[9]\ttrain-tweedie-nloglik@1.5:0.56156\ttest-tweedie-nloglik@1.5:1.10429\n",
      "[0]\ttrain-tweedie-nloglik@1.5:1.35317\ttest-tweedie-nloglik@1.5:1.37335\n",
      "[1]\ttrain-tweedie-nloglik@1.5:1.11499\ttest-tweedie-nloglik@1.5:1.19130\n",
      "[2]\ttrain-tweedie-nloglik@1.5:0.94735\ttest-tweedie-nloglik@1.5:1.08944\n",
      "[3]\ttrain-tweedie-nloglik@1.5:0.82740\ttest-tweedie-nloglik@1.5:1.03376\n",
      "[4]\ttrain-tweedie-nloglik@1.5:0.74428\ttest-tweedie-nloglik@1.5:1.01829\n",
      "[5]\ttrain-tweedie-nloglik@1.5:0.68480\ttest-tweedie-nloglik@1.5:1.01994\n",
      "[6]\ttrain-tweedie-nloglik@1.5:0.64810\ttest-tweedie-nloglik@1.5:1.05605\n",
      "[7]\ttrain-tweedie-nloglik@1.5:0.62090\ttest-tweedie-nloglik@1.5:1.07111\n",
      "[8]\ttrain-tweedie-nloglik@1.5:0.60410\ttest-tweedie-nloglik@1.5:1.08991\n",
      "[9]\ttrain-tweedie-nloglik@1.5:0.59041\ttest-tweedie-nloglik@1.5:1.11441\n"
     ]
    },
    {
     "name": "stderr",
     "output_type": "stream",
     "text": [
      "/home/jyang4/miniconda3/envs/ProtTP/lib/python3.9/site-packages/xgboost/core.py:105: UserWarning: ntree_limit is deprecated, use `iteration_range` or model slicing instead.\n",
      "  warnings.warn(\n",
      "/home/jyang4/miniconda3/envs/ProtTP/lib/python3.9/site-packages/xgboost/core.py:105: UserWarning: ntree_limit is deprecated, use `iteration_range` or model slicing instead.\n",
      "  warnings.warn(\n"
     ]
    },
    {
     "name": "stdout",
     "output_type": "stream",
     "text": [
      "[0]\ttrain-tweedie-nloglik@1.5:1.33148\ttest-tweedie-nloglik@1.5:1.34807\n",
      "[1]\ttrain-tweedie-nloglik@1.5:1.09025\ttest-tweedie-nloglik@1.5:1.15541\n",
      "[2]\ttrain-tweedie-nloglik@1.5:0.91961\ttest-tweedie-nloglik@1.5:1.03154\n",
      "[3]\ttrain-tweedie-nloglik@1.5:0.79932\ttest-tweedie-nloglik@1.5:0.95585\n",
      "[4]\ttrain-tweedie-nloglik@1.5:0.71530\ttest-tweedie-nloglik@1.5:0.91931\n",
      "[5]\ttrain-tweedie-nloglik@1.5:0.65872\ttest-tweedie-nloglik@1.5:0.91758\n",
      "[6]\ttrain-tweedie-nloglik@1.5:0.61970\ttest-tweedie-nloglik@1.5:0.91727\n",
      "[7]\ttrain-tweedie-nloglik@1.5:0.59404\ttest-tweedie-nloglik@1.5:0.92165\n",
      "[8]\ttrain-tweedie-nloglik@1.5:0.57736\ttest-tweedie-nloglik@1.5:0.93170\n",
      "[9]\ttrain-tweedie-nloglik@1.5:0.56591\ttest-tweedie-nloglik@1.5:0.94220\n",
      "[0]\ttrain-tweedie-nloglik@1.5:1.34807\ttest-tweedie-nloglik@1.5:1.34954\n",
      "[1]\ttrain-tweedie-nloglik@1.5:1.10626\ttest-tweedie-nloglik@1.5:1.16045\n",
      "[2]\ttrain-tweedie-nloglik@1.5:0.93364\ttest-tweedie-nloglik@1.5:1.03792\n",
      "[3]\ttrain-tweedie-nloglik@1.5:0.81334\ttest-tweedie-nloglik@1.5:0.97388\n",
      "[4]\ttrain-tweedie-nloglik@1.5:0.73007\ttest-tweedie-nloglik@1.5:0.94672\n",
      "[5]\ttrain-tweedie-nloglik@1.5:0.67384\ttest-tweedie-nloglik@1.5:0.94468\n",
      "[6]\ttrain-tweedie-nloglik@1.5:0.63709\ttest-tweedie-nloglik@1.5:0.94807\n",
      "[7]\ttrain-tweedie-nloglik@1.5:0.61228\ttest-tweedie-nloglik@1.5:0.96088\n",
      "[8]\ttrain-tweedie-nloglik@1.5:0.59491\ttest-tweedie-nloglik@1.5:0.98501\n",
      "[9]\ttrain-tweedie-nloglik@1.5:0.58308\ttest-tweedie-nloglik@1.5:1.01226\n",
      "[0]\ttrain-tweedie-nloglik@1.5:1.26754\ttest-tweedie-nloglik@1.5:1.35272\n",
      "[1]\ttrain-tweedie-nloglik@1.5:1.03671\ttest-tweedie-nloglik@1.5:1.15815\n",
      "[2]\ttrain-tweedie-nloglik@1.5:0.87060\ttest-tweedie-nloglik@1.5:1.03408\n",
      "[3]\ttrain-tweedie-nloglik@1.5:0.75649\ttest-tweedie-nloglik@1.5:0.96729\n",
      "[4]\ttrain-tweedie-nloglik@1.5:0.67673\ttest-tweedie-nloglik@1.5:0.93517\n",
      "[5]\ttrain-tweedie-nloglik@1.5:0.62341\ttest-tweedie-nloglik@1.5:0.93415\n",
      "[6]\ttrain-tweedie-nloglik@1.5:0.58651\ttest-tweedie-nloglik@1.5:0.94497\n"
     ]
    },
    {
     "name": "stderr",
     "output_type": "stream",
     "text": [
      "/home/jyang4/miniconda3/envs/ProtTP/lib/python3.9/site-packages/xgboost/core.py:105: UserWarning: ntree_limit is deprecated, use `iteration_range` or model slicing instead.\n",
      "  warnings.warn(\n",
      "/home/jyang4/miniconda3/envs/ProtTP/lib/python3.9/site-packages/xgboost/core.py:105: UserWarning: ntree_limit is deprecated, use `iteration_range` or model slicing instead.\n",
      "  warnings.warn(\n"
     ]
    },
    {
     "name": "stdout",
     "output_type": "stream",
     "text": [
      "[7]\ttrain-tweedie-nloglik@1.5:0.56158\ttest-tweedie-nloglik@1.5:0.96707\n",
      "[8]\ttrain-tweedie-nloglik@1.5:0.54564\ttest-tweedie-nloglik@1.5:0.99155\n",
      "[9]\ttrain-tweedie-nloglik@1.5:0.53537\ttest-tweedie-nloglik@1.5:1.02243\n",
      "[0]\ttrain-tweedie-nloglik@1.5:1.28761\ttest-tweedie-nloglik@1.5:1.34861\n",
      "[1]\ttrain-tweedie-nloglik@1.5:1.05915\ttest-tweedie-nloglik@1.5:1.15990\n",
      "[2]\ttrain-tweedie-nloglik@1.5:0.89586\ttest-tweedie-nloglik@1.5:1.03429\n",
      "[3]\ttrain-tweedie-nloglik@1.5:0.78198\ttest-tweedie-nloglik@1.5:0.96742\n",
      "[4]\ttrain-tweedie-nloglik@1.5:0.70460\ttest-tweedie-nloglik@1.5:0.93503\n",
      "[5]\ttrain-tweedie-nloglik@1.5:0.65091\ttest-tweedie-nloglik@1.5:0.91536\n",
      "[6]\ttrain-tweedie-nloglik@1.5:0.61408\ttest-tweedie-nloglik@1.5:0.90465\n",
      "[7]\ttrain-tweedie-nloglik@1.5:0.58930\ttest-tweedie-nloglik@1.5:0.92069\n",
      "[8]\ttrain-tweedie-nloglik@1.5:0.57217\ttest-tweedie-nloglik@1.5:0.94232\n",
      "[9]\ttrain-tweedie-nloglik@1.5:0.56227\ttest-tweedie-nloglik@1.5:0.94453\n",
      "[0]\ttrain-tweedie-nloglik@1.5:1.28693\ttest-tweedie-nloglik@1.5:1.33797\n",
      "[1]\ttrain-tweedie-nloglik@1.5:1.04066\ttest-tweedie-nloglik@1.5:1.14053\n",
      "[2]\ttrain-tweedie-nloglik@1.5:0.86559\ttest-tweedie-nloglik@1.5:1.01703\n",
      "[3]\ttrain-tweedie-nloglik@1.5:0.74268\ttest-tweedie-nloglik@1.5:0.95007\n",
      "[4]\ttrain-tweedie-nloglik@1.5:0.65854\ttest-tweedie-nloglik@1.5:0.91828\n",
      "[5]\ttrain-tweedie-nloglik@1.5:0.60069\ttest-tweedie-nloglik@1.5:0.89474\n",
      "[6]\ttrain-tweedie-nloglik@1.5:0.56458\ttest-tweedie-nloglik@1.5:0.89685\n"
     ]
    },
    {
     "name": "stderr",
     "output_type": "stream",
     "text": [
      "/home/jyang4/miniconda3/envs/ProtTP/lib/python3.9/site-packages/xgboost/core.py:105: UserWarning: ntree_limit is deprecated, use `iteration_range` or model slicing instead.\n",
      "  warnings.warn(\n",
      "/home/jyang4/miniconda3/envs/ProtTP/lib/python3.9/site-packages/xgboost/core.py:105: UserWarning: ntree_limit is deprecated, use `iteration_range` or model slicing instead.\n",
      "  warnings.warn(\n"
     ]
    },
    {
     "name": "stdout",
     "output_type": "stream",
     "text": [
      "[7]\ttrain-tweedie-nloglik@1.5:0.53964\ttest-tweedie-nloglik@1.5:0.90848\n",
      "[8]\ttrain-tweedie-nloglik@1.5:0.52411\ttest-tweedie-nloglik@1.5:0.92646\n",
      "[9]\ttrain-tweedie-nloglik@1.5:0.51267\ttest-tweedie-nloglik@1.5:0.94524\n",
      "[0]\ttrain-tweedie-nloglik@1.5:1.31209\ttest-tweedie-nloglik@1.5:1.35040\n",
      "[1]\ttrain-tweedie-nloglik@1.5:1.07473\ttest-tweedie-nloglik@1.5:1.16437\n",
      "[2]\ttrain-tweedie-nloglik@1.5:0.90180\ttest-tweedie-nloglik@1.5:1.04943\n",
      "[3]\ttrain-tweedie-nloglik@1.5:0.78501\ttest-tweedie-nloglik@1.5:0.99234\n",
      "[4]\ttrain-tweedie-nloglik@1.5:0.70233\ttest-tweedie-nloglik@1.5:0.97157\n",
      "[5]\ttrain-tweedie-nloglik@1.5:0.64780\ttest-tweedie-nloglik@1.5:0.98316\n",
      "[6]\ttrain-tweedie-nloglik@1.5:0.61217\ttest-tweedie-nloglik@1.5:0.99340\n",
      "[7]\ttrain-tweedie-nloglik@1.5:0.58914\ttest-tweedie-nloglik@1.5:1.01889\n",
      "[8]\ttrain-tweedie-nloglik@1.5:0.57380\ttest-tweedie-nloglik@1.5:1.04716\n",
      "[9]\ttrain-tweedie-nloglik@1.5:0.56356\ttest-tweedie-nloglik@1.5:1.07118\n",
      "[0]\ttrain-tweedie-nloglik@1.5:1.40976\ttest-tweedie-nloglik@1.5:1.34621\n",
      "[1]\ttrain-tweedie-nloglik@1.5:1.17911\ttest-tweedie-nloglik@1.5:1.15298\n",
      "[2]\ttrain-tweedie-nloglik@1.5:1.01865\ttest-tweedie-nloglik@1.5:1.02107\n",
      "[3]\ttrain-tweedie-nloglik@1.5:0.90575\ttest-tweedie-nloglik@1.5:0.94577\n",
      "[4]\ttrain-tweedie-nloglik@1.5:0.82861\ttest-tweedie-nloglik@1.5:0.90017\n",
      "[5]\ttrain-tweedie-nloglik@1.5:0.77570\ttest-tweedie-nloglik@1.5:0.88077\n",
      "[6]\ttrain-tweedie-nloglik@1.5:0.74046\ttest-tweedie-nloglik@1.5:0.87007\n"
     ]
    },
    {
     "name": "stderr",
     "output_type": "stream",
     "text": [
      "/home/jyang4/miniconda3/envs/ProtTP/lib/python3.9/site-packages/xgboost/core.py:105: UserWarning: ntree_limit is deprecated, use `iteration_range` or model slicing instead.\n",
      "  warnings.warn(\n",
      "/home/jyang4/miniconda3/envs/ProtTP/lib/python3.9/site-packages/xgboost/core.py:105: UserWarning: ntree_limit is deprecated, use `iteration_range` or model slicing instead.\n",
      "  warnings.warn(\n"
     ]
    },
    {
     "name": "stdout",
     "output_type": "stream",
     "text": [
      "[7]\ttrain-tweedie-nloglik@1.5:0.71535\ttest-tweedie-nloglik@1.5:0.87286\n",
      "[8]\ttrain-tweedie-nloglik@1.5:0.69933\ttest-tweedie-nloglik@1.5:0.87779\n",
      "[9]\ttrain-tweedie-nloglik@1.5:0.68542\ttest-tweedie-nloglik@1.5:0.88962\n",
      "[0]\ttrain-tweedie-nloglik@1.5:1.30710\ttest-tweedie-nloglik@1.5:1.34832\n",
      "[1]\ttrain-tweedie-nloglik@1.5:1.07429\ttest-tweedie-nloglik@1.5:1.16044\n",
      "[2]\ttrain-tweedie-nloglik@1.5:0.91194\ttest-tweedie-nloglik@1.5:1.04206\n",
      "[3]\ttrain-tweedie-nloglik@1.5:0.79760\ttest-tweedie-nloglik@1.5:0.96398\n",
      "[4]\ttrain-tweedie-nloglik@1.5:0.71933\ttest-tweedie-nloglik@1.5:0.93137\n",
      "[5]\ttrain-tweedie-nloglik@1.5:0.66442\ttest-tweedie-nloglik@1.5:0.92111\n",
      "[6]\ttrain-tweedie-nloglik@1.5:0.62525\ttest-tweedie-nloglik@1.5:0.91701\n",
      "[7]\ttrain-tweedie-nloglik@1.5:0.59586\ttest-tweedie-nloglik@1.5:0.92952\n",
      "[8]\ttrain-tweedie-nloglik@1.5:0.57898\ttest-tweedie-nloglik@1.5:0.95503\n",
      "[9]\ttrain-tweedie-nloglik@1.5:0.56674\ttest-tweedie-nloglik@1.5:0.96010\n",
      "[0]\ttrain-tweedie-nloglik@1.5:1.33689\ttest-tweedie-nloglik@1.5:1.35399\n",
      "[1]\ttrain-tweedie-nloglik@1.5:1.11246\ttest-tweedie-nloglik@1.5:1.16564\n",
      "[2]\ttrain-tweedie-nloglik@1.5:0.94905\ttest-tweedie-nloglik@1.5:1.05048\n",
      "[3]\ttrain-tweedie-nloglik@1.5:0.83476\ttest-tweedie-nloglik@1.5:0.98442\n",
      "[4]\ttrain-tweedie-nloglik@1.5:0.75367\ttest-tweedie-nloglik@1.5:0.95501\n",
      "[5]\ttrain-tweedie-nloglik@1.5:0.69896\ttest-tweedie-nloglik@1.5:0.95115\n"
     ]
    },
    {
     "name": "stderr",
     "output_type": "stream",
     "text": [
      "/home/jyang4/miniconda3/envs/ProtTP/lib/python3.9/site-packages/xgboost/core.py:105: UserWarning: ntree_limit is deprecated, use `iteration_range` or model slicing instead.\n",
      "  warnings.warn(\n",
      "/home/jyang4/miniconda3/envs/ProtTP/lib/python3.9/site-packages/xgboost/core.py:105: UserWarning: ntree_limit is deprecated, use `iteration_range` or model slicing instead.\n",
      "  warnings.warn(\n"
     ]
    },
    {
     "name": "stdout",
     "output_type": "stream",
     "text": [
      "[6]\ttrain-tweedie-nloglik@1.5:0.65939\ttest-tweedie-nloglik@1.5:0.96237\n",
      "[7]\ttrain-tweedie-nloglik@1.5:0.63410\ttest-tweedie-nloglik@1.5:0.97570\n",
      "[8]\ttrain-tweedie-nloglik@1.5:0.61758\ttest-tweedie-nloglik@1.5:0.98420\n",
      "[9]\ttrain-tweedie-nloglik@1.5:0.60599\ttest-tweedie-nloglik@1.5:0.98928\n",
      "[0]\ttrain-tweedie-nloglik@1.5:1.39811\ttest-tweedie-nloglik@1.5:1.34244\n",
      "[1]\ttrain-tweedie-nloglik@1.5:1.16206\ttest-tweedie-nloglik@1.5:1.14440\n",
      "[2]\ttrain-tweedie-nloglik@1.5:0.99499\ttest-tweedie-nloglik@1.5:1.01902\n",
      "[3]\ttrain-tweedie-nloglik@1.5:0.87879\ttest-tweedie-nloglik@1.5:0.94618\n",
      "[4]\ttrain-tweedie-nloglik@1.5:0.80146\ttest-tweedie-nloglik@1.5:0.91108\n",
      "[5]\ttrain-tweedie-nloglik@1.5:0.74571\ttest-tweedie-nloglik@1.5:0.89817\n",
      "[6]\ttrain-tweedie-nloglik@1.5:0.71041\ttest-tweedie-nloglik@1.5:0.90169\n",
      "[7]\ttrain-tweedie-nloglik@1.5:0.68819\ttest-tweedie-nloglik@1.5:0.90326\n",
      "[8]\ttrain-tweedie-nloglik@1.5:0.67116\ttest-tweedie-nloglik@1.5:0.91295\n",
      "[9]\ttrain-tweedie-nloglik@1.5:0.65999\ttest-tweedie-nloglik@1.5:0.90968\n",
      "[0]\ttrain-tweedie-nloglik@1.5:1.49043\ttest-tweedie-nloglik@1.5:1.36190\n",
      "[1]\ttrain-tweedie-nloglik@1.5:1.25887\ttest-tweedie-nloglik@1.5:1.17155\n",
      "[2]\ttrain-tweedie-nloglik@1.5:1.08960\ttest-tweedie-nloglik@1.5:1.04369\n",
      "[3]\ttrain-tweedie-nloglik@1.5:0.97262\ttest-tweedie-nloglik@1.5:0.97130\n",
      "[4]\ttrain-tweedie-nloglik@1.5:0.89687\ttest-tweedie-nloglik@1.5:0.91839\n",
      "[5]\ttrain-tweedie-nloglik@1.5:0.84617\ttest-tweedie-nloglik@1.5:0.89274\n"
     ]
    },
    {
     "name": "stderr",
     "output_type": "stream",
     "text": [
      "/home/jyang4/miniconda3/envs/ProtTP/lib/python3.9/site-packages/xgboost/core.py:105: UserWarning: ntree_limit is deprecated, use `iteration_range` or model slicing instead.\n",
      "  warnings.warn(\n",
      "/home/jyang4/miniconda3/envs/ProtTP/lib/python3.9/site-packages/xgboost/core.py:105: UserWarning: ntree_limit is deprecated, use `iteration_range` or model slicing instead.\n",
      "  warnings.warn(\n"
     ]
    },
    {
     "name": "stdout",
     "output_type": "stream",
     "text": [
      "[6]\ttrain-tweedie-nloglik@1.5:0.80176\ttest-tweedie-nloglik@1.5:0.87861\n",
      "[7]\ttrain-tweedie-nloglik@1.5:0.77676\ttest-tweedie-nloglik@1.5:0.87954\n",
      "[8]\ttrain-tweedie-nloglik@1.5:0.75693\ttest-tweedie-nloglik@1.5:0.88074\n",
      "[9]\ttrain-tweedie-nloglik@1.5:0.74771\ttest-tweedie-nloglik@1.5:0.87784\n",
      "[0]\ttrain-tweedie-nloglik@1.5:1.33161\ttest-tweedie-nloglik@1.5:1.34347\n",
      "[1]\ttrain-tweedie-nloglik@1.5:1.09182\ttest-tweedie-nloglik@1.5:1.14822\n",
      "[2]\ttrain-tweedie-nloglik@1.5:0.92258\ttest-tweedie-nloglik@1.5:1.02332\n",
      "[3]\ttrain-tweedie-nloglik@1.5:0.80421\ttest-tweedie-nloglik@1.5:0.94118\n",
      "[4]\ttrain-tweedie-nloglik@1.5:0.71959\ttest-tweedie-nloglik@1.5:0.89226\n",
      "[5]\ttrain-tweedie-nloglik@1.5:0.66558\ttest-tweedie-nloglik@1.5:0.87242\n",
      "[6]\ttrain-tweedie-nloglik@1.5:0.62843\ttest-tweedie-nloglik@1.5:0.86717\n",
      "[7]\ttrain-tweedie-nloglik@1.5:0.60418\ttest-tweedie-nloglik@1.5:0.86733\n",
      "[8]\ttrain-tweedie-nloglik@1.5:0.58830\ttest-tweedie-nloglik@1.5:0.87218\n",
      "[9]\ttrain-tweedie-nloglik@1.5:0.57516\ttest-tweedie-nloglik@1.5:0.87993\n",
      "[0]\ttrain-tweedie-nloglik@1.5:1.23103\ttest-tweedie-nloglik@1.5:1.35782\n",
      "[1]\ttrain-tweedie-nloglik@1.5:0.99700\ttest-tweedie-nloglik@1.5:1.17024\n",
      "[2]\ttrain-tweedie-nloglik@1.5:0.83250\ttest-tweedie-nloglik@1.5:1.06096\n",
      "[3]\ttrain-tweedie-nloglik@1.5:0.71294\ttest-tweedie-nloglik@1.5:0.98762\n",
      "[4]\ttrain-tweedie-nloglik@1.5:0.63234\ttest-tweedie-nloglik@1.5:0.95231\n",
      "[5]\ttrain-tweedie-nloglik@1.5:0.57818\ttest-tweedie-nloglik@1.5:0.94622\n"
     ]
    },
    {
     "name": "stderr",
     "output_type": "stream",
     "text": [
      "/home/jyang4/miniconda3/envs/ProtTP/lib/python3.9/site-packages/xgboost/core.py:105: UserWarning: ntree_limit is deprecated, use `iteration_range` or model slicing instead.\n",
      "  warnings.warn(\n",
      "/home/jyang4/miniconda3/envs/ProtTP/lib/python3.9/site-packages/xgboost/core.py:105: UserWarning: ntree_limit is deprecated, use `iteration_range` or model slicing instead.\n",
      "  warnings.warn(\n"
     ]
    },
    {
     "name": "stdout",
     "output_type": "stream",
     "text": [
      "[6]\ttrain-tweedie-nloglik@1.5:0.54269\ttest-tweedie-nloglik@1.5:0.95672\n",
      "[7]\ttrain-tweedie-nloglik@1.5:0.51945\ttest-tweedie-nloglik@1.5:0.97822\n",
      "[8]\ttrain-tweedie-nloglik@1.5:0.50067\ttest-tweedie-nloglik@1.5:0.99553\n",
      "[9]\ttrain-tweedie-nloglik@1.5:0.48952\ttest-tweedie-nloglik@1.5:1.00881\n",
      "[0]\ttrain-tweedie-nloglik@1.5:1.29763\ttest-tweedie-nloglik@1.5:1.35102\n",
      "[1]\ttrain-tweedie-nloglik@1.5:1.06353\ttest-tweedie-nloglik@1.5:1.16197\n",
      "[2]\ttrain-tweedie-nloglik@1.5:0.89899\ttest-tweedie-nloglik@1.5:1.03899\n",
      "[3]\ttrain-tweedie-nloglik@1.5:0.78258\ttest-tweedie-nloglik@1.5:0.96835\n",
      "[4]\ttrain-tweedie-nloglik@1.5:0.69993\ttest-tweedie-nloglik@1.5:0.93414\n",
      "[5]\ttrain-tweedie-nloglik@1.5:0.64528\ttest-tweedie-nloglik@1.5:0.93103\n",
      "[6]\ttrain-tweedie-nloglik@1.5:0.60754\ttest-tweedie-nloglik@1.5:0.93540\n",
      "[7]\ttrain-tweedie-nloglik@1.5:0.58445\ttest-tweedie-nloglik@1.5:0.93493\n",
      "[8]\ttrain-tweedie-nloglik@1.5:0.56761\ttest-tweedie-nloglik@1.5:0.95596\n",
      "[9]\ttrain-tweedie-nloglik@1.5:0.55809\ttest-tweedie-nloglik@1.5:0.96743\n",
      "[0]\ttrain-tweedie-nloglik@1.5:1.28296\ttest-tweedie-nloglik@1.5:1.34806\n",
      "[1]\ttrain-tweedie-nloglik@1.5:1.04890\ttest-tweedie-nloglik@1.5:1.16028\n",
      "[2]\ttrain-tweedie-nloglik@1.5:0.88402\ttest-tweedie-nloglik@1.5:1.03258\n",
      "[3]\ttrain-tweedie-nloglik@1.5:0.76572\ttest-tweedie-nloglik@1.5:0.96523\n",
      "[4]\ttrain-tweedie-nloglik@1.5:0.68167\ttest-tweedie-nloglik@1.5:0.93345\n"
     ]
    },
    {
     "name": "stderr",
     "output_type": "stream",
     "text": [
      "/home/jyang4/miniconda3/envs/ProtTP/lib/python3.9/site-packages/xgboost/core.py:105: UserWarning: ntree_limit is deprecated, use `iteration_range` or model slicing instead.\n",
      "  warnings.warn(\n",
      "/home/jyang4/miniconda3/envs/ProtTP/lib/python3.9/site-packages/xgboost/core.py:105: UserWarning: ntree_limit is deprecated, use `iteration_range` or model slicing instead.\n",
      "  warnings.warn(\n"
     ]
    },
    {
     "name": "stdout",
     "output_type": "stream",
     "text": [
      "[5]\ttrain-tweedie-nloglik@1.5:0.62416\ttest-tweedie-nloglik@1.5:0.92029\n",
      "[6]\ttrain-tweedie-nloglik@1.5:0.58618\ttest-tweedie-nloglik@1.5:0.93951\n",
      "[7]\ttrain-tweedie-nloglik@1.5:0.56073\ttest-tweedie-nloglik@1.5:0.95608\n",
      "[8]\ttrain-tweedie-nloglik@1.5:0.54270\ttest-tweedie-nloglik@1.5:0.98806\n",
      "[9]\ttrain-tweedie-nloglik@1.5:0.53128\ttest-tweedie-nloglik@1.5:1.01287\n",
      "[0]\ttrain-tweedie-nloglik@1.5:1.29490\ttest-tweedie-nloglik@1.5:1.35101\n",
      "[1]\ttrain-tweedie-nloglik@1.5:1.06812\ttest-tweedie-nloglik@1.5:1.16391\n",
      "[2]\ttrain-tweedie-nloglik@1.5:0.90550\ttest-tweedie-nloglik@1.5:1.04626\n",
      "[3]\ttrain-tweedie-nloglik@1.5:0.79192\ttest-tweedie-nloglik@1.5:0.97794\n",
      "[4]\ttrain-tweedie-nloglik@1.5:0.71399\ttest-tweedie-nloglik@1.5:0.94364\n",
      "[5]\ttrain-tweedie-nloglik@1.5:0.66041\ttest-tweedie-nloglik@1.5:0.92918\n",
      "[6]\ttrain-tweedie-nloglik@1.5:0.62413\ttest-tweedie-nloglik@1.5:0.94617\n",
      "[7]\ttrain-tweedie-nloglik@1.5:0.59688\ttest-tweedie-nloglik@1.5:0.95316\n",
      "[8]\ttrain-tweedie-nloglik@1.5:0.58099\ttest-tweedie-nloglik@1.5:0.95270\n",
      "[9]\ttrain-tweedie-nloglik@1.5:0.56938\ttest-tweedie-nloglik@1.5:0.98046\n",
      "[0]\ttrain-tweedie-nloglik@1.5:1.27645\ttest-tweedie-nloglik@1.5:1.34287\n",
      "[1]\ttrain-tweedie-nloglik@1.5:1.04201\ttest-tweedie-nloglik@1.5:1.15072\n",
      "[2]\ttrain-tweedie-nloglik@1.5:0.87539\ttest-tweedie-nloglik@1.5:1.03076\n",
      "[3]\ttrain-tweedie-nloglik@1.5:0.76153\ttest-tweedie-nloglik@1.5:0.96481\n",
      "[4]\ttrain-tweedie-nloglik@1.5:0.68224\ttest-tweedie-nloglik@1.5:0.92605\n",
      "[5]\ttrain-tweedie-nloglik@1.5:0.62940\ttest-tweedie-nloglik@1.5:0.91483\n"
     ]
    },
    {
     "name": "stderr",
     "output_type": "stream",
     "text": [
      "/home/jyang4/miniconda3/envs/ProtTP/lib/python3.9/site-packages/xgboost/core.py:105: UserWarning: ntree_limit is deprecated, use `iteration_range` or model slicing instead.\n",
      "  warnings.warn(\n",
      "/home/jyang4/miniconda3/envs/ProtTP/lib/python3.9/site-packages/xgboost/core.py:105: UserWarning: ntree_limit is deprecated, use `iteration_range` or model slicing instead.\n",
      "  warnings.warn(\n"
     ]
    },
    {
     "name": "stdout",
     "output_type": "stream",
     "text": [
      "[6]\ttrain-tweedie-nloglik@1.5:0.59543\ttest-tweedie-nloglik@1.5:0.90815\n",
      "[7]\ttrain-tweedie-nloglik@1.5:0.57301\ttest-tweedie-nloglik@1.5:0.90842\n",
      "[8]\ttrain-tweedie-nloglik@1.5:0.55875\ttest-tweedie-nloglik@1.5:0.92623\n",
      "[9]\ttrain-tweedie-nloglik@1.5:0.54576\ttest-tweedie-nloglik@1.5:0.93449\n",
      "[0]\ttrain-tweedie-nloglik@1.5:1.32465\ttest-tweedie-nloglik@1.5:1.35458\n",
      "[1]\ttrain-tweedie-nloglik@1.5:1.10119\ttest-tweedie-nloglik@1.5:1.15841\n",
      "[2]\ttrain-tweedie-nloglik@1.5:0.93890\ttest-tweedie-nloglik@1.5:1.03560\n",
      "[3]\ttrain-tweedie-nloglik@1.5:0.82884\ttest-tweedie-nloglik@1.5:0.95772\n",
      "[4]\ttrain-tweedie-nloglik@1.5:0.75156\ttest-tweedie-nloglik@1.5:0.91275\n",
      "[5]\ttrain-tweedie-nloglik@1.5:0.69449\ttest-tweedie-nloglik@1.5:0.88744\n",
      "[6]\ttrain-tweedie-nloglik@1.5:0.65799\ttest-tweedie-nloglik@1.5:0.87952\n",
      "[7]\ttrain-tweedie-nloglik@1.5:0.63207\ttest-tweedie-nloglik@1.5:0.87233\n",
      "[8]\ttrain-tweedie-nloglik@1.5:0.61312\ttest-tweedie-nloglik@1.5:0.87314\n",
      "[9]\ttrain-tweedie-nloglik@1.5:0.59878\ttest-tweedie-nloglik@1.5:0.87298\n",
      "[0]\ttrain-tweedie-nloglik@1.5:1.25301\ttest-tweedie-nloglik@1.5:1.34708\n",
      "[1]\ttrain-tweedie-nloglik@1.5:1.01690\ttest-tweedie-nloglik@1.5:1.15902\n",
      "[2]\ttrain-tweedie-nloglik@1.5:0.84887\ttest-tweedie-nloglik@1.5:1.04041\n",
      "[3]\ttrain-tweedie-nloglik@1.5:0.73091\ttest-tweedie-nloglik@1.5:0.97827\n",
      "[4]\ttrain-tweedie-nloglik@1.5:0.65115\ttest-tweedie-nloglik@1.5:0.95232\n",
      "[5]\ttrain-tweedie-nloglik@1.5:0.59505\ttest-tweedie-nloglik@1.5:0.96163\n"
     ]
    },
    {
     "name": "stderr",
     "output_type": "stream",
     "text": [
      "/home/jyang4/miniconda3/envs/ProtTP/lib/python3.9/site-packages/xgboost/core.py:105: UserWarning: ntree_limit is deprecated, use `iteration_range` or model slicing instead.\n",
      "  warnings.warn(\n",
      "/home/jyang4/miniconda3/envs/ProtTP/lib/python3.9/site-packages/xgboost/core.py:105: UserWarning: ntree_limit is deprecated, use `iteration_range` or model slicing instead.\n",
      "  warnings.warn(\n"
     ]
    },
    {
     "name": "stdout",
     "output_type": "stream",
     "text": [
      "[6]\ttrain-tweedie-nloglik@1.5:0.55920\ttest-tweedie-nloglik@1.5:0.96810\n",
      "[7]\ttrain-tweedie-nloglik@1.5:0.53602\ttest-tweedie-nloglik@1.5:0.98756\n",
      "[8]\ttrain-tweedie-nloglik@1.5:0.51925\ttest-tweedie-nloglik@1.5:1.01819\n",
      "[9]\ttrain-tweedie-nloglik@1.5:0.50958\ttest-tweedie-nloglik@1.5:1.03282\n",
      "[0]\ttrain-tweedie-nloglik@1.5:1.29356\ttest-tweedie-nloglik@1.5:1.34868\n",
      "[1]\ttrain-tweedie-nloglik@1.5:1.05811\ttest-tweedie-nloglik@1.5:1.15766\n",
      "[2]\ttrain-tweedie-nloglik@1.5:0.88981\ttest-tweedie-nloglik@1.5:1.03385\n",
      "[3]\ttrain-tweedie-nloglik@1.5:0.77313\ttest-tweedie-nloglik@1.5:0.96127\n",
      "[4]\ttrain-tweedie-nloglik@1.5:0.69222\ttest-tweedie-nloglik@1.5:0.92779\n",
      "[5]\ttrain-tweedie-nloglik@1.5:0.63483\ttest-tweedie-nloglik@1.5:0.91376\n",
      "[6]\ttrain-tweedie-nloglik@1.5:0.59777\ttest-tweedie-nloglik@1.5:0.90960\n",
      "[7]\ttrain-tweedie-nloglik@1.5:0.57386\ttest-tweedie-nloglik@1.5:0.92182\n",
      "[8]\ttrain-tweedie-nloglik@1.5:0.55733\ttest-tweedie-nloglik@1.5:0.92562\n",
      "[9]\ttrain-tweedie-nloglik@1.5:0.54782\ttest-tweedie-nloglik@1.5:0.93678\n",
      "[0]\ttrain-tweedie-nloglik@1.5:1.28250\ttest-tweedie-nloglik@1.5:1.34700\n",
      "[1]\ttrain-tweedie-nloglik@1.5:1.04839\ttest-tweedie-nloglik@1.5:1.15281\n",
      "[2]\ttrain-tweedie-nloglik@1.5:0.87998\ttest-tweedie-nloglik@1.5:1.03100\n",
      "[3]\ttrain-tweedie-nloglik@1.5:0.76031\ttest-tweedie-nloglik@1.5:0.96130\n",
      "[4]\ttrain-tweedie-nloglik@1.5:0.67775\ttest-tweedie-nloglik@1.5:0.92702\n",
      "[5]\ttrain-tweedie-nloglik@1.5:0.62159\ttest-tweedie-nloglik@1.5:0.91153\n"
     ]
    },
    {
     "name": "stderr",
     "output_type": "stream",
     "text": [
      "/home/jyang4/miniconda3/envs/ProtTP/lib/python3.9/site-packages/xgboost/core.py:105: UserWarning: ntree_limit is deprecated, use `iteration_range` or model slicing instead.\n",
      "  warnings.warn(\n",
      "/home/jyang4/miniconda3/envs/ProtTP/lib/python3.9/site-packages/xgboost/core.py:105: UserWarning: ntree_limit is deprecated, use `iteration_range` or model slicing instead.\n",
      "  warnings.warn(\n"
     ]
    },
    {
     "name": "stdout",
     "output_type": "stream",
     "text": [
      "[6]\ttrain-tweedie-nloglik@1.5:0.58349\ttest-tweedie-nloglik@1.5:0.92237\n",
      "[7]\ttrain-tweedie-nloglik@1.5:0.55910\ttest-tweedie-nloglik@1.5:0.93765\n",
      "[8]\ttrain-tweedie-nloglik@1.5:0.54459\ttest-tweedie-nloglik@1.5:0.95736\n",
      "[9]\ttrain-tweedie-nloglik@1.5:0.53489\ttest-tweedie-nloglik@1.5:0.96707\n",
      "[0]\ttrain-tweedie-nloglik@1.5:1.30328\ttest-tweedie-nloglik@1.5:1.35871\n",
      "[1]\ttrain-tweedie-nloglik@1.5:1.06464\ttest-tweedie-nloglik@1.5:1.17492\n",
      "[2]\ttrain-tweedie-nloglik@1.5:0.89729\ttest-tweedie-nloglik@1.5:1.05634\n",
      "[3]\ttrain-tweedie-nloglik@1.5:0.78333\ttest-tweedie-nloglik@1.5:1.00099\n",
      "[4]\ttrain-tweedie-nloglik@1.5:0.70275\ttest-tweedie-nloglik@1.5:0.95846\n",
      "[5]\ttrain-tweedie-nloglik@1.5:0.64515\ttest-tweedie-nloglik@1.5:0.94661\n",
      "[6]\ttrain-tweedie-nloglik@1.5:0.60637\ttest-tweedie-nloglik@1.5:0.95923\n",
      "[7]\ttrain-tweedie-nloglik@1.5:0.58238\ttest-tweedie-nloglik@1.5:0.97860\n",
      "[8]\ttrain-tweedie-nloglik@1.5:0.56688\ttest-tweedie-nloglik@1.5:0.98621\n",
      "[9]\ttrain-tweedie-nloglik@1.5:0.55574\ttest-tweedie-nloglik@1.5:0.99631\n",
      "[0]\ttrain-tweedie-nloglik@1.5:1.25938\ttest-tweedie-nloglik@1.5:1.35110\n",
      "[1]\ttrain-tweedie-nloglik@1.5:1.03152\ttest-tweedie-nloglik@1.5:1.16632\n",
      "[2]\ttrain-tweedie-nloglik@1.5:0.87016\ttest-tweedie-nloglik@1.5:1.05306\n"
     ]
    },
    {
     "name": "stderr",
     "output_type": "stream",
     "text": [
      "/home/jyang4/miniconda3/envs/ProtTP/lib/python3.9/site-packages/xgboost/core.py:105: UserWarning: ntree_limit is deprecated, use `iteration_range` or model slicing instead.\n",
      "  warnings.warn(\n",
      "/home/jyang4/miniconda3/envs/ProtTP/lib/python3.9/site-packages/xgboost/core.py:105: UserWarning: ntree_limit is deprecated, use `iteration_range` or model slicing instead.\n",
      "  warnings.warn(\n"
     ]
    },
    {
     "name": "stdout",
     "output_type": "stream",
     "text": [
      "[3]\ttrain-tweedie-nloglik@1.5:0.75733\ttest-tweedie-nloglik@1.5:0.98644\n",
      "[4]\ttrain-tweedie-nloglik@1.5:0.67854\ttest-tweedie-nloglik@1.5:0.95301\n",
      "[5]\ttrain-tweedie-nloglik@1.5:0.62621\ttest-tweedie-nloglik@1.5:0.95296\n",
      "[6]\ttrain-tweedie-nloglik@1.5:0.58876\ttest-tweedie-nloglik@1.5:0.95921\n",
      "[7]\ttrain-tweedie-nloglik@1.5:0.56356\ttest-tweedie-nloglik@1.5:0.96551\n",
      "[8]\ttrain-tweedie-nloglik@1.5:0.54724\ttest-tweedie-nloglik@1.5:0.98203\n",
      "[9]\ttrain-tweedie-nloglik@1.5:0.53325\ttest-tweedie-nloglik@1.5:1.00780\n",
      "[0]\ttrain-tweedie-nloglik@1.5:1.34734\ttest-tweedie-nloglik@1.5:1.34777\n",
      "[1]\ttrain-tweedie-nloglik@1.5:1.11421\ttest-tweedie-nloglik@1.5:1.15747\n",
      "[2]\ttrain-tweedie-nloglik@1.5:0.95141\ttest-tweedie-nloglik@1.5:1.02731\n",
      "[3]\ttrain-tweedie-nloglik@1.5:0.83483\ttest-tweedie-nloglik@1.5:0.94935\n",
      "[4]\ttrain-tweedie-nloglik@1.5:0.75405\ttest-tweedie-nloglik@1.5:0.90891\n",
      "[5]\ttrain-tweedie-nloglik@1.5:0.69804\ttest-tweedie-nloglik@1.5:0.88208\n",
      "[6]\ttrain-tweedie-nloglik@1.5:0.66142\ttest-tweedie-nloglik@1.5:0.88132\n",
      "[7]\ttrain-tweedie-nloglik@1.5:0.63585\ttest-tweedie-nloglik@1.5:0.88111\n",
      "[8]\ttrain-tweedie-nloglik@1.5:0.61974\ttest-tweedie-nloglik@1.5:0.88214\n",
      "[9]\ttrain-tweedie-nloglik@1.5:0.60871\ttest-tweedie-nloglik@1.5:0.88539\n",
      "[0]\ttrain-tweedie-nloglik@1.5:1.30304\ttest-tweedie-nloglik@1.5:1.35108\n",
      "[1]\ttrain-tweedie-nloglik@1.5:1.07356\ttest-tweedie-nloglik@1.5:1.16952\n",
      "[2]\ttrain-tweedie-nloglik@1.5:0.90898\ttest-tweedie-nloglik@1.5:1.05265\n",
      "[3]\ttrain-tweedie-nloglik@1.5:0.79549\ttest-tweedie-nloglik@1.5:0.98948\n",
      "[4]\ttrain-tweedie-nloglik@1.5:0.71872\ttest-tweedie-nloglik@1.5:0.95416\n"
     ]
    },
    {
     "name": "stderr",
     "output_type": "stream",
     "text": [
      "/home/jyang4/miniconda3/envs/ProtTP/lib/python3.9/site-packages/xgboost/core.py:105: UserWarning: ntree_limit is deprecated, use `iteration_range` or model slicing instead.\n",
      "  warnings.warn(\n",
      "/home/jyang4/miniconda3/envs/ProtTP/lib/python3.9/site-packages/xgboost/core.py:105: UserWarning: ntree_limit is deprecated, use `iteration_range` or model slicing instead.\n",
      "  warnings.warn(\n"
     ]
    },
    {
     "name": "stdout",
     "output_type": "stream",
     "text": [
      "[5]\ttrain-tweedie-nloglik@1.5:0.66084\ttest-tweedie-nloglik@1.5:0.93959\n",
      "[6]\ttrain-tweedie-nloglik@1.5:0.62346\ttest-tweedie-nloglik@1.5:0.94463\n",
      "[7]\ttrain-tweedie-nloglik@1.5:0.59733\ttest-tweedie-nloglik@1.5:0.95400\n",
      "[8]\ttrain-tweedie-nloglik@1.5:0.58087\ttest-tweedie-nloglik@1.5:0.96641\n",
      "[9]\ttrain-tweedie-nloglik@1.5:0.57201\ttest-tweedie-nloglik@1.5:0.96425\n",
      "[0]\ttrain-tweedie-nloglik@1.5:1.32145\ttest-tweedie-nloglik@1.5:1.34501\n",
      "[1]\ttrain-tweedie-nloglik@1.5:1.08357\ttest-tweedie-nloglik@1.5:1.15149\n",
      "[2]\ttrain-tweedie-nloglik@1.5:0.91846\ttest-tweedie-nloglik@1.5:1.03477\n",
      "[3]\ttrain-tweedie-nloglik@1.5:0.80096\ttest-tweedie-nloglik@1.5:0.96507\n",
      "[4]\ttrain-tweedie-nloglik@1.5:0.71847\ttest-tweedie-nloglik@1.5:0.93547\n",
      "[5]\ttrain-tweedie-nloglik@1.5:0.66533\ttest-tweedie-nloglik@1.5:0.93015\n",
      "[6]\ttrain-tweedie-nloglik@1.5:0.62857\ttest-tweedie-nloglik@1.5:0.92897\n",
      "[7]\ttrain-tweedie-nloglik@1.5:0.60355\ttest-tweedie-nloglik@1.5:0.93693\n",
      "[8]\ttrain-tweedie-nloglik@1.5:0.58550\ttest-tweedie-nloglik@1.5:0.96096\n",
      "[9]\ttrain-tweedie-nloglik@1.5:0.57547\ttest-tweedie-nloglik@1.5:0.97156\n",
      "[0]\ttrain-tweedie-nloglik@1.5:1.30403\ttest-tweedie-nloglik@1.5:1.34529\n",
      "[1]\ttrain-tweedie-nloglik@1.5:1.07614\ttest-tweedie-nloglik@1.5:1.15134\n"
     ]
    },
    {
     "name": "stderr",
     "output_type": "stream",
     "text": [
      "/home/jyang4/miniconda3/envs/ProtTP/lib/python3.9/site-packages/xgboost/core.py:105: UserWarning: ntree_limit is deprecated, use `iteration_range` or model slicing instead.\n",
      "  warnings.warn(\n",
      "/home/jyang4/miniconda3/envs/ProtTP/lib/python3.9/site-packages/xgboost/core.py:105: UserWarning: ntree_limit is deprecated, use `iteration_range` or model slicing instead.\n",
      "  warnings.warn(\n"
     ]
    },
    {
     "name": "stdout",
     "output_type": "stream",
     "text": [
      "[2]\ttrain-tweedie-nloglik@1.5:0.91288\ttest-tweedie-nloglik@1.5:1.02887\n",
      "[3]\ttrain-tweedie-nloglik@1.5:0.80014\ttest-tweedie-nloglik@1.5:0.95713\n",
      "[4]\ttrain-tweedie-nloglik@1.5:0.72319\ttest-tweedie-nloglik@1.5:0.91281\n",
      "[5]\ttrain-tweedie-nloglik@1.5:0.66822\ttest-tweedie-nloglik@1.5:0.91033\n",
      "[6]\ttrain-tweedie-nloglik@1.5:0.63280\ttest-tweedie-nloglik@1.5:0.92767\n",
      "[7]\ttrain-tweedie-nloglik@1.5:0.60813\ttest-tweedie-nloglik@1.5:0.94085\n",
      "[8]\ttrain-tweedie-nloglik@1.5:0.59293\ttest-tweedie-nloglik@1.5:0.96628\n",
      "[9]\ttrain-tweedie-nloglik@1.5:0.58368\ttest-tweedie-nloglik@1.5:0.98196\n",
      "[0]\ttrain-tweedie-nloglik@1.5:1.33023\ttest-tweedie-nloglik@1.5:1.35687\n",
      "[1]\ttrain-tweedie-nloglik@1.5:1.09844\ttest-tweedie-nloglik@1.5:1.16900\n",
      "[2]\ttrain-tweedie-nloglik@1.5:0.93338\ttest-tweedie-nloglik@1.5:1.04703\n",
      "[3]\ttrain-tweedie-nloglik@1.5:0.81802\ttest-tweedie-nloglik@1.5:0.97612\n",
      "[4]\ttrain-tweedie-nloglik@1.5:0.73568\ttest-tweedie-nloglik@1.5:0.94635\n",
      "[5]\ttrain-tweedie-nloglik@1.5:0.67952\ttest-tweedie-nloglik@1.5:0.93261\n",
      "[6]\ttrain-tweedie-nloglik@1.5:0.64292\ttest-tweedie-nloglik@1.5:0.93599\n",
      "[7]\ttrain-tweedie-nloglik@1.5:0.61968\ttest-tweedie-nloglik@1.5:0.94836\n",
      "[8]\ttrain-tweedie-nloglik@1.5:0.60312\ttest-tweedie-nloglik@1.5:0.97037\n",
      "[9]\ttrain-tweedie-nloglik@1.5:0.59044\ttest-tweedie-nloglik@1.5:0.98872\n",
      "[0]\ttrain-tweedie-nloglik@1.5:1.27903\ttest-tweedie-nloglik@1.5:1.34781\n",
      "[1]\ttrain-tweedie-nloglik@1.5:1.04378\ttest-tweedie-nloglik@1.5:1.15164\n",
      "[2]\ttrain-tweedie-nloglik@1.5:0.87506\ttest-tweedie-nloglik@1.5:1.03269\n",
      "[3]\ttrain-tweedie-nloglik@1.5:0.75652\ttest-tweedie-nloglik@1.5:0.94973\n",
      "[4]\ttrain-tweedie-nloglik@1.5:0.67541\ttest-tweedie-nloglik@1.5:0.90059\n",
      "[5]\ttrain-tweedie-nloglik@1.5:0.61940\ttest-tweedie-nloglik@1.5:0.87636\n"
     ]
    },
    {
     "name": "stderr",
     "output_type": "stream",
     "text": [
      "/home/jyang4/miniconda3/envs/ProtTP/lib/python3.9/site-packages/xgboost/core.py:105: UserWarning: ntree_limit is deprecated, use `iteration_range` or model slicing instead.\n",
      "  warnings.warn(\n",
      "/home/jyang4/miniconda3/envs/ProtTP/lib/python3.9/site-packages/xgboost/core.py:105: UserWarning: ntree_limit is deprecated, use `iteration_range` or model slicing instead.\n",
      "  warnings.warn(\n"
     ]
    },
    {
     "name": "stdout",
     "output_type": "stream",
     "text": [
      "[6]\ttrain-tweedie-nloglik@1.5:0.58251\ttest-tweedie-nloglik@1.5:0.87282\n",
      "[7]\ttrain-tweedie-nloglik@1.5:0.55834\ttest-tweedie-nloglik@1.5:0.88250\n",
      "[8]\ttrain-tweedie-nloglik@1.5:0.54088\ttest-tweedie-nloglik@1.5:0.89791\n",
      "[9]\ttrain-tweedie-nloglik@1.5:0.53022\ttest-tweedie-nloglik@1.5:0.91070\n",
      "[0]\ttrain-tweedie-nloglik@1.5:1.39824\ttest-tweedie-nloglik@1.5:1.35867\n",
      "[1]\ttrain-tweedie-nloglik@1.5:1.16367\ttest-tweedie-nloglik@1.5:1.15888\n",
      "[2]\ttrain-tweedie-nloglik@1.5:0.99750\ttest-tweedie-nloglik@1.5:1.02508\n",
      "[3]\ttrain-tweedie-nloglik@1.5:0.88410\ttest-tweedie-nloglik@1.5:0.94180\n",
      "[4]\ttrain-tweedie-nloglik@1.5:0.79829\ttest-tweedie-nloglik@1.5:0.88352\n",
      "[5]\ttrain-tweedie-nloglik@1.5:0.74016\ttest-tweedie-nloglik@1.5:0.86247\n",
      "[6]\ttrain-tweedie-nloglik@1.5:0.69990\ttest-tweedie-nloglik@1.5:0.84904\n",
      "[7]\ttrain-tweedie-nloglik@1.5:0.67331\ttest-tweedie-nloglik@1.5:0.84874\n",
      "[8]\ttrain-tweedie-nloglik@1.5:0.65582\ttest-tweedie-nloglik@1.5:0.86028\n",
      "[9]\ttrain-tweedie-nloglik@1.5:0.64390\ttest-tweedie-nloglik@1.5:0.86018\n",
      "[0]\ttrain-tweedie-nloglik@1.5:1.24434\ttest-tweedie-nloglik@1.5:1.35051\n",
      "[1]\ttrain-tweedie-nloglik@1.5:1.01438\ttest-tweedie-nloglik@1.5:1.16648\n",
      "[2]\ttrain-tweedie-nloglik@1.5:0.85241\ttest-tweedie-nloglik@1.5:1.05219\n",
      "[3]\ttrain-tweedie-nloglik@1.5:0.73887\ttest-tweedie-nloglik@1.5:0.98598\n",
      "[4]\ttrain-tweedie-nloglik@1.5:0.65861\ttest-tweedie-nloglik@1.5:0.95337\n"
     ]
    },
    {
     "name": "stderr",
     "output_type": "stream",
     "text": [
      "/home/jyang4/miniconda3/envs/ProtTP/lib/python3.9/site-packages/xgboost/core.py:105: UserWarning: ntree_limit is deprecated, use `iteration_range` or model slicing instead.\n",
      "  warnings.warn(\n",
      "/home/jyang4/miniconda3/envs/ProtTP/lib/python3.9/site-packages/xgboost/core.py:105: UserWarning: ntree_limit is deprecated, use `iteration_range` or model slicing instead.\n",
      "  warnings.warn(\n"
     ]
    },
    {
     "name": "stdout",
     "output_type": "stream",
     "text": [
      "[5]\ttrain-tweedie-nloglik@1.5:0.60401\ttest-tweedie-nloglik@1.5:0.94007\n",
      "[6]\ttrain-tweedie-nloglik@1.5:0.56829\ttest-tweedie-nloglik@1.5:0.94954\n",
      "[7]\ttrain-tweedie-nloglik@1.5:0.54396\ttest-tweedie-nloglik@1.5:0.95841\n",
      "[8]\ttrain-tweedie-nloglik@1.5:0.52709\ttest-tweedie-nloglik@1.5:0.98346\n",
      "[9]\ttrain-tweedie-nloglik@1.5:0.51641\ttest-tweedie-nloglik@1.5:1.00252\n",
      "[0]\ttrain-tweedie-nloglik@1.5:1.36495\ttest-tweedie-nloglik@1.5:1.35259\n",
      "[1]\ttrain-tweedie-nloglik@1.5:1.13506\ttest-tweedie-nloglik@1.5:1.15666\n",
      "[2]\ttrain-tweedie-nloglik@1.5:0.97096\ttest-tweedie-nloglik@1.5:1.02897\n",
      "[3]\ttrain-tweedie-nloglik@1.5:0.85931\ttest-tweedie-nloglik@1.5:0.95528\n",
      "[4]\ttrain-tweedie-nloglik@1.5:0.78437\ttest-tweedie-nloglik@1.5:0.89719\n",
      "[5]\ttrain-tweedie-nloglik@1.5:0.73143\ttest-tweedie-nloglik@1.5:0.86429\n",
      "[6]\ttrain-tweedie-nloglik@1.5:0.69434\ttest-tweedie-nloglik@1.5:0.85621\n",
      "[7]\ttrain-tweedie-nloglik@1.5:0.67025\ttest-tweedie-nloglik@1.5:0.85083\n",
      "[8]\ttrain-tweedie-nloglik@1.5:0.65271\ttest-tweedie-nloglik@1.5:0.85359\n",
      "[9]\ttrain-tweedie-nloglik@1.5:0.64290\ttest-tweedie-nloglik@1.5:0.85786\n",
      "[0]\ttrain-tweedie-nloglik@1.5:1.32838\ttest-tweedie-nloglik@1.5:1.34921\n",
      "[1]\ttrain-tweedie-nloglik@1.5:1.10304\ttest-tweedie-nloglik@1.5:1.15152\n",
      "[2]\ttrain-tweedie-nloglik@1.5:0.94412\ttest-tweedie-nloglik@1.5:1.02049\n",
      "[3]\ttrain-tweedie-nloglik@1.5:0.82862\ttest-tweedie-nloglik@1.5:0.93545\n",
      "[4]\ttrain-tweedie-nloglik@1.5:0.74795\ttest-tweedie-nloglik@1.5:0.87865\n",
      "[5]\ttrain-tweedie-nloglik@1.5:0.69321\ttest-tweedie-nloglik@1.5:0.84667\n"
     ]
    },
    {
     "name": "stderr",
     "output_type": "stream",
     "text": [
      "/home/jyang4/miniconda3/envs/ProtTP/lib/python3.9/site-packages/xgboost/core.py:105: UserWarning: ntree_limit is deprecated, use `iteration_range` or model slicing instead.\n",
      "  warnings.warn(\n",
      "/home/jyang4/miniconda3/envs/ProtTP/lib/python3.9/site-packages/xgboost/core.py:105: UserWarning: ntree_limit is deprecated, use `iteration_range` or model slicing instead.\n",
      "  warnings.warn(\n"
     ]
    },
    {
     "name": "stdout",
     "output_type": "stream",
     "text": [
      "[6]\ttrain-tweedie-nloglik@1.5:0.65665\ttest-tweedie-nloglik@1.5:0.82618\n",
      "[7]\ttrain-tweedie-nloglik@1.5:0.63148\ttest-tweedie-nloglik@1.5:0.82272\n",
      "[8]\ttrain-tweedie-nloglik@1.5:0.61430\ttest-tweedie-nloglik@1.5:0.82440\n",
      "[9]\ttrain-tweedie-nloglik@1.5:0.60128\ttest-tweedie-nloglik@1.5:0.82935\n",
      "[0]\ttrain-tweedie-nloglik@1.5:1.30927\ttest-tweedie-nloglik@1.5:1.35677\n",
      "[1]\ttrain-tweedie-nloglik@1.5:1.08281\ttest-tweedie-nloglik@1.5:1.16786\n",
      "[2]\ttrain-tweedie-nloglik@1.5:0.92261\ttest-tweedie-nloglik@1.5:1.04283\n",
      "[3]\ttrain-tweedie-nloglik@1.5:0.81011\ttest-tweedie-nloglik@1.5:0.95679\n",
      "[4]\ttrain-tweedie-nloglik@1.5:0.72987\ttest-tweedie-nloglik@1.5:0.90930\n",
      "[5]\ttrain-tweedie-nloglik@1.5:0.67704\ttest-tweedie-nloglik@1.5:0.88858\n",
      "[6]\ttrain-tweedie-nloglik@1.5:0.64064\ttest-tweedie-nloglik@1.5:0.87237\n",
      "[7]\ttrain-tweedie-nloglik@1.5:0.61657\ttest-tweedie-nloglik@1.5:0.86349\n",
      "[8]\ttrain-tweedie-nloglik@1.5:0.59961\ttest-tweedie-nloglik@1.5:0.86109\n",
      "[9]\ttrain-tweedie-nloglik@1.5:0.58843\ttest-tweedie-nloglik@1.5:0.85743\n",
      "[0]\ttrain-tweedie-nloglik@1.5:1.31027\ttest-tweedie-nloglik@1.5:1.35211\n",
      "[1]\ttrain-tweedie-nloglik@1.5:1.07944\ttest-tweedie-nloglik@1.5:1.16027\n",
      "[2]\ttrain-tweedie-nloglik@1.5:0.91628\ttest-tweedie-nloglik@1.5:1.03967\n",
      "[3]\ttrain-tweedie-nloglik@1.5:0.79615\ttest-tweedie-nloglik@1.5:0.96681\n",
      "[4]\ttrain-tweedie-nloglik@1.5:0.71196\ttest-tweedie-nloglik@1.5:0.92415\n",
      "[5]\ttrain-tweedie-nloglik@1.5:0.65137\ttest-tweedie-nloglik@1.5:0.90292\n"
     ]
    },
    {
     "name": "stderr",
     "output_type": "stream",
     "text": [
      "/home/jyang4/miniconda3/envs/ProtTP/lib/python3.9/site-packages/xgboost/core.py:105: UserWarning: ntree_limit is deprecated, use `iteration_range` or model slicing instead.\n",
      "  warnings.warn(\n",
      "/home/jyang4/miniconda3/envs/ProtTP/lib/python3.9/site-packages/xgboost/core.py:105: UserWarning: ntree_limit is deprecated, use `iteration_range` or model slicing instead.\n",
      "  warnings.warn(\n"
     ]
    },
    {
     "name": "stdout",
     "output_type": "stream",
     "text": [
      "[6]\ttrain-tweedie-nloglik@1.5:0.61516\ttest-tweedie-nloglik@1.5:0.89321\n",
      "[7]\ttrain-tweedie-nloglik@1.5:0.58876\ttest-tweedie-nloglik@1.5:0.90421\n",
      "[8]\ttrain-tweedie-nloglik@1.5:0.57359\ttest-tweedie-nloglik@1.5:0.90630\n",
      "[9]\ttrain-tweedie-nloglik@1.5:0.56004\ttest-tweedie-nloglik@1.5:0.90831\n",
      "[0]\ttrain-tweedie-nloglik@1.5:1.23582\ttest-tweedie-nloglik@1.5:1.34904\n",
      "[1]\ttrain-tweedie-nloglik@1.5:1.00191\ttest-tweedie-nloglik@1.5:1.16147\n",
      "[2]\ttrain-tweedie-nloglik@1.5:0.83676\ttest-tweedie-nloglik@1.5:1.04099\n",
      "[3]\ttrain-tweedie-nloglik@1.5:0.71764\ttest-tweedie-nloglik@1.5:0.97945\n",
      "[4]\ttrain-tweedie-nloglik@1.5:0.63543\ttest-tweedie-nloglik@1.5:0.96578\n",
      "[5]\ttrain-tweedie-nloglik@1.5:0.58001\ttest-tweedie-nloglik@1.5:0.95791\n",
      "[6]\ttrain-tweedie-nloglik@1.5:0.54205\ttest-tweedie-nloglik@1.5:0.96731\n",
      "[7]\ttrain-tweedie-nloglik@1.5:0.51568\ttest-tweedie-nloglik@1.5:0.99260\n",
      "[8]\ttrain-tweedie-nloglik@1.5:0.49862\ttest-tweedie-nloglik@1.5:1.01336\n",
      "[9]\ttrain-tweedie-nloglik@1.5:0.48779\ttest-tweedie-nloglik@1.5:1.04793\n",
      "[0]\ttrain-tweedie-nloglik@1.5:1.37756\ttest-tweedie-nloglik@1.5:1.34970\n",
      "[1]\ttrain-tweedie-nloglik@1.5:1.15522\ttest-tweedie-nloglik@1.5:1.15774\n",
      "[2]\ttrain-tweedie-nloglik@1.5:0.99733\ttest-tweedie-nloglik@1.5:1.03061\n",
      "[3]\ttrain-tweedie-nloglik@1.5:0.88854\ttest-tweedie-nloglik@1.5:0.95569\n",
      "[4]\ttrain-tweedie-nloglik@1.5:0.81436\ttest-tweedie-nloglik@1.5:0.92112\n",
      "[5]\ttrain-tweedie-nloglik@1.5:0.76233\ttest-tweedie-nloglik@1.5:0.90323\n"
     ]
    },
    {
     "name": "stderr",
     "output_type": "stream",
     "text": [
      "/home/jyang4/miniconda3/envs/ProtTP/lib/python3.9/site-packages/xgboost/core.py:105: UserWarning: ntree_limit is deprecated, use `iteration_range` or model slicing instead.\n",
      "  warnings.warn(\n",
      "/home/jyang4/miniconda3/envs/ProtTP/lib/python3.9/site-packages/xgboost/core.py:105: UserWarning: ntree_limit is deprecated, use `iteration_range` or model slicing instead.\n",
      "  warnings.warn(\n"
     ]
    },
    {
     "name": "stdout",
     "output_type": "stream",
     "text": [
      "[6]\ttrain-tweedie-nloglik@1.5:0.72727\ttest-tweedie-nloglik@1.5:0.90858\n",
      "[7]\ttrain-tweedie-nloglik@1.5:0.70630\ttest-tweedie-nloglik@1.5:0.90595\n",
      "[8]\ttrain-tweedie-nloglik@1.5:0.68792\ttest-tweedie-nloglik@1.5:0.91926\n",
      "[9]\ttrain-tweedie-nloglik@1.5:0.67928\ttest-tweedie-nloglik@1.5:0.92515\n",
      "[0]\ttrain-tweedie-nloglik@1.5:1.27788\ttest-tweedie-nloglik@1.5:1.34784\n",
      "[1]\ttrain-tweedie-nloglik@1.5:1.04193\ttest-tweedie-nloglik@1.5:1.15817\n",
      "[2]\ttrain-tweedie-nloglik@1.5:0.87544\ttest-tweedie-nloglik@1.5:1.04415\n",
      "[3]\ttrain-tweedie-nloglik@1.5:0.75953\ttest-tweedie-nloglik@1.5:0.98367\n",
      "[4]\ttrain-tweedie-nloglik@1.5:0.67946\ttest-tweedie-nloglik@1.5:0.95371\n",
      "[5]\ttrain-tweedie-nloglik@1.5:0.62617\ttest-tweedie-nloglik@1.5:0.94978\n",
      "[6]\ttrain-tweedie-nloglik@1.5:0.59186\ttest-tweedie-nloglik@1.5:0.97455\n",
      "[7]\ttrain-tweedie-nloglik@1.5:0.56777\ttest-tweedie-nloglik@1.5:0.98869\n",
      "[8]\ttrain-tweedie-nloglik@1.5:0.55274\ttest-tweedie-nloglik@1.5:0.99568\n",
      "[9]\ttrain-tweedie-nloglik@1.5:0.54239\ttest-tweedie-nloglik@1.5:1.02079\n",
      "[0]\ttrain-tweedie-nloglik@1.5:1.34334\ttest-tweedie-nloglik@1.5:1.36380\n",
      "[1]\ttrain-tweedie-nloglik@1.5:1.11872\ttest-tweedie-nloglik@1.5:1.17948\n",
      "[2]\ttrain-tweedie-nloglik@1.5:0.95992\ttest-tweedie-nloglik@1.5:1.05431\n",
      "[3]\ttrain-tweedie-nloglik@1.5:0.84426\ttest-tweedie-nloglik@1.5:0.98132\n",
      "[4]\ttrain-tweedie-nloglik@1.5:0.75888\ttest-tweedie-nloglik@1.5:0.92642\n",
      "[5]\ttrain-tweedie-nloglik@1.5:0.70566\ttest-tweedie-nloglik@1.5:0.90893\n"
     ]
    },
    {
     "name": "stderr",
     "output_type": "stream",
     "text": [
      "/home/jyang4/miniconda3/envs/ProtTP/lib/python3.9/site-packages/xgboost/core.py:105: UserWarning: ntree_limit is deprecated, use `iteration_range` or model slicing instead.\n",
      "  warnings.warn(\n",
      "/home/jyang4/miniconda3/envs/ProtTP/lib/python3.9/site-packages/xgboost/core.py:105: UserWarning: ntree_limit is deprecated, use `iteration_range` or model slicing instead.\n",
      "  warnings.warn(\n"
     ]
    },
    {
     "name": "stdout",
     "output_type": "stream",
     "text": [
      "[6]\ttrain-tweedie-nloglik@1.5:0.66974\ttest-tweedie-nloglik@1.5:0.89758\n",
      "[7]\ttrain-tweedie-nloglik@1.5:0.64531\ttest-tweedie-nloglik@1.5:0.90349\n",
      "[8]\ttrain-tweedie-nloglik@1.5:0.62131\ttest-tweedie-nloglik@1.5:0.91469\n",
      "[9]\ttrain-tweedie-nloglik@1.5:0.60707\ttest-tweedie-nloglik@1.5:0.91678\n",
      "[0]\ttrain-tweedie-nloglik@1.5:1.35114\ttest-tweedie-nloglik@1.5:1.33694\n",
      "[1]\ttrain-tweedie-nloglik@1.5:1.11184\ttest-tweedie-nloglik@1.5:1.13676\n",
      "[2]\ttrain-tweedie-nloglik@1.5:0.93725\ttest-tweedie-nloglik@1.5:1.00421\n",
      "[3]\ttrain-tweedie-nloglik@1.5:0.81621\ttest-tweedie-nloglik@1.5:0.92777\n",
      "[4]\ttrain-tweedie-nloglik@1.5:0.73083\ttest-tweedie-nloglik@1.5:0.88633\n",
      "[5]\ttrain-tweedie-nloglik@1.5:0.67310\ttest-tweedie-nloglik@1.5:0.87349\n",
      "[6]\ttrain-tweedie-nloglik@1.5:0.63431\ttest-tweedie-nloglik@1.5:0.87618\n",
      "[7]\ttrain-tweedie-nloglik@1.5:0.61102\ttest-tweedie-nloglik@1.5:0.89437\n",
      "[8]\ttrain-tweedie-nloglik@1.5:0.59661\ttest-tweedie-nloglik@1.5:0.91014\n",
      "[9]\ttrain-tweedie-nloglik@1.5:0.58854\ttest-tweedie-nloglik@1.5:0.92634\n",
      "[0]\ttrain-tweedie-nloglik@1.5:1.29098\ttest-tweedie-nloglik@1.5:1.35081\n",
      "[1]\ttrain-tweedie-nloglik@1.5:1.06049\ttest-tweedie-nloglik@1.5:1.16296\n",
      "[2]\ttrain-tweedie-nloglik@1.5:0.89734\ttest-tweedie-nloglik@1.5:1.04336\n",
      "[3]\ttrain-tweedie-nloglik@1.5:0.78354\ttest-tweedie-nloglik@1.5:0.97636\n",
      "[4]\ttrain-tweedie-nloglik@1.5:0.70491\ttest-tweedie-nloglik@1.5:0.93961\n",
      "[5]\ttrain-tweedie-nloglik@1.5:0.64873\ttest-tweedie-nloglik@1.5:0.91415\n"
     ]
    },
    {
     "name": "stderr",
     "output_type": "stream",
     "text": [
      "/home/jyang4/miniconda3/envs/ProtTP/lib/python3.9/site-packages/xgboost/core.py:105: UserWarning: ntree_limit is deprecated, use `iteration_range` or model slicing instead.\n",
      "  warnings.warn(\n",
      "/home/jyang4/miniconda3/envs/ProtTP/lib/python3.9/site-packages/xgboost/core.py:105: UserWarning: ntree_limit is deprecated, use `iteration_range` or model slicing instead.\n",
      "  warnings.warn(\n"
     ]
    },
    {
     "name": "stdout",
     "output_type": "stream",
     "text": [
      "[6]\ttrain-tweedie-nloglik@1.5:0.60825\ttest-tweedie-nloglik@1.5:0.90438\n",
      "[7]\ttrain-tweedie-nloglik@1.5:0.58153\ttest-tweedie-nloglik@1.5:0.91839\n",
      "[8]\ttrain-tweedie-nloglik@1.5:0.56365\ttest-tweedie-nloglik@1.5:0.94002\n",
      "[9]\ttrain-tweedie-nloglik@1.5:0.55110\ttest-tweedie-nloglik@1.5:0.94537\n",
      "[0]\ttrain-tweedie-nloglik@1.5:1.38797\ttest-tweedie-nloglik@1.5:1.34701\n",
      "[1]\ttrain-tweedie-nloglik@1.5:1.16265\ttest-tweedie-nloglik@1.5:1.14877\n",
      "[2]\ttrain-tweedie-nloglik@1.5:1.00434\ttest-tweedie-nloglik@1.5:1.02589\n",
      "[3]\ttrain-tweedie-nloglik@1.5:0.88925\ttest-tweedie-nloglik@1.5:0.95250\n",
      "[4]\ttrain-tweedie-nloglik@1.5:0.81177\ttest-tweedie-nloglik@1.5:0.91102\n",
      "[5]\ttrain-tweedie-nloglik@1.5:0.76039\ttest-tweedie-nloglik@1.5:0.89575\n",
      "[6]\ttrain-tweedie-nloglik@1.5:0.72584\ttest-tweedie-nloglik@1.5:0.90196\n",
      "[7]\ttrain-tweedie-nloglik@1.5:0.70493\ttest-tweedie-nloglik@1.5:0.90112\n",
      "[8]\ttrain-tweedie-nloglik@1.5:0.69147\ttest-tweedie-nloglik@1.5:0.90734\n",
      "[9]\ttrain-tweedie-nloglik@1.5:0.67916\ttest-tweedie-nloglik@1.5:0.91667\n",
      "[0]\ttrain-tweedie-nloglik@1.5:1.29380\ttest-tweedie-nloglik@1.5:1.35098\n",
      "[1]\ttrain-tweedie-nloglik@1.5:1.06282\ttest-tweedie-nloglik@1.5:1.16275\n",
      "[2]\ttrain-tweedie-nloglik@1.5:0.89980\ttest-tweedie-nloglik@1.5:1.04927\n",
      "[3]\ttrain-tweedie-nloglik@1.5:0.78192\ttest-tweedie-nloglik@1.5:0.98068\n",
      "[4]\ttrain-tweedie-nloglik@1.5:0.69921\ttest-tweedie-nloglik@1.5:0.94276\n",
      "[5]\ttrain-tweedie-nloglik@1.5:0.64350\ttest-tweedie-nloglik@1.5:0.92776\n"
     ]
    },
    {
     "name": "stderr",
     "output_type": "stream",
     "text": [
      "/home/jyang4/miniconda3/envs/ProtTP/lib/python3.9/site-packages/xgboost/core.py:105: UserWarning: ntree_limit is deprecated, use `iteration_range` or model slicing instead.\n",
      "  warnings.warn(\n",
      "/home/jyang4/miniconda3/envs/ProtTP/lib/python3.9/site-packages/xgboost/core.py:105: UserWarning: ntree_limit is deprecated, use `iteration_range` or model slicing instead.\n",
      "  warnings.warn(\n"
     ]
    },
    {
     "name": "stdout",
     "output_type": "stream",
     "text": [
      "[6]\ttrain-tweedie-nloglik@1.5:0.60496\ttest-tweedie-nloglik@1.5:0.92982\n",
      "[7]\ttrain-tweedie-nloglik@1.5:0.58015\ttest-tweedie-nloglik@1.5:0.93091\n",
      "[8]\ttrain-tweedie-nloglik@1.5:0.56412\ttest-tweedie-nloglik@1.5:0.94866\n",
      "[9]\ttrain-tweedie-nloglik@1.5:0.55307\ttest-tweedie-nloglik@1.5:0.95817\n",
      "[0]\ttrain-tweedie-nloglik@1.5:1.22561\ttest-tweedie-nloglik@1.5:1.35690\n",
      "[1]\ttrain-tweedie-nloglik@1.5:0.99298\ttest-tweedie-nloglik@1.5:1.17784\n",
      "[2]\ttrain-tweedie-nloglik@1.5:0.83023\ttest-tweedie-nloglik@1.5:1.06276\n",
      "[3]\ttrain-tweedie-nloglik@1.5:0.71712\ttest-tweedie-nloglik@1.5:1.00299\n",
      "[4]\ttrain-tweedie-nloglik@1.5:0.64048\ttest-tweedie-nloglik@1.5:0.97592\n",
      "[5]\ttrain-tweedie-nloglik@1.5:0.58882\ttest-tweedie-nloglik@1.5:0.96320\n",
      "[6]\ttrain-tweedie-nloglik@1.5:0.55531\ttest-tweedie-nloglik@1.5:0.97950\n",
      "[7]\ttrain-tweedie-nloglik@1.5:0.53354\ttest-tweedie-nloglik@1.5:1.00010\n",
      "[8]\ttrain-tweedie-nloglik@1.5:0.51930\ttest-tweedie-nloglik@1.5:1.01082\n",
      "[9]\ttrain-tweedie-nloglik@1.5:0.51007\ttest-tweedie-nloglik@1.5:1.02503\n",
      "[0]\ttrain-tweedie-nloglik@1.5:1.32613\ttest-tweedie-nloglik@1.5:1.35342\n",
      "[1]\ttrain-tweedie-nloglik@1.5:1.09021\ttest-tweedie-nloglik@1.5:1.16619\n",
      "[2]\ttrain-tweedie-nloglik@1.5:0.92422\ttest-tweedie-nloglik@1.5:1.04038\n",
      "[3]\ttrain-tweedie-nloglik@1.5:0.81009\ttest-tweedie-nloglik@1.5:0.97305\n",
      "[4]\ttrain-tweedie-nloglik@1.5:0.73114\ttest-tweedie-nloglik@1.5:0.93880\n",
      "[5]\ttrain-tweedie-nloglik@1.5:0.68301\ttest-tweedie-nloglik@1.5:0.92634\n"
     ]
    },
    {
     "name": "stderr",
     "output_type": "stream",
     "text": [
      "/home/jyang4/miniconda3/envs/ProtTP/lib/python3.9/site-packages/xgboost/core.py:105: UserWarning: ntree_limit is deprecated, use `iteration_range` or model slicing instead.\n",
      "  warnings.warn(\n",
      "/home/jyang4/miniconda3/envs/ProtTP/lib/python3.9/site-packages/xgboost/core.py:105: UserWarning: ntree_limit is deprecated, use `iteration_range` or model slicing instead.\n",
      "  warnings.warn(\n"
     ]
    },
    {
     "name": "stdout",
     "output_type": "stream",
     "text": [
      "[6]\ttrain-tweedie-nloglik@1.5:0.64625\ttest-tweedie-nloglik@1.5:0.92562\n",
      "[7]\ttrain-tweedie-nloglik@1.5:0.61870\ttest-tweedie-nloglik@1.5:0.94150\n",
      "[8]\ttrain-tweedie-nloglik@1.5:0.60436\ttest-tweedie-nloglik@1.5:0.94630\n",
      "[9]\ttrain-tweedie-nloglik@1.5:0.59412\ttest-tweedie-nloglik@1.5:0.96132\n",
      "[0]\ttrain-tweedie-nloglik@1.5:1.28064\ttest-tweedie-nloglik@1.5:1.35049\n",
      "[1]\ttrain-tweedie-nloglik@1.5:1.05440\ttest-tweedie-nloglik@1.5:1.16292\n",
      "[2]\ttrain-tweedie-nloglik@1.5:0.89314\ttest-tweedie-nloglik@1.5:1.03935\n",
      "[3]\ttrain-tweedie-nloglik@1.5:0.77743\ttest-tweedie-nloglik@1.5:0.96548\n",
      "[4]\ttrain-tweedie-nloglik@1.5:0.69649\ttest-tweedie-nloglik@1.5:0.92990\n",
      "[5]\ttrain-tweedie-nloglik@1.5:0.64252\ttest-tweedie-nloglik@1.5:0.92241\n",
      "[6]\ttrain-tweedie-nloglik@1.5:0.60551\ttest-tweedie-nloglik@1.5:0.92402\n",
      "[7]\ttrain-tweedie-nloglik@1.5:0.58244\ttest-tweedie-nloglik@1.5:0.93739\n",
      "[8]\ttrain-tweedie-nloglik@1.5:0.56484\ttest-tweedie-nloglik@1.5:0.96576\n",
      "[9]\ttrain-tweedie-nloglik@1.5:0.55447\ttest-tweedie-nloglik@1.5:0.98451\n",
      "[0]\ttrain-tweedie-nloglik@1.5:1.43177\ttest-tweedie-nloglik@1.5:1.35794\n",
      "[1]\ttrain-tweedie-nloglik@1.5:1.20614\ttest-tweedie-nloglik@1.5:1.16757\n",
      "[2]\ttrain-tweedie-nloglik@1.5:1.04762\ttest-tweedie-nloglik@1.5:1.03590\n",
      "[3]\ttrain-tweedie-nloglik@1.5:0.93123\ttest-tweedie-nloglik@1.5:0.95012\n",
      "[4]\ttrain-tweedie-nloglik@1.5:0.84567\ttest-tweedie-nloglik@1.5:0.90150\n",
      "[5]\ttrain-tweedie-nloglik@1.5:0.79030\ttest-tweedie-nloglik@1.5:0.87203\n",
      "[6]\ttrain-tweedie-nloglik@1.5:0.75867\ttest-tweedie-nloglik@1.5:0.85208\n"
     ]
    },
    {
     "name": "stderr",
     "output_type": "stream",
     "text": [
      "/home/jyang4/miniconda3/envs/ProtTP/lib/python3.9/site-packages/xgboost/core.py:105: UserWarning: ntree_limit is deprecated, use `iteration_range` or model slicing instead.\n",
      "  warnings.warn(\n",
      "/home/jyang4/miniconda3/envs/ProtTP/lib/python3.9/site-packages/xgboost/core.py:105: UserWarning: ntree_limit is deprecated, use `iteration_range` or model slicing instead.\n",
      "  warnings.warn(\n"
     ]
    },
    {
     "name": "stdout",
     "output_type": "stream",
     "text": [
      "[7]\ttrain-tweedie-nloglik@1.5:0.73104\ttest-tweedie-nloglik@1.5:0.84441\n",
      "[8]\ttrain-tweedie-nloglik@1.5:0.71626\ttest-tweedie-nloglik@1.5:0.84242\n",
      "[9]\ttrain-tweedie-nloglik@1.5:0.70311\ttest-tweedie-nloglik@1.5:0.84343\n",
      "[0]\ttrain-tweedie-nloglik@1.5:1.27552\ttest-tweedie-nloglik@1.5:1.35129\n",
      "[1]\ttrain-tweedie-nloglik@1.5:1.03638\ttest-tweedie-nloglik@1.5:1.16570\n",
      "[2]\ttrain-tweedie-nloglik@1.5:0.86959\ttest-tweedie-nloglik@1.5:1.05171\n",
      "[3]\ttrain-tweedie-nloglik@1.5:0.74935\ttest-tweedie-nloglik@1.5:0.99004\n",
      "[4]\ttrain-tweedie-nloglik@1.5:0.66687\ttest-tweedie-nloglik@1.5:0.96075\n",
      "[5]\ttrain-tweedie-nloglik@1.5:0.61079\ttest-tweedie-nloglik@1.5:0.95474\n",
      "[6]\ttrain-tweedie-nloglik@1.5:0.57445\ttest-tweedie-nloglik@1.5:0.96607\n",
      "[7]\ttrain-tweedie-nloglik@1.5:0.54956\ttest-tweedie-nloglik@1.5:0.97933\n",
      "[8]\ttrain-tweedie-nloglik@1.5:0.53378\ttest-tweedie-nloglik@1.5:1.00791\n",
      "[9]\ttrain-tweedie-nloglik@1.5:0.52400\ttest-tweedie-nloglik@1.5:1.03488\n",
      "[0]\ttrain-tweedie-nloglik@1.5:1.28377\ttest-tweedie-nloglik@1.5:1.35499\n",
      "[1]\ttrain-tweedie-nloglik@1.5:1.04258\ttest-tweedie-nloglik@1.5:1.16613\n",
      "[2]\ttrain-tweedie-nloglik@1.5:0.87113\ttest-tweedie-nloglik@1.5:1.05122\n",
      "[3]\ttrain-tweedie-nloglik@1.5:0.75167\ttest-tweedie-nloglik@1.5:0.98031\n",
      "[4]\ttrain-tweedie-nloglik@1.5:0.66514\ttest-tweedie-nloglik@1.5:0.94591\n",
      "[5]\ttrain-tweedie-nloglik@1.5:0.60992\ttest-tweedie-nloglik@1.5:0.93819\n",
      "[6]\ttrain-tweedie-nloglik@1.5:0.57152\ttest-tweedie-nloglik@1.5:0.94927\n"
     ]
    },
    {
     "name": "stderr",
     "output_type": "stream",
     "text": [
      "/home/jyang4/miniconda3/envs/ProtTP/lib/python3.9/site-packages/xgboost/core.py:105: UserWarning: ntree_limit is deprecated, use `iteration_range` or model slicing instead.\n",
      "  warnings.warn(\n",
      "/home/jyang4/miniconda3/envs/ProtTP/lib/python3.9/site-packages/xgboost/core.py:105: UserWarning: ntree_limit is deprecated, use `iteration_range` or model slicing instead.\n",
      "  warnings.warn(\n"
     ]
    },
    {
     "name": "stdout",
     "output_type": "stream",
     "text": [
      "[7]\ttrain-tweedie-nloglik@1.5:0.54632\ttest-tweedie-nloglik@1.5:0.96212\n",
      "[8]\ttrain-tweedie-nloglik@1.5:0.53081\ttest-tweedie-nloglik@1.5:0.97948\n",
      "[9]\ttrain-tweedie-nloglik@1.5:0.52097\ttest-tweedie-nloglik@1.5:0.98057\n",
      "[0]\ttrain-tweedie-nloglik@1.5:1.37634\ttest-tweedie-nloglik@1.5:1.37059\n",
      "[1]\ttrain-tweedie-nloglik@1.5:1.14583\ttest-tweedie-nloglik@1.5:1.17793\n",
      "[2]\ttrain-tweedie-nloglik@1.5:0.98359\ttest-tweedie-nloglik@1.5:1.04353\n",
      "[3]\ttrain-tweedie-nloglik@1.5:0.86675\ttest-tweedie-nloglik@1.5:0.96294\n",
      "[4]\ttrain-tweedie-nloglik@1.5:0.78765\ttest-tweedie-nloglik@1.5:0.91541\n",
      "[5]\ttrain-tweedie-nloglik@1.5:0.73382\ttest-tweedie-nloglik@1.5:0.89408\n",
      "[6]\ttrain-tweedie-nloglik@1.5:0.69920\ttest-tweedie-nloglik@1.5:0.87904\n",
      "[7]\ttrain-tweedie-nloglik@1.5:0.67702\ttest-tweedie-nloglik@1.5:0.87771\n",
      "[8]\ttrain-tweedie-nloglik@1.5:0.65769\ttest-tweedie-nloglik@1.5:0.87651\n",
      "[9]\ttrain-tweedie-nloglik@1.5:0.64257\ttest-tweedie-nloglik@1.5:0.89137\n",
      "[0]\ttrain-tweedie-nloglik@1.5:1.33194\ttest-tweedie-nloglik@1.5:1.36000\n",
      "[1]\ttrain-tweedie-nloglik@1.5:1.10795\ttest-tweedie-nloglik@1.5:1.17446\n",
      "[2]\ttrain-tweedie-nloglik@1.5:0.94683\ttest-tweedie-nloglik@1.5:1.05056\n",
      "[3]\ttrain-tweedie-nloglik@1.5:0.83478\ttest-tweedie-nloglik@1.5:0.96873\n",
      "[4]\ttrain-tweedie-nloglik@1.5:0.75565\ttest-tweedie-nloglik@1.5:0.93327\n",
      "[5]\ttrain-tweedie-nloglik@1.5:0.70132\ttest-tweedie-nloglik@1.5:0.91038\n"
     ]
    },
    {
     "name": "stderr",
     "output_type": "stream",
     "text": [
      "/home/jyang4/miniconda3/envs/ProtTP/lib/python3.9/site-packages/xgboost/core.py:105: UserWarning: ntree_limit is deprecated, use `iteration_range` or model slicing instead.\n",
      "  warnings.warn(\n",
      "/home/jyang4/miniconda3/envs/ProtTP/lib/python3.9/site-packages/xgboost/core.py:105: UserWarning: ntree_limit is deprecated, use `iteration_range` or model slicing instead.\n",
      "  warnings.warn(\n"
     ]
    },
    {
     "name": "stdout",
     "output_type": "stream",
     "text": [
      "[6]\ttrain-tweedie-nloglik@1.5:0.66359\ttest-tweedie-nloglik@1.5:0.90924\n",
      "[7]\ttrain-tweedie-nloglik@1.5:0.63745\ttest-tweedie-nloglik@1.5:0.90414\n",
      "[8]\ttrain-tweedie-nloglik@1.5:0.62044\ttest-tweedie-nloglik@1.5:0.91585\n",
      "[9]\ttrain-tweedie-nloglik@1.5:0.60998\ttest-tweedie-nloglik@1.5:0.92180\n",
      "[0]\ttrain-tweedie-nloglik@1.5:1.27938\ttest-tweedie-nloglik@1.5:1.34514\n",
      "[1]\ttrain-tweedie-nloglik@1.5:1.03832\ttest-tweedie-nloglik@1.5:1.15316\n",
      "[2]\ttrain-tweedie-nloglik@1.5:0.86657\ttest-tweedie-nloglik@1.5:1.03256\n",
      "[3]\ttrain-tweedie-nloglik@1.5:0.74964\ttest-tweedie-nloglik@1.5:0.96761\n",
      "[4]\ttrain-tweedie-nloglik@1.5:0.66766\ttest-tweedie-nloglik@1.5:0.93635\n",
      "[5]\ttrain-tweedie-nloglik@1.5:0.61293\ttest-tweedie-nloglik@1.5:0.92746\n",
      "[6]\ttrain-tweedie-nloglik@1.5:0.57659\ttest-tweedie-nloglik@1.5:0.94023\n",
      "[7]\ttrain-tweedie-nloglik@1.5:0.55279\ttest-tweedie-nloglik@1.5:0.95235\n",
      "[8]\ttrain-tweedie-nloglik@1.5:0.53796\ttest-tweedie-nloglik@1.5:0.96721\n",
      "[9]\ttrain-tweedie-nloglik@1.5:0.52785\ttest-tweedie-nloglik@1.5:0.98967\n",
      "[0]\ttrain-tweedie-nloglik@1.5:1.30497\ttest-tweedie-nloglik@1.5:1.34791\n",
      "[1]\ttrain-tweedie-nloglik@1.5:1.07181\ttest-tweedie-nloglik@1.5:1.15578\n",
      "[2]\ttrain-tweedie-nloglik@1.5:0.90511\ttest-tweedie-nloglik@1.5:1.03445\n",
      "[3]\ttrain-tweedie-nloglik@1.5:0.78454\ttest-tweedie-nloglik@1.5:0.95409\n",
      "[4]\ttrain-tweedie-nloglik@1.5:0.70116\ttest-tweedie-nloglik@1.5:0.91732\n",
      "[5]\ttrain-tweedie-nloglik@1.5:0.64606\ttest-tweedie-nloglik@1.5:0.90763\n"
     ]
    },
    {
     "name": "stderr",
     "output_type": "stream",
     "text": [
      "/home/jyang4/miniconda3/envs/ProtTP/lib/python3.9/site-packages/xgboost/core.py:105: UserWarning: ntree_limit is deprecated, use `iteration_range` or model slicing instead.\n",
      "  warnings.warn(\n",
      "/home/jyang4/miniconda3/envs/ProtTP/lib/python3.9/site-packages/xgboost/core.py:105: UserWarning: ntree_limit is deprecated, use `iteration_range` or model slicing instead.\n",
      "  warnings.warn(\n"
     ]
    },
    {
     "name": "stdout",
     "output_type": "stream",
     "text": [
      "[6]\ttrain-tweedie-nloglik@1.5:0.61011\ttest-tweedie-nloglik@1.5:0.91338\n",
      "[7]\ttrain-tweedie-nloglik@1.5:0.58817\ttest-tweedie-nloglik@1.5:0.91842\n",
      "[8]\ttrain-tweedie-nloglik@1.5:0.57249\ttest-tweedie-nloglik@1.5:0.93107\n",
      "[9]\ttrain-tweedie-nloglik@1.5:0.56304\ttest-tweedie-nloglik@1.5:0.93761\n",
      "[0]\ttrain-tweedie-nloglik@1.5:1.26533\ttest-tweedie-nloglik@1.5:1.34656\n",
      "[1]\ttrain-tweedie-nloglik@1.5:1.02043\ttest-tweedie-nloglik@1.5:1.16245\n",
      "[2]\ttrain-tweedie-nloglik@1.5:0.84554\ttest-tweedie-nloglik@1.5:1.05476\n",
      "[3]\ttrain-tweedie-nloglik@1.5:0.72591\ttest-tweedie-nloglik@1.5:1.00708\n",
      "[4]\ttrain-tweedie-nloglik@1.5:0.63943\ttest-tweedie-nloglik@1.5:1.00465\n",
      "[5]\ttrain-tweedie-nloglik@1.5:0.58485\ttest-tweedie-nloglik@1.5:1.01846\n",
      "[6]\ttrain-tweedie-nloglik@1.5:0.54960\ttest-tweedie-nloglik@1.5:1.04678\n",
      "[7]\ttrain-tweedie-nloglik@1.5:0.52429\ttest-tweedie-nloglik@1.5:1.10978\n",
      "[8]\ttrain-tweedie-nloglik@1.5:0.50831\ttest-tweedie-nloglik@1.5:1.15243\n",
      "[9]\ttrain-tweedie-nloglik@1.5:0.49900\ttest-tweedie-nloglik@1.5:1.17508\n",
      "[0]\ttrain-tweedie-nloglik@1.5:1.35522\ttest-tweedie-nloglik@1.5:1.34180\n",
      "[1]\ttrain-tweedie-nloglik@1.5:1.12313\ttest-tweedie-nloglik@1.5:1.14833\n",
      "[2]\ttrain-tweedie-nloglik@1.5:0.95841\ttest-tweedie-nloglik@1.5:1.02917\n",
      "[3]\ttrain-tweedie-nloglik@1.5:0.84183\ttest-tweedie-nloglik@1.5:0.95854\n",
      "[4]\ttrain-tweedie-nloglik@1.5:0.76290\ttest-tweedie-nloglik@1.5:0.91880\n",
      "[5]\ttrain-tweedie-nloglik@1.5:0.70753\ttest-tweedie-nloglik@1.5:0.91814\n"
     ]
    },
    {
     "name": "stderr",
     "output_type": "stream",
     "text": [
      "/home/jyang4/miniconda3/envs/ProtTP/lib/python3.9/site-packages/xgboost/core.py:105: UserWarning: ntree_limit is deprecated, use `iteration_range` or model slicing instead.\n",
      "  warnings.warn(\n",
      "/home/jyang4/miniconda3/envs/ProtTP/lib/python3.9/site-packages/xgboost/core.py:105: UserWarning: ntree_limit is deprecated, use `iteration_range` or model slicing instead.\n",
      "  warnings.warn(\n"
     ]
    },
    {
     "name": "stdout",
     "output_type": "stream",
     "text": [
      "[6]\ttrain-tweedie-nloglik@1.5:0.66928\ttest-tweedie-nloglik@1.5:0.93823\n",
      "[7]\ttrain-tweedie-nloglik@1.5:0.64665\ttest-tweedie-nloglik@1.5:0.94844\n",
      "[8]\ttrain-tweedie-nloglik@1.5:0.63103\ttest-tweedie-nloglik@1.5:0.96304\n",
      "[9]\ttrain-tweedie-nloglik@1.5:0.61977\ttest-tweedie-nloglik@1.5:0.99699\n",
      "[0]\ttrain-tweedie-nloglik@1.5:1.32189\ttest-tweedie-nloglik@1.5:1.34885\n",
      "[1]\ttrain-tweedie-nloglik@1.5:1.08470\ttest-tweedie-nloglik@1.5:1.15722\n",
      "[2]\ttrain-tweedie-nloglik@1.5:0.91826\ttest-tweedie-nloglik@1.5:1.03361\n",
      "[3]\ttrain-tweedie-nloglik@1.5:0.80320\ttest-tweedie-nloglik@1.5:0.96518\n",
      "[4]\ttrain-tweedie-nloglik@1.5:0.72523\ttest-tweedie-nloglik@1.5:0.93820\n",
      "[5]\ttrain-tweedie-nloglik@1.5:0.67297\ttest-tweedie-nloglik@1.5:0.92493\n",
      "[6]\ttrain-tweedie-nloglik@1.5:0.63765\ttest-tweedie-nloglik@1.5:0.92710\n",
      "[7]\ttrain-tweedie-nloglik@1.5:0.61487\ttest-tweedie-nloglik@1.5:0.95017\n",
      "[8]\ttrain-tweedie-nloglik@1.5:0.59706\ttest-tweedie-nloglik@1.5:0.94803\n",
      "[9]\ttrain-tweedie-nloglik@1.5:0.58610\ttest-tweedie-nloglik@1.5:0.95210\n",
      "[0]\ttrain-tweedie-nloglik@1.5:1.26263\ttest-tweedie-nloglik@1.5:1.34858\n",
      "[1]\ttrain-tweedie-nloglik@1.5:1.03611\ttest-tweedie-nloglik@1.5:1.15696\n",
      "[2]\ttrain-tweedie-nloglik@1.5:0.87664\ttest-tweedie-nloglik@1.5:1.03821\n",
      "[3]\ttrain-tweedie-nloglik@1.5:0.76568\ttest-tweedie-nloglik@1.5:0.96611\n",
      "[4]\ttrain-tweedie-nloglik@1.5:0.68712\ttest-tweedie-nloglik@1.5:0.92417\n",
      "[5]\ttrain-tweedie-nloglik@1.5:0.63619\ttest-tweedie-nloglik@1.5:0.91232\n"
     ]
    },
    {
     "name": "stderr",
     "output_type": "stream",
     "text": [
      "/home/jyang4/miniconda3/envs/ProtTP/lib/python3.9/site-packages/xgboost/core.py:105: UserWarning: ntree_limit is deprecated, use `iteration_range` or model slicing instead.\n",
      "  warnings.warn(\n",
      "/home/jyang4/miniconda3/envs/ProtTP/lib/python3.9/site-packages/xgboost/core.py:105: UserWarning: ntree_limit is deprecated, use `iteration_range` or model slicing instead.\n",
      "  warnings.warn(\n"
     ]
    },
    {
     "name": "stdout",
     "output_type": "stream",
     "text": [
      "[6]\ttrain-tweedie-nloglik@1.5:0.60297\ttest-tweedie-nloglik@1.5:0.90927\n",
      "[7]\ttrain-tweedie-nloglik@1.5:0.57934\ttest-tweedie-nloglik@1.5:0.91245\n",
      "[8]\ttrain-tweedie-nloglik@1.5:0.56366\ttest-tweedie-nloglik@1.5:0.92758\n",
      "[9]\ttrain-tweedie-nloglik@1.5:0.55453\ttest-tweedie-nloglik@1.5:0.92943\n",
      "[0]\ttrain-tweedie-nloglik@1.5:1.33949\ttest-tweedie-nloglik@1.5:1.34592\n",
      "[1]\ttrain-tweedie-nloglik@1.5:1.09996\ttest-tweedie-nloglik@1.5:1.15619\n",
      "[2]\ttrain-tweedie-nloglik@1.5:0.93066\ttest-tweedie-nloglik@1.5:1.03859\n",
      "[3]\ttrain-tweedie-nloglik@1.5:0.81298\ttest-tweedie-nloglik@1.5:0.96713\n",
      "[4]\ttrain-tweedie-nloglik@1.5:0.73085\ttest-tweedie-nloglik@1.5:0.93749\n",
      "[5]\ttrain-tweedie-nloglik@1.5:0.67669\ttest-tweedie-nloglik@1.5:0.93237\n",
      "[6]\ttrain-tweedie-nloglik@1.5:0.64192\ttest-tweedie-nloglik@1.5:0.94519\n",
      "[7]\ttrain-tweedie-nloglik@1.5:0.61683\ttest-tweedie-nloglik@1.5:0.94431\n",
      "[8]\ttrain-tweedie-nloglik@1.5:0.60137\ttest-tweedie-nloglik@1.5:0.95248\n",
      "[9]\ttrain-tweedie-nloglik@1.5:0.58980\ttest-tweedie-nloglik@1.5:0.95651\n",
      "[0]\ttrain-tweedie-nloglik@1.5:1.29588\ttest-tweedie-nloglik@1.5:1.35264\n",
      "[1]\ttrain-tweedie-nloglik@1.5:1.06206\ttest-tweedie-nloglik@1.5:1.16458\n",
      "[2]\ttrain-tweedie-nloglik@1.5:0.89735\ttest-tweedie-nloglik@1.5:1.05210\n",
      "[3]\ttrain-tweedie-nloglik@1.5:0.78248\ttest-tweedie-nloglik@1.5:0.98687\n",
      "[4]\ttrain-tweedie-nloglik@1.5:0.70430\ttest-tweedie-nloglik@1.5:0.95303\n",
      "[5]\ttrain-tweedie-nloglik@1.5:0.64913\ttest-tweedie-nloglik@1.5:0.94007\n"
     ]
    },
    {
     "name": "stderr",
     "output_type": "stream",
     "text": [
      "/home/jyang4/miniconda3/envs/ProtTP/lib/python3.9/site-packages/xgboost/core.py:105: UserWarning: ntree_limit is deprecated, use `iteration_range` or model slicing instead.\n",
      "  warnings.warn(\n",
      "/home/jyang4/miniconda3/envs/ProtTP/lib/python3.9/site-packages/xgboost/core.py:105: UserWarning: ntree_limit is deprecated, use `iteration_range` or model slicing instead.\n",
      "  warnings.warn(\n"
     ]
    },
    {
     "name": "stdout",
     "output_type": "stream",
     "text": [
      "[6]\ttrain-tweedie-nloglik@1.5:0.61342\ttest-tweedie-nloglik@1.5:0.94451\n",
      "[7]\ttrain-tweedie-nloglik@1.5:0.59017\ttest-tweedie-nloglik@1.5:0.95820\n",
      "[8]\ttrain-tweedie-nloglik@1.5:0.57388\ttest-tweedie-nloglik@1.5:0.96503\n",
      "[9]\ttrain-tweedie-nloglik@1.5:0.56371\ttest-tweedie-nloglik@1.5:0.97907\n",
      "[0]\ttrain-tweedie-nloglik@1.5:1.22606\ttest-tweedie-nloglik@1.5:1.35440\n",
      "[1]\ttrain-tweedie-nloglik@1.5:1.00286\ttest-tweedie-nloglik@1.5:1.16985\n",
      "[2]\ttrain-tweedie-nloglik@1.5:0.84503\ttest-tweedie-nloglik@1.5:1.05390\n",
      "[3]\ttrain-tweedie-nloglik@1.5:0.73497\ttest-tweedie-nloglik@1.5:0.98395\n",
      "[4]\ttrain-tweedie-nloglik@1.5:0.66089\ttest-tweedie-nloglik@1.5:0.94701\n",
      "[5]\ttrain-tweedie-nloglik@1.5:0.60828\ttest-tweedie-nloglik@1.5:0.92819\n",
      "[6]\ttrain-tweedie-nloglik@1.5:0.57416\ttest-tweedie-nloglik@1.5:0.93660\n",
      "[7]\ttrain-tweedie-nloglik@1.5:0.55271\ttest-tweedie-nloglik@1.5:0.94787\n",
      "[8]\ttrain-tweedie-nloglik@1.5:0.53825\ttest-tweedie-nloglik@1.5:0.94926\n",
      "[9]\ttrain-tweedie-nloglik@1.5:0.52628\ttest-tweedie-nloglik@1.5:0.96189\n",
      "[0]\ttrain-tweedie-nloglik@1.5:1.45881\ttest-tweedie-nloglik@1.5:1.34559\n",
      "[1]\ttrain-tweedie-nloglik@1.5:1.21840\ttest-tweedie-nloglik@1.5:1.14602\n",
      "[2]\ttrain-tweedie-nloglik@1.5:1.04879\ttest-tweedie-nloglik@1.5:1.01896\n",
      "[3]\ttrain-tweedie-nloglik@1.5:0.93059\ttest-tweedie-nloglik@1.5:0.94342\n",
      "[4]\ttrain-tweedie-nloglik@1.5:0.84971\ttest-tweedie-nloglik@1.5:0.89835\n",
      "[5]\ttrain-tweedie-nloglik@1.5:0.79830\ttest-tweedie-nloglik@1.5:0.87380\n"
     ]
    },
    {
     "name": "stderr",
     "output_type": "stream",
     "text": [
      "/home/jyang4/miniconda3/envs/ProtTP/lib/python3.9/site-packages/xgboost/core.py:105: UserWarning: ntree_limit is deprecated, use `iteration_range` or model slicing instead.\n",
      "  warnings.warn(\n",
      "/home/jyang4/miniconda3/envs/ProtTP/lib/python3.9/site-packages/xgboost/core.py:105: UserWarning: ntree_limit is deprecated, use `iteration_range` or model slicing instead.\n",
      "  warnings.warn(\n"
     ]
    },
    {
     "name": "stdout",
     "output_type": "stream",
     "text": [
      "[6]\ttrain-tweedie-nloglik@1.5:0.76474\ttest-tweedie-nloglik@1.5:0.86165\n",
      "[7]\ttrain-tweedie-nloglik@1.5:0.73814\ttest-tweedie-nloglik@1.5:0.85877\n",
      "[8]\ttrain-tweedie-nloglik@1.5:0.71787\ttest-tweedie-nloglik@1.5:0.86707\n",
      "[9]\ttrain-tweedie-nloglik@1.5:0.70451\ttest-tweedie-nloglik@1.5:0.86512\n",
      "[0]\ttrain-tweedie-nloglik@1.5:1.36348\ttest-tweedie-nloglik@1.5:1.35072\n",
      "[1]\ttrain-tweedie-nloglik@1.5:1.13394\ttest-tweedie-nloglik@1.5:1.16513\n",
      "[2]\ttrain-tweedie-nloglik@1.5:0.96660\ttest-tweedie-nloglik@1.5:1.04144\n",
      "[3]\ttrain-tweedie-nloglik@1.5:0.84752\ttest-tweedie-nloglik@1.5:0.96820\n",
      "[4]\ttrain-tweedie-nloglik@1.5:0.76688\ttest-tweedie-nloglik@1.5:0.93373\n",
      "[5]\ttrain-tweedie-nloglik@1.5:0.70898\ttest-tweedie-nloglik@1.5:0.91343\n",
      "[6]\ttrain-tweedie-nloglik@1.5:0.67273\ttest-tweedie-nloglik@1.5:0.91051\n",
      "[7]\ttrain-tweedie-nloglik@1.5:0.64911\ttest-tweedie-nloglik@1.5:0.91324\n",
      "[8]\ttrain-tweedie-nloglik@1.5:0.63267\ttest-tweedie-nloglik@1.5:0.92711\n",
      "[9]\ttrain-tweedie-nloglik@1.5:0.62246\ttest-tweedie-nloglik@1.5:0.92855\n",
      "[0]\ttrain-tweedie-nloglik@1.5:1.37908\ttest-tweedie-nloglik@1.5:1.35933\n",
      "[1]\ttrain-tweedie-nloglik@1.5:1.14548\ttest-tweedie-nloglik@1.5:1.17092\n",
      "[2]\ttrain-tweedie-nloglik@1.5:0.98082\ttest-tweedie-nloglik@1.5:1.04525\n",
      "[3]\ttrain-tweedie-nloglik@1.5:0.86439\ttest-tweedie-nloglik@1.5:0.97068\n",
      "[4]\ttrain-tweedie-nloglik@1.5:0.78689\ttest-tweedie-nloglik@1.5:0.92605\n",
      "[5]\ttrain-tweedie-nloglik@1.5:0.73298\ttest-tweedie-nloglik@1.5:0.91113\n"
     ]
    },
    {
     "name": "stderr",
     "output_type": "stream",
     "text": [
      "/home/jyang4/miniconda3/envs/ProtTP/lib/python3.9/site-packages/xgboost/core.py:105: UserWarning: ntree_limit is deprecated, use `iteration_range` or model slicing instead.\n",
      "  warnings.warn(\n",
      "/home/jyang4/miniconda3/envs/ProtTP/lib/python3.9/site-packages/xgboost/core.py:105: UserWarning: ntree_limit is deprecated, use `iteration_range` or model slicing instead.\n",
      "  warnings.warn(\n"
     ]
    },
    {
     "name": "stdout",
     "output_type": "stream",
     "text": [
      "[6]\ttrain-tweedie-nloglik@1.5:0.69699\ttest-tweedie-nloglik@1.5:0.90088\n",
      "[7]\ttrain-tweedie-nloglik@1.5:0.67360\ttest-tweedie-nloglik@1.5:0.89756\n",
      "[8]\ttrain-tweedie-nloglik@1.5:0.65603\ttest-tweedie-nloglik@1.5:0.90979\n",
      "[9]\ttrain-tweedie-nloglik@1.5:0.64432\ttest-tweedie-nloglik@1.5:0.91789\n",
      "[0]\ttrain-tweedie-nloglik@1.5:1.29116\ttest-tweedie-nloglik@1.5:1.35378\n",
      "[1]\ttrain-tweedie-nloglik@1.5:1.06266\ttest-tweedie-nloglik@1.5:1.16065\n",
      "[2]\ttrain-tweedie-nloglik@1.5:0.90078\ttest-tweedie-nloglik@1.5:1.03628\n",
      "[3]\ttrain-tweedie-nloglik@1.5:0.78288\ttest-tweedie-nloglik@1.5:0.95419\n",
      "[4]\ttrain-tweedie-nloglik@1.5:0.70055\ttest-tweedie-nloglik@1.5:0.91750\n",
      "[5]\ttrain-tweedie-nloglik@1.5:0.64473\ttest-tweedie-nloglik@1.5:0.90098\n",
      "[6]\ttrain-tweedie-nloglik@1.5:0.60889\ttest-tweedie-nloglik@1.5:0.89342\n",
      "[7]\ttrain-tweedie-nloglik@1.5:0.58402\ttest-tweedie-nloglik@1.5:0.90209\n",
      "[8]\ttrain-tweedie-nloglik@1.5:0.56953\ttest-tweedie-nloglik@1.5:0.90957\n",
      "[9]\ttrain-tweedie-nloglik@1.5:0.55937\ttest-tweedie-nloglik@1.5:0.92107\n",
      "[0]\ttrain-tweedie-nloglik@1.5:1.27276\ttest-tweedie-nloglik@1.5:1.35760\n",
      "[1]\ttrain-tweedie-nloglik@1.5:1.04366\ttest-tweedie-nloglik@1.5:1.17503\n",
      "[2]\ttrain-tweedie-nloglik@1.5:0.88120\ttest-tweedie-nloglik@1.5:1.05788\n",
      "[3]\ttrain-tweedie-nloglik@1.5:0.76834\ttest-tweedie-nloglik@1.5:0.98235\n",
      "[4]\ttrain-tweedie-nloglik@1.5:0.68964\ttest-tweedie-nloglik@1.5:0.94897\n"
     ]
    },
    {
     "name": "stderr",
     "output_type": "stream",
     "text": [
      "/home/jyang4/miniconda3/envs/ProtTP/lib/python3.9/site-packages/xgboost/core.py:105: UserWarning: ntree_limit is deprecated, use `iteration_range` or model slicing instead.\n",
      "  warnings.warn(\n",
      "/home/jyang4/miniconda3/envs/ProtTP/lib/python3.9/site-packages/xgboost/core.py:105: UserWarning: ntree_limit is deprecated, use `iteration_range` or model slicing instead.\n",
      "  warnings.warn(\n"
     ]
    },
    {
     "name": "stdout",
     "output_type": "stream",
     "text": [
      "[5]\ttrain-tweedie-nloglik@1.5:0.63310\ttest-tweedie-nloglik@1.5:0.93822\n",
      "[6]\ttrain-tweedie-nloglik@1.5:0.59190\ttest-tweedie-nloglik@1.5:0.93753\n",
      "[7]\ttrain-tweedie-nloglik@1.5:0.56668\ttest-tweedie-nloglik@1.5:0.95972\n",
      "[8]\ttrain-tweedie-nloglik@1.5:0.54822\ttest-tweedie-nloglik@1.5:0.97602\n",
      "[9]\ttrain-tweedie-nloglik@1.5:0.53635\ttest-tweedie-nloglik@1.5:0.99706\n",
      "[0]\ttrain-tweedie-nloglik@1.5:1.29130\ttest-tweedie-nloglik@1.5:1.35787\n",
      "[1]\ttrain-tweedie-nloglik@1.5:1.05261\ttest-tweedie-nloglik@1.5:1.17663\n",
      "[2]\ttrain-tweedie-nloglik@1.5:0.88460\ttest-tweedie-nloglik@1.5:1.06153\n",
      "[3]\ttrain-tweedie-nloglik@1.5:0.76314\ttest-tweedie-nloglik@1.5:0.98547\n",
      "[4]\ttrain-tweedie-nloglik@1.5:0.68255\ttest-tweedie-nloglik@1.5:0.95168\n",
      "[5]\ttrain-tweedie-nloglik@1.5:0.62457\ttest-tweedie-nloglik@1.5:0.94452\n",
      "[6]\ttrain-tweedie-nloglik@1.5:0.58549\ttest-tweedie-nloglik@1.5:0.95016\n",
      "[7]\ttrain-tweedie-nloglik@1.5:0.56003\ttest-tweedie-nloglik@1.5:0.96009\n",
      "[8]\ttrain-tweedie-nloglik@1.5:0.54348\ttest-tweedie-nloglik@1.5:0.98035\n",
      "[9]\ttrain-tweedie-nloglik@1.5:0.53260\ttest-tweedie-nloglik@1.5:0.99718\n",
      "[0]\ttrain-tweedie-nloglik@1.5:1.34342\ttest-tweedie-nloglik@1.5:1.35285\n",
      "[1]\ttrain-tweedie-nloglik@1.5:1.11355\ttest-tweedie-nloglik@1.5:1.16460\n",
      "[2]\ttrain-tweedie-nloglik@1.5:0.94952\ttest-tweedie-nloglik@1.5:1.02945\n",
      "[3]\ttrain-tweedie-nloglik@1.5:0.82718\ttest-tweedie-nloglik@1.5:0.94034\n",
      "[4]\ttrain-tweedie-nloglik@1.5:0.74210\ttest-tweedie-nloglik@1.5:0.89626\n",
      "[5]\ttrain-tweedie-nloglik@1.5:0.68255\ttest-tweedie-nloglik@1.5:0.86554\n"
     ]
    },
    {
     "name": "stderr",
     "output_type": "stream",
     "text": [
      "/home/jyang4/miniconda3/envs/ProtTP/lib/python3.9/site-packages/xgboost/core.py:105: UserWarning: ntree_limit is deprecated, use `iteration_range` or model slicing instead.\n",
      "  warnings.warn(\n",
      "/home/jyang4/miniconda3/envs/ProtTP/lib/python3.9/site-packages/xgboost/core.py:105: UserWarning: ntree_limit is deprecated, use `iteration_range` or model slicing instead.\n",
      "  warnings.warn(\n"
     ]
    },
    {
     "name": "stdout",
     "output_type": "stream",
     "text": [
      "[6]\ttrain-tweedie-nloglik@1.5:0.64755\ttest-tweedie-nloglik@1.5:0.85949\n",
      "[7]\ttrain-tweedie-nloglik@1.5:0.61772\ttest-tweedie-nloglik@1.5:0.85256\n",
      "[8]\ttrain-tweedie-nloglik@1.5:0.60014\ttest-tweedie-nloglik@1.5:0.85055\n",
      "[9]\ttrain-tweedie-nloglik@1.5:0.58917\ttest-tweedie-nloglik@1.5:0.86047\n",
      "[0]\ttrain-tweedie-nloglik@1.5:1.29708\ttest-tweedie-nloglik@1.5:1.35326\n",
      "[1]\ttrain-tweedie-nloglik@1.5:1.06590\ttest-tweedie-nloglik@1.5:1.15327\n",
      "[2]\ttrain-tweedie-nloglik@1.5:0.90315\ttest-tweedie-nloglik@1.5:1.02665\n",
      "[3]\ttrain-tweedie-nloglik@1.5:0.79202\ttest-tweedie-nloglik@1.5:0.95052\n",
      "[4]\ttrain-tweedie-nloglik@1.5:0.71665\ttest-tweedie-nloglik@1.5:0.91736\n",
      "[5]\ttrain-tweedie-nloglik@1.5:0.66523\ttest-tweedie-nloglik@1.5:0.89714\n",
      "[6]\ttrain-tweedie-nloglik@1.5:0.62930\ttest-tweedie-nloglik@1.5:0.89633\n",
      "[7]\ttrain-tweedie-nloglik@1.5:0.60252\ttest-tweedie-nloglik@1.5:0.90267\n",
      "[8]\ttrain-tweedie-nloglik@1.5:0.58499\ttest-tweedie-nloglik@1.5:0.90866\n",
      "[9]\ttrain-tweedie-nloglik@1.5:0.57341\ttest-tweedie-nloglik@1.5:0.91698\n",
      "[0]\ttrain-tweedie-nloglik@1.5:1.32199\ttest-tweedie-nloglik@1.5:1.37274\n",
      "[1]\ttrain-tweedie-nloglik@1.5:1.08523\ttest-tweedie-nloglik@1.5:1.18019\n",
      "[2]\ttrain-tweedie-nloglik@1.5:0.92645\ttest-tweedie-nloglik@1.5:1.05166\n",
      "[3]\ttrain-tweedie-nloglik@1.5:0.80746\ttest-tweedie-nloglik@1.5:0.96804\n",
      "[4]\ttrain-tweedie-nloglik@1.5:0.72167\ttest-tweedie-nloglik@1.5:0.93435\n",
      "[5]\ttrain-tweedie-nloglik@1.5:0.66314\ttest-tweedie-nloglik@1.5:0.92027\n",
      "[6]\ttrain-tweedie-nloglik@1.5:0.62513\ttest-tweedie-nloglik@1.5:0.92964\n"
     ]
    },
    {
     "name": "stderr",
     "output_type": "stream",
     "text": [
      "/home/jyang4/miniconda3/envs/ProtTP/lib/python3.9/site-packages/xgboost/core.py:105: UserWarning: ntree_limit is deprecated, use `iteration_range` or model slicing instead.\n",
      "  warnings.warn(\n",
      "/home/jyang4/miniconda3/envs/ProtTP/lib/python3.9/site-packages/xgboost/core.py:105: UserWarning: ntree_limit is deprecated, use `iteration_range` or model slicing instead.\n",
      "  warnings.warn(\n"
     ]
    },
    {
     "name": "stdout",
     "output_type": "stream",
     "text": [
      "[7]\ttrain-tweedie-nloglik@1.5:0.59891\ttest-tweedie-nloglik@1.5:0.93408\n",
      "[8]\ttrain-tweedie-nloglik@1.5:0.57934\ttest-tweedie-nloglik@1.5:0.94939\n",
      "[9]\ttrain-tweedie-nloglik@1.5:0.56646\ttest-tweedie-nloglik@1.5:0.96617\n",
      "[0]\ttrain-tweedie-nloglik@1.5:1.24668\ttest-tweedie-nloglik@1.5:1.34122\n",
      "[1]\ttrain-tweedie-nloglik@1.5:1.01122\ttest-tweedie-nloglik@1.5:1.14571\n",
      "[2]\ttrain-tweedie-nloglik@1.5:0.84491\ttest-tweedie-nloglik@1.5:1.02078\n",
      "[3]\ttrain-tweedie-nloglik@1.5:0.72663\ttest-tweedie-nloglik@1.5:0.95285\n",
      "[4]\ttrain-tweedie-nloglik@1.5:0.64581\ttest-tweedie-nloglik@1.5:0.92103\n",
      "[5]\ttrain-tweedie-nloglik@1.5:0.58920\ttest-tweedie-nloglik@1.5:0.91401\n",
      "[6]\ttrain-tweedie-nloglik@1.5:0.55313\ttest-tweedie-nloglik@1.5:0.92667\n",
      "[7]\ttrain-tweedie-nloglik@1.5:0.53086\ttest-tweedie-nloglik@1.5:0.94652\n",
      "[8]\ttrain-tweedie-nloglik@1.5:0.51547\ttest-tweedie-nloglik@1.5:0.95958\n",
      "[9]\ttrain-tweedie-nloglik@1.5:0.50572\ttest-tweedie-nloglik@1.5:0.97247\n",
      "[0]\ttrain-tweedie-nloglik@1.5:1.23003\ttest-tweedie-nloglik@1.5:1.35546\n",
      "[1]\ttrain-tweedie-nloglik@1.5:0.99771\ttest-tweedie-nloglik@1.5:1.17442\n",
      "[2]\ttrain-tweedie-nloglik@1.5:0.83442\ttest-tweedie-nloglik@1.5:1.04523\n",
      "[3]\ttrain-tweedie-nloglik@1.5:0.72000\ttest-tweedie-nloglik@1.5:0.97581\n",
      "[4]\ttrain-tweedie-nloglik@1.5:0.64102\ttest-tweedie-nloglik@1.5:0.93951\n",
      "[5]\ttrain-tweedie-nloglik@1.5:0.58490\ttest-tweedie-nloglik@1.5:0.93461\n"
     ]
    },
    {
     "name": "stderr",
     "output_type": "stream",
     "text": [
      "/home/jyang4/miniconda3/envs/ProtTP/lib/python3.9/site-packages/xgboost/core.py:105: UserWarning: ntree_limit is deprecated, use `iteration_range` or model slicing instead.\n",
      "  warnings.warn(\n",
      "/home/jyang4/miniconda3/envs/ProtTP/lib/python3.9/site-packages/xgboost/core.py:105: UserWarning: ntree_limit is deprecated, use `iteration_range` or model slicing instead.\n",
      "  warnings.warn(\n"
     ]
    },
    {
     "name": "stdout",
     "output_type": "stream",
     "text": [
      "[6]\ttrain-tweedie-nloglik@1.5:0.54628\ttest-tweedie-nloglik@1.5:0.93159\n",
      "[7]\ttrain-tweedie-nloglik@1.5:0.52319\ttest-tweedie-nloglik@1.5:0.92605\n",
      "[8]\ttrain-tweedie-nloglik@1.5:0.50697\ttest-tweedie-nloglik@1.5:0.92434\n",
      "[9]\ttrain-tweedie-nloglik@1.5:0.49752\ttest-tweedie-nloglik@1.5:0.93023\n",
      "[0]\ttrain-tweedie-nloglik@1.5:1.21923\ttest-tweedie-nloglik@1.5:1.35074\n",
      "[1]\ttrain-tweedie-nloglik@1.5:0.98243\ttest-tweedie-nloglik@1.5:1.16253\n",
      "[2]\ttrain-tweedie-nloglik@1.5:0.81497\ttest-tweedie-nloglik@1.5:1.04895\n",
      "[3]\ttrain-tweedie-nloglik@1.5:0.70096\ttest-tweedie-nloglik@1.5:0.98712\n",
      "[4]\ttrain-tweedie-nloglik@1.5:0.62419\ttest-tweedie-nloglik@1.5:0.96332\n",
      "[5]\ttrain-tweedie-nloglik@1.5:0.57097\ttest-tweedie-nloglik@1.5:0.96550\n",
      "[6]\ttrain-tweedie-nloglik@1.5:0.53598\ttest-tweedie-nloglik@1.5:0.97956\n",
      "[7]\ttrain-tweedie-nloglik@1.5:0.51298\ttest-tweedie-nloglik@1.5:1.00539\n",
      "[8]\ttrain-tweedie-nloglik@1.5:0.49796\ttest-tweedie-nloglik@1.5:1.02002\n",
      "[9]\ttrain-tweedie-nloglik@1.5:0.48925\ttest-tweedie-nloglik@1.5:1.03583\n",
      "[0]\ttrain-tweedie-nloglik@1.5:1.29283\ttest-tweedie-nloglik@1.5:1.34607\n",
      "[1]\ttrain-tweedie-nloglik@1.5:1.05863\ttest-tweedie-nloglik@1.5:1.14819\n",
      "[2]\ttrain-tweedie-nloglik@1.5:0.89141\ttest-tweedie-nloglik@1.5:1.01694\n",
      "[3]\ttrain-tweedie-nloglik@1.5:0.77495\ttest-tweedie-nloglik@1.5:0.94098\n",
      "[4]\ttrain-tweedie-nloglik@1.5:0.69232\ttest-tweedie-nloglik@1.5:0.90621\n",
      "[5]\ttrain-tweedie-nloglik@1.5:0.63839\ttest-tweedie-nloglik@1.5:0.89681\n",
      "[6]\ttrain-tweedie-nloglik@1.5:0.60173\ttest-tweedie-nloglik@1.5:0.90904\n"
     ]
    },
    {
     "name": "stderr",
     "output_type": "stream",
     "text": [
      "/home/jyang4/miniconda3/envs/ProtTP/lib/python3.9/site-packages/xgboost/core.py:105: UserWarning: ntree_limit is deprecated, use `iteration_range` or model slicing instead.\n",
      "  warnings.warn(\n",
      "/home/jyang4/miniconda3/envs/ProtTP/lib/python3.9/site-packages/xgboost/core.py:105: UserWarning: ntree_limit is deprecated, use `iteration_range` or model slicing instead.\n",
      "  warnings.warn(\n"
     ]
    },
    {
     "name": "stdout",
     "output_type": "stream",
     "text": [
      "[7]\ttrain-tweedie-nloglik@1.5:0.57777\ttest-tweedie-nloglik@1.5:0.92931\n",
      "[8]\ttrain-tweedie-nloglik@1.5:0.56262\ttest-tweedie-nloglik@1.5:0.95918\n",
      "[9]\ttrain-tweedie-nloglik@1.5:0.55354\ttest-tweedie-nloglik@1.5:0.97338\n",
      "[0]\ttrain-tweedie-nloglik@1.5:1.45576\ttest-tweedie-nloglik@1.5:1.35459\n",
      "[1]\ttrain-tweedie-nloglik@1.5:1.23107\ttest-tweedie-nloglik@1.5:1.16682\n",
      "[2]\ttrain-tweedie-nloglik@1.5:1.07122\ttest-tweedie-nloglik@1.5:1.04397\n",
      "[3]\ttrain-tweedie-nloglik@1.5:0.96036\ttest-tweedie-nloglik@1.5:0.96263\n",
      "[4]\ttrain-tweedie-nloglik@1.5:0.88522\ttest-tweedie-nloglik@1.5:0.91594\n",
      "[5]\ttrain-tweedie-nloglik@1.5:0.83348\ttest-tweedie-nloglik@1.5:0.89688\n",
      "[6]\ttrain-tweedie-nloglik@1.5:0.79651\ttest-tweedie-nloglik@1.5:0.88696\n",
      "[7]\ttrain-tweedie-nloglik@1.5:0.76892\ttest-tweedie-nloglik@1.5:0.89096\n",
      "[8]\ttrain-tweedie-nloglik@1.5:0.75111\ttest-tweedie-nloglik@1.5:0.88885\n",
      "[9]\ttrain-tweedie-nloglik@1.5:0.73842\ttest-tweedie-nloglik@1.5:0.89692\n",
      "[0]\ttrain-tweedie-nloglik@1.5:1.28783\ttest-tweedie-nloglik@1.5:1.35224\n",
      "[1]\ttrain-tweedie-nloglik@1.5:1.05433\ttest-tweedie-nloglik@1.5:1.16038\n",
      "[2]\ttrain-tweedie-nloglik@1.5:0.88836\ttest-tweedie-nloglik@1.5:1.03292\n",
      "[3]\ttrain-tweedie-nloglik@1.5:0.77266\ttest-tweedie-nloglik@1.5:0.95576\n",
      "[4]\ttrain-tweedie-nloglik@1.5:0.68908\ttest-tweedie-nloglik@1.5:0.90885\n",
      "[5]\ttrain-tweedie-nloglik@1.5:0.63478\ttest-tweedie-nloglik@1.5:0.89519\n"
     ]
    },
    {
     "name": "stderr",
     "output_type": "stream",
     "text": [
      "/home/jyang4/miniconda3/envs/ProtTP/lib/python3.9/site-packages/xgboost/core.py:105: UserWarning: ntree_limit is deprecated, use `iteration_range` or model slicing instead.\n",
      "  warnings.warn(\n",
      "/home/jyang4/miniconda3/envs/ProtTP/lib/python3.9/site-packages/xgboost/core.py:105: UserWarning: ntree_limit is deprecated, use `iteration_range` or model slicing instead.\n",
      "  warnings.warn(\n"
     ]
    },
    {
     "name": "stdout",
     "output_type": "stream",
     "text": [
      "[6]\ttrain-tweedie-nloglik@1.5:0.59695\ttest-tweedie-nloglik@1.5:0.88782\n",
      "[7]\ttrain-tweedie-nloglik@1.5:0.57171\ttest-tweedie-nloglik@1.5:0.88687\n",
      "[8]\ttrain-tweedie-nloglik@1.5:0.55493\ttest-tweedie-nloglik@1.5:0.89355\n",
      "[9]\ttrain-tweedie-nloglik@1.5:0.54496\ttest-tweedie-nloglik@1.5:0.89739\n",
      "[0]\ttrain-tweedie-nloglik@1.5:1.33334\ttest-tweedie-nloglik@1.5:1.34807\n",
      "[1]\ttrain-tweedie-nloglik@1.5:1.11021\ttest-tweedie-nloglik@1.5:1.15277\n",
      "[2]\ttrain-tweedie-nloglik@1.5:0.95167\ttest-tweedie-nloglik@1.5:1.01958\n",
      "[3]\ttrain-tweedie-nloglik@1.5:0.84024\ttest-tweedie-nloglik@1.5:0.94115\n",
      "[4]\ttrain-tweedie-nloglik@1.5:0.76138\ttest-tweedie-nloglik@1.5:0.89313\n",
      "[5]\ttrain-tweedie-nloglik@1.5:0.70540\ttest-tweedie-nloglik@1.5:0.86410\n",
      "[6]\ttrain-tweedie-nloglik@1.5:0.66988\ttest-tweedie-nloglik@1.5:0.85388\n",
      "[7]\ttrain-tweedie-nloglik@1.5:0.64474\ttest-tweedie-nloglik@1.5:0.84974\n",
      "[8]\ttrain-tweedie-nloglik@1.5:0.62839\ttest-tweedie-nloglik@1.5:0.85430\n",
      "[9]\ttrain-tweedie-nloglik@1.5:0.61826\ttest-tweedie-nloglik@1.5:0.86260\n",
      "[0]\ttrain-tweedie-nloglik@1.5:1.26035\ttest-tweedie-nloglik@1.5:1.34934\n",
      "[1]\ttrain-tweedie-nloglik@1.5:1.02438\ttest-tweedie-nloglik@1.5:1.16162\n",
      "[2]\ttrain-tweedie-nloglik@1.5:0.85672\ttest-tweedie-nloglik@1.5:1.03888\n",
      "[3]\ttrain-tweedie-nloglik@1.5:0.73862\ttest-tweedie-nloglik@1.5:0.97120\n",
      "[4]\ttrain-tweedie-nloglik@1.5:0.65743\ttest-tweedie-nloglik@1.5:0.93691\n",
      "[5]\ttrain-tweedie-nloglik@1.5:0.60111\ttest-tweedie-nloglik@1.5:0.93238\n"
     ]
    },
    {
     "name": "stderr",
     "output_type": "stream",
     "text": [
      "/home/jyang4/miniconda3/envs/ProtTP/lib/python3.9/site-packages/xgboost/core.py:105: UserWarning: ntree_limit is deprecated, use `iteration_range` or model slicing instead.\n",
      "  warnings.warn(\n",
      "/home/jyang4/miniconda3/envs/ProtTP/lib/python3.9/site-packages/xgboost/core.py:105: UserWarning: ntree_limit is deprecated, use `iteration_range` or model slicing instead.\n",
      "  warnings.warn(\n"
     ]
    },
    {
     "name": "stdout",
     "output_type": "stream",
     "text": [
      "[6]\ttrain-tweedie-nloglik@1.5:0.56233\ttest-tweedie-nloglik@1.5:0.92708\n",
      "[7]\ttrain-tweedie-nloglik@1.5:0.53865\ttest-tweedie-nloglik@1.5:0.95278\n",
      "[8]\ttrain-tweedie-nloglik@1.5:0.52228\ttest-tweedie-nloglik@1.5:0.97171\n",
      "[9]\ttrain-tweedie-nloglik@1.5:0.51052\ttest-tweedie-nloglik@1.5:0.99613\n",
      "[0]\ttrain-tweedie-nloglik@1.5:1.35168\ttest-tweedie-nloglik@1.5:1.34738\n",
      "[1]\ttrain-tweedie-nloglik@1.5:1.12828\ttest-tweedie-nloglik@1.5:1.15612\n",
      "[2]\ttrain-tweedie-nloglik@1.5:0.97014\ttest-tweedie-nloglik@1.5:1.02982\n",
      "[3]\ttrain-tweedie-nloglik@1.5:0.85598\ttest-tweedie-nloglik@1.5:0.95282\n",
      "[4]\ttrain-tweedie-nloglik@1.5:0.77491\ttest-tweedie-nloglik@1.5:0.90977\n",
      "[5]\ttrain-tweedie-nloglik@1.5:0.72178\ttest-tweedie-nloglik@1.5:0.88094\n",
      "[6]\ttrain-tweedie-nloglik@1.5:0.68614\ttest-tweedie-nloglik@1.5:0.87431\n",
      "[7]\ttrain-tweedie-nloglik@1.5:0.66385\ttest-tweedie-nloglik@1.5:0.86436\n",
      "[8]\ttrain-tweedie-nloglik@1.5:0.65135\ttest-tweedie-nloglik@1.5:0.86218\n",
      "[9]\ttrain-tweedie-nloglik@1.5:0.63752\ttest-tweedie-nloglik@1.5:0.86537\n",
      "[0]\ttrain-tweedie-nloglik@1.5:1.28090\ttest-tweedie-nloglik@1.5:1.35271\n",
      "[1]\ttrain-tweedie-nloglik@1.5:1.05467\ttest-tweedie-nloglik@1.5:1.16601\n",
      "[2]\ttrain-tweedie-nloglik@1.5:0.89485\ttest-tweedie-nloglik@1.5:1.04250\n",
      "[3]\ttrain-tweedie-nloglik@1.5:0.78259\ttest-tweedie-nloglik@1.5:0.96189\n",
      "[4]\ttrain-tweedie-nloglik@1.5:0.70176\ttest-tweedie-nloglik@1.5:0.91807\n",
      "[5]\ttrain-tweedie-nloglik@1.5:0.64589\ttest-tweedie-nloglik@1.5:0.89534\n"
     ]
    },
    {
     "name": "stderr",
     "output_type": "stream",
     "text": [
      "/home/jyang4/miniconda3/envs/ProtTP/lib/python3.9/site-packages/xgboost/core.py:105: UserWarning: ntree_limit is deprecated, use `iteration_range` or model slicing instead.\n",
      "  warnings.warn(\n",
      "/home/jyang4/miniconda3/envs/ProtTP/lib/python3.9/site-packages/xgboost/core.py:105: UserWarning: ntree_limit is deprecated, use `iteration_range` or model slicing instead.\n",
      "  warnings.warn(\n"
     ]
    },
    {
     "name": "stdout",
     "output_type": "stream",
     "text": [
      "[6]\ttrain-tweedie-nloglik@1.5:0.60840\ttest-tweedie-nloglik@1.5:0.88747\n",
      "[7]\ttrain-tweedie-nloglik@1.5:0.58458\ttest-tweedie-nloglik@1.5:0.89858\n",
      "[8]\ttrain-tweedie-nloglik@1.5:0.56849\ttest-tweedie-nloglik@1.5:0.90148\n",
      "[9]\ttrain-tweedie-nloglik@1.5:0.55902\ttest-tweedie-nloglik@1.5:0.90709\n",
      "[0]\ttrain-tweedie-nloglik@1.5:1.31141\ttest-tweedie-nloglik@1.5:1.35793\n",
      "[1]\ttrain-tweedie-nloglik@1.5:1.08338\ttest-tweedie-nloglik@1.5:1.17245\n",
      "[2]\ttrain-tweedie-nloglik@1.5:0.92499\ttest-tweedie-nloglik@1.5:1.05351\n",
      "[3]\ttrain-tweedie-nloglik@1.5:0.81351\ttest-tweedie-nloglik@1.5:0.98467\n",
      "[4]\ttrain-tweedie-nloglik@1.5:0.73882\ttest-tweedie-nloglik@1.5:0.93889\n",
      "[5]\ttrain-tweedie-nloglik@1.5:0.68907\ttest-tweedie-nloglik@1.5:0.91922\n",
      "[6]\ttrain-tweedie-nloglik@1.5:0.65039\ttest-tweedie-nloglik@1.5:0.92486\n",
      "[7]\ttrain-tweedie-nloglik@1.5:0.62632\ttest-tweedie-nloglik@1.5:0.94334\n",
      "[8]\ttrain-tweedie-nloglik@1.5:0.60842\ttest-tweedie-nloglik@1.5:0.95127\n",
      "[9]\ttrain-tweedie-nloglik@1.5:0.59608\ttest-tweedie-nloglik@1.5:0.95755\n",
      "[0]\ttrain-tweedie-nloglik@1.5:1.31444\ttest-tweedie-nloglik@1.5:1.35508\n",
      "[1]\ttrain-tweedie-nloglik@1.5:1.08243\ttest-tweedie-nloglik@1.5:1.16577\n",
      "[2]\ttrain-tweedie-nloglik@1.5:0.91726\ttest-tweedie-nloglik@1.5:1.04090\n",
      "[3]\ttrain-tweedie-nloglik@1.5:0.80568\ttest-tweedie-nloglik@1.5:0.96963\n",
      "[4]\ttrain-tweedie-nloglik@1.5:0.73215\ttest-tweedie-nloglik@1.5:0.92494\n",
      "[5]\ttrain-tweedie-nloglik@1.5:0.67804\ttest-tweedie-nloglik@1.5:0.91264\n"
     ]
    },
    {
     "name": "stderr",
     "output_type": "stream",
     "text": [
      "/home/jyang4/miniconda3/envs/ProtTP/lib/python3.9/site-packages/xgboost/core.py:105: UserWarning: ntree_limit is deprecated, use `iteration_range` or model slicing instead.\n",
      "  warnings.warn(\n",
      "/home/jyang4/miniconda3/envs/ProtTP/lib/python3.9/site-packages/xgboost/core.py:105: UserWarning: ntree_limit is deprecated, use `iteration_range` or model slicing instead.\n",
      "  warnings.warn(\n"
     ]
    },
    {
     "name": "stdout",
     "output_type": "stream",
     "text": [
      "[6]\ttrain-tweedie-nloglik@1.5:0.64653\ttest-tweedie-nloglik@1.5:0.90259\n",
      "[7]\ttrain-tweedie-nloglik@1.5:0.62111\ttest-tweedie-nloglik@1.5:0.91053\n",
      "[8]\ttrain-tweedie-nloglik@1.5:0.60540\ttest-tweedie-nloglik@1.5:0.92513\n",
      "[9]\ttrain-tweedie-nloglik@1.5:0.59330\ttest-tweedie-nloglik@1.5:0.94486\n",
      "[0]\ttrain-tweedie-nloglik@1.5:1.35159\ttest-tweedie-nloglik@1.5:1.36191\n",
      "[1]\ttrain-tweedie-nloglik@1.5:1.12868\ttest-tweedie-nloglik@1.5:1.17566\n",
      "[2]\ttrain-tweedie-nloglik@1.5:0.96742\ttest-tweedie-nloglik@1.5:1.05402\n",
      "[3]\ttrain-tweedie-nloglik@1.5:0.85639\ttest-tweedie-nloglik@1.5:0.98411\n",
      "[4]\ttrain-tweedie-nloglik@1.5:0.78300\ttest-tweedie-nloglik@1.5:0.93985\n",
      "[5]\ttrain-tweedie-nloglik@1.5:0.73045\ttest-tweedie-nloglik@1.5:0.91214\n",
      "[6]\ttrain-tweedie-nloglik@1.5:0.69660\ttest-tweedie-nloglik@1.5:0.90648\n",
      "[7]\ttrain-tweedie-nloglik@1.5:0.66935\ttest-tweedie-nloglik@1.5:0.91488\n",
      "[8]\ttrain-tweedie-nloglik@1.5:0.65229\ttest-tweedie-nloglik@1.5:0.91931\n",
      "[9]\ttrain-tweedie-nloglik@1.5:0.64143\ttest-tweedie-nloglik@1.5:0.92761\n",
      "[0]\ttrain-tweedie-nloglik@1.5:1.33237\ttest-tweedie-nloglik@1.5:1.34776\n",
      "[1]\ttrain-tweedie-nloglik@1.5:1.10183\ttest-tweedie-nloglik@1.5:1.15078\n",
      "[2]\ttrain-tweedie-nloglik@1.5:0.93843\ttest-tweedie-nloglik@1.5:1.02943\n",
      "[3]\ttrain-tweedie-nloglik@1.5:0.82479\ttest-tweedie-nloglik@1.5:0.96091\n",
      "[4]\ttrain-tweedie-nloglik@1.5:0.74367\ttest-tweedie-nloglik@1.5:0.92848\n",
      "[5]\ttrain-tweedie-nloglik@1.5:0.68753\ttest-tweedie-nloglik@1.5:0.91206\n"
     ]
    },
    {
     "name": "stderr",
     "output_type": "stream",
     "text": [
      "/home/jyang4/miniconda3/envs/ProtTP/lib/python3.9/site-packages/xgboost/core.py:105: UserWarning: ntree_limit is deprecated, use `iteration_range` or model slicing instead.\n",
      "  warnings.warn(\n",
      "/home/jyang4/miniconda3/envs/ProtTP/lib/python3.9/site-packages/xgboost/core.py:105: UserWarning: ntree_limit is deprecated, use `iteration_range` or model slicing instead.\n",
      "  warnings.warn(\n"
     ]
    },
    {
     "name": "stdout",
     "output_type": "stream",
     "text": [
      "[6]\ttrain-tweedie-nloglik@1.5:0.65049\ttest-tweedie-nloglik@1.5:0.90239\n",
      "[7]\ttrain-tweedie-nloglik@1.5:0.62694\ttest-tweedie-nloglik@1.5:0.90449\n",
      "[8]\ttrain-tweedie-nloglik@1.5:0.60790\ttest-tweedie-nloglik@1.5:0.91909\n",
      "[9]\ttrain-tweedie-nloglik@1.5:0.59535\ttest-tweedie-nloglik@1.5:0.93750\n",
      "[0]\ttrain-tweedie-nloglik@1.5:1.27776\ttest-tweedie-nloglik@1.5:1.34827\n",
      "[1]\ttrain-tweedie-nloglik@1.5:1.04248\ttest-tweedie-nloglik@1.5:1.15385\n",
      "[2]\ttrain-tweedie-nloglik@1.5:0.87581\ttest-tweedie-nloglik@1.5:1.03015\n",
      "[3]\ttrain-tweedie-nloglik@1.5:0.75834\ttest-tweedie-nloglik@1.5:0.95957\n",
      "[4]\ttrain-tweedie-nloglik@1.5:0.67970\ttest-tweedie-nloglik@1.5:0.92797\n",
      "[5]\ttrain-tweedie-nloglik@1.5:0.62304\ttest-tweedie-nloglik@1.5:0.92078\n",
      "[6]\ttrain-tweedie-nloglik@1.5:0.58694\ttest-tweedie-nloglik@1.5:0.92600\n",
      "[7]\ttrain-tweedie-nloglik@1.5:0.56270\ttest-tweedie-nloglik@1.5:0.94368\n",
      "[8]\ttrain-tweedie-nloglik@1.5:0.54812\ttest-tweedie-nloglik@1.5:0.96510\n",
      "[9]\ttrain-tweedie-nloglik@1.5:0.53740\ttest-tweedie-nloglik@1.5:0.97686\n",
      "[0]\ttrain-tweedie-nloglik@1.5:1.25382\ttest-tweedie-nloglik@1.5:1.34911\n",
      "[1]\ttrain-tweedie-nloglik@1.5:1.01914\ttest-tweedie-nloglik@1.5:1.15928\n",
      "[2]\ttrain-tweedie-nloglik@1.5:0.84849\ttest-tweedie-nloglik@1.5:1.03497\n",
      "[3]\ttrain-tweedie-nloglik@1.5:0.72705\ttest-tweedie-nloglik@1.5:0.96937\n",
      "[4]\ttrain-tweedie-nloglik@1.5:0.64256\ttest-tweedie-nloglik@1.5:0.94156\n",
      "[5]\ttrain-tweedie-nloglik@1.5:0.58583\ttest-tweedie-nloglik@1.5:0.93672\n",
      "[6]\ttrain-tweedie-nloglik@1.5:0.54754\ttest-tweedie-nloglik@1.5:0.94994\n"
     ]
    },
    {
     "name": "stderr",
     "output_type": "stream",
     "text": [
      "/home/jyang4/miniconda3/envs/ProtTP/lib/python3.9/site-packages/xgboost/core.py:105: UserWarning: ntree_limit is deprecated, use `iteration_range` or model slicing instead.\n",
      "  warnings.warn(\n",
      "/home/jyang4/miniconda3/envs/ProtTP/lib/python3.9/site-packages/xgboost/core.py:105: UserWarning: ntree_limit is deprecated, use `iteration_range` or model slicing instead.\n",
      "  warnings.warn(\n"
     ]
    },
    {
     "name": "stdout",
     "output_type": "stream",
     "text": [
      "[7]\ttrain-tweedie-nloglik@1.5:0.52201\ttest-tweedie-nloglik@1.5:0.97505\n",
      "[8]\ttrain-tweedie-nloglik@1.5:0.50384\ttest-tweedie-nloglik@1.5:0.98686\n",
      "[9]\ttrain-tweedie-nloglik@1.5:0.49178\ttest-tweedie-nloglik@1.5:1.00287\n",
      "[0]\ttrain-tweedie-nloglik@1.5:1.35181\ttest-tweedie-nloglik@1.5:1.34915\n",
      "[1]\ttrain-tweedie-nloglik@1.5:1.10974\ttest-tweedie-nloglik@1.5:1.15815\n",
      "[2]\ttrain-tweedie-nloglik@1.5:0.93892\ttest-tweedie-nloglik@1.5:1.04289\n",
      "[3]\ttrain-tweedie-nloglik@1.5:0.81963\ttest-tweedie-nloglik@1.5:0.97656\n",
      "[4]\ttrain-tweedie-nloglik@1.5:0.73301\ttest-tweedie-nloglik@1.5:0.91750\n",
      "[5]\ttrain-tweedie-nloglik@1.5:0.67544\ttest-tweedie-nloglik@1.5:0.89028\n",
      "[6]\ttrain-tweedie-nloglik@1.5:0.63736\ttest-tweedie-nloglik@1.5:0.88520\n",
      "[7]\ttrain-tweedie-nloglik@1.5:0.61267\ttest-tweedie-nloglik@1.5:0.89129\n",
      "[8]\ttrain-tweedie-nloglik@1.5:0.59288\ttest-tweedie-nloglik@1.5:0.89677\n",
      "[9]\ttrain-tweedie-nloglik@1.5:0.58170\ttest-tweedie-nloglik@1.5:0.90591\n",
      "[0]\ttrain-tweedie-nloglik@1.5:1.31245\ttest-tweedie-nloglik@1.5:1.34386\n",
      "[1]\ttrain-tweedie-nloglik@1.5:1.07429\ttest-tweedie-nloglik@1.5:1.14701\n",
      "[2]\ttrain-tweedie-nloglik@1.5:0.90788\ttest-tweedie-nloglik@1.5:1.02459\n",
      "[3]\ttrain-tweedie-nloglik@1.5:0.78696\ttest-tweedie-nloglik@1.5:0.94305\n",
      "[4]\ttrain-tweedie-nloglik@1.5:0.70426\ttest-tweedie-nloglik@1.5:0.90159\n",
      "[5]\ttrain-tweedie-nloglik@1.5:0.65076\ttest-tweedie-nloglik@1.5:0.89407\n"
     ]
    },
    {
     "name": "stderr",
     "output_type": "stream",
     "text": [
      "/home/jyang4/miniconda3/envs/ProtTP/lib/python3.9/site-packages/xgboost/core.py:105: UserWarning: ntree_limit is deprecated, use `iteration_range` or model slicing instead.\n",
      "  warnings.warn(\n",
      "/home/jyang4/miniconda3/envs/ProtTP/lib/python3.9/site-packages/xgboost/core.py:105: UserWarning: ntree_limit is deprecated, use `iteration_range` or model slicing instead.\n",
      "  warnings.warn(\n"
     ]
    },
    {
     "name": "stdout",
     "output_type": "stream",
     "text": [
      "[6]\ttrain-tweedie-nloglik@1.5:0.61265\ttest-tweedie-nloglik@1.5:0.89834\n",
      "[7]\ttrain-tweedie-nloglik@1.5:0.58865\ttest-tweedie-nloglik@1.5:0.91891\n",
      "[8]\ttrain-tweedie-nloglik@1.5:0.57378\ttest-tweedie-nloglik@1.5:0.93921\n",
      "[9]\ttrain-tweedie-nloglik@1.5:0.56385\ttest-tweedie-nloglik@1.5:0.95480\n",
      "[0]\ttrain-tweedie-nloglik@1.5:1.24104\ttest-tweedie-nloglik@1.5:1.34261\n",
      "[1]\ttrain-tweedie-nloglik@1.5:1.01024\ttest-tweedie-nloglik@1.5:1.14872\n",
      "[2]\ttrain-tweedie-nloglik@1.5:0.84837\ttest-tweedie-nloglik@1.5:1.02693\n",
      "[3]\ttrain-tweedie-nloglik@1.5:0.73497\ttest-tweedie-nloglik@1.5:0.95511\n",
      "[4]\ttrain-tweedie-nloglik@1.5:0.65478\ttest-tweedie-nloglik@1.5:0.91537\n",
      "[5]\ttrain-tweedie-nloglik@1.5:0.60192\ttest-tweedie-nloglik@1.5:0.89668\n",
      "[6]\ttrain-tweedie-nloglik@1.5:0.56665\ttest-tweedie-nloglik@1.5:0.89197\n",
      "[7]\ttrain-tweedie-nloglik@1.5:0.54442\ttest-tweedie-nloglik@1.5:0.89850\n",
      "[8]\ttrain-tweedie-nloglik@1.5:0.52779\ttest-tweedie-nloglik@1.5:0.90981\n",
      "[9]\ttrain-tweedie-nloglik@1.5:0.51845\ttest-tweedie-nloglik@1.5:0.92046\n",
      "[0]\ttrain-tweedie-nloglik@1.5:1.24492\ttest-tweedie-nloglik@1.5:1.34928\n",
      "[1]\ttrain-tweedie-nloglik@1.5:1.01510\ttest-tweedie-nloglik@1.5:1.15709\n",
      "[2]\ttrain-tweedie-nloglik@1.5:0.85046\ttest-tweedie-nloglik@1.5:1.03377\n",
      "[3]\ttrain-tweedie-nloglik@1.5:0.73240\ttest-tweedie-nloglik@1.5:0.96645\n",
      "[4]\ttrain-tweedie-nloglik@1.5:0.65140\ttest-tweedie-nloglik@1.5:0.92873\n",
      "[5]\ttrain-tweedie-nloglik@1.5:0.59732\ttest-tweedie-nloglik@1.5:0.91752\n",
      "[6]\ttrain-tweedie-nloglik@1.5:0.55992\ttest-tweedie-nloglik@1.5:0.91666\n"
     ]
    },
    {
     "name": "stderr",
     "output_type": "stream",
     "text": [
      "/home/jyang4/miniconda3/envs/ProtTP/lib/python3.9/site-packages/xgboost/core.py:105: UserWarning: ntree_limit is deprecated, use `iteration_range` or model slicing instead.\n",
      "  warnings.warn(\n",
      "/home/jyang4/miniconda3/envs/ProtTP/lib/python3.9/site-packages/xgboost/core.py:105: UserWarning: ntree_limit is deprecated, use `iteration_range` or model slicing instead.\n",
      "  warnings.warn(\n"
     ]
    },
    {
     "name": "stdout",
     "output_type": "stream",
     "text": [
      "[7]\ttrain-tweedie-nloglik@1.5:0.53460\ttest-tweedie-nloglik@1.5:0.93092\n",
      "[8]\ttrain-tweedie-nloglik@1.5:0.51921\ttest-tweedie-nloglik@1.5:0.93203\n",
      "[9]\ttrain-tweedie-nloglik@1.5:0.50769\ttest-tweedie-nloglik@1.5:0.95635\n",
      "[0]\ttrain-tweedie-nloglik@1.5:1.26108\ttest-tweedie-nloglik@1.5:1.34834\n",
      "[1]\ttrain-tweedie-nloglik@1.5:1.02645\ttest-tweedie-nloglik@1.5:1.16386\n",
      "[2]\ttrain-tweedie-nloglik@1.5:0.85855\ttest-tweedie-nloglik@1.5:1.05394\n",
      "[3]\ttrain-tweedie-nloglik@1.5:0.74141\ttest-tweedie-nloglik@1.5:0.99740\n",
      "[4]\ttrain-tweedie-nloglik@1.5:0.66150\ttest-tweedie-nloglik@1.5:0.98047\n",
      "[5]\ttrain-tweedie-nloglik@1.5:0.60425\ttest-tweedie-nloglik@1.5:0.97537\n",
      "[6]\ttrain-tweedie-nloglik@1.5:0.56491\ttest-tweedie-nloglik@1.5:0.99246\n",
      "[7]\ttrain-tweedie-nloglik@1.5:0.53776\ttest-tweedie-nloglik@1.5:0.99454\n",
      "[8]\ttrain-tweedie-nloglik@1.5:0.52096\ttest-tweedie-nloglik@1.5:1.02677\n",
      "[9]\ttrain-tweedie-nloglik@1.5:0.51002\ttest-tweedie-nloglik@1.5:1.04301\n",
      "[0]\ttrain-tweedie-nloglik@1.5:1.37523\ttest-tweedie-nloglik@1.5:1.35965\n",
      "[1]\ttrain-tweedie-nloglik@1.5:1.15476\ttest-tweedie-nloglik@1.5:1.16168\n",
      "[2]\ttrain-tweedie-nloglik@1.5:0.99687\ttest-tweedie-nloglik@1.5:1.03302\n",
      "[3]\ttrain-tweedie-nloglik@1.5:0.88794\ttest-tweedie-nloglik@1.5:0.95829\n",
      "[4]\ttrain-tweedie-nloglik@1.5:0.80882\ttest-tweedie-nloglik@1.5:0.91394\n",
      "[5]\ttrain-tweedie-nloglik@1.5:0.76031\ttest-tweedie-nloglik@1.5:0.90247\n"
     ]
    },
    {
     "name": "stderr",
     "output_type": "stream",
     "text": [
      "/home/jyang4/miniconda3/envs/ProtTP/lib/python3.9/site-packages/xgboost/core.py:105: UserWarning: ntree_limit is deprecated, use `iteration_range` or model slicing instead.\n",
      "  warnings.warn(\n",
      "/home/jyang4/miniconda3/envs/ProtTP/lib/python3.9/site-packages/xgboost/core.py:105: UserWarning: ntree_limit is deprecated, use `iteration_range` or model slicing instead.\n",
      "  warnings.warn(\n"
     ]
    },
    {
     "name": "stdout",
     "output_type": "stream",
     "text": [
      "[6]\ttrain-tweedie-nloglik@1.5:0.72100\ttest-tweedie-nloglik@1.5:0.88940\n",
      "[7]\ttrain-tweedie-nloglik@1.5:0.69785\ttest-tweedie-nloglik@1.5:0.89284\n",
      "[8]\ttrain-tweedie-nloglik@1.5:0.68480\ttest-tweedie-nloglik@1.5:0.89888\n",
      "[9]\ttrain-tweedie-nloglik@1.5:0.67303\ttest-tweedie-nloglik@1.5:0.90265\n",
      "[0]\ttrain-tweedie-nloglik@1.5:1.30738\ttest-tweedie-nloglik@1.5:1.34635\n",
      "[1]\ttrain-tweedie-nloglik@1.5:1.08048\ttest-tweedie-nloglik@1.5:1.15675\n",
      "[2]\ttrain-tweedie-nloglik@1.5:0.91745\ttest-tweedie-nloglik@1.5:1.03706\n",
      "[3]\ttrain-tweedie-nloglik@1.5:0.80412\ttest-tweedie-nloglik@1.5:0.96742\n",
      "[4]\ttrain-tweedie-nloglik@1.5:0.73008\ttest-tweedie-nloglik@1.5:0.92798\n",
      "[5]\ttrain-tweedie-nloglik@1.5:0.67454\ttest-tweedie-nloglik@1.5:0.90437\n",
      "[6]\ttrain-tweedie-nloglik@1.5:0.63826\ttest-tweedie-nloglik@1.5:0.90908\n",
      "[7]\ttrain-tweedie-nloglik@1.5:0.61200\ttest-tweedie-nloglik@1.5:0.91807\n",
      "[8]\ttrain-tweedie-nloglik@1.5:0.59705\ttest-tweedie-nloglik@1.5:0.92934\n",
      "[9]\ttrain-tweedie-nloglik@1.5:0.58728\ttest-tweedie-nloglik@1.5:0.93344\n",
      "[0]\ttrain-tweedie-nloglik@1.5:1.28912\ttest-tweedie-nloglik@1.5:1.35028\n",
      "[1]\ttrain-tweedie-nloglik@1.5:1.06198\ttest-tweedie-nloglik@1.5:1.16117\n",
      "[2]\ttrain-tweedie-nloglik@1.5:0.90256\ttest-tweedie-nloglik@1.5:1.04457\n",
      "[3]\ttrain-tweedie-nloglik@1.5:0.78564\ttest-tweedie-nloglik@1.5:0.97600\n",
      "[4]\ttrain-tweedie-nloglik@1.5:0.70314\ttest-tweedie-nloglik@1.5:0.94137\n",
      "[5]\ttrain-tweedie-nloglik@1.5:0.64912\ttest-tweedie-nloglik@1.5:0.92514\n"
     ]
    },
    {
     "name": "stderr",
     "output_type": "stream",
     "text": [
      "/home/jyang4/miniconda3/envs/ProtTP/lib/python3.9/site-packages/xgboost/core.py:105: UserWarning: ntree_limit is deprecated, use `iteration_range` or model slicing instead.\n",
      "  warnings.warn(\n",
      "/home/jyang4/miniconda3/envs/ProtTP/lib/python3.9/site-packages/xgboost/core.py:105: UserWarning: ntree_limit is deprecated, use `iteration_range` or model slicing instead.\n",
      "  warnings.warn(\n"
     ]
    },
    {
     "name": "stdout",
     "output_type": "stream",
     "text": [
      "[6]\ttrain-tweedie-nloglik@1.5:0.61310\ttest-tweedie-nloglik@1.5:0.91656\n",
      "[7]\ttrain-tweedie-nloglik@1.5:0.58728\ttest-tweedie-nloglik@1.5:0.92626\n",
      "[8]\ttrain-tweedie-nloglik@1.5:0.57130\ttest-tweedie-nloglik@1.5:0.93878\n",
      "[9]\ttrain-tweedie-nloglik@1.5:0.56015\ttest-tweedie-nloglik@1.5:0.94489\n",
      "[0]\ttrain-tweedie-nloglik@1.5:1.33438\ttest-tweedie-nloglik@1.5:1.34645\n",
      "[1]\ttrain-tweedie-nloglik@1.5:1.09625\ttest-tweedie-nloglik@1.5:1.15573\n",
      "[2]\ttrain-tweedie-nloglik@1.5:0.92797\ttest-tweedie-nloglik@1.5:1.03504\n",
      "[3]\ttrain-tweedie-nloglik@1.5:0.80925\ttest-tweedie-nloglik@1.5:0.96882\n",
      "[4]\ttrain-tweedie-nloglik@1.5:0.72643\ttest-tweedie-nloglik@1.5:0.93319\n",
      "[5]\ttrain-tweedie-nloglik@1.5:0.66875\ttest-tweedie-nloglik@1.5:0.92797\n",
      "[6]\ttrain-tweedie-nloglik@1.5:0.63156\ttest-tweedie-nloglik@1.5:0.93707\n",
      "[7]\ttrain-tweedie-nloglik@1.5:0.60772\ttest-tweedie-nloglik@1.5:0.95389\n",
      "[8]\ttrain-tweedie-nloglik@1.5:0.59225\ttest-tweedie-nloglik@1.5:0.95404\n",
      "[9]\ttrain-tweedie-nloglik@1.5:0.58124\ttest-tweedie-nloglik@1.5:0.97398\n",
      "[0]\ttrain-tweedie-nloglik@1.5:1.30632\ttest-tweedie-nloglik@1.5:1.34813\n",
      "[1]\ttrain-tweedie-nloglik@1.5:1.07362\ttest-tweedie-nloglik@1.5:1.15624\n",
      "[2]\ttrain-tweedie-nloglik@1.5:0.90842\ttest-tweedie-nloglik@1.5:1.03518\n",
      "[3]\ttrain-tweedie-nloglik@1.5:0.78913\ttest-tweedie-nloglik@1.5:0.96834\n",
      "[4]\ttrain-tweedie-nloglik@1.5:0.71046\ttest-tweedie-nloglik@1.5:0.92973\n",
      "[5]\ttrain-tweedie-nloglik@1.5:0.65519\ttest-tweedie-nloglik@1.5:0.92753\n"
     ]
    },
    {
     "name": "stderr",
     "output_type": "stream",
     "text": [
      "/home/jyang4/miniconda3/envs/ProtTP/lib/python3.9/site-packages/xgboost/core.py:105: UserWarning: ntree_limit is deprecated, use `iteration_range` or model slicing instead.\n",
      "  warnings.warn(\n",
      "/home/jyang4/miniconda3/envs/ProtTP/lib/python3.9/site-packages/xgboost/core.py:105: UserWarning: ntree_limit is deprecated, use `iteration_range` or model slicing instead.\n",
      "  warnings.warn(\n"
     ]
    },
    {
     "name": "stdout",
     "output_type": "stream",
     "text": [
      "[6]\ttrain-tweedie-nloglik@1.5:0.61940\ttest-tweedie-nloglik@1.5:0.92219\n",
      "[7]\ttrain-tweedie-nloglik@1.5:0.59617\ttest-tweedie-nloglik@1.5:0.93381\n",
      "[8]\ttrain-tweedie-nloglik@1.5:0.58029\ttest-tweedie-nloglik@1.5:0.95425\n",
      "[9]\ttrain-tweedie-nloglik@1.5:0.57201\ttest-tweedie-nloglik@1.5:0.96241\n",
      "[0]\ttrain-tweedie-nloglik@1.5:1.32657\ttest-tweedie-nloglik@1.5:1.34862\n",
      "[1]\ttrain-tweedie-nloglik@1.5:1.09482\ttest-tweedie-nloglik@1.5:1.15442\n",
      "[2]\ttrain-tweedie-nloglik@1.5:0.93006\ttest-tweedie-nloglik@1.5:1.02828\n",
      "[3]\ttrain-tweedie-nloglik@1.5:0.81606\ttest-tweedie-nloglik@1.5:0.95495\n",
      "[4]\ttrain-tweedie-nloglik@1.5:0.73581\ttest-tweedie-nloglik@1.5:0.92389\n",
      "[5]\ttrain-tweedie-nloglik@1.5:0.68083\ttest-tweedie-nloglik@1.5:0.91646\n",
      "[6]\ttrain-tweedie-nloglik@1.5:0.64548\ttest-tweedie-nloglik@1.5:0.92702\n",
      "[7]\ttrain-tweedie-nloglik@1.5:0.62118\ttest-tweedie-nloglik@1.5:0.94420\n",
      "[8]\ttrain-tweedie-nloglik@1.5:0.60472\ttest-tweedie-nloglik@1.5:0.96927\n",
      "[9]\ttrain-tweedie-nloglik@1.5:0.59532\ttest-tweedie-nloglik@1.5:0.99182\n",
      "[0]\ttrain-tweedie-nloglik@1.5:1.35928\ttest-tweedie-nloglik@1.5:1.35185\n",
      "[1]\ttrain-tweedie-nloglik@1.5:1.13033\ttest-tweedie-nloglik@1.5:1.16178\n",
      "[2]\ttrain-tweedie-nloglik@1.5:0.96633\ttest-tweedie-nloglik@1.5:1.03011\n",
      "[3]\ttrain-tweedie-nloglik@1.5:0.85271\ttest-tweedie-nloglik@1.5:0.95438\n",
      "[4]\ttrain-tweedie-nloglik@1.5:0.77360\ttest-tweedie-nloglik@1.5:0.90730\n",
      "[5]\ttrain-tweedie-nloglik@1.5:0.72204\ttest-tweedie-nloglik@1.5:0.89660\n"
     ]
    },
    {
     "name": "stderr",
     "output_type": "stream",
     "text": [
      "/home/jyang4/miniconda3/envs/ProtTP/lib/python3.9/site-packages/xgboost/core.py:105: UserWarning: ntree_limit is deprecated, use `iteration_range` or model slicing instead.\n",
      "  warnings.warn(\n",
      "/home/jyang4/miniconda3/envs/ProtTP/lib/python3.9/site-packages/xgboost/core.py:105: UserWarning: ntree_limit is deprecated, use `iteration_range` or model slicing instead.\n",
      "  warnings.warn(\n"
     ]
    },
    {
     "name": "stdout",
     "output_type": "stream",
     "text": [
      "[6]\ttrain-tweedie-nloglik@1.5:0.68601\ttest-tweedie-nloglik@1.5:0.89068\n",
      "[7]\ttrain-tweedie-nloglik@1.5:0.65950\ttest-tweedie-nloglik@1.5:0.88645\n",
      "[8]\ttrain-tweedie-nloglik@1.5:0.64475\ttest-tweedie-nloglik@1.5:0.89066\n",
      "[9]\ttrain-tweedie-nloglik@1.5:0.63298\ttest-tweedie-nloglik@1.5:0.89372\n",
      "[0]\ttrain-tweedie-nloglik@1.5:1.27214\ttest-tweedie-nloglik@1.5:1.34886\n",
      "[1]\ttrain-tweedie-nloglik@1.5:1.04270\ttest-tweedie-nloglik@1.5:1.15728\n",
      "[2]\ttrain-tweedie-nloglik@1.5:0.88073\ttest-tweedie-nloglik@1.5:1.03723\n",
      "[3]\ttrain-tweedie-nloglik@1.5:0.76623\ttest-tweedie-nloglik@1.5:0.96153\n",
      "[4]\ttrain-tweedie-nloglik@1.5:0.68773\ttest-tweedie-nloglik@1.5:0.92627\n",
      "[5]\ttrain-tweedie-nloglik@1.5:0.63464\ttest-tweedie-nloglik@1.5:0.90909\n",
      "[6]\ttrain-tweedie-nloglik@1.5:0.59983\ttest-tweedie-nloglik@1.5:0.91371\n",
      "[7]\ttrain-tweedie-nloglik@1.5:0.57756\ttest-tweedie-nloglik@1.5:0.93015\n",
      "[8]\ttrain-tweedie-nloglik@1.5:0.56339\ttest-tweedie-nloglik@1.5:0.94429\n",
      "[9]\ttrain-tweedie-nloglik@1.5:0.55367\ttest-tweedie-nloglik@1.5:0.96310\n",
      "[0]\ttrain-tweedie-nloglik@1.5:1.32775\ttest-tweedie-nloglik@1.5:1.35528\n",
      "[1]\ttrain-tweedie-nloglik@1.5:1.10067\ttest-tweedie-nloglik@1.5:1.16489\n",
      "[2]\ttrain-tweedie-nloglik@1.5:0.93990\ttest-tweedie-nloglik@1.5:1.03927\n",
      "[3]\ttrain-tweedie-nloglik@1.5:0.82737\ttest-tweedie-nloglik@1.5:0.96815\n",
      "[4]\ttrain-tweedie-nloglik@1.5:0.74952\ttest-tweedie-nloglik@1.5:0.92308\n",
      "[5]\ttrain-tweedie-nloglik@1.5:0.69577\ttest-tweedie-nloglik@1.5:0.90327\n"
     ]
    },
    {
     "name": "stderr",
     "output_type": "stream",
     "text": [
      "/home/jyang4/miniconda3/envs/ProtTP/lib/python3.9/site-packages/xgboost/core.py:105: UserWarning: ntree_limit is deprecated, use `iteration_range` or model slicing instead.\n",
      "  warnings.warn(\n",
      "/home/jyang4/miniconda3/envs/ProtTP/lib/python3.9/site-packages/xgboost/core.py:105: UserWarning: ntree_limit is deprecated, use `iteration_range` or model slicing instead.\n",
      "  warnings.warn(\n"
     ]
    },
    {
     "name": "stdout",
     "output_type": "stream",
     "text": [
      "[6]\ttrain-tweedie-nloglik@1.5:0.65985\ttest-tweedie-nloglik@1.5:0.89940\n",
      "[7]\ttrain-tweedie-nloglik@1.5:0.63618\ttest-tweedie-nloglik@1.5:0.89931\n",
      "[8]\ttrain-tweedie-nloglik@1.5:0.62202\ttest-tweedie-nloglik@1.5:0.89479\n",
      "[9]\ttrain-tweedie-nloglik@1.5:0.60862\ttest-tweedie-nloglik@1.5:0.89630\n",
      "[0]\ttrain-tweedie-nloglik@1.5:1.32529\ttest-tweedie-nloglik@1.5:1.35576\n",
      "[1]\ttrain-tweedie-nloglik@1.5:1.10300\ttest-tweedie-nloglik@1.5:1.15753\n",
      "[2]\ttrain-tweedie-nloglik@1.5:0.94449\ttest-tweedie-nloglik@1.5:1.02841\n",
      "[3]\ttrain-tweedie-nloglik@1.5:0.83185\ttest-tweedie-nloglik@1.5:0.94395\n",
      "[4]\ttrain-tweedie-nloglik@1.5:0.75428\ttest-tweedie-nloglik@1.5:0.90558\n",
      "[5]\ttrain-tweedie-nloglik@1.5:0.70201\ttest-tweedie-nloglik@1.5:0.87792\n",
      "[6]\ttrain-tweedie-nloglik@1.5:0.66636\ttest-tweedie-nloglik@1.5:0.87367\n",
      "[7]\ttrain-tweedie-nloglik@1.5:0.64143\ttest-tweedie-nloglik@1.5:0.88130\n",
      "[8]\ttrain-tweedie-nloglik@1.5:0.62616\ttest-tweedie-nloglik@1.5:0.88652\n",
      "[9]\ttrain-tweedie-nloglik@1.5:0.61491\ttest-tweedie-nloglik@1.5:0.89445\n"
     ]
    },
    {
     "name": "stderr",
     "output_type": "stream",
     "text": [
      "/home/jyang4/miniconda3/envs/ProtTP/lib/python3.9/site-packages/xgboost/core.py:105: UserWarning: ntree_limit is deprecated, use `iteration_range` or model slicing instead.\n",
      "  warnings.warn(\n",
      "/home/jyang4/miniconda3/envs/ProtTP/lib/python3.9/site-packages/xgboost/core.py:105: UserWarning: ntree_limit is deprecated, use `iteration_range` or model slicing instead.\n",
      "  warnings.warn(\n"
     ]
    }
   ],
   "source": [
    "#downstream supervised regression\n",
    "N_models = 100\n",
    "N_train_samples = 384\n",
    "N_test_samples = 32\n",
    "alpha = 1\n",
    "linear = False\n",
    "\n",
    "X_baseline = np.array(dataset.X)\n",
    "X_OHembed = np.concatenate((np.array(dataset.X), np.array(embeddings.cpu())), axis=1)\n",
    "#X_OHembed = np.array(embeddings.cpu())\n",
    "X_zs = np.concatenate((np.array(dataset.X), np.array(dataset.attributes)), axis=1)\n",
    "#X_zs = np.array(dataset.attributes)\n",
    "\n",
    "inputs = [X_baseline, X_OHembed, X_zs]\n",
    "#inputs = [X_baseline, X_zs]\n",
    "\n",
    "results = np.zeros((N_models, len(inputs)*2))\n",
    "for j, X in enumerate(inputs):\n",
    "    #scaler = StandardScaler()\n",
    "    #X = scaler.fit_transform(X)\n",
    "    y = dataset.y\n",
    "\n",
    "    X_train_all, X_test, y_train_all, y_test = train_test_split(X, y, test_size=0.2, random_state=42)\n",
    "    \n",
    "    for i in range(N_models):\n",
    "        X_train, y_train = resample(X_train_all, y_train_all, n_samples=N_train_samples)\n",
    "        #only run this line if you wish to use a different test size\n",
    "        #X_test, y_test = resample(X, y, n_samples=N_test_samples)\n",
    "        \n",
    "        if linear:\n",
    "            clf = Ridge(alpha=alpha)\n",
    "            clf.fit(X_train, y_train)\n",
    "            y_pred_test = clf.predict(X_test)\n",
    "        else:\n",
    "            train_matrix = xgb.DMatrix(X_train, label = y_train)\n",
    "            test_matrix = xgb.DMatrix(X_test, label = y_test)\n",
    "            evallist = [(train_matrix, \"train\"),\n",
    "                    (test_matrix, \"test\")]\n",
    "            clf = xgb.train(model_params, train_matrix, evals=evallist)\n",
    "            best = clf.best_ntree_limit\n",
    "            y_pred_test = clf.predict(xgb.DMatrix(X_test), ntree_limit = best)\n",
    "        \n",
    "        results[i, j] = ndcg_score([y_test], [y_pred_test])\n",
    "        results[i, 3+j] = spearmanr(y_test, y_pred_test)[0]"
   ]
  },
  {
   "cell_type": "code",
   "execution_count": 57,
   "metadata": {},
   "outputs": [
    {
     "name": "stdout",
     "output_type": "stream",
     "text": [
      "0.7795078103627929\n"
     ]
    },
    {
     "data": {
      "text/plain": [
       "SpearmanrResult(correlation=0.26618221245239015, pvalue=0.0)"
      ]
     },
     "execution_count": 57,
     "metadata": {},
     "output_type": "execute_result"
    }
   ],
   "source": [
    "data = dataset.data\n",
    "#scores = data[\"EvMutation\"]#[:100]\n",
    "scores = data[\"Triad-FixedBb-dG\"]#[:32000]\n",
    "#scores = data[\"esm_msa1_t12_100M_UR50S-Naive-ColumnUnmasked\"][:100]\n",
    "fitness = data['Fitness']#[:100]\n",
    "print(ndcg_score([fitness], [scores]))\n",
    "spearmanr(fitness, scores)"
   ]
  },
  {
   "cell_type": "code",
   "execution_count": 58,
   "metadata": {},
   "outputs": [
    {
     "name": "stdout",
     "output_type": "stream",
     "text": [
      "OH NDCG       0.737203\n",
      "OH+AE NDCG    0.693694\n",
      "OH+ZS NDCG    0.749697\n",
      "OH rho        0.429079\n",
      "OH+AE rho     0.345850\n",
      "OH+ZS rho     0.422011\n",
      "dtype: float64\n"
     ]
    },
    {
     "data": {
      "image/png": "[encoded data removed]",
      "text/plain": [
       "<Figure size 720x360 with 1 Axes>"
      ]
     },
     "metadata": {
      "needs_background": "light"
     },
     "output_type": "display_data"
    },
    {
     "data": {
      "image/png": "[encoded data removed]",
      "text/plain": [
       "<Figure size 720x360 with 1 Axes>"
      ]
     },
     "metadata": {
      "needs_background": "light"
     },
     "output_type": "display_data"
    }
   ],
   "source": [
    "#increasing the NDCG increase ridge model performance\n",
    "results = pd.DataFrame(data=results, columns= ['OH NDCG', 'OH+AE NDCG', 'OH+ZS NDCG', 'OH rho', 'OH+AE rho','OH+ZS rho'])\n",
    "\n",
    "plt.figure(figsize=(10,5))\n",
    "plt.grid()\n",
    "ax = sns.violinplot(data = results.iloc[:,:3])\n",
    "plt.axhline(y = ndcg_score([fitness], [scores]), color = 'k', linestyle = '--')\n",
    "plt.ylabel('NDCG')\n",
    "\n",
    "plt.figure(figsize=(10,5))\n",
    "plt.grid()\n",
    "ax = sns.violinplot(data = results.iloc[:,3:])\n",
    "plt.axhline(y = spearmanr(fitness, scores)[0], color = 'k', linestyle = '--')\n",
    "plt.ylabel('rho')\n",
    "\n",
    "print(np.mean(results, axis =0))\n"
   ]
  },
  {
   "cell_type": "code",
   "execution_count": 41,
   "metadata": {},
   "outputs": [
    {
     "data": {
      "text/plain": [
       "Text(336.9714285714286, 0.5, 'Actual fitness')"
      ]
     },
     "execution_count": 41,
     "metadata": {},
     "output_type": "execute_result"
    },
    {
     "data": {
      "image/png": "[encoded data removed]",
      "text/plain": [
       "<Figure size 432x432 with 3 Axes>"
      ]
     },
     "metadata": {
      "needs_background": "light"
     },
     "output_type": "display_data"
    }
   ],
   "source": [
    "ax = sns.jointplot(x = y_pred_test,y = y_test)\n",
    "plt.xlabel('Predicted fitness')\n",
    "plt.ylabel('Actual fitness')"
   ]
  },
  {
   "cell_type": "code",
   "execution_count": 50,
   "metadata": {},
   "outputs": [
    {
     "data": {
      "text/plain": [
       "array([[-0.18541156, -0.23250265, -0.2205624 , ...,  4.2401094 ,\n",
       "        -0.23049617, -0.23352468],\n",
       "       [ 5.3934073 , -0.23250265, -0.2205624 , ...,  4.2401094 ,\n",
       "        -0.23049617, -0.23352468],\n",
       "       [-0.18541156,  4.301026  , -0.2205624 , ...,  4.2401094 ,\n",
       "        -0.23049617, -0.23352468],\n",
       "       ...,\n",
       "       [-0.18541156, -0.23250265, -0.2205624 , ..., -0.23584299,\n",
       "        -0.23049617, -0.23352468],\n",
       "       [-0.18541156, -0.23250265, -0.2205624 , ..., -0.23584299,\n",
       "         4.338467  , -0.23352468],\n",
       "       [-0.18541156, -0.23250265, -0.2205624 , ..., -0.23584299,\n",
       "        -0.23049617,  4.2822027 ]], dtype=float32)"
      ]
     },
     "execution_count": 50,
     "metadata": {},
     "output_type": "execute_result"
    }
   ],
   "source": [
    "X = np.array(dataset.X)\n",
    "scaler = StandardScaler()\n",
    "scaler.fit_transform(X)"
   ]
  },
  {
   "cell_type": "code",
   "execution_count": 47,
   "metadata": {},
   "outputs": [
    {
     "data": {
      "text/plain": [
       "array([[-0.18541156, -0.23250266, -0.22056241, ..., -0.23049616,\n",
       "        -0.23352467,  1.23894389],\n",
       "       [ 5.39340705, -0.23250266, -0.22056241, ..., -0.23049616,\n",
       "        -0.23352467,  1.1111844 ],\n",
       "       [-0.18541156,  4.30102605, -0.22056241, ..., -0.23049616,\n",
       "        -0.23352467,  1.09557876],\n",
       "       ...,\n",
       "       [-0.18541156, -0.23250266, -0.22056241, ..., -0.23049616,\n",
       "        -0.23352467, -0.01830571],\n",
       "       [-0.18541156, -0.23250266, -0.22056241, ...,  4.338467  ,\n",
       "        -0.23352467, -0.7392068 ],\n",
       "       [-0.18541156, -0.23250266, -0.22056241, ..., -0.23049616,\n",
       "         4.28220276, -0.0187083 ]])"
      ]
     },
     "execution_count": 47,
     "metadata": {},
     "output_type": "execute_result"
    }
   ],
   "source": [
    "X"
   ]
  },
  {
   "cell_type": "code",
   "execution_count": 24,
   "metadata": {},
   "outputs": [
    {
     "data": {
      "image/png": "[encoded data removed]",
      "text/plain": [
       "<Figure size 432x288 with 1 Axes>"
      ]
     },
     "metadata": {
      "needs_background": "light"
     },
     "output_type": "display_data"
    }
   ],
   "source": [
    "plt.hist(y_test)\n",
    "plt.hist(y_pred_test)\n",
    "plt.yscale('log')"
   ]
  },
  {
   "cell_type": "code",
   "execution_count": 25,
   "metadata": {},
   "outputs": [
    {
     "data": {
      "text/plain": [
       "[<matplotlib.lines.Line2D at 0x7f47e0dcd6d0>]"
      ]
     },
     "execution_count": 25,
     "metadata": {},
     "output_type": "execute_result"
    },
    {
     "data": {
      "image/png": "[encoded data removed]",
      "text/plain": [
       "<Figure size 432x288 with 1 Axes>"
      ]
     },
     "metadata": {
      "needs_background": "light"
     },
     "output_type": "display_data"
    }
   ],
   "source": [
    "plt.plot(scores, fitness, '.')"
   ]
  },
  {
   "cell_type": "code",
   "execution_count": null,
   "metadata": {},
   "outputs": [],
   "source": []
  }
 ],
 "metadata": {
  "interpreter": {
   "hash": "06d12861cad82bdcdde1b56bd9eda52e91f7df29dabbeda8f3d9112222750302"
  },
  "kernelspec": {
   "display_name": "Python 3.8.12 64-bit ('main_env': conda)",
   "language": "python",
   "name": "python3"
  },
  "language_info": {
   "codemirror_mode": {
    "name": "ipython",
    "version": 3
   },
   "file_extension": ".py",
   "mimetype": "text/x-python",
   "name": "python",
   "nbconvert_exporter": "python",
   "pygments_lexer": "ipython3",
   "version": "3.9.7"
  },
  "orig_nbformat": 4
 },
 "nbformat": 4,
 "nbformat_minor": 2
}
